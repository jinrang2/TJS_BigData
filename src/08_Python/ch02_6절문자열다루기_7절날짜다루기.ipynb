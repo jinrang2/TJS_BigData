{
 "cells": [
  {
   "cell_type": "markdown",
   "metadata": {},
   "source": [
    "# 6절 문자열 다루기\n",
    "\n",
    "- 문자열 슬라이싱\n",
    "- len()\n",
    "- upper() 대문자로\n",
    "- lower() 소문자로\n",
    "- title() 각 단어의 앞글자만 대문자로\n",
    "- capitalize() 첫문자만 대문자로\n",
    "- count('찾을문자열') '찾을문자열'이 몇개 들어있는지 개수 반환\n",
    "- find('찾을 문자열') '찾을문자열'이 왼쪽부터 시작하여 몇번째에 있는지 index반환\n",
    "- rfind('찾을 문자열') '찾을문자열'이 오른쪽부터 시작하여 몇번째에 있는지 index반환\n",
    "- startswith('특정문자열') '특정문자열'로 시작하는지 여부 반환\n",
    "- endswith('특정문자열') '특정문자열'로 끝나는지 여부 반환\n",
    "\n",
    "-strip() 좌우 공백 제거\n",
    "-rstip() 오른쪽 공백 제거"
   ]
  }
 ],
 "metadata": {
  "kernelspec": {
   "display_name": "Python 3",
   "language": "python",
   "name": "python3"
  },
  "language_info": {
   "codemirror_mode": {
    "name": "ipython",
    "version": 3
   },
   "file_extension": ".py",
   "mimetype": "text/x-python",
   "name": "python",
   "nbconvert_exporter": "python",
   "pygments_lexer": "ipython3",
   "version": "3.8.5"
  },
  "toc": {
   "base_numbering": 1,
   "nav_menu": {},
   "number_sections": true,
   "sideBar": true,
   "skip_h1_title": false,
   "title_cell": "Table of Contents",
   "title_sidebar": "Contents",
   "toc_cell": false,
   "toc_position": {},
   "toc_section_display": true,
   "toc_window_display": false
  },
  "varInspector": {
   "cols": {
    "lenName": 16,
    "lenType": 16,
    "lenVar": 40
   },
   "kernels_config": {
    "python": {
     "delete_cmd_postfix": "",
     "delete_cmd_prefix": "del ",
     "library": "var_list.py",
     "varRefreshCmd": "print(var_dic_list())"
    },
    "r": {
     "delete_cmd_postfix": ") ",
     "delete_cmd_prefix": "rm(",
     "library": "var_list.r",
     "varRefreshCmd": "cat(var_dic_list()) "
    }
   },
   "types_to_exclude": [
    "module",
    "function",
    "builtin_function_or_method",
    "instance",
    "_Feature"
   ],
   "window_display": false
  }
 },
 "nbformat": 4,
 "nbformat_minor": 4
}
