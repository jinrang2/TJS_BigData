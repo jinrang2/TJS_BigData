{
 "cells": [
  {
   "cell_type": "markdown",
   "metadata": {
    "ExecuteTime": {
     "end_time": "2021-02-25T08:20:25.682775Z",
     "start_time": "2021-02-25T08:20:25.677788Z"
    }
   },
   "source": [
    "**<font size=\"6\" color=\"red\">1절. 객체와 클래스</font>**\n",
    "<pre>\n",
    "    class 클래스명(상속받을클래스명):\n",
    "        함수나 변수들 선언\n",
    "\n",
    "</pre>\n"
   ]
  },
  {
   "cell_type": "code",
   "execution_count": 2,
   "metadata": {
    "ExecuteTime": {
     "end_time": "2021-02-25T08:20:49.572504Z",
     "start_time": "2021-02-25T08:20:49.568541Z"
    }
   },
   "outputs": [],
   "source": [
    "class Person:\n",
    "    'Person 클래스'\n",
    "    pass\n",
    "\n",
    "p1 = Person()"
   ]
  },
  {
   "cell_type": "code",
   "execution_count": 4,
   "metadata": {
    "ExecuteTime": {
     "end_time": "2021-02-25T08:34:46.229418Z",
     "start_time": "2021-02-25T08:34:46.225441Z"
    }
   },
   "outputs": [
    {
     "data": {
      "text/plain": [
       "__main__.Person"
      ]
     },
     "execution_count": 4,
     "metadata": {},
     "output_type": "execute_result"
    }
   ],
   "source": [
    "type(p1)"
   ]
  },
  {
   "cell_type": "markdown",
   "metadata": {},
   "source": [
    "## 2절 변수와 메소드"
   ]
  },
  {
   "cell_type": "code",
   "execution_count": 6,
   "metadata": {
    "ExecuteTime": {
     "end_time": "2021-02-25T08:36:08.611819Z",
     "start_time": "2021-02-25T08:36:08.607854Z"
    }
   },
   "outputs": [
    {
     "name": "stdout",
     "output_type": "stream",
     "text": [
      "홍길동 남자\n"
     ]
    }
   ],
   "source": [
    "class Person:\n",
    "    name = '홍길동'\n",
    "    gender ='남자'\n",
    "p1 = Person()\n",
    "print(p1.name, p1.gender)"
   ]
  },
  {
   "cell_type": "code",
   "execution_count": 10,
   "metadata": {
    "ExecuteTime": {
     "end_time": "2021-02-25T08:36:37.524177Z",
     "start_time": "2021-02-25T08:36:37.520187Z"
    }
   },
   "outputs": [
    {
     "name": "stdout",
     "output_type": "stream",
     "text": [
      "이순신 남자\n"
     ]
    }
   ],
   "source": [
    "p2 = Person()\n",
    "p2.name = '이순신'\n",
    "\n",
    "print(p2.name, p2.gender)"
   ]
  },
  {
   "cell_type": "code",
   "execution_count": 15,
   "metadata": {
    "ExecuteTime": {
     "end_time": "2021-02-25T08:40:06.516078Z",
     "start_time": "2021-02-25T08:40:06.512088Z"
    }
   },
   "outputs": [
    {
     "name": "stdout",
     "output_type": "stream",
     "text": [
      "리사 여자\n"
     ]
    }
   ],
   "source": [
    "Person.name = '리사'\n",
    "Person.gender ='여자'\n",
    "\n",
    "p3 = Person()\n",
    "print(p3.name, p3.gender)"
   ]
  },
  {
   "cell_type": "code",
   "execution_count": 16,
   "metadata": {
    "ExecuteTime": {
     "end_time": "2021-02-25T08:40:27.620865Z",
     "start_time": "2021-02-25T08:40:27.615919Z"
    }
   },
   "outputs": [
    {
     "name": "stdout",
     "output_type": "stream",
     "text": [
      "리사 여자\n",
      "이순신 여자\n",
      "리사 여자\n"
     ]
    }
   ],
   "source": [
    "print(p1.name, p1.gender)\n",
    "print(p2.name, p2.gender)\n",
    "print(p3.name, p3.gender)"
   ]
  },
  {
   "cell_type": "code",
   "execution_count": 17,
   "metadata": {
    "ExecuteTime": {
     "end_time": "2021-02-25T08:43:36.744198Z",
     "start_time": "2021-02-25T08:43:36.740208Z"
    }
   },
   "outputs": [
    {
     "name": "stdout",
     "output_type": "stream",
     "text": [
      "리사 여자\n",
      "신길동 남자\n",
      "이순신 여자\n"
     ]
    }
   ],
   "source": [
    "p1.name = '신길동'\n",
    "p1.gender ='남자'\n",
    "print(Person.name, Person.gender)\n",
    "print(p1.name, p1.gender)\n",
    "print(p2.name, p2.gender)\n"
   ]
  },
  {
   "cell_type": "code",
   "execution_count": 31,
   "metadata": {
    "ExecuteTime": {
     "end_time": "2021-02-25T08:59:58.132789Z",
     "start_time": "2021-02-25T08:59:58.126825Z"
    }
   },
   "outputs": [
    {
     "name": "stdout",
     "output_type": "stream",
     "text": [
      "홍길동 남자\n",
      "홍길동는 30살이고 남자입니다\n",
      "리사쑤는 30살이고 남자입니다\n"
     ]
    }
   ],
   "source": [
    "# 메소드 추가\n",
    "class Person:\n",
    "    name = '홍길동'\n",
    "    gender = '남자'\n",
    "    age=30\n",
    "    def print_info(self):   # 객체만 실행 가능한 메소드 = 인스턴스 메소드\n",
    "        print('{}는 {}살이고 {}입니다'.format(self.name, self.age, self.gender))\n",
    "\n",
    "print(Person.name, Person.gender)\n",
    "\n",
    "p1 = Person()\n",
    "p1.print_info()\n",
    "p1.name ='리사쑤'\n",
    "p1.print_info()\n",
    "#Person.print_info(Person)"
   ]
  },
  {
   "cell_type": "code",
   "execution_count": 19,
   "metadata": {
    "ExecuteTime": {
     "end_time": "2021-02-25T08:48:54.868467Z",
     "start_time": "2021-02-25T08:48:54.864477Z"
    }
   },
   "outputs": [
    {
     "name": "stdout",
     "output_type": "stream",
     "text": [
      "이순신 남자\n",
      "홍길동 남자\n"
     ]
    }
   ],
   "source": [
    "p1 = Person()\n",
    "p1.name = '이순신'\n",
    "print(p1.name, p1.gender)\n",
    "print(Person.name, Person.gender)"
   ]
  },
  {
   "cell_type": "code",
   "execution_count": 20,
   "metadata": {
    "ExecuteTime": {
     "end_time": "2021-02-25T08:52:22.388127Z",
     "start_time": "2021-02-25T08:52:22.384135Z"
    }
   },
   "outputs": [
    {
     "name": "stdout",
     "output_type": "stream",
     "text": [
      "Person 메소드입니다\n"
     ]
    }
   ],
   "source": [
    "Person.print_info()"
   ]
  },
  {
   "cell_type": "markdown",
   "metadata": {
    "ExecuteTime": {
     "end_time": "2021-02-25T08:52:50.487601Z",
     "start_time": "2021-02-25T08:52:50.479622Z"
    }
   },
   "source": [
    "<pre>\n",
    "** 파이선은 클래스와 인스턴스(객체)의 이름공간 분리되어 있음 **\n",
    "\n",
    "** 클래스와 인스턴스의 변수명이 다를 수 있다 **\n",
    "\n",
    "** 동적으로 인스턴스(객체)에 멤버 추가 가능 **\n",
    "\n",
    "</pre>"
   ]
  },
  {
   "cell_type": "code",
   "execution_count": 32,
   "metadata": {
    "ExecuteTime": {
     "end_time": "2021-02-25T09:08:00.867440Z",
     "start_time": "2021-02-25T09:08:00.863450Z"
    }
   },
   "outputs": [],
   "source": [
    "p1.address = '마포구 신촌'\n",
    "p1.nickname = '곰돌이푸'"
   ]
  },
  {
   "cell_type": "code",
   "execution_count": 33,
   "metadata": {
    "ExecuteTime": {
     "end_time": "2021-02-25T09:08:13.218873Z",
     "start_time": "2021-02-25T09:08:13.214883Z"
    }
   },
   "outputs": [
    {
     "name": "stdout",
     "output_type": "stream",
     "text": [
      "리사쑤는 30살이고 남자입니다\n"
     ]
    }
   ],
   "source": [
    "p1.print_info()"
   ]
  },
  {
   "cell_type": "code",
   "execution_count": 7,
   "metadata": {
    "ExecuteTime": {
     "end_time": "2021-02-26T00:49:11.554648Z",
     "start_time": "2021-02-26T00:49:11.548684Z"
    }
   },
   "outputs": [],
   "source": [
    "# 클래스 메소드 vs static 메소드\n",
    "class Person:\n",
    "    name = '홍길동'\n",
    "    gender ='남자'\n",
    "    age=30\n",
    "    def print_info(self):\n",
    "        print('일반메서드 : {}는 {}살이고 {}입니다'.format(self.name, self.age, self.gender))\n",
    "    @classmethod\n",
    "    def do_(cls): # 클래스 메서드 cls, clazz\n",
    "        cls.name ='신사임당'\n",
    "        cls.gender ='여자'\n",
    "        cls.age =517\n",
    "        print('클래스 메서드 - ')\n",
    "        print('일반메서드 : {}는 {}살이고 {}입니다'.format(cls.name, cls.age, cls.gender))\n",
    "    @staticmethod\n",
    "    def that_(): # 스태틱 메소드 (인자없음)\n",
    "        print('static 메소드 - {}는 {}살 {}입니다.'.format(Person.name, Person.age, Person.gender))\n",
    "        \n",
    "    "
   ]
  },
  {
   "cell_type": "code",
   "execution_count": 8,
   "metadata": {
    "ExecuteTime": {
     "end_time": "2021-02-26T00:49:13.280648Z",
     "start_time": "2021-02-26T00:49:13.276657Z"
    }
   },
   "outputs": [],
   "source": [
    "p1 = Person()\n",
    "p2 = Person()"
   ]
  },
  {
   "cell_type": "code",
   "execution_count": 10,
   "metadata": {
    "ExecuteTime": {
     "end_time": "2021-02-26T00:53:37.872435Z",
     "start_time": "2021-02-26T00:53:37.868447Z"
    }
   },
   "outputs": [
    {
     "name": "stdout",
     "output_type": "stream",
     "text": [
      "일반메서드 : 홍길동는 30살이고 남자입니다\n",
      "static 메소드 - 홍길동는 30살 남자입니다.\n",
      "static 메소드 - 홍길동는 30살 남자입니다.\n"
     ]
    }
   ],
   "source": [
    "p1.print_info()\n",
    "p2.that_()\n",
    "Person.that_()\n"
   ]
  },
  {
   "cell_type": "code",
   "execution_count": 12,
   "metadata": {
    "ExecuteTime": {
     "end_time": "2021-02-26T01:05:14.832487Z",
     "start_time": "2021-02-26T01:05:14.828516Z"
    }
   },
   "outputs": [
    {
     "name": "stdout",
     "output_type": "stream",
     "text": [
      "일반메서드 : 임순신는 477살이고 남자입니다\n",
      "일반메서드 : 임순신는 477살이고 남자입니다\n"
     ]
    }
   ],
   "source": [
    "Person.name ='임순신'\n",
    "Person.gender = '남자'\n",
    "Person.age = 477\n",
    "p1.print_info()\n",
    "p2.print_info()"
   ]
  },
  {
   "cell_type": "markdown",
   "metadata": {},
   "source": [
    "# 3절 생성사  (__init__())소멸자 (__del__())\n",
    "\n",
    "- 생성자 : __init__(self, 매개변수1, ...) 객체가 생성될떄 자동 실행\n",
    "\n",
    "- 소멸자 : __del__(self) 객체가 소멸될 떄 자동 실행\n",
    "           소멸시 필요한 코드를 포함\n",
    "           인스턴스 객체의 레퍼런스 카운트가 0이 될때 실행"
   ]
  },
  {
   "cell_type": "code",
   "execution_count": 1,
   "metadata": {
    "ExecuteTime": {
     "end_time": "2021-02-26T02:53:14.730979Z",
     "start_time": "2021-02-26T02:53:14.727978Z"
    }
   },
   "outputs": [],
   "source": [
    "class Person:\n",
    "    'name과 gender를  갖는 Person타입'\n",
    "    def __init__(self,name='홍길동',gender='남자'):\n",
    "        print('Person 객체를 생성합니다')\n",
    "        self.name = name  # 일반변수\n",
    "        self.gender = gender\n",
    "        \n",
    "    def __del__(self):\n",
    "        print('Person 객체를 소멸시킵니다')\n",
    "    def __str__(self):\n",
    "        return '일반메서드 - {}님은 {}입니다'.format(self.name, self.gender)\n",
    "    def print_info(self):\n",
    "        print(__str__)"
   ]
  },
  {
   "cell_type": "code",
   "execution_count": 2,
   "metadata": {
    "ExecuteTime": {
     "end_time": "2021-02-26T01:21:27.551211Z",
     "start_time": "2021-02-26T01:21:27.547221Z"
    }
   },
   "outputs": [
    {
     "name": "stdout",
     "output_type": "stream",
     "text": [
      "Person 객체를 생성합니다\n",
      "일반메서드 - 홍길동님은 남자입니다\n"
     ]
    }
   ],
   "source": [
    "p1 = Person()\n",
    "p1.print_info()"
   ]
  },
  {
   "cell_type": "code",
   "execution_count": 51,
   "metadata": {
    "ExecuteTime": {
     "end_time": "2021-02-26T02:15:30.316708Z",
     "start_time": "2021-02-26T02:15:30.313716Z"
    }
   },
   "outputs": [
    {
     "name": "stdout",
     "output_type": "stream",
     "text": [
      "Person 객체를 생성합니다\n",
      "일반메서드 - 홍길동님은 남자입니다\n"
     ]
    }
   ],
   "source": [
    "p1 = Person()\n",
    "print(p1)"
   ]
  },
  {
   "cell_type": "code",
   "execution_count": 47,
   "metadata": {
    "ExecuteTime": {
     "end_time": "2021-02-26T02:15:10.974810Z",
     "start_time": "2021-02-26T02:15:10.970821Z"
    }
   },
   "outputs": [
    {
     "name": "stdout",
     "output_type": "stream",
     "text": [
      "2513329909280\n",
      "2513329909280\n",
      "2513329909280\n"
     ]
    }
   ],
   "source": [
    "print(id(p1))\n",
    "p2 = p1\n",
    "print(id(p1))\n",
    "print(id(p2))"
   ]
  },
  {
   "cell_type": "code",
   "execution_count": 7,
   "metadata": {
    "ExecuteTime": {
     "end_time": "2021-02-26T01:22:15.919175Z",
     "start_time": "2021-02-26T01:22:15.915206Z"
    }
   },
   "outputs": [
    {
     "name": "stdout",
     "output_type": "stream",
     "text": [
      "Person 객체를 생성합니다\n",
      "Person 객체를 소멸시킵니다\n",
      "2513289430640\n"
     ]
    }
   ],
   "source": [
    "p1 = Person()\n",
    "print(id(p1))"
   ]
  },
  {
   "cell_type": "code",
   "execution_count": 9,
   "metadata": {
    "ExecuteTime": {
     "end_time": "2021-02-26T01:38:27.936452Z",
     "start_time": "2021-02-26T01:38:27.932484Z"
    },
    "scrolled": true
   },
   "outputs": [
    {
     "name": "stdout",
     "output_type": "stream",
     "text": [
      "2513289430640\n",
      "2513293782416\n",
      "일반메서드 - 홍길동님은 남자입니다\n"
     ]
    }
   ],
   "source": [
    "print(id(p1))\n",
    "print(id(p2))\n",
    "p2.print_info()"
   ]
  },
  {
   "cell_type": "code",
   "execution_count": 23,
   "metadata": {
    "ExecuteTime": {
     "end_time": "2021-02-26T01:55:01.969089Z",
     "start_time": "2021-02-26T01:55:01.963130Z"
    }
   },
   "outputs": [
    {
     "name": "stdout",
     "output_type": "stream",
     "text": [
      "Person 객체를 생성합니다\n",
      "Person 객체를 소멸시킵니다\n",
      "Person 객체를 생성합니다\n",
      "Person 객체를 소멸시킵니다\n",
      "Person 객체를 생성합니다\n",
      "Person 객체를 소멸시킵니다\n",
      "Person 객체를 생성합니다\n",
      "Person 객체를 소멸시킵니다\n",
      "일반메서드 - 홍길동님은 남자입니다\n",
      "일반메서드 - 홍길동님은 남자입니다\n",
      "일반메서드 - 홍길동님은 남자입니다\n"
     ]
    }
   ],
   "source": [
    "p1 = Person('김길동','남자')\n",
    "p2 = Person('박길동')\n",
    "p2 = Person(gender='여자')\n",
    "p3 = Person()\n",
    "\n",
    "\n",
    "\n",
    "p1.print_info()\n",
    "p2.print_info()\n",
    "p3.print_info()"
   ]
  },
  {
   "cell_type": "code",
   "execution_count": 35,
   "metadata": {
    "ExecuteTime": {
     "end_time": "2021-02-26T01:57:55.678561Z",
     "start_time": "2021-02-26T01:57:55.674597Z"
    }
   },
   "outputs": [
    {
     "name": "stdout",
     "output_type": "stream",
     "text": [
      "Person 객체를 생성합니다\n",
      "Person 객체를 소멸시킵니다\n",
      "일반메서드 - 홍길동님은 컁입니다\n"
     ]
    }
   ],
   "source": [
    "p4 = Person(gender='컁')\n",
    "p4.print_info()"
   ]
  },
  {
   "cell_type": "markdown",
   "metadata": {},
   "source": [
    "## 4절. 상속과 재정의"
   ]
  },
  {
   "cell_type": "code",
   "execution_count": 3,
   "metadata": {
    "ExecuteTime": {
     "end_time": "2021-02-26T02:51:32.780478Z",
     "start_time": "2021-02-26T02:51:32.775516Z"
    }
   },
   "outputs": [],
   "source": [
    "class Student(Person):\n",
    "    'name과 gender에 major 변수를 갖는 Student 타입'\n",
    "    def __init__(self,name,gender,major):\n",
    "        Person.__init__(self,name,gender)\n",
    "        self.major = major\n",
    "    def __del__(self):\n",
    "        pass\n",
    "    def __str__(self):\n",
    "        #return super().__str__() + '전공은{} 입니다'.format(self.name, self.major, self.gender)    \n",
    "        return Person().__str__() + '전공은{} 입니다'.format(self.name, self.major, self.gender)    \n",
    "    def print_info(self):        \n",
    "        print(self)\n",
    "    "
   ]
  },
  {
   "cell_type": "code",
   "execution_count": 40,
   "metadata": {
    "ExecuteTime": {
     "end_time": "2021-02-26T02:03:58.142174Z",
     "start_time": "2021-02-26T02:03:58.138184Z"
    }
   },
   "outputs": [
    {
     "data": {
      "text/plain": [
       "True"
      ]
     },
     "execution_count": 40,
     "metadata": {},
     "output_type": "execute_result"
    }
   ],
   "source": [
    "issubclass(Person, Student)\n",
    "\n",
    "issubclass(Student, Person)"
   ]
  },
  {
   "cell_type": "code",
   "execution_count": 60,
   "metadata": {
    "ExecuteTime": {
     "end_time": "2021-02-26T02:18:12.126792Z",
     "start_time": "2021-02-26T02:18:12.123820Z"
    }
   },
   "outputs": [
    {
     "name": "stdout",
     "output_type": "stream",
     "text": [
      "홍길동님은 전공마이너에 남자입니다\n"
     ]
    }
   ],
   "source": [
    "s1 = Student('홍길동','남자','마이너')\n",
    "\n",
    "s1.print_info()"
   ]
  },
  {
   "cell_type": "markdown",
   "metadata": {},
   "source": [
    "**static 변수 : 여러 객체들 사이에 데이터를 공유하고 싶을 떄 사용**\n",
    "- 클래스 변수 이름 앞에 under score 2개(붙이면) 내부적으로 클래스명.__클래스명 변수 이름으로 참조 가능"
   ]
  },
  {
   "cell_type": "code",
   "execution_count": 2,
   "metadata": {
    "ExecuteTime": {
     "end_time": "2021-02-26T02:53:18.349396Z",
     "start_time": "2021-02-26T02:53:18.343411Z"
    }
   },
   "outputs": [],
   "source": [
    "class Student(Person):\n",
    "    'name과 gender에 major 변수를 갖는 Student 타입(객체 갯수도 포함)'\n",
    "    __count = 0 ; #static 변수\n",
    "    def __init__(self,name,gender,major):\n",
    "        # 부모 클래스의 생성자를 호출하여 자식클래스의 생성자를 쉽게\n",
    "        Student._Student__count += 1 # 객체 생성시 마다 __count증가\n",
    "        Person.__init__(self,name,gender)\n",
    "        self.major = major\n",
    "    def __del__(self):\n",
    "        Student._Student__count -= 1\n",
    "    def __str__(self):\n",
    "        #return super().__str__() + ' 전공은{} 입니다'.format(self.major)    \n",
    "        return Person().__str__() + ' 전공은{} 입니다'.format(self.major)    \n",
    "    def print_info(self):        \n",
    "        print(self)\n",
    "    @classmethod\n",
    "    def get_count(cls):\n",
    "        return Student._Student__count"
   ]
  },
  {
   "cell_type": "code",
   "execution_count": 3,
   "metadata": {
    "ExecuteTime": {
     "end_time": "2021-02-26T02:53:21.292187Z",
     "start_time": "2021-02-26T02:53:21.288221Z"
    }
   },
   "outputs": [
    {
     "name": "stdout",
     "output_type": "stream",
     "text": [
      "Person 객체를 생성합니다\n",
      "Person 객체를 생성합니다\n",
      "Person 객체를 소멸시킵니다\n",
      "일반메서드 - 홍길동님은 남자입니다 전공은빅데이터 입니다\n",
      "객체갯수: 1\n"
     ]
    }
   ],
   "source": [
    "s1 = Student('홍길동','남자','빅데이터')\n",
    "print(s1)\n",
    "print('객체갯수:',Student.get_count())"
   ]
  },
  {
   "cell_type": "code",
   "execution_count": 60,
   "metadata": {
    "ExecuteTime": {
     "end_time": "2021-02-26T03:39:02.379423Z",
     "start_time": "2021-02-26T03:39:02.373418Z"
    }
   },
   "outputs": [],
   "source": [
    "class Shape:\n",
    "    x=1\n",
    "    y=1\n",
    "    def __init__(self, x=0, y=0):\n",
    "        self.x = x\n",
    "        self.y = y\n",
    "        print('Shape 생성')\n",
    "        \n",
    "    def __str__(self):\n",
    "        return 'x : {}, y : {}'.format(self.x,self.y)\n",
    "    \n",
    "    def __del__(self):\n",
    "        print('Shape 소멸')\n",
    "    \n",
    "    def cacl_area(self):\n",
    "        raise Exception('아직 구현이 안됐습니다') \n",
    "    \n",
    "    def printxy_():   #스태틱 메소드\n",
    "        print('스태틱 x : {}, y : {}'.format(Shape.x,Shape.y))"
   ]
  },
  {
   "cell_type": "code",
   "execution_count": 57,
   "metadata": {
    "ExecuteTime": {
     "end_time": "2021-02-26T03:38:12.379242Z",
     "start_time": "2021-02-26T03:38:12.373246Z"
    }
   },
   "outputs": [
    {
     "name": "stdout",
     "output_type": "stream",
     "text": [
      "Shape생성\n",
      "Shape생성\n",
      "Shape생성\n",
      "Shape생성\n",
      "Shape생성\n",
      "x : 0, y : 0\n",
      "x : 1, y : 2\n",
      "x : 5, y : 3\n",
      "x : 4, y : 0\n",
      "x : 0, y : 10\n",
      "스태틱 x : 1, y : 1\n"
     ]
    }
   ],
   "source": [
    "s1 = Shape()\n",
    "s2 = Shape(1,2)\n",
    "s3 = Shape(y=3, x=5)\n",
    "s4 = Shape(4)\n",
    "s5 = Shape(y=10)\n",
    "\n",
    "print(s1)\n",
    "print(s2)\n",
    "print(s3)\n",
    "print(s4)\n",
    "print(s5)\n",
    "\n",
    "Shape.printxy_()\n",
    "\n",
    "#s1.cacl_area()\n"
   ]
  },
  {
   "cell_type": "code",
   "execution_count": 86,
   "metadata": {
    "ExecuteTime": {
     "end_time": "2021-02-26T03:56:32.138667Z",
     "start_time": "2021-02-26T03:56:32.134075Z"
    }
   },
   "outputs": [],
   "source": [
    "class Triangle(Shape):\n",
    "    __count = 0\n",
    "    \n",
    "    def __init__(self, legs, h, x=0, y=0):\n",
    "        print('여기는 아예 안오니?')\n",
    "        \n",
    "        Triangle._Triangle__count += 1\n",
    "        Shape.__init__(self, x,y)\n",
    "        \n",
    "        self.legs = legs\n",
    "        self.h = h        \n",
    "        \n",
    "        print('Tri 생성, 갯수:{}'.format(Triangle._Triangle__count))\n",
    "        \n",
    "    def __del__(self):\n",
    "        Triangle._Triangle__count -= 1\n",
    "        print('Tri 소멸, 갯수:{}'.format(Triangle._Triangle__count))\n",
    "        \n",
    "    def __str__(self):\n",
    "        return Shape().__str__() + ' 밑변 : {} 높이 {} '.format(self.legs,self.h)\n",
    "    \n",
    "    def cacl_area(self):\n",
    "        return self.legs * self.h / 2\n",
    "    \n",
    "    @classmethod\n",
    "    def get_count(cls):\n",
    "        return Triangle._Triangle__count\n",
    "    \n",
    "    #@staticmethod\n",
    "#     def printxy_():   #스태틱 메소드\n",
    "#         Shape.printxy_()\n",
    "#         print('스태틱 밑변 : {}, 높이 : {} '.format(Triangle.legs, Triangle.h))\n",
    "\n"
   ]
  },
  {
   "cell_type": "code",
   "execution_count": 87,
   "metadata": {
    "ExecuteTime": {
     "end_time": "2021-02-26T03:56:52.137452Z",
     "start_time": "2021-02-26T03:56:52.133463Z"
    }
   },
   "outputs": [
    {
     "name": "stdout",
     "output_type": "stream",
     "text": [
      "여기는 아예 안오니?\n",
      "Shape 생성\n",
      "Tri 생성, 갯수:1\n"
     ]
    }
   ],
   "source": [
    "temp = Triangle(10,20)"
   ]
  },
  {
   "cell_type": "code",
   "execution_count": 88,
   "metadata": {
    "ExecuteTime": {
     "end_time": "2021-02-26T03:57:01.130339Z",
     "start_time": "2021-02-26T03:57:01.125386Z"
    }
   },
   "outputs": [
    {
     "name": "stdout",
     "output_type": "stream",
     "text": [
      "스태틱 x : 1, y : 1\n",
      "1\n",
      "여기는 아예 안오니?\n",
      "Shape 생성\n",
      "Tri 생성, 갯수:2\n",
      "2\n",
      "여기는 아예 안오니?\n",
      "Shape 생성\n",
      "Tri 생성, 갯수:3\n",
      "3\n",
      "Shape 생성\n",
      "Shape 소멸\n",
      "x : 0, y : 0 밑변 : 3 높이 4 \n",
      "Shape 생성\n",
      "Shape 소멸\n",
      "x : 0, y : 0 밑변 : 5 높이 6 \n"
     ]
    }
   ],
   "source": [
    "Triangle.printxy_()\n",
    "\n",
    "print(Triangle.get_count())\n",
    "t1 = Triangle(legs = 3,h=4)\n",
    "print(Triangle.get_count())\n",
    "t2 = Triangle(legs = 5,h=6,x=5,y=10)\n",
    "print(Triangle.get_count())\n",
    "\n",
    "print(t1)\n",
    "print(t2)\n",
    "\n"
   ]
  },
  {
   "cell_type": "markdown",
   "metadata": {},
   "source": []
  },
  {
   "cell_type": "code",
   "execution_count": 91,
   "metadata": {
    "ExecuteTime": {
     "end_time": "2021-02-26T05:51:06.520311Z",
     "start_time": "2021-02-26T05:51:06.512327Z"
    }
   },
   "outputs": [
    {
     "ename": "NameError",
     "evalue": "name 'p1' is not defined",
     "output_type": "error",
     "traceback": [
      "\u001b[1;31m---------------------------------------------------------------------------\u001b[0m",
      "\u001b[1;31mNameError\u001b[0m                                 Traceback (most recent call last)",
      "\u001b[1;32m<ipython-input-91-d55c9a72feb3>\u001b[0m in \u001b[0;36m<module>\u001b[1;34m\u001b[0m\n\u001b[1;32m----> 1\u001b[1;33m \u001b[0mp1\u001b[0m\u001b[1;33m.\u001b[0m\u001b[0m__doc__\u001b[0m\u001b[1;33m\u001b[0m\u001b[1;33m\u001b[0m\u001b[0m\n\u001b[0m",
      "\u001b[1;31mNameError\u001b[0m: name 'p1' is not defined"
     ]
    }
   ],
   "source": [
    "p1.__doc__"
   ]
  },
  {
   "cell_type": "code",
   "execution_count": null,
   "metadata": {},
   "outputs": [],
   "source": []
  },
  {
   "cell_type": "code",
   "execution_count": null,
   "metadata": {},
   "outputs": [],
   "source": []
  }
 ],
 "metadata": {
  "kernelspec": {
   "display_name": "Python 3",
   "language": "python",
   "name": "python3"
  },
  "language_info": {
   "codemirror_mode": {
    "name": "ipython",
    "version": 3
   },
   "file_extension": ".py",
   "mimetype": "text/x-python",
   "name": "python",
   "nbconvert_exporter": "python",
   "pygments_lexer": "ipython3",
   "version": "3.8.5"
  },
  "toc": {
   "base_numbering": 1,
   "nav_menu": {},
   "number_sections": true,
   "sideBar": true,
   "skip_h1_title": false,
   "title_cell": "Table of Contents",
   "title_sidebar": "Contents",
   "toc_cell": false,
   "toc_position": {},
   "toc_section_display": true,
   "toc_window_display": false
  },
  "varInspector": {
   "cols": {
    "lenName": 16,
    "lenType": 16,
    "lenVar": 40
   },
   "kernels_config": {
    "python": {
     "delete_cmd_postfix": "",
     "delete_cmd_prefix": "del ",
     "library": "var_list.py",
     "varRefreshCmd": "print(var_dic_list())"
    },
    "r": {
     "delete_cmd_postfix": ") ",
     "delete_cmd_prefix": "rm(",
     "library": "var_list.r",
     "varRefreshCmd": "cat(var_dic_list()) "
    }
   },
   "types_to_exclude": [
    "module",
    "function",
    "builtin_function_or_method",
    "instance",
    "_Feature"
   ],
   "window_display": false
  }
 },
 "nbformat": 4,
 "nbformat_minor": 4
}
