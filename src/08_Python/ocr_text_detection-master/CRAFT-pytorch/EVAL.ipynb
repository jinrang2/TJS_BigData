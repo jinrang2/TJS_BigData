{
 "cells": [
  {
   "cell_type": "code",
   "execution_count": 1,
   "metadata": {},
   "outputs": [],
   "source": [
    "import os "
   ]
  },
  {
   "cell_type": "markdown",
   "metadata": {},
   "source": [
    "* text_threshold\n",
    "* low_text\n",
    "* link_threshold\n"
   ]
  },
  {
   "cell_type": "code",
   "execution_count": 3,
   "metadata": {},
   "outputs": [
    {
     "name": "stdout",
     "output_type": "stream",
     "text": [
      "python test.py --test_folder=./../tensorflow_PSENet/noleak --output_folder=./result0707_no/ --trained_model=./Pretrained/craft_mlt_25k.pth --text_threshold 0.01 --low_text 0.2 --link_threshold 0.1 --canvas_size 1800 \n"
     ]
    }
   ],
   "source": [
    "pretrained = \"./Pretrained/craft_mlt_25k.pth\"\n",
    "check_dir =\\\n",
    "\"./Pretrained/craft_mlt_25k.pth\"\n",
    "output = \"./result0707_no/\"\n",
    "testdir = \"./../tensorflow_PSENet/noleak\"\n",
    "trained = \"python test.py --test_folder={test} \\\n",
    "--output_folder={output} \\\n",
    "--trained_model={train_model} \\\n",
    "--text_threshold {text_threshold} \\\n",
    "--low_text {low_text} \\\n",
    "--link_threshold {link_threshold} \\\n",
    "--canvas_size {canvas_size} \\\n",
    "\".format(test = testdir,\n",
    "         output = output, \n",
    "         text_threshold = 0.01 , \n",
    "         train_model = pretrained , \n",
    "         low_text = 0.2 ,\n",
    "         link_threshold = 0.1 ,\n",
    "         canvas_size = 1800 )\n",
    "\n",
    "print(trained)\n",
    "#os.system(trained)\n",
    "#print(\"예측 완료\")"
   ]
  },
  {
   "cell_type": "code",
   "execution_count": null,
   "metadata": {},
   "outputs": [],
   "source": []
  },
  {
   "cell_type": "code",
   "execution_count": null,
   "metadata": {},
   "outputs": [],
   "source": [
    "## python test.py --trained_model=./Pretrained/craft_mlt_25k.pth  --test_folder=./../tensorflow_PSENet/tmp      "
   ]
  },
  {
   "cell_type": "code",
   "execution_count": 3,
   "metadata": {},
   "outputs": [
    {
     "data": {
      "text/plain": [
       "'/home/advice/Python/SR/Project/OCR/CRAFT-pytorch'"
      ]
     },
     "execution_count": 3,
     "metadata": {},
     "output_type": "execute_result"
    }
   ],
   "source": [
    "import os\n",
    "import re\n",
    "os.getcwd()"
   ]
  },
  {
   "cell_type": "code",
   "execution_count": 8,
   "metadata": {},
   "outputs": [
    {
     "data": {
      "text/plain": [
       "['LICENSE',\n",
       " 'craft.py',\n",
       " '.git',\n",
       " 'craft_utils.py',\n",
       " 'result0616',\n",
       " 'test.py',\n",
       " 'README.md',\n",
       " 'basenet',\n",
       " 'result',\n",
       " '사용법',\n",
       " 'file_utils.py',\n",
       " 'imgproc.py',\n",
       " '__pycache__',\n",
       " '.gitignore',\n",
       " 'Pretrained',\n",
       " 'Test.ipynb',\n",
       " '.ipynb_checkpoints',\n",
       " 'torch test.ipynb',\n",
       " 'figures']"
      ]
     },
     "execution_count": 8,
     "metadata": {},
     "output_type": "execute_result"
    }
   ],
   "source": [
    "os.listdir(\"./\")"
   ]
  },
  {
   "cell_type": "markdown",
   "metadata": {},
   "source": []
  },
  {
   "cell_type": "code",
   "execution_count": 7,
   "metadata": {},
   "outputs": [
    {
     "data": {
      "text/plain": [
       "0"
      ]
     },
     "execution_count": 7,
     "metadata": {},
     "output_type": "execute_result"
    }
   ],
   "source": [
    "import os\n",
    "os.system(\"rm *.txt\")\n",
    "os.system(\"rm *.jpg\")"
   ]
  },
  {
   "cell_type": "code",
   "execution_count": null,
   "metadata": {},
   "outputs": [],
   "source": []
  }
 ],
 "metadata": {
  "kernelspec": {
   "display_name": "PyTorch",
   "language": "python",
   "name": "pytorch"
  },
  "language_info": {
   "codemirror_mode": {
    "name": "ipython",
    "version": 3
   },
   "file_extension": ".py",
   "mimetype": "text/x-python",
   "name": "python",
   "nbconvert_exporter": "python",
   "pygments_lexer": "ipython3",
   "version": "3.7.3"
  }
 },
 "nbformat": 4,
 "nbformat_minor": 2
}
