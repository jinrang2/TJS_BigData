{
 "cells": [
  {
   "cell_type": "markdown",
   "metadata": {
    "ExecuteTime": {
     "end_time": "2021-02-26T05:59:51.121194Z",
     "start_time": "2021-02-26T05:59:51.117229Z"
    }
   },
   "source": [
    "**<font size=\"6\" color=\"red\">ch08. 예외처리</font>**\n",
    "- 예외가 날 가능성이 있는 부분에 대해 미리 대비하는 프로그래밍"
   ]
  },
  {
   "cell_type": "code",
   "execution_count": 6,
   "metadata": {
    "ExecuteTime": {
     "end_time": "2021-02-26T06:13:04.500713Z",
     "start_time": "2021-02-26T06:13:03.311141Z"
    }
   },
   "outputs": [
    {
     "name": "stdout",
     "output_type": "stream",
     "text": [
      "읽을 파일이름은?a\n"
     ]
    },
    {
     "ename": "FileNotFoundError",
     "evalue": "[Errno 2] No such file or directory: 'data/a'",
     "output_type": "error",
     "traceback": [
      "\u001b[1;31m---------------------------------------------------------------------------\u001b[0m",
      "\u001b[1;31mFileNotFoundError\u001b[0m                         Traceback (most recent call last)",
      "\u001b[1;32m<ipython-input-6-3a9d820ae7aa>\u001b[0m in \u001b[0;36m<module>\u001b[1;34m\u001b[0m\n\u001b[0;32m      1\u001b[0m \u001b[0mfilename\u001b[0m\u001b[1;33m=\u001b[0m\u001b[0minput\u001b[0m\u001b[1;33m(\u001b[0m\u001b[1;34m'읽을 파일이름은?'\u001b[0m\u001b[1;33m)\u001b[0m\u001b[1;33m\u001b[0m\u001b[1;33m\u001b[0m\u001b[0m\n\u001b[1;32m----> 2\u001b[1;33m \u001b[0mf\u001b[0m \u001b[1;33m=\u001b[0m \u001b[0mopen\u001b[0m\u001b[1;33m(\u001b[0m\u001b[1;34m'data/'\u001b[0m \u001b[1;33m+\u001b[0m \u001b[0mfilename\u001b[0m \u001b[1;33m,\u001b[0m\u001b[1;34m'r'\u001b[0m\u001b[1;33m)\u001b[0m\u001b[1;33m\u001b[0m\u001b[1;33m\u001b[0m\u001b[0m\n\u001b[0m\u001b[0;32m      3\u001b[0m \u001b[0mtext\u001b[0m \u001b[1;33m=\u001b[0m \u001b[0mf\u001b[0m\u001b[1;33m.\u001b[0m\u001b[0mreadline\u001b[0m\u001b[1;33m(\u001b[0m\u001b[1;33m)\u001b[0m\u001b[1;33m\u001b[0m\u001b[1;33m\u001b[0m\u001b[0m\n\u001b[0;32m      4\u001b[0m \u001b[0mprint\u001b[0m\u001b[1;33m(\u001b[0m\u001b[0mtext\u001b[0m\u001b[1;33m)\u001b[0m\u001b[1;33m\u001b[0m\u001b[1;33m\u001b[0m\u001b[0m\n\u001b[0;32m      5\u001b[0m \u001b[0mf\u001b[0m\u001b[1;33m.\u001b[0m\u001b[0mclose\u001b[0m\u001b[1;33m(\u001b[0m\u001b[1;33m)\u001b[0m\u001b[1;33m\u001b[0m\u001b[1;33m\u001b[0m\u001b[0m\n",
      "\u001b[1;31mFileNotFoundError\u001b[0m: [Errno 2] No such file or directory: 'data/a'"
     ]
    }
   ],
   "source": [
    "filename=input('읽을 파일이름은?')\n",
    "f = open('data/' + filename ,'r')\n",
    "text = f.readline()\n",
    "print(text)\n",
    "f.close()\n",
    "\n",
    "\n"
   ]
  },
  {
   "cell_type": "code",
   "execution_count": 8,
   "metadata": {
    "ExecuteTime": {
     "end_time": "2021-02-26T06:16:18.501520Z",
     "start_time": "2021-02-26T06:16:17.505037Z"
    }
   },
   "outputs": [
    {
     "name": "stdout",
     "output_type": "stream",
     "text": [
      "정수를 입력하세요0\n"
     ]
    },
    {
     "ename": "ZeroDivisionError",
     "evalue": "division by zero",
     "output_type": "error",
     "traceback": [
      "\u001b[1;31m---------------------------------------------------------------------------\u001b[0m",
      "\u001b[1;31mZeroDivisionError\u001b[0m                         Traceback (most recent call last)",
      "\u001b[1;32m<ipython-input-8-5a7e7efb4bda>\u001b[0m in \u001b[0;36m<module>\u001b[1;34m\u001b[0m\n\u001b[0;32m      1\u001b[0m \u001b[0mnum\u001b[0m\u001b[1;33m=\u001b[0m\u001b[0mint\u001b[0m\u001b[1;33m(\u001b[0m\u001b[0minput\u001b[0m\u001b[1;33m(\u001b[0m\u001b[1;34m'정수를 입력하세요'\u001b[0m\u001b[1;33m)\u001b[0m\u001b[1;33m)\u001b[0m\u001b[1;33m\u001b[0m\u001b[1;33m\u001b[0m\u001b[0m\n\u001b[1;32m----> 2\u001b[1;33m \u001b[0mprint\u001b[0m\u001b[1;33m(\u001b[0m\u001b[1;36m10\u001b[0m\u001b[1;33m/\u001b[0m\u001b[0mnum\u001b[0m\u001b[1;33m)\u001b[0m\u001b[1;33m\u001b[0m\u001b[1;33m\u001b[0m\u001b[0m\n\u001b[0m",
      "\u001b[1;31mZeroDivisionError\u001b[0m: division by zero"
     ]
    }
   ],
   "source": [
    "num=int(input('정수를 입력하세요'))\n",
    "print(10/num)"
   ]
  },
  {
   "cell_type": "code",
   "execution_count": 9,
   "metadata": {
    "ExecuteTime": {
     "end_time": "2021-02-26T06:17:32.118287Z",
     "start_time": "2021-02-26T06:17:32.111308Z"
    }
   },
   "outputs": [
    {
     "ename": "IndexError",
     "evalue": "list index out of range",
     "output_type": "error",
     "traceback": [
      "\u001b[1;31m---------------------------------------------------------------------------\u001b[0m",
      "\u001b[1;31mIndexError\u001b[0m                                Traceback (most recent call last)",
      "\u001b[1;32m<ipython-input-9-5d7e51b0903c>\u001b[0m in \u001b[0;36m<module>\u001b[1;34m\u001b[0m\n\u001b[0;32m      1\u001b[0m \u001b[0ml\u001b[0m\u001b[1;33m=\u001b[0m\u001b[1;33m[\u001b[0m\u001b[1;36m1\u001b[0m\u001b[1;33m,\u001b[0m\u001b[1;36m2\u001b[0m\u001b[1;33m,\u001b[0m\u001b[1;36m3\u001b[0m\u001b[1;33m,\u001b[0m\u001b[1;33m]\u001b[0m\u001b[1;33m\u001b[0m\u001b[1;33m\u001b[0m\u001b[0m\n\u001b[0;32m      2\u001b[0m \u001b[1;33m\u001b[0m\u001b[0m\n\u001b[1;32m----> 3\u001b[1;33m \u001b[0ml\u001b[0m\u001b[1;33m[\u001b[0m\u001b[1;36m5\u001b[0m\u001b[1;33m]\u001b[0m\u001b[1;33m\u001b[0m\u001b[1;33m\u001b[0m\u001b[0m\n\u001b[0m",
      "\u001b[1;31mIndexError\u001b[0m: list index out of range"
     ]
    }
   ],
   "source": [
    "l=[1,2,3,]\n",
    "\n",
    "l[5]\n"
   ]
  },
  {
   "cell_type": "markdown",
   "metadata": {},
   "source": [
    "# 2절. 예외처리하기(try~except)"
   ]
  },
  {
   "cell_type": "code",
   "execution_count": 15,
   "metadata": {
    "ExecuteTime": {
     "end_time": "2021-02-26T06:24:17.200209Z",
     "start_time": "2021-02-26T06:24:15.854989Z"
    }
   },
   "outputs": [
    {
     "name": "stdout",
     "output_type": "stream",
     "text": [
      "정수는 ?f\n",
      "invalid literal for int() with base 10: 'f'\n",
      "컁\n"
     ]
    }
   ],
   "source": [
    "try:\n",
    "    x = int(input('정수는 ?'))\n",
    "    print('입력한 정수는 {} 입니다'.format(x))\n",
    "except ValueError as e:\n",
    "    print(e.__str__())\n",
    "finally:\n",
    "    print('컁')"
   ]
  },
  {
   "cell_type": "code",
   "execution_count": 28,
   "metadata": {
    "ExecuteTime": {
     "end_time": "2021-02-26T06:45:46.432063Z",
     "start_time": "2021-02-26T06:45:45.182081Z"
    }
   },
   "outputs": [
    {
     "name": "stdout",
     "output_type": "stream",
     "text": [
      "정수는 ?r\n",
      "invalid literal for int() with base 10: 'r'\n",
      "정수는 ?3\n",
      "입력한 정수는 3 입니다\n"
     ]
    }
   ],
   "source": [
    "# 입력한 값이 정수가 아닐 경우 메세지를 출력 다시 입력 받는다\n",
    "\n",
    "\n",
    "while True:\n",
    "    try:\n",
    "        x = int(input('정수는 ?'))\n",
    "        print('입력한 정수는 {} 입니다'.format(x))\n",
    "        break;       \n",
    "\n",
    "    except ValueError as e:\n",
    "        print(e.__str__())\n"
   ]
  },
  {
   "cell_type": "code",
   "execution_count": 36,
   "metadata": {
    "ExecuteTime": {
     "end_time": "2021-02-26T06:52:48.560007Z",
     "start_time": "2021-02-26T06:51:25.054941Z"
    }
   },
   "outputs": [
    {
     "name": "stdout",
     "output_type": "stream",
     "text": [
      "수 : ㄱ\n",
      "예외네유\n",
      "수 : ㄱ\n",
      "예외네유\n",
      "수 : ㄱ\n",
      "예외네유\n",
      "수 : ㄱ\n",
      "예외네유\n",
      "수 : ㄱ\n",
      "예외네유\n",
      "수 : ㄱ\n",
      "예외네유\n",
      "수 : ㄱ\n",
      "예외네유\n",
      "수 : ㄱ\n",
      "예외네유\n",
      "수 : ㄱ\n",
      "예외네유\n",
      "수 : 4\n",
      "입력한 정수는 4\n",
      "100/4=25.0\n"
     ]
    }
   ],
   "source": [
    "while True :\n",
    "    try:\n",
    "        x = int(input('수 : '))\n",
    "        print('입력한 정수는 {}'.format(x))\n",
    "        result = 100 / x\n",
    "        print('100/{}={}'.format(x,result))\n",
    "        break\n",
    "    except ValueError as e:    \n",
    "        print('입력값이 숫자가 아니에요')\n",
    "    except ZeroDivisionError as e:\n",
    "        print('0으로는 못나눠요')\n",
    "    except Exception as e:\n",
    "        print('예외네유')\n",
    "    "
   ]
  },
  {
   "cell_type": "code",
   "execution_count": 37,
   "metadata": {
    "ExecuteTime": {
     "end_time": "2021-02-26T06:57:48.222762Z",
     "start_time": "2021-02-26T06:57:45.117541Z"
    }
   },
   "outputs": [
    {
     "name": "stdout",
     "output_type": "stream",
     "text": [
      "수 : r\n",
      "입력값은 0이 아닌 숫자이어야 해요\n",
      "invalid literal for int() with base 10: 'r'\n",
      "수 : 1\n",
      "입력한 정수는 1\n",
      "100/1=100.0\n"
     ]
    }
   ],
   "source": [
    "while True :\n",
    "    try:\n",
    "        x = int(input('수 : '))\n",
    "        print('입력한 정수는 {}'.format(x))\n",
    "        result = 100 / x\n",
    "        print('100/{}={}'.format(x,result))\n",
    "        break\n",
    "    except (ValueError, ZeroDivisionError) as e:    \n",
    "        print('입력값은 0이 아닌 숫자이어야 해요')\n",
    "        print(e.__str__())\n",
    "    "
   ]
  },
  {
   "cell_type": "code",
   "execution_count": 44,
   "metadata": {
    "ExecuteTime": {
     "end_time": "2021-02-26T07:03:49.188120Z",
     "start_time": "2021-02-26T07:03:48.000474Z"
    }
   },
   "outputs": [
    {
     "name": "stdout",
     "output_type": "stream",
     "text": [
      "수 : ㄱ\n"
     ]
    },
    {
     "ename": "ValueError",
     "evalue": "invalid literal for int() with base 10: 'ㄱ'",
     "output_type": "error",
     "traceback": [
      "\u001b[1;31m---------------------------------------------------------------------------\u001b[0m",
      "\u001b[1;31mValueError\u001b[0m                                Traceback (most recent call last)",
      "\u001b[1;32m<ipython-input-44-595a68153694>\u001b[0m in \u001b[0;36m<module>\u001b[1;34m\u001b[0m\n\u001b[0;32m      1\u001b[0m \u001b[1;32mwhile\u001b[0m \u001b[1;32mTrue\u001b[0m \u001b[1;33m:\u001b[0m\u001b[1;33m\u001b[0m\u001b[1;33m\u001b[0m\u001b[0m\n\u001b[0;32m      2\u001b[0m     \u001b[1;32mtry\u001b[0m\u001b[1;33m:\u001b[0m\u001b[1;33m\u001b[0m\u001b[1;33m\u001b[0m\u001b[0m\n\u001b[1;32m----> 3\u001b[1;33m         \u001b[0mx\u001b[0m \u001b[1;33m=\u001b[0m \u001b[0mint\u001b[0m\u001b[1;33m(\u001b[0m\u001b[0minput\u001b[0m\u001b[1;33m(\u001b[0m\u001b[1;34m'수 : '\u001b[0m\u001b[1;33m)\u001b[0m\u001b[1;33m)\u001b[0m\u001b[1;33m\u001b[0m\u001b[1;33m\u001b[0m\u001b[0m\n\u001b[0m\u001b[0;32m      4\u001b[0m         \u001b[0mprint\u001b[0m\u001b[1;33m(\u001b[0m\u001b[1;34m'입력한 정수는 {}'\u001b[0m\u001b[1;33m.\u001b[0m\u001b[0mformat\u001b[0m\u001b[1;33m(\u001b[0m\u001b[0mx\u001b[0m\u001b[1;33m)\u001b[0m\u001b[1;33m)\u001b[0m\u001b[1;33m\u001b[0m\u001b[1;33m\u001b[0m\u001b[0m\n\u001b[0;32m      5\u001b[0m         \u001b[0mresult\u001b[0m \u001b[1;33m=\u001b[0m \u001b[1;36m100\u001b[0m \u001b[1;33m/\u001b[0m \u001b[0mx\u001b[0m\u001b[1;33m\u001b[0m\u001b[1;33m\u001b[0m\u001b[0m\n",
      "\u001b[1;31mValueError\u001b[0m: invalid literal for int() with base 10: 'ㄱ'"
     ]
    }
   ],
   "source": [
    "while True :\n",
    "    try:\n",
    "        x = int(input('수 : '))\n",
    "        print('입력한 정수는 {}'.format(x))\n",
    "        result = 100 / x\n",
    "        print('100/{}={}'.format(x,result))\n",
    "        break\n",
    "    except:    \n",
    "        print('다시 입력하세요')"
   ]
  },
  {
   "cell_type": "code",
   "execution_count": 46,
   "metadata": {
    "ExecuteTime": {
     "end_time": "2021-02-26T07:04:26.785086Z",
     "start_time": "2021-02-26T07:04:26.781095Z"
    }
   },
   "outputs": [
    {
     "name": "stdout",
     "output_type": "stream",
     "text": [
      "컁컁컁\n",
      "\n"
     ]
    }
   ],
   "source": [
    "# try ~ except ~(else~) finally\n",
    "# else : try블록에 예외가 발생되면 except블록 실행 .예외 발생 안되면 else 블록실행\n",
    "try:\n",
    "    f = open('data/ch08_abc.txt' ,'r')\n",
    "    text = f.readline()\n",
    "    print(text)\n",
    "except FileNotFoundError :    \n",
    "    print('파일이 없습니다')\n",
    "finally:\n",
    "    f.close()"
   ]
  },
  {
   "cell_type": "code",
   "execution_count": 49,
   "metadata": {
    "ExecuteTime": {
     "end_time": "2021-02-26T07:12:57.662885Z",
     "start_time": "2021-02-26T07:12:55.820840Z"
    }
   },
   "outputs": [
    {
     "name": "stdout",
     "output_type": "stream",
     "text": [
      "수 : r\n",
      "invalid literal for int() with base 10: 'r'\n",
      "invalid literal for int() with base 10: 'r'\n",
      "수 : 1\n",
      "입력한 정수는 1\n",
      "100/1=100.0\n"
     ]
    }
   ],
   "source": [
    "# 예외 인수 e\n",
    "while True :\n",
    "    try:\n",
    "        x = int(input('수 : '))\n",
    "        print('입력한 정수는 {}'.format(x))\n",
    "        result = 100 / x\n",
    "        print('100/{}={}'.format(x,result))\n",
    "        break\n",
    "    except (ValueError, ZeroDivisionError) as e:    \n",
    "        print(e)\n",
    "        print(e.args[0])"
   ]
  },
  {
   "cell_type": "markdown",
   "metadata": {},
   "source": [
    "# 3절. raise로 예외 발생시키기"
   ]
  },
  {
   "cell_type": "code",
   "execution_count": 50,
   "metadata": {
    "ExecuteTime": {
     "end_time": "2021-02-26T07:14:14.646824Z",
     "start_time": "2021-02-26T07:14:14.638845Z"
    }
   },
   "outputs": [
    {
     "ename": "NameError",
     "evalue": "예외가 발생",
     "output_type": "error",
     "traceback": [
      "\u001b[1;31m---------------------------------------------------------------------------\u001b[0m",
      "\u001b[1;31mNameError\u001b[0m                                 Traceback (most recent call last)",
      "\u001b[1;32m<ipython-input-50-936717b2fa98>\u001b[0m in \u001b[0;36m<module>\u001b[1;34m\u001b[0m\n\u001b[1;32m----> 1\u001b[1;33m \u001b[1;32mraise\u001b[0m \u001b[0mNameError\u001b[0m\u001b[1;33m(\u001b[0m\u001b[1;34m'예외가 발생'\u001b[0m\u001b[1;33m)\u001b[0m\u001b[1;33m\u001b[0m\u001b[1;33m\u001b[0m\u001b[0m\n\u001b[0m",
      "\u001b[1;31mNameError\u001b[0m: 예외가 발생"
     ]
    }
   ],
   "source": [
    "raise NameError('예외가 발생')"
   ]
  },
  {
   "cell_type": "code",
   "execution_count": 53,
   "metadata": {
    "ExecuteTime": {
     "end_time": "2021-02-26T07:16:03.125949Z",
     "start_time": "2021-02-26T07:16:02.428661Z"
    }
   },
   "outputs": [
    {
     "name": "stdout",
     "output_type": "stream",
     "text": [
      "입력해보세요\n"
     ]
    },
    {
     "ename": "Exception",
     "evalue": "길이가 0이라 출력할 것도 없습니다",
     "output_type": "error",
     "traceback": [
      "\u001b[1;31m---------------------------------------------------------------------------\u001b[0m",
      "\u001b[1;31mException\u001b[0m                                 Traceback (most recent call last)",
      "\u001b[1;32m<ipython-input-53-cc0c258d9d7a>\u001b[0m in \u001b[0;36m<module>\u001b[1;34m\u001b[0m\n\u001b[0;32m      4\u001b[0m \u001b[1;33m\u001b[0m\u001b[0m\n\u001b[0;32m      5\u001b[0m \u001b[0ma\u001b[0m \u001b[1;33m=\u001b[0m \u001b[0minput\u001b[0m\u001b[1;33m(\u001b[0m\u001b[1;34m'입력해보세요'\u001b[0m\u001b[1;33m)\u001b[0m\u001b[1;33m\u001b[0m\u001b[1;33m\u001b[0m\u001b[0m\n\u001b[1;32m----> 6\u001b[1;33m \u001b[0minsert\u001b[0m\u001b[1;33m(\u001b[0m\u001b[0ma\u001b[0m\u001b[1;33m)\u001b[0m\u001b[1;33m\u001b[0m\u001b[1;33m\u001b[0m\u001b[0m\n\u001b[0m",
      "\u001b[1;32m<ipython-input-53-cc0c258d9d7a>\u001b[0m in \u001b[0;36minsert\u001b[1;34m(data)\u001b[0m\n\u001b[0;32m      1\u001b[0m \u001b[1;32mdef\u001b[0m \u001b[0minsert\u001b[0m\u001b[1;33m(\u001b[0m\u001b[0mdata\u001b[0m\u001b[1;33m)\u001b[0m\u001b[1;33m:\u001b[0m\u001b[1;33m\u001b[0m\u001b[1;33m\u001b[0m\u001b[0m\n\u001b[0;32m      2\u001b[0m     \u001b[1;32mif\u001b[0m \u001b[0mlen\u001b[0m\u001b[1;33m(\u001b[0m\u001b[0mdata\u001b[0m\u001b[1;33m)\u001b[0m\u001b[1;33m==\u001b[0m\u001b[1;36m0\u001b[0m\u001b[1;33m:\u001b[0m\u001b[1;33m\u001b[0m\u001b[1;33m\u001b[0m\u001b[0m\n\u001b[1;32m----> 3\u001b[1;33m         \u001b[1;32mraise\u001b[0m \u001b[0mException\u001b[0m\u001b[1;33m(\u001b[0m\u001b[1;34m'길이가 0이라 출력할 것도 없습니다'\u001b[0m\u001b[1;33m)\u001b[0m\u001b[1;33m\u001b[0m\u001b[1;33m\u001b[0m\u001b[0m\n\u001b[0m\u001b[0;32m      4\u001b[0m \u001b[1;33m\u001b[0m\u001b[0m\n\u001b[0;32m      5\u001b[0m \u001b[0ma\u001b[0m \u001b[1;33m=\u001b[0m \u001b[0minput\u001b[0m\u001b[1;33m(\u001b[0m\u001b[1;34m'입력해보세요'\u001b[0m\u001b[1;33m)\u001b[0m\u001b[1;33m\u001b[0m\u001b[1;33m\u001b[0m\u001b[0m\n",
      "\u001b[1;31mException\u001b[0m: 길이가 0이라 출력할 것도 없습니다"
     ]
    }
   ],
   "source": [
    "def insert(data):\n",
    "    if len(data)==0:\n",
    "        raise Exception('길이가 0이라 출력할 것도 없습니다')\n",
    "        \n",
    "a = input('입력해보세요')\n",
    "insert(a)"
   ]
  },
  {
   "cell_type": "code",
   "execution_count": 56,
   "metadata": {
    "ExecuteTime": {
     "end_time": "2021-02-26T07:18:34.016427Z",
     "start_time": "2021-02-26T07:18:34.012437Z"
    }
   },
   "outputs": [
    {
     "name": "stdout",
     "output_type": "stream",
     "text": [
      "길이가 0이라 출력할 것도 없습니다\n"
     ]
    }
   ],
   "source": [
    "try:\n",
    "    insert({})\n",
    "except Exception as e:\n",
    "    print(e.args[0])"
   ]
  },
  {
   "cell_type": "markdown",
   "metadata": {},
   "source": [
    "# 4절. raise를 이용하여 추상클래스 정의하기\n",
    "- python은 추상 클래스를 생성 할 수 없으니 raise를 이용해서 추상클래스를 흉내냄\n",
    "\n",
    "# 5절. 사용자 정의 예외"
   ]
  },
  {
   "cell_type": "code",
   "execution_count": 60,
   "metadata": {
    "ExecuteTime": {
     "end_time": "2021-02-26T07:41:43.054741Z",
     "start_time": "2021-02-26T07:41:43.051769Z"
    }
   },
   "outputs": [],
   "source": [
    "class Shape:\n",
    "    def __init__(self):\n",
    "        raise Exception('Shpae는 추상클래스여서 생성 불가')\n",
    "    def cal_area(self):\n",
    "        raise AbstractError()"
   ]
  },
  {
   "cell_type": "code",
   "execution_count": 57,
   "metadata": {
    "ExecuteTime": {
     "end_time": "2021-02-26T07:40:38.746790Z",
     "start_time": "2021-02-26T07:40:38.742826Z"
    }
   },
   "outputs": [],
   "source": [
    "class AbstractError(Exception):\n",
    "    '추상 클래스를 이용하여 객체를 생성 할떄 나는 오류'\n",
    "    def __init__(self):\n",
    "        Exception.__init__(self,'Shpae는 추상클래스여서 생성 불가')\n"
   ]
  },
  {
   "cell_type": "code",
   "execution_count": 61,
   "metadata": {
    "ExecuteTime": {
     "end_time": "2021-02-26T07:41:46.278286Z",
     "start_time": "2021-02-26T07:41:46.268313Z"
    }
   },
   "outputs": [
    {
     "ename": "Exception",
     "evalue": "Shpae는 추상클래스여서 생성 불가",
     "output_type": "error",
     "traceback": [
      "\u001b[1;31m---------------------------------------------------------------------------\u001b[0m",
      "\u001b[1;31mException\u001b[0m                                 Traceback (most recent call last)",
      "\u001b[1;32m<ipython-input-61-e3bc0ad6f639>\u001b[0m in \u001b[0;36m<module>\u001b[1;34m\u001b[0m\n\u001b[1;32m----> 1\u001b[1;33m \u001b[0ms\u001b[0m \u001b[1;33m=\u001b[0m  \u001b[0mShape\u001b[0m\u001b[1;33m(\u001b[0m\u001b[1;33m)\u001b[0m\u001b[1;33m\u001b[0m\u001b[1;33m\u001b[0m\u001b[0m\n\u001b[0m",
      "\u001b[1;32m<ipython-input-60-27d3fed690b3>\u001b[0m in \u001b[0;36m__init__\u001b[1;34m(self)\u001b[0m\n\u001b[0;32m      1\u001b[0m \u001b[1;32mclass\u001b[0m \u001b[0mShape\u001b[0m\u001b[1;33m:\u001b[0m\u001b[1;33m\u001b[0m\u001b[1;33m\u001b[0m\u001b[0m\n\u001b[0;32m      2\u001b[0m     \u001b[1;32mdef\u001b[0m \u001b[0m__init__\u001b[0m\u001b[1;33m(\u001b[0m\u001b[0mself\u001b[0m\u001b[1;33m)\u001b[0m\u001b[1;33m:\u001b[0m\u001b[1;33m\u001b[0m\u001b[1;33m\u001b[0m\u001b[0m\n\u001b[1;32m----> 3\u001b[1;33m         \u001b[1;32mraise\u001b[0m \u001b[0mException\u001b[0m\u001b[1;33m(\u001b[0m\u001b[1;34m'Shpae는 추상클래스여서 생성 불가'\u001b[0m\u001b[1;33m)\u001b[0m\u001b[1;33m\u001b[0m\u001b[1;33m\u001b[0m\u001b[0m\n\u001b[0m\u001b[0;32m      4\u001b[0m     \u001b[1;32mdef\u001b[0m \u001b[0mcal_area\u001b[0m\u001b[1;33m(\u001b[0m\u001b[0mself\u001b[0m\u001b[1;33m)\u001b[0m\u001b[1;33m:\u001b[0m\u001b[1;33m\u001b[0m\u001b[1;33m\u001b[0m\u001b[0m\n\u001b[0;32m      5\u001b[0m         \u001b[1;32mraise\u001b[0m \u001b[0mAbstractError\u001b[0m\u001b[1;33m(\u001b[0m\u001b[1;33m)\u001b[0m\u001b[1;33m\u001b[0m\u001b[1;33m\u001b[0m\u001b[0m\n",
      "\u001b[1;31mException\u001b[0m: Shpae는 추상클래스여서 생성 불가"
     ]
    }
   ],
   "source": [
    "s =  Shape()"
   ]
  },
  {
   "cell_type": "code",
   "execution_count": 64,
   "metadata": {
    "ExecuteTime": {
     "end_time": "2021-02-26T07:46:20.179666Z",
     "start_time": "2021-02-26T07:46:20.174679Z"
    }
   },
   "outputs": [],
   "source": [
    "class Circle(Shape):\n",
    "    def __init__(self,r):\n",
    "        self.r = r\n",
    "        \n",
    "    def cal_area(self):\n",
    "        return r*r*3.14\n"
   ]
  },
  {
   "cell_type": "code",
   "execution_count": 66,
   "metadata": {
    "ExecuteTime": {
     "end_time": "2021-02-26T07:46:32.910616Z",
     "start_time": "2021-02-26T07:46:32.906652Z"
    }
   },
   "outputs": [],
   "source": [
    "c = Circle(3)"
   ]
  },
  {
   "cell_type": "code",
   "execution_count": null,
   "metadata": {},
   "outputs": [],
   "source": [
    "filename=input('읽을 파일이름은?')\n",
    "try:\n",
    "    f = open('data/ch08_abc.txt' ,'r')\n",
    "    text = f.readline()\n",
    "    print(text)\n",
    "    f.close()\n",
    "except:\n",
    "    pass\n",
    "finally:\n",
    "    f.close()\n"
   ]
  },
  {
   "cell_type": "code",
   "execution_count": 70,
   "metadata": {
    "ExecuteTime": {
     "end_time": "2021-02-26T08:00:41.149231Z",
     "start_time": "2021-02-26T08:00:31.450790Z"
    }
   },
   "outputs": [
    {
     "name": "stdout",
     "output_type": "stream",
     "text": [
      "첫 번째 숫자를 입력하세요 : abc\n",
      "유효한 숫자가 아닙니다. 다시 시도하세요.\n",
      "첫 번째 숫자를 입력하세요 : 10\n",
      "두 번째 숫자를 입력하세요 : 0\n",
      "입력한 수는 10.0와 0.0 입니다\n",
      "0으로 나눌 수 없습니다. 다시 시도하세요\n",
      "첫 번째 숫자를 입력하세요 : 5\n",
      "두 번째 숫자를 입력하세요 : 3\n",
      "입력한 수는 5.0와 3.0 입니다\n",
      "5.0을 3.0으로 나누면 1.6666666666666667입니다\n"
     ]
    }
   ],
   "source": [
    "while True:    \n",
    "    try:\n",
    "        x = float(input('첫 번째 숫자를 입력하세요 : '))\n",
    "        y = float(input('두 번째 숫자를 입력하세요 : '))\n",
    "        print('입력한 수는 {}와 {} 입니다'.format(x,y))\n",
    "        print('{}을 {}으로 나누면 {}입니다'.format(x,y,x/y))\n",
    "        break\n",
    "    except ValueError as e:\n",
    "        print('유효한 숫자가 아닙니다. 다시 시도하세요.')\n",
    "    except ZeroDivisionError as e:\n",
    "        print('0으로 나눌 수 없습니다. 다시 시도하세요')"
   ]
  },
  {
   "cell_type": "code",
   "execution_count": null,
   "metadata": {},
   "outputs": [],
   "source": []
  }
 ],
 "metadata": {
  "kernelspec": {
   "display_name": "Python 3",
   "language": "python",
   "name": "python3"
  },
  "language_info": {
   "codemirror_mode": {
    "name": "ipython",
    "version": 3
   },
   "file_extension": ".py",
   "mimetype": "text/x-python",
   "name": "python",
   "nbconvert_exporter": "python",
   "pygments_lexer": "ipython3",
   "version": "3.8.5"
  },
  "toc": {
   "base_numbering": 1,
   "nav_menu": {},
   "number_sections": true,
   "sideBar": true,
   "skip_h1_title": false,
   "title_cell": "Table of Contents",
   "title_sidebar": "Contents",
   "toc_cell": false,
   "toc_position": {},
   "toc_section_display": true,
   "toc_window_display": false
  },
  "varInspector": {
   "cols": {
    "lenName": 16,
    "lenType": 16,
    "lenVar": 40
   },
   "kernels_config": {
    "python": {
     "delete_cmd_postfix": "",
     "delete_cmd_prefix": "del ",
     "library": "var_list.py",
     "varRefreshCmd": "print(var_dic_list())"
    },
    "r": {
     "delete_cmd_postfix": ") ",
     "delete_cmd_prefix": "rm(",
     "library": "var_list.r",
     "varRefreshCmd": "cat(var_dic_list()) "
    }
   },
   "types_to_exclude": [
    "module",
    "function",
    "builtin_function_or_method",
    "instance",
    "_Feature"
   ],
   "window_display": false
  }
 },
 "nbformat": 4,
 "nbformat_minor": 4
}
