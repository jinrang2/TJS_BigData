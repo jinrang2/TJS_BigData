{
 "cells": [
  {
   "cell_type": "code",
   "execution_count": 1,
   "metadata": {},
   "outputs": [
    {
     "data": {
      "text/html": [
       "\n",
       "<style>\n",
       "div.container{width:100% !important;}\n",
       "div.CodeMirror {font-family:Consolas; font-size:17pt;}\n",
       "div.output {font-size:17pt; font-weight:bold;}\n",
       "div.input {font-family:Consolas; font-size:17pt;}\n",
       "div.prompt {min-width:70px;}\n",
       "</style>\n"
      ],
      "text/plain": [
       "<IPython.core.display.HTML object>"
      ]
     },
     "metadata": {},
     "output_type": "display_data"
    }
   ],
   "source": [
    "from IPython.display import display, HTML\n",
    "display(HTML(\"\"\"\n",
    "<style>\n",
    "div.container{width:100% !important;}\n",
    "div.CodeMirror {font-family:Consolas; font-size:17pt;}\n",
    "div.output {font-size:17pt; font-weight:bold;}\n",
    "div.input {font-family:Consolas; font-size:17pt;}\n",
    "div.prompt {min-width:70px;}\n",
    "</style>\n",
    "\"\"\"))"
   ]
  },
  {
   "cell_type": "markdown",
   "metadata": {},
   "source": [
    "# 4절. 포맷팅"
   ]
  },
  {
   "cell_type": "markdown",
   "metadata": {},
   "source": [
    "- 포맷팅이란 출력할 문자, 숫자, 날짜 데이터에 형식을 지정하는 것\n",
    "- 변수와 텍스트를 결합해서 보기 좋은 형식의 새로운 텍스트를 만들때 사용"
   ]
  },
  {
   "cell_type": "markdown",
   "metadata": {},
   "source": [
    "## 4.1 문자열에 형식 지정"
   ]
  },
  {
   "cell_type": "code",
   "execution_count": 6,
   "metadata": {},
   "outputs": [
    {
     "name": "stdout",
     "output_type": "stream",
     "text": [
      "홍길동님의 나이는 30살입니다\n"
     ]
    }
   ],
   "source": [
    "name = \"홍길동\"\n",
    "age = 30\n",
    "print(name, '님의 나이는 ', age, '살입니다', sep='')\n",
    "# 변수와 텍스트를 번갈아 사용해서 형식을 지정하는 것은 가독성이 떨어지고 코드를 작성하기 불편."
   ]
  },
  {
   "cell_type": "code",
   "execution_count": 10,
   "metadata": {},
   "outputs": [
    {
     "data": {
      "text/plain": [
       "'홍길동님의 나이는 30살입니다'"
      ]
     },
     "execution_count": 10,
     "metadata": {},
     "output_type": "execute_result"
    }
   ],
   "source": [
    "# 이전 스타일\n",
    "# %s문자열, %c문자, %d정수(10진수), %f실수, %x 16진수, %o8진수, %% 문자%\n",
    "\"%s님의 나이는 %d살입니다\"%(name, age)"
   ]
  },
  {
   "cell_type": "code",
   "execution_count": 14,
   "metadata": {},
   "outputs": [
    {
     "data": {
      "text/plain": [
       "'홍길동님의 나이는 30살입니다'"
      ]
     },
     "execution_count": 14,
     "metadata": {},
     "output_type": "execute_result"
    }
   ],
   "source": [
    "# 새로운 스타일\n",
    "\"{}님의 나이는 {}살입니다\".format(name, age)"
   ]
  },
  {
   "cell_type": "code",
   "execution_count": 13,
   "metadata": {},
   "outputs": [
    {
     "data": {
      "text/plain": [
       "'홍길동님의 나이는 30살입니다'"
      ]
     },
     "execution_count": 13,
     "metadata": {},
     "output_type": "execute_result"
    }
   ],
   "source": [
    "\"{1}님의 나이는 {0}살입니다\".format(age, name)"
   ]
  },
  {
   "cell_type": "markdown",
   "metadata": {},
   "source": [
    "## 4.2 format()함수 문법"
   ]
  },
  {
   "cell_type": "markdown",
   "metadata": {},
   "source": [
    "<font size=\"6\">'{[인덱스]:[공백대체문자][정렬방법][자릿수][타입]}'.format(변수명)</font>"
   ]
  },
  {
   "cell_type": "code",
   "execution_count": 15,
   "metadata": {},
   "outputs": [],
   "source": [
    "# 인덱스 : 출력할 인수의 인덱스(순서)\n",
    "# 정렬방법 : <기호는 왼쪽정렬, >기호는 오른쪽정렬, ^기호는 가운데 정렬\n",
    "# 자릿수 : 출력할 자릿수 지정. 변수보다 적은 자릿수가 지정될 경우 무시되고 변수가 다 출력.\n",
    "# 타입 : d는 10진수, f는 실수, s는 문자, b는 2진수, o는 8진수, x는 16진수"
   ]
  },
  {
   "cell_type": "code",
   "execution_count": 16,
   "metadata": {},
   "outputs": [
    {
     "name": "stdout",
     "output_type": "stream",
     "text": [
      "이름은 ?홍길동\n",
      "나이는 ?18\n",
      "홍길동님의 나이는 18입니다\n",
      "홍길동님의 나이는 18입니다\n"
     ]
    }
   ],
   "source": [
    "name = input('이름은 ?')\n",
    "age = int(input('나이는 ?'))\n",
    "print(\"{}님의 나이는 {}입니다\".format(name, age))\n",
    "print(\"{1}님의 나이는 {0}입니다\".format(age, name)) # 인덱스는 순서지정"
   ]
  },
  {
   "cell_type": "code",
   "execution_count": 19,
   "metadata": {},
   "outputs": [
    {
     "name": "stdout",
     "output_type": "stream",
     "text": [
      "18살 홍길동님은 18살이 참 좋은 걸 알려나\n"
     ]
    }
   ],
   "source": [
    "print(\"{0}살 {1}님은 {0}살이 참 좋은 걸 알려나\".format(age, name))"
   ]
  },
  {
   "cell_type": "code",
   "execution_count": 22,
   "metadata": {},
   "outputs": [
    {
     "ename": "IndexError",
     "evalue": "Replacement index 2 out of range for positional args tuple",
     "output_type": "error",
     "traceback": [
      "\u001b[1;31m----------------------------------------------------------------\u001b[0m",
      "\u001b[1;31mIndexError\u001b[0m                     Traceback (most recent call last)",
      "\u001b[1;32m<ipython-input-22-9c84a086840f>\u001b[0m in \u001b[0;36m<module>\u001b[1;34m\u001b[0m\n\u001b[0;32m      1\u001b[0m \u001b[1;31m# {}만 쓸 경우 변수의 수와 갯수가 작으면 오류\u001b[0m\u001b[1;33m\u001b[0m\u001b[1;33m\u001b[0m\u001b[1;33m\u001b[0m\u001b[0m\n\u001b[0;32m      2\u001b[0m \u001b[0ma\u001b[0m\u001b[1;33m,\u001b[0m \u001b[0mb\u001b[0m \u001b[1;33m=\u001b[0m \u001b[1;36m10\u001b[0m\u001b[1;33m,\u001b[0m \u001b[1;36m20\u001b[0m\u001b[1;33m\u001b[0m\u001b[1;33m\u001b[0m\u001b[0m\n\u001b[1;32m----> 3\u001b[1;33m \u001b[0mprint\u001b[0m\u001b[1;33m(\u001b[0m\u001b[1;34m\"출력 : {}, {}, {}\"\u001b[0m\u001b[1;33m.\u001b[0m\u001b[0mformat\u001b[0m\u001b[1;33m(\u001b[0m\u001b[0ma\u001b[0m\u001b[1;33m,\u001b[0m \u001b[0mb\u001b[0m\u001b[1;33m)\u001b[0m\u001b[1;33m)\u001b[0m\u001b[1;33m\u001b[0m\u001b[1;33m\u001b[0m\u001b[0m\n\u001b[0m",
      "\u001b[1;31mIndexError\u001b[0m: Replacement index 2 out of range for positional args tuple"
     ]
    }
   ],
   "source": [
    "# {}만 쓸 경우 변수의 수와 갯수가 작으면 오류\n",
    "a, b = 10, 20\n",
    "print(\"출력 : {}, {}, {}\".format(a, b))"
   ]
  },
  {
   "cell_type": "code",
   "execution_count": 27,
   "metadata": {},
   "outputs": [
    {
     "name": "stdout",
     "output_type": "stream",
     "text": [
      "출력 : [12345], [     12345], [12345]\n",
      "출력 : [Hello], [Hello     ], [Hello]\n"
     ]
    }
   ],
   "source": [
    "# 숫자의 경우 출력할 변수보다 큰 자릿수를 지정하면 오른쪽 정렬(기본값)\n",
    "# 문자의 경우 출력할 변수보다 큰 자릿수를 지정하면 왼쪽 정렬(기본값)\n",
    "# 변수보다 작은 자리수를 지정하면 자리수 지정이 무시되고 다 출력\n",
    "a = 12345\n",
    "s = \"Hello\"\n",
    "print(\"출력 : [{}], [{:10}], [{:3}]\".format(a, a, a))\n",
    "print(\"출력 : [{}], [{:10}], [{:3}]\".format(s, s, s))"
   ]
  },
  {
   "cell_type": "code",
   "execution_count": 30,
   "metadata": {},
   "outputs": [
    {
     "name": "stdout",
     "output_type": "stream",
     "text": [
      "출력\n",
      "10진수 - 12345, 실수 - 12345.0, \n",
      "2진수 - 11000000111001, 8진수 - 30071, 16진수 - 3039\n"
     ]
    }
   ],
   "source": [
    "a = 12345 # 숫자의 경우 다양한 진수로 표현\n",
    "print(\"\"\"출력\n",
    "10진수 - {:d}, 실수 - {:7.1f}, \n",
    "2진수 - {:b}, 8진수 - {:o}, 16진수 - {:x}\"\"\".\\\n",
    "      format(a,a,a,a,a))"
   ]
  },
  {
   "cell_type": "code",
   "execution_count": 32,
   "metadata": {},
   "outputs": [
    {
     "name": "stdout",
     "output_type": "stream",
     "text": [
      "출력 : [    10], [20    ], [  3   ]\n"
     ]
    }
   ],
   "source": [
    "# 정렬방법 < > ^(정확하게 가운데가 안되면 하나 왼쪽)\n",
    "# {[인덱스]:[공백대체문자][정렬방법][자릿수][타입]}'.format(변수명)\n",
    "a, b, c = 10, 20, 3\n",
    "print(\"출력 : [{:>6d}], [{:<6d}], [{:^6}]\".format(a, b, c))"
   ]
  },
  {
   "cell_type": "code",
   "execution_count": 33,
   "metadata": {},
   "outputs": [
    {
     "name": "stdout",
     "output_type": "stream",
     "text": [
      "출력 : [$$$$$$$$10], [Hello***************], [Hel_______]\n"
     ]
    }
   ],
   "source": [
    "# 인덱스:공백대체문자 정렬방법 자릿수 타입\n",
    "a = 10\n",
    "s = \"Hello\"\n",
    "print(\"출력 : [{0:$>10}], [{1:*<20}], [{1:_<10.3}]\".format(a, s))\n",
    "                                # 10.3 : 전체 10자리 확보, 변수는 3자리만 출력"
   ]
  },
  {
   "cell_type": "code",
   "execution_count": 34,
   "metadata": {},
   "outputs": [
    {
     "ename": "ValueError",
     "evalue": "Invalid format specifier",
     "output_type": "error",
     "traceback": [
      "\u001b[1;31m----------------------------------------------------------------\u001b[0m",
      "\u001b[1;31mValueError\u001b[0m                     Traceback (most recent call last)",
      "\u001b[1;32m<ipython-input-34-9bcbe4e597e3>\u001b[0m in \u001b[0;36m<module>\u001b[1;34m\u001b[0m\n\u001b[0;32m      1\u001b[0m \u001b[1;31m# 주의점 : 공백대체문자를 지정할때는 반드시 정렬방법, 자릿수를 표현해야 한다.\u001b[0m\u001b[1;33m\u001b[0m\u001b[1;33m\u001b[0m\u001b[1;33m\u001b[0m\u001b[0m\n\u001b[1;32m----> 2\u001b[1;33m \u001b[0mprint\u001b[0m\u001b[1;33m(\u001b[0m\u001b[1;34m\"{0:$10} / {1:*20}\"\u001b[0m\u001b[1;33m.\u001b[0m\u001b[0mformat\u001b[0m\u001b[1;33m(\u001b[0m\u001b[0ma\u001b[0m\u001b[1;33m,\u001b[0m \u001b[0ms\u001b[0m\u001b[1;33m)\u001b[0m\u001b[1;33m)\u001b[0m\u001b[1;33m\u001b[0m\u001b[1;33m\u001b[0m\u001b[0m\n\u001b[0m",
      "\u001b[1;31mValueError\u001b[0m: Invalid format specifier"
     ]
    }
   ],
   "source": [
    "# 주의점 : 공백대체문자를 지정할때는 반드시 정렬방법를 표현해야 한다.\n",
    "print(\"{0:$10} / {1:*20}\".format(a, s))"
   ]
  },
  {
   "cell_type": "code",
   "execution_count": 42,
   "metadata": {},
   "outputs": [
    {
     "name": "stdout",
     "output_type": "stream",
     "text": [
      "출력 : [      -123] [      +123] [      +123]\n",
      "출력 : [-      123] [       123] [       123]\n",
      "출력 : [-      123] [+      123] [+      123]\n",
      "출력 : [-      123] [+      123] [+000000123]\n",
      "출력 : [-******123] [+$$$$$$123] [+______123]\n"
     ]
    }
   ],
   "source": [
    "# +를 붙이면 양수의 경우 숫자앞에 부호를 붙여줌\n",
    "# =를 붙이면 전체 자릿수만큼 출력하는 문자의 맨 앞에 부호 표시(양수는 부호나타나지 않음)\n",
    "# =+를 사용하면 =도 표시\n",
    "# 자리수앞에 0을 채우면 빈자리에 0을 채워\n",
    "# 공백대체문자는 =앞에\n",
    "# 공백대체문자와 자리수 앞에 0을 붙이는 것을 같이 자리수앞에 0이 무시\n",
    "  # (공백대체문자와 자리수 앞 0은 공백대체문자가 우선순위가 높음)\n",
    "a, b = 123, -123\n",
    "print(\"출력 : [{:+10}] [{:+10}] [{:+10}]\".format(b, a, a))\n",
    "print(\"출력 : [{:=10}] [{:=10}] [{:=10}]\".format(b, a, a))\n",
    "print(\"출력 : [{:=+10}] [{:=+10}] [{:=+10}]\".format(b, a, a))\n",
    "print(\"출력 : [{:=+10}] [{:=+10}] [{:=+010}]\".format(b, a, a))\n",
    "\n",
    "print(\"출력 : [{:*=+10}] [{:$=+10}] [{:_=+010}]\".format(b, a, a))"
   ]
  },
  {
   "cell_type": "code",
   "execution_count": 54,
   "metadata": {},
   "outputs": [
    {
     "name": "stdout",
     "output_type": "stream",
     "text": [
      "    [0123456789]\n",
      "a = [       2.8]\n",
      "s = [        He]\n"
     ]
    }
   ],
   "source": [
    "# 전체자리수.표현될자리수\n",
    "a = 2.785\n",
    "s = \"Hello\"\n",
    "print(\"    [0123456789]\")\n",
    "print(\"a = [{:>10.2}]\".format(a))\n",
    "print(\"s = [{:>10.2}]\".format(s))"
   ]
  },
  {
   "cell_type": "code",
   "execution_count": 55,
   "metadata": {},
   "outputs": [
    {
     "name": "stdout",
     "output_type": "stream",
     "text": [
      "a = [ 2.8]\n"
     ]
    }
   ],
   "source": [
    "# 전체자리수.소수점자리수f  (전체자리수에는 소수점 포함)\n",
    "print(\"a = [{:4.1f}]\".format(a)) # _ _ . _"
   ]
  },
  {
   "cell_type": "code",
   "execution_count": 57,
   "metadata": {},
   "outputs": [
    {
     "name": "stdout",
     "output_type": "stream",
     "text": [
      "출력 : [0123456789]\n",
      "출력 : [      2.79]\n",
      "출력 : [      2.79]\n"
     ]
    }
   ],
   "source": [
    "# format함수의 매개변수에 출력포맷\n",
    "a = 2.785\n",
    "print(\"출력 : [0123456789]\")\n",
    "print(\"출력 : [{:>10.3}]\".format(a))\n",
    "print(\"출력 : [{:{}{}.{}}]\".format(a, '>', 10, 3))"
   ]
  },
  {
   "cell_type": "code",
   "execution_count": 58,
   "metadata": {},
   "outputs": [
    {
     "name": "stdout",
     "output_type": "stream",
     "text": [
      "출력 : [0123456789]\n",
      "출력 : [     +2.79]\n",
      "출력 : [     +2.79]\n"
     ]
    }
   ],
   "source": [
    "a = 2.785\n",
    "print(\"출력 : [0123456789]\")\n",
    "print(\"출력 : [{:>+10.3}]\".format(a))\n",
    "print(\"출력 : [{:{}{}{}.{}}]\".format(a, '>','+', 10, 3))"
   ]
  },
  {
   "cell_type": "code",
   "execution_count": 59,
   "metadata": {},
   "outputs": [
    {
     "name": "stdout",
     "output_type": "stream",
     "text": [
      "출력 : [0123456789]\n",
      "출력 : [     +2.79]\n",
      "출력 : [     +2.79]\n"
     ]
    }
   ],
   "source": [
    "# 가독성을 높이고자 포맷인자에 이름을 부여\n",
    "a = 2.785\n",
    "print(\"출력 : [0123456789]\")\n",
    "print(\"출력 : [{:>+10.3}]\".format(a))\n",
    "print(\"출력 : [{:{dir}{sign}{width}.{precision}}]\".format(a, \n",
    "                dir='>',sign='+', width=10, precision=3))"
   ]
  },
  {
   "cell_type": "code",
   "execution_count": 67,
   "metadata": {},
   "outputs": [
    {
     "name": "stdout",
     "output_type": "stream",
     "text": [
      "10진수 : [      15]\n",
      " 2진수 : [00001111]\n",
      " 8진수 : [00000017]\n",
      "16진수 : [0f]\n"
     ]
    }
   ],
   "source": [
    "a = 15\n",
    "print(\"10진수 : [{:8d}]\".format(a))\n",
    "print(\" 2진수 : [{:08b}]\".format(a))\n",
    "print(\" 8진수 : [{:08o}]\".format(a))\n",
    "print(\"16진수 : [{:02x}]\".format(a))"
   ]
  },
  {
   "cell_type": "markdown",
   "metadata": {},
   "source": [
    "## 4.3 날짜 출력"
   ]
  },
  {
   "cell_type": "code",
   "execution_count": 69,
   "metadata": {},
   "outputs": [
    {
     "data": {
      "text/plain": [
       "time.struct_time(tm_year=2021, tm_mon=2, tm_mday=22, tm_hour=11, tm_min=19, tm_sec=28, tm_wday=0, tm_yday=53, tm_isdst=0)"
      ]
     },
     "execution_count": 69,
     "metadata": {},
     "output_type": "execute_result"
    }
   ],
   "source": [
    "# %Y는 연도4자리, %y는 연도2자리, %m은 월, %d는 일\n",
    "# %H는 24시간, %I는 12시간, %p는 PM또는AM, %M은 분, %S는 초를 의미\n",
    "from time import localtime # time 패키지에서 localtime라는 함수 사용\n",
    "now = localtime()\n",
    "now # 현재 날짜와 시간"
   ]
  },
  {
   "cell_type": "code",
   "execution_count": 72,
   "metadata": {},
   "outputs": [
    {
     "name": "stdout",
     "output_type": "stream",
     "text": [
      "2021년 02월 22일 11:19:28\n",
      "2021년 02월 22일 AM 11:19:28\n"
     ]
    }
   ],
   "source": [
    "# 날짜를 문자열로 출력하기 위해 format보다 strftime()함수 이용\n",
    "from time import strftime \n",
    "print(strftime(\"%Y년 %m월 %d일 %H:%M:%S\", now))\n",
    "print(strftime(\"%Y년 %m월 %d일 %p %I:%M:%S\", now))"
   ]
  },
  {
   "cell_type": "code",
   "execution_count": 77,
   "metadata": {},
   "outputs": [
    {
     "data": {
      "text/plain": [
       "datetime.datetime(2021, 4, 30, 18, 20)"
      ]
     },
     "execution_count": 77,
     "metadata": {},
     "output_type": "execute_result"
    }
   ],
   "source": [
    "# format함수 이용\n",
    "from datetime import datetime\n",
    "thatday = datetime(2021, 4, 30, 18, 20, 0)\n",
    "thatday"
   ]
  },
  {
   "cell_type": "code",
   "execution_count": 83,
   "metadata": {},
   "outputs": [
    {
     "name": "stdout",
     "output_type": "stream",
     "text": [
      "2021 - 04 - 30 18:20:00\n"
     ]
    }
   ],
   "source": [
    "print(\"{:%Y - %m - %d %H:%M:%S}\".format(thatday))"
   ]
  },
  {
   "cell_type": "code",
   "execution_count": 84,
   "metadata": {},
   "outputs": [
    {
     "name": "stdout",
     "output_type": "stream",
     "text": [
      "2021 - 04 - 30 PM 06:20:00\n"
     ]
    }
   ],
   "source": [
    "print(\"{:%Y - %m - %d %p %I:%M:%S}\".format(thatday))"
   ]
  },
  {
   "cell_type": "code",
   "execution_count": 87,
   "metadata": {},
   "outputs": [
    {
     "name": "stdout",
     "output_type": "stream",
     "text": [
      "Hello, 홍길동. You are 30 years old\n",
      "Hello, 홍길동. You are 30 years old\n",
      "Hello, 홍길동. You are 30 years old\n"
     ]
    }
   ],
   "source": [
    "name = \"홍길동\"\n",
    "age = 30\n",
    "print(f\"Hello, {name}. You are {age} years old\")\n",
    "print(\"Hello, %s. You are %d years old\" % (name, age))\n",
    "print(\"Hello, {}. You are {} years old\".format(name, age))"
   ]
  },
  {
   "cell_type": "markdown",
   "metadata": {},
   "source": [
    "# 5절. 연산자"
   ]
  },
  {
   "cell_type": "markdown",
   "metadata": {},
   "source": [
    "## 5.1 산술연산자"
   ]
  },
  {
   "cell_type": "code",
   "execution_count": 88,
   "metadata": {},
   "outputs": [
    {
     "name": "stdout",
     "output_type": "stream",
     "text": [
      "1000\n",
      "3\n",
      "3.3333333333333335\n",
      "3.0\n"
     ]
    }
   ],
   "source": [
    "a = 10\n",
    "print(a ** 3) # a의 3제곱\n",
    "print(a // 3) # a 나누기 3의 몫\n",
    "print(a/3)    # 3.3333333\n",
    "print(9/3)    # 3.0 (파이썬에서 /연산의 결과는 실수)"
   ]
  },
  {
   "cell_type": "code",
   "execution_count": 91,
   "metadata": {},
   "outputs": [
    {
     "name": "stdout",
     "output_type": "stream",
     "text": [
      "1.0\n"
     ]
    }
   ],
   "source": [
    "print(10.0 % 3.0) # 실수끼리 나머지 연산"
   ]
  },
  {
   "cell_type": "code",
   "execution_count": 92,
   "metadata": {},
   "outputs": [
    {
     "name": "stdout",
     "output_type": "stream",
     "text": [
      "0.19999999999999996\n"
     ]
    }
   ],
   "source": [
    "print(3.8 % 1.2) # 실수끼리 나머지 연산시 결과가 다소 오차가 존재할 수 있음"
   ]
  },
  {
   "cell_type": "markdown",
   "metadata": {},
   "source": [
    "## 5.2 대입(할당)연산자\n",
    "- = += -= //= /= %="
   ]
  },
  {
   "cell_type": "code",
   "execution_count": 95,
   "metadata": {},
   "outputs": [
    {
     "data": {
      "text/plain": [
       "5"
      ]
     },
     "execution_count": 95,
     "metadata": {},
     "output_type": "execute_result"
    }
   ],
   "source": [
    "a = 10\n",
    "a //= 2 # a = a//2\n",
    "a"
   ]
  },
  {
   "cell_type": "markdown",
   "metadata": {},
   "source": [
    "## 5.3 논리연산자\n",
    " - &, |, not, and, or"
   ]
  },
  {
   "cell_type": "code",
   "execution_count": 100,
   "metadata": {},
   "outputs": [
    {
     "name": "stdout",
     "output_type": "stream",
     "text": [
      "True\n",
      "0\n",
      "True\n"
     ]
    }
   ],
   "source": [
    "print((10>3) & (10>5)) # 논리연산자 True & True\n",
    "print(12 & 1)          # 비트연산   1100 & 0001\n",
    "print(5 < 8 < 10 < 100)      # 논리연산자를 삼항, 사항, .. 가능"
   ]
  },
  {
   "cell_type": "code",
   "execution_count": 101,
   "metadata": {},
   "outputs": [
    {
     "name": "stdout",
     "output_type": "stream",
     "text": [
      "False\n"
     ]
    }
   ],
   "source": [
    "print(10>3 & 10>5) # 연산자 우선 순위 : 비트연산자가 논리비교연산보다 높다\n",
    "#        0011 & 1010 = 0010 (2)  \n",
    "# print(10 > 2 > 5 )"
   ]
  },
  {
   "cell_type": "code",
   "execution_count": 104,
   "metadata": {},
   "outputs": [
    {
     "name": "stdout",
     "output_type": "stream",
     "text": [
      "빈스트링은 False인가\n"
     ]
    }
   ],
   "source": [
    "# ''(빈스트링)은 False로 그외는 True\n",
    "if '':\n",
    "    print('빈스트링은 True인가')\n",
    "else:\n",
    "    print('빈스트링은 False인가')"
   ]
  },
  {
   "cell_type": "code",
   "execution_count": 106,
   "metadata": {},
   "outputs": [
    {
     "ename": "TypeError",
     "evalue": "unsupported operand type(s) for |: 'bool' and 'str'",
     "output_type": "error",
     "traceback": [
      "\u001b[1;31m----------------------------------------------------------------\u001b[0m",
      "\u001b[1;31mTypeError\u001b[0m                      Traceback (most recent call last)",
      "\u001b[1;32m<ipython-input-106-720a0f9399ef>\u001b[0m in \u001b[0;36m<module>\u001b[1;34m\u001b[0m\n\u001b[0;32m      1\u001b[0m \u001b[1;31m# 논리연산자에 문자열이 오면 에러\u001b[0m\u001b[1;33m\u001b[0m\u001b[1;33m\u001b[0m\u001b[1;33m\u001b[0m\u001b[0m\n\u001b[1;32m----> 2\u001b[1;33m \u001b[1;32mTrue\u001b[0m \u001b[1;33m|\u001b[0m \u001b[1;34m''\u001b[0m\u001b[1;33m\u001b[0m\u001b[1;33m\u001b[0m\u001b[0m\n\u001b[0m",
      "\u001b[1;31mTypeError\u001b[0m: unsupported operand type(s) for |: 'bool' and 'str'"
     ]
    }
   ],
   "source": [
    "# 논리연산자에 문자열이 오면 에러\n",
    "True | ''"
   ]
  },
  {
   "cell_type": "code",
   "execution_count": 107,
   "metadata": {},
   "outputs": [
    {
     "data": {
      "text/plain": [
       "True"
      ]
     },
     "execution_count": 107,
     "metadata": {},
     "output_type": "execute_result"
    }
   ],
   "source": [
    "True | bool('')"
   ]
  },
  {
   "cell_type": "code",
   "execution_count": 108,
   "metadata": {},
   "outputs": [
    {
     "name": "stdout",
     "output_type": "stream",
     "text": [
      " C 드라이브의 볼륨에는 이름이 없습니다.\n",
      " 볼륨 일련 번호: 0A69-0FE9\n",
      "\n",
      " C:\\big\\src\\08_python 디렉터리\n",
      "\n",
      "2021-02-22  오후 12:00    <DIR>          .\n",
      "2021-02-22  오후 12:00    <DIR>          ..\n",
      "2021-02-22  오전 09:40    <DIR>          .ipynb_checkpoints\n",
      "2021-02-19  오후 06:20           573,233 ch01_파이썬 개요 및 개발환경 구성.html\n",
      "2021-02-19  오후 06:16             3,889 ch01_파이썬 개요 및 개발환경 구성.ipynb\n",
      "2021-02-19  오후 06:19           647,812 ch02_1절_변수, 2절_화면, 3절_기본자료형.html\n",
      "2021-02-19  오후 06:20            33,302 ch02_1절_변수, 2절_화면, 3절_기본자료형.ipynb\n",
      "2021-02-22  오후 12:00            24,450 ch02_4절format_5절연산자.ipynb\n",
      "2021-02-19  오후 02:53               213 ex.py\n",
      "               6개 파일           1,282,899 바이트\n",
      "               3개 디렉터리  903,200,739,328 바이트 남음\n"
     ]
    }
   ],
   "source": [
    "# 주피터노트북에서 !는 명령행을 실행시킬 수 있음\n",
    "!dir"
   ]
  },
  {
   "cell_type": "code",
   "execution_count": 109,
   "metadata": {},
   "outputs": [],
   "source": [
    "# 논리의 반전은 ! 아니가 not"
   ]
  },
  {
   "cell_type": "code",
   "execution_count": 110,
   "metadata": {},
   "outputs": [
    {
     "data": {
      "text/plain": [
       "False"
      ]
     },
     "execution_count": 110,
     "metadata": {},
     "output_type": "execute_result"
    }
   ],
   "source": [
    "not True"
   ]
  },
  {
   "cell_type": "code",
   "execution_count": 111,
   "metadata": {},
   "outputs": [
    {
     "data": {
      "text/plain": [
       "True"
      ]
     },
     "execution_count": 111,
     "metadata": {},
     "output_type": "execute_result"
    }
   ],
   "source": [
    "not 0 # 0은 False. 그 외 숫자는 True"
   ]
  },
  {
   "cell_type": "code",
   "execution_count": 112,
   "metadata": {},
   "outputs": [
    {
     "data": {
      "text/plain": [
       "False"
      ]
     },
     "execution_count": 112,
     "metadata": {},
     "output_type": "execute_result"
    }
   ],
   "source": [
    "not -999"
   ]
  },
  {
   "cell_type": "code",
   "execution_count": 113,
   "metadata": {},
   "outputs": [
    {
     "name": "stdout",
     "output_type": "stream",
     "text": [
      "False\n"
     ]
    }
   ],
   "source": [
    "a = False\n",
    "if not a:\n",
    "    print(a)"
   ]
  },
  {
   "cell_type": "code",
   "execution_count": 114,
   "metadata": {},
   "outputs": [
    {
     "name": "stdout",
     "output_type": "stream",
     "text": [
      "두수는 다르다\n"
     ]
    }
   ],
   "source": [
    "a, b = 15, 16\n",
    "if a != b :\n",
    "    print('두수는 다르다')"
   ]
  },
  {
   "cell_type": "code",
   "execution_count": 116,
   "metadata": {},
   "outputs": [
    {
     "name": "stdout",
     "output_type": "stream",
     "text": [
      "True\n"
     ]
    }
   ],
   "source": [
    "# and 연산자 : 거짓으로 판별되는 첫번째 항의 결과가 반환\n",
    "#             모든 항이 참이면 마지막 항의 결과 반환\n",
    "print(True and 3 and True)"
   ]
  },
  {
   "cell_type": "code",
   "execution_count": 117,
   "metadata": {},
   "outputs": [
    {
     "name": "stdout",
     "output_type": "stream",
     "text": [
      "2\n"
     ]
    }
   ],
   "source": [
    "print(3 and 2)"
   ]
  },
  {
   "cell_type": "code",
   "execution_count": 120,
   "metadata": {},
   "outputs": [
    {
     "name": "stdout",
     "output_type": "stream",
     "text": [
      "0\n"
     ]
    }
   ],
   "source": [
    "print(3 and 5.4 and True and 0 and 'Python')"
   ]
  },
  {
   "cell_type": "code",
   "execution_count": 121,
   "metadata": {},
   "outputs": [
    {
     "name": "stdout",
     "output_type": "stream",
     "text": [
      "0\n"
     ]
    }
   ],
   "source": [
    "# or 연산자 : 참으로 판별되는 첫번째 항의 결과가 반환\n",
    "#             모든 항이 거짓이면 마지막 항의 결과 반환\n",
    "print('' or False or None or 0)"
   ]
  },
  {
   "cell_type": "code",
   "execution_count": 122,
   "metadata": {},
   "outputs": [
    {
     "name": "stdout",
     "output_type": "stream",
     "text": [
      "100\n"
     ]
    }
   ],
   "source": [
    "print('' or 100 or None or False)"
   ]
  },
  {
   "cell_type": "markdown",
   "metadata": {},
   "source": [
    "## 5.4 비교연산자\n",
    "<pre>\n",
    "-  > >= < <= == !=\n",
    "<pre>"
   ]
  },
  {
   "cell_type": "code",
   "execution_count": 124,
   "metadata": {},
   "outputs": [
    {
     "data": {
      "text/plain": [
       "False"
      ]
     },
     "execution_count": 124,
     "metadata": {},
     "output_type": "execute_result"
    }
   ],
   "source": [
    "# 문자는 ASCII 코드 순으로 비교 : 특수문자 < 숫자문자 < 대문자 < 소문자 < 한글\n",
    "'아' > '하' "
   ]
  },
  {
   "cell_type": "code",
   "execution_count": 126,
   "metadata": {},
   "outputs": [
    {
     "data": {
      "text/plain": [
       "True"
      ]
     },
     "execution_count": 126,
     "metadata": {},
     "output_type": "execute_result"
    }
   ],
   "source": [
    "'1' < 'a'"
   ]
  },
  {
   "cell_type": "code",
   "execution_count": 128,
   "metadata": {},
   "outputs": [
    {
     "data": {
      "text/plain": [
       "True"
      ]
     },
     "execution_count": 128,
     "metadata": {},
     "output_type": "execute_result"
    }
   ],
   "source": [
    "True > False # True는 1로 매핑, False는 0으로 매핑"
   ]
  },
  {
   "cell_type": "code",
   "execution_count": 129,
   "metadata": {},
   "outputs": [
    {
     "data": {
      "text/plain": [
       "(1, 0)"
      ]
     },
     "execution_count": 129,
     "metadata": {},
     "output_type": "execute_result"
    }
   ],
   "source": [
    "int(True), int(False)"
   ]
  },
  {
   "cell_type": "code",
   "execution_count": 130,
   "metadata": {},
   "outputs": [
    {
     "data": {
      "text/plain": [
       "(False, True)"
      ]
     },
     "execution_count": 130,
     "metadata": {},
     "output_type": "execute_result"
    }
   ],
   "source": [
    "bool(0), bool(-9)"
   ]
  },
  {
   "cell_type": "code",
   "execution_count": 133,
   "metadata": {},
   "outputs": [
    {
     "name": "stdout",
     "output_type": "stream",
     "text": [
      "점수를 입력하세요 >9\n",
      "불합격\n"
     ]
    }
   ],
   "source": [
    "jumsu = int(input('점수를 입력하세요 >')) # input함수는 문자로 반환\n",
    "if jumsu >= 60 :\n",
    "    print('합격')\n",
    "else:\n",
    "    print('불합격')"
   ]
  },
  {
   "cell_type": "code",
   "execution_count": 81,
   "metadata": {
    "ExecuteTime": {
     "end_time": "2021-02-22T03:47:00.583255Z",
     "start_time": "2021-02-22T03:47:00.579265Z"
    }
   },
   "outputs": [
    {
     "name": "stdout",
     "output_type": "stream",
     "text": [
      "00001111\n",
      "00000010\n"
     ]
    }
   ],
   "source": [
    "a=15 #0 ~ 1111\n",
    "b=2\n",
    "print(\"{:08b}\".format(a))\n",
    "print(\"{:08b}\".format(b))\n",
    "print(a&b)\n",
    "print(a&b)\n",
    "print(a&b)\n",
    "print(a&b)"
   ]
  },
  {
   "cell_type": "markdown",
   "metadata": {},
   "source": [
    "## 5.6 instance"
   ]
  },
  {
   "cell_type": "code",
   "execution_count": 105,
   "metadata": {
    "ExecuteTime": {
     "end_time": "2021-02-22T05:32:55.894421Z",
     "start_time": "2021-02-22T05:32:53.332762Z"
    }
   },
   "outputs": [
    {
     "name": "stdout",
     "output_type": "stream",
     "text": [
      "홍길동님의 나이는 23살입니다\n",
      "첫번째 수3\n",
      "두번째 수6\n",
      "3 + 6 = 9\n",
      "3 - 6 = -3\n",
      "3 * 6 = 18\n",
      "3 / 6 = 0.5\n",
      "3 // 6 = 0\n",
      "3 % 6 = 3\n"
     ]
    }
   ],
   "source": [
    "#8절 연습문제\n",
    "#1. 이름과 나이 변수를 다음 형식으로 출력하도록 format() 함수를 이용해 형식화하세요\n",
    "#[출력형식 : 홍길동님의 나이는 23살입니다]\n",
    "age = 23\n",
    "name='홍길동'\n",
    "print('{}님의 나이는 {}살입니다'.format(name,age))\n",
    "\n",
    "\n",
    "#2. 두 정수를 입력받아 두 수의 덧셈, 뺄셈, 곱셈, 나눗셈, 몫, 나머지를 출력하세요\n",
    "a = int(input('첫번째 수'))\n",
    "b = int(input('두번째 수'))\n",
    "\n",
    "print('{} + {} = {}'.format(a,b,a+b))\n",
    "print('{} - {} = {}'.format(a,b,a-b))\n",
    "print('{} * {} = {}'.format(a,b,a*b))\n",
    "print('{} / {} = {}'.format(a,b,a/b))\n",
    "print('{} // {} = {}'.format(a,b,a//b))\n",
    "print('{} % {} = {}'.format(a,b,a%b))\n"
   ]
  },
  {
   "cell_type": "code",
   "execution_count": 107,
   "metadata": {
    "ExecuteTime": {
     "end_time": "2021-02-22T05:39:44.085923Z",
     "start_time": "2021-02-22T05:39:42.068434Z"
    }
   },
   "outputs": [
    {
     "name": "stdout",
     "output_type": "stream",
     "text": [
      "World Hello\n",
      "bcdefa\n",
      "fedcba\n",
      "섭씨 입력10.2\n",
      "화씨 50.36\n"
     ]
    }
   ],
   "source": [
    "#3. 문자열의 분리하기와 합치기 기능을 이용하여 ‘Hello World’를 ‘World Hello’로 출력하\n",
    "#세요\n",
    "a = 'Hello World'\n",
    "b = a[0:5]\n",
    "c = a[6:11]\n",
    "print('{1} {0}'.format(b,c))\n",
    "\n",
    "#4. x = 'abcdef＇를 이용하여 ‘bcdefa’로 출력하세요(문자 슬라이싱이용).\n",
    "x = 'abcdef'\n",
    "\n",
    "print(x[1:]+x[0:1:])\n",
    "\n",
    "#5. x = ‘abcdef’를 이용하여 ‘fedcba’로 출력하세요\n",
    "print(x[::-1])\n",
    "\n",
    "\n",
    "#6. 오늘의 온도를 섭씨온도로 입력받아 화씨 온도로 변환하는 프로그램을 작성하세요. 화\n",
    "#씨 온도는 소수점 두번째 자리까지 출려되어야 합니다(다음은 섭씨와 화씨의 변환 공\n",
    "#식입니다. C는 섭씨, F는 화씨)\n",
    "#C = (F-32) / 1.8\n",
    "#F = (C*1.8) + 32\n",
    "\n",
    "c = float(input('섭씨 입력'))\n",
    "f = (c*1.8) + 32\n",
    "print('화씨 {}'.format(f))\n",
    "\n"
   ]
  },
  {
   "cell_type": "code",
   "execution_count": 113,
   "metadata": {
    "ExecuteTime": {
     "end_time": "2021-02-22T06:06:45.417439Z",
     "start_time": "2021-02-22T06:06:45.412453Z"
    }
   },
   "outputs": [
    {
     "data": {
      "text/plain": [
       "['Python', 'is', 'easy.', 'Python', 'is', 'smart.', 'python']"
      ]
     },
     "execution_count": 113,
     "metadata": {},
     "output_type": "execute_result"
    }
   ],
   "source": [
    "temp = 'Python is easy. Python is smart. python'\n",
    "temp.split()"
   ]
  },
  {
   "cell_type": "code",
   "execution_count": 142,
   "metadata": {
    "ExecuteTime": {
     "end_time": "2021-02-22T06:47:45.973067Z",
     "start_time": "2021-02-22T06:47:45.969076Z"
    }
   },
   "outputs": [
    {
     "name": "stdout",
     "output_type": "stream",
     "text": [
      "첫번째 글자는 P 마지막 글자는 n\n",
      "글자수: 39\n",
      "07:00:00\n"
     ]
    }
   ],
   "source": [
    "print('첫번째 글자는 {} 마지막 글자는 {}'.format(temp[0], temp[-1]))\n",
    "print('글자수:',len(temp))\n",
    "\n",
    "from datetime import time\n",
    "\n",
    "t= time(7)\n",
    "print(t)"
   ]
  },
  {
   "cell_type": "code",
   "execution_count": 120,
   "metadata": {
    "ExecuteTime": {
     "end_time": "2021-02-22T06:39:48.404463Z",
     "start_time": "2021-02-22T06:39:48.401464Z"
    }
   },
   "outputs": [
    {
     "name": "stdout",
     "output_type": "stream",
     "text": [
      "18:20:00\n"
     ]
    }
   ],
   "source": [
    "t2=time(18,20)\n",
    "print(t2)"
   ]
  },
  {
   "cell_type": "code",
   "execution_count": 124,
   "metadata": {
    "ExecuteTime": {
     "end_time": "2021-02-22T06:40:43.813203Z",
     "start_time": "2021-02-22T06:40:43.810210Z"
    }
   },
   "outputs": [
    {
     "name": "stdout",
     "output_type": "stream",
     "text": [
      "18:20:05\n"
     ]
    }
   ],
   "source": [
    "t3=time(18,20,5)\n",
    "print(t3)"
   ]
  },
  {
   "cell_type": "code",
   "execution_count": 126,
   "metadata": {
    "ExecuteTime": {
     "end_time": "2021-02-22T06:41:14.612774Z",
     "start_time": "2021-02-22T06:41:14.609781Z"
    }
   },
   "outputs": [
    {
     "name": "stdout",
     "output_type": "stream",
     "text": [
      "18:20:05.000100\n"
     ]
    }
   ],
   "source": [
    "t4 = time(18,20,5,100)\n",
    "print(t4)"
   ]
  },
  {
   "cell_type": "code",
   "execution_count": 132,
   "metadata": {
    "ExecuteTime": {
     "end_time": "2021-02-22T06:44:37.814987Z",
     "start_time": "2021-02-22T06:44:37.811000Z"
    }
   },
   "outputs": [
    {
     "name": "stdout",
     "output_type": "stream",
     "text": [
      "18:20:05.000100\n",
      "00:00:00.000100\n"
     ]
    }
   ],
   "source": [
    "t4 = time(hour = 18, minute=20, second=5, microsecond=100)\n",
    "print(t4)\n",
    "\n",
    "t5 = time(microsecond=100)\n",
    "print(t5)"
   ]
  },
  {
   "cell_type": "code",
   "execution_count": 134,
   "metadata": {
    "ExecuteTime": {
     "end_time": "2021-02-22T06:44:43.857577Z",
     "start_time": "2021-02-22T06:44:43.841928Z"
    }
   },
   "outputs": [
    {
     "name": "stdout",
     "output_type": "stream",
     "text": [
      "time.struct_time(tm_year=2021, tm_mon=2, tm_mday=22, tm_hour=11, tm_min=19, tm_sec=38, tm_wday=0, tm_yday=53, tm_isdst=0)\n"
     ]
    }
   ],
   "source": [
    "print(now)"
   ]
  },
  {
   "cell_type": "code",
   "execution_count": 165,
   "metadata": {
    "ExecuteTime": {
     "end_time": "2021-02-22T07:00:28.069066Z",
     "start_time": "2021-02-22T07:00:28.064101Z"
    }
   },
   "outputs": [
    {
     "name": "stdout",
     "output_type": "stream",
     "text": [
      "Hello\n",
      "World Hello\n"
     ]
    }
   ],
   "source": [
    "\n",
    "\n",
    "\n",
    "abc = 'Hello World'\n",
    "\n",
    "print(abc.split()[0])\n",
    "\n",
    "print('{1} {0}'.format(abc.split()[0],abc.split()[1]))\n",
    "\n",
    "\n",
    "\n",
    "\n"
   ]
  }
 ],
 "metadata": {
  "kernelspec": {
   "display_name": "Python 3",
   "language": "python",
   "name": "python3"
  },
  "language_info": {
   "codemirror_mode": {
    "name": "ipython",
    "version": 3
   },
   "file_extension": ".py",
   "mimetype": "text/x-python",
   "name": "python",
   "nbconvert_exporter": "python",
   "pygments_lexer": "ipython3",
   "version": "3.8.5"
  },
  "toc": {
   "base_numbering": 1,
   "nav_menu": {},
   "number_sections": false,
   "sideBar": true,
   "skip_h1_title": false,
   "title_cell": "Table of Contents",
   "title_sidebar": "Contents",
   "toc_cell": false,
   "toc_position": {
    "height": "calc(100% - 180px)",
    "left": "10px",
    "top": "150px",
    "width": "165px"
   },
   "toc_section_display": true,
   "toc_window_display": false
  },
  "varInspector": {
   "cols": {
    "lenName": 16,
    "lenType": 16,
    "lenVar": 40
   },
   "kernels_config": {
    "python": {
     "delete_cmd_postfix": "",
     "delete_cmd_prefix": "del ",
     "library": "var_list.py",
     "varRefreshCmd": "print(var_dic_list())"
    },
    "r": {
     "delete_cmd_postfix": ") ",
     "delete_cmd_prefix": "rm(",
     "library": "var_list.r",
     "varRefreshCmd": "cat(var_dic_list()) "
    }
   },
   "types_to_exclude": [
    "module",
    "function",
    "builtin_function_or_method",
    "instance",
    "_Feature"
   ],
   "window_display": false
  }
 },
 "nbformat": 4,
 "nbformat_minor": 4
}
