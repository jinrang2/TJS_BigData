{
 "cells": [
  {
   "cell_type": "code",
   "execution_count": 1,
   "metadata": {},
   "outputs": [
    {
     "data": {
      "text/html": [
       "\n",
       "<style>\n",
       "div.container{width:100% !important;}\n",
       "div.CodeMirror {font-family:Consolas; font-size:17pt;}\n",
       "div.output {font-size:17pt; font-weight:bold;}\n",
       "div.input {font-family:Consolas; font-size:17pt;}\n",
       "div.prompt {min-width:70px;}\n",
       "</style>\n"
      ],
      "text/plain": [
       "<IPython.core.display.HTML object>"
      ]
     },
     "metadata": {},
     "output_type": "display_data"
    }
   ],
   "source": [
    "from IPython.display import display, HTML\n",
    "display(HTML(\"\"\"\n",
    "<style>\n",
    "div.container{width:100% !important;}\n",
    "div.CodeMirror {font-family:Consolas; font-size:17pt;}\n",
    "div.output {font-size:17pt; font-weight:bold;}\n",
    "div.input {font-family:Consolas; font-size:17pt;}\n",
    "div.prompt {min-width:70px;}\n",
    "</style>\n",
    "\"\"\"))"
   ]
  },
  {
   "cell_type": "markdown",
   "metadata": {},
   "source": [
    "**<font size=\"6\" color=\"red\">ch05. 함수</font>**\n",
    "- 반복해서 사용한 코드를 묶어 놓고 그것에 이름을 붙인 것.\n",
    "- 반복해서 사용할 코드는 함수를 이용하면 훨씬 구조적이고 간결한 코드를 작성할 수 있다.\n",
    "- 함수의 정의\n",
    "<pre>\n",
    "def 함수명([param1, param2,...]):\n",
    "    expressions\n",
    "</pre>"
   ]
  },
  {
   "cell_type": "markdown",
   "metadata": {},
   "source": [
    "# 1절. 함수의 정의 및 사용"
   ]
  },
  {
   "cell_type": "code",
   "execution_count": 2,
   "metadata": {},
   "outputs": [],
   "source": [
    "def my_hello():\n",
    "    print('Hello, world')\n",
    "    print('Hello, Python')"
   ]
  },
  {
   "cell_type": "code",
   "execution_count": 3,
   "metadata": {},
   "outputs": [
    {
     "data": {
      "text/plain": [
       "<function __main__.my_hello()>"
      ]
     },
     "execution_count": 3,
     "metadata": {},
     "output_type": "execute_result"
    }
   ],
   "source": [
    "my_hello"
   ]
  },
  {
   "cell_type": "code",
   "execution_count": 7,
   "metadata": {},
   "outputs": [
    {
     "name": "stdout",
     "output_type": "stream",
     "text": [
      "Hello, world\n",
      "Hello, Python\n"
     ]
    }
   ],
   "source": [
    "if __name__== '__main__':\n",
    "    my_hello()"
   ]
  },
  {
   "cell_type": "code",
   "execution_count": 12,
   "metadata": {},
   "outputs": [
    {
     "name": "stdout",
     "output_type": "stream",
     "text": [
      "90\n",
      "50\n"
     ]
    }
   ],
   "source": [
    "def my_add(num1, num2, num3=0): # 기본값을 갖는 매개변수는 뒤에\n",
    "    return num1+num2+num3\n",
    "\n",
    "print(my_add(20,30,40))\n",
    "print(my_add(20,30))"
   ]
  },
  {
   "cell_type": "markdown",
   "metadata": {},
   "source": [
    "## 1.1docstring"
   ]
  },
  {
   "cell_type": "code",
   "execution_count": 17,
   "metadata": {},
   "outputs": [],
   "source": [
    "def my_function():\n",
    "    \"\"\"\n",
    "    함수의 첫 라인에 독스트링을 포함시킬 수 있다.\n",
    "    독스트링은 함수의 설명서를 달아주는 역할. 주석보다 더 많은 기능\n",
    "    \"\"\"\n",
    "    pass"
   ]
  },
  {
   "cell_type": "code",
   "execution_count": 18,
   "metadata": {},
   "outputs": [
    {
     "name": "stdout",
     "output_type": "stream",
     "text": [
      "\n",
      "    함수의 첫 라인에 독스트링을 포함시킬 수 있다.\n",
      "    독스트링은 함수의 설명서를 달아주는 역할. 주석보다 더 많은 기능\n",
      "    \n"
     ]
    }
   ],
   "source": [
    "print(my_function.__doc__)"
   ]
  },
  {
   "cell_type": "code",
   "execution_count": 19,
   "metadata": {},
   "outputs": [
    {
     "name": "stdout",
     "output_type": "stream",
     "text": [
      "0  1  1  2  3  5  8  \n"
     ]
    }
   ],
   "source": [
    "def fibonacci(n):\n",
    "    \"\"\"\n",
    "    매개변수로 들어온 n값 미만까지 피보나치 수열을 출력합니다.\n",
    "    \"\"\"\n",
    "    a, b = 0, 1\n",
    "    while a < n :\n",
    "        print(a, end='  ')\n",
    "        a, b = b, a+b\n",
    "    print()\n",
    "\n",
    "if __name__=='__main__':\n",
    "    fibonacci(10)"
   ]
  },
  {
   "cell_type": "markdown",
   "metadata": {},
   "source": [
    "## 1.2 지역변수와 전역변수"
   ]
  },
  {
   "cell_type": "code",
   "execution_count": 21,
   "metadata": {},
   "outputs": [
    {
     "name": "stdout",
     "output_type": "stream",
     "text": [
      "100\n"
     ]
    }
   ],
   "source": [
    "gobal_var = 100 # 전역변수\n",
    "def func1():\n",
    "    print(gobal_var)\n",
    "\n",
    "func1()"
   ]
  },
  {
   "cell_type": "code",
   "execution_count": 22,
   "metadata": {},
   "outputs": [
    {
     "name": "stdout",
     "output_type": "stream",
     "text": [
      "200\n"
     ]
    }
   ],
   "source": [
    "def func2():\n",
    "    local_var = 200\n",
    "    print(local_var)\n",
    "\n",
    "func2()"
   ]
  },
  {
   "cell_type": "code",
   "execution_count": 23,
   "metadata": {},
   "outputs": [
    {
     "ename": "NameError",
     "evalue": "name 'local_var' is not defined",
     "output_type": "error",
     "traceback": [
      "\u001b[1;31m-------------------------------------------------------\u001b[0m",
      "\u001b[1;31mNameError\u001b[0m             Traceback (most recent call last)",
      "\u001b[1;32m<ipython-input-23-8852b4c53ffd>\u001b[0m in \u001b[0;36m<module>\u001b[1;34m\u001b[0m\n\u001b[1;32m----> 1\u001b[1;33m \u001b[0mlocal_var\u001b[0m\u001b[1;33m\u001b[0m\u001b[1;33m\u001b[0m\u001b[0m\n\u001b[0m",
      "\u001b[1;31mNameError\u001b[0m: name 'local_var' is not defined"
     ]
    }
   ],
   "source": [
    "local_var"
   ]
  },
  {
   "cell_type": "code",
   "execution_count": 27,
   "metadata": {},
   "outputs": [
    {
     "ename": "UnboundLocalError",
     "evalue": "local variable 'g_var' referenced before assignment",
     "output_type": "error",
     "traceback": [
      "\u001b[1;31m-------------------------------------------------------\u001b[0m",
      "\u001b[1;31mUnboundLocalError\u001b[0m     Traceback (most recent call last)",
      "\u001b[1;32m<ipython-input-27-b1cbf8f99ccc>\u001b[0m in \u001b[0;36m<module>\u001b[1;34m\u001b[0m\n\u001b[0;32m      5\u001b[0m     \u001b[0mg_var\u001b[0m \u001b[1;33m=\u001b[0m \u001b[1;36m200\u001b[0m\u001b[1;33m\u001b[0m\u001b[1;33m\u001b[0m\u001b[0m\n\u001b[0;32m      6\u001b[0m     \u001b[0mprint\u001b[0m\u001b[1;33m(\u001b[0m\u001b[1;34m'after'\u001b[0m\u001b[1;33m,\u001b[0m \u001b[0mg_var\u001b[0m\u001b[1;33m)\u001b[0m\u001b[1;33m\u001b[0m\u001b[1;33m\u001b[0m\u001b[0m\n\u001b[1;32m----> 7\u001b[1;33m \u001b[0mfunc3\u001b[0m\u001b[1;33m(\u001b[0m\u001b[1;33m)\u001b[0m\u001b[1;33m\u001b[0m\u001b[1;33m\u001b[0m\u001b[0m\n\u001b[0m",
      "\u001b[1;32m<ipython-input-27-b1cbf8f99ccc>\u001b[0m in \u001b[0;36mfunc3\u001b[1;34m()\u001b[0m\n\u001b[0;32m      2\u001b[0m \u001b[0mg_var\u001b[0m \u001b[1;33m=\u001b[0m \u001b[1;36m100\u001b[0m\u001b[1;33m\u001b[0m\u001b[1;33m\u001b[0m\u001b[0m\n\u001b[0;32m      3\u001b[0m \u001b[1;32mdef\u001b[0m \u001b[0mfunc3\u001b[0m\u001b[1;33m(\u001b[0m\u001b[1;33m)\u001b[0m\u001b[1;33m:\u001b[0m\u001b[1;33m\u001b[0m\u001b[1;33m\u001b[0m\u001b[0m\n\u001b[1;32m----> 4\u001b[1;33m     \u001b[0mprint\u001b[0m\u001b[1;33m(\u001b[0m\u001b[1;34m'before'\u001b[0m\u001b[1;33m,\u001b[0m \u001b[0mg_var\u001b[0m\u001b[1;33m)\u001b[0m\u001b[1;33m\u001b[0m\u001b[1;33m\u001b[0m\u001b[0m\n\u001b[0m\u001b[0;32m      5\u001b[0m     \u001b[0mg_var\u001b[0m \u001b[1;33m=\u001b[0m \u001b[1;36m200\u001b[0m\u001b[1;33m\u001b[0m\u001b[1;33m\u001b[0m\u001b[0m\n\u001b[0;32m      6\u001b[0m     \u001b[0mprint\u001b[0m\u001b[1;33m(\u001b[0m\u001b[1;34m'after'\u001b[0m\u001b[1;33m,\u001b[0m \u001b[0mg_var\u001b[0m\u001b[1;33m)\u001b[0m\u001b[1;33m\u001b[0m\u001b[1;33m\u001b[0m\u001b[0m\n",
      "\u001b[1;31mUnboundLocalError\u001b[0m: local variable 'g_var' referenced before assignment"
     ]
    }
   ],
   "source": [
    "# 렉시컬 특성\n",
    "g_var = 100\n",
    "def func3():\n",
    "    print('before', g_var)\n",
    "    g_var = 200 # 지역변수를 선언하면서 할당\n",
    "    print('after', g_var)\n",
    "func3()"
   ]
  },
  {
   "cell_type": "code",
   "execution_count": 30,
   "metadata": {},
   "outputs": [
    {
     "name": "stdout",
     "output_type": "stream",
     "text": [
      "func3() 실행 전 100\n",
      "before 100\n",
      "after 200\n",
      "200\n"
     ]
    }
   ],
   "source": [
    "g_var = 100\n",
    "def func3():\n",
    "    global g_var # g_var변수는 전역변수를 쓸 거야\n",
    "    print('before', g_var)\n",
    "    g_var = 200  # 전역변수 g_var에 다시 값 할당\n",
    "    print('after', g_var)\n",
    "print('func3() 실행 전', g_var)\n",
    "func3()\n",
    "print(g_var)"
   ]
  },
  {
   "cell_type": "code",
   "execution_count": 31,
   "metadata": {},
   "outputs": [
    {
     "name": "stdout",
     "output_type": "stream",
     "text": [
      "func1() 실행 전 global_var값 100\n",
      "200\n",
      "func1() 실행 후 global_var값 100\n"
     ]
    }
   ],
   "source": [
    "global_var = 100\n",
    "def func1():\n",
    "    global_var = 200 # 지역변수 선언\n",
    "    print(global_var) # 지역변수\n",
    "print('func1() 실행 전 global_var값', global_var)\n",
    "func1()\n",
    "print('func1() 실행 후 global_var값', global_var)"
   ]
  },
  {
   "cell_type": "code",
   "execution_count": 33,
   "metadata": {},
   "outputs": [
    {
     "name": "stdout",
     "output_type": "stream",
     "text": [
      "func1() 실행 전 global_var값 100\n",
      "200\n",
      "func1() 실행 후 global_var값 200\n"
     ]
    }
   ],
   "source": [
    "global_var = 100\n",
    "def func1():\n",
    "    global global_var\n",
    "    global_var = 200 # 전역변수 선언\n",
    "    print(global_var) # 전역변수\n",
    "print('func1() 실행 전 global_var값', global_var)\n",
    "func1()\n",
    "print('func1() 실행 후 global_var값', global_var)"
   ]
  },
  {
   "cell_type": "markdown",
   "metadata": {},
   "source": [
    "## 1.3 값에 의한 호출\n",
    "- 함수에 인수로 전달되는 변수가 스칼라 변수(숫자, 문자, 논리)일 경우"
   ]
  },
  {
   "cell_type": "code",
   "execution_count": 34,
   "metadata": {},
   "outputs": [
    {
     "data": {
      "text/plain": [
       "1170529664752"
      ]
     },
     "execution_count": 34,
     "metadata": {},
     "output_type": "execute_result"
    }
   ],
   "source": [
    "foo = 'a' # 전역변수\n",
    "id(foo)"
   ]
  },
  {
   "cell_type": "code",
   "execution_count": 39,
   "metadata": {},
   "outputs": [
    {
     "name": "stdout",
     "output_type": "stream",
     "text": [
      "Before : a\n",
      "After : aaa 의 주소는 1170641101424\n"
     ]
    }
   ],
   "source": [
    "def func1(foo): # 매개변수는 지역변수\n",
    "    print('Before :', foo)\n",
    "    foo = foo * 3\n",
    "    print('After :', foo, '의 주소는', id(foo))\n",
    "func1(foo)"
   ]
  },
  {
   "cell_type": "code",
   "execution_count": 38,
   "metadata": {},
   "outputs": [
    {
     "name": "stdout",
     "output_type": "stream",
     "text": [
      "a 1170529664752\n"
     ]
    }
   ],
   "source": [
    "print(foo, id(foo)) # 전역변수"
   ]
  },
  {
   "cell_type": "markdown",
   "metadata": {},
   "source": [
    "## 1.4 참조에 의한 호출\n",
    "- 함수에 인수로 전달되는 변수가 리스트, 딕셔너리, 셋....일 경우"
   ]
  },
  {
   "cell_type": "code",
   "execution_count": 41,
   "metadata": {},
   "outputs": [
    {
     "data": {
      "text/plain": [
       "1170640970752"
      ]
     },
     "execution_count": 41,
     "metadata": {},
     "output_type": "execute_result"
    }
   ],
   "source": [
    "L = [1,2,3,4,5]\n",
    "id(L)"
   ]
  },
  {
   "cell_type": "code",
   "execution_count": 42,
   "metadata": {},
   "outputs": [
    {
     "name": "stdout",
     "output_type": "stream",
     "text": [
      "before: [1, 2, 3, 4, 5] 의 주소 : 1170640970752\n",
      "after: [1, 2, 3, 4, 5, 6] 의 주소 : 1170640970752\n",
      "함수 호출 후에 L : [1, 2, 3, 4, 5, 6] 의 주소 : 1170640970752\n"
     ]
    }
   ],
   "source": [
    "def func2(foo): # foo는 지역변수\n",
    "    print('before:',foo, '의 주소 :', id(foo))\n",
    "    foo.append(6)\n",
    "    print('after:',foo,'의 주소 :', id(foo))\n",
    "func2(L)\n",
    "print('함수 호출 후에 L :', L, '의 주소 :',id(L))"
   ]
  },
  {
   "cell_type": "markdown",
   "metadata": {},
   "source": [
    "## 1.5 함수의 이름 변경\n",
    "- Python ; 함수형 언어, 객체 지향 언어"
   ]
  },
  {
   "cell_type": "code",
   "execution_count": 43,
   "metadata": {},
   "outputs": [],
   "source": [
    "def fibonacci(n):\n",
    "    \"\"\"\n",
    "    매개변수로 들어온 n값 미만까지 피보나치 수열을 출력합니다.\n",
    "    \"\"\"\n",
    "    a, b = 0, 1\n",
    "    while a < n :\n",
    "        print(a, end='  ')\n",
    "        a, b = b, a+b\n",
    "    print()"
   ]
  },
  {
   "cell_type": "code",
   "execution_count": 45,
   "metadata": {},
   "outputs": [
    {
     "data": {
      "text/plain": [
       "function"
      ]
     },
     "execution_count": 45,
     "metadata": {},
     "output_type": "execute_result"
    }
   ],
   "source": [
    "type(fibonacci)"
   ]
  },
  {
   "cell_type": "code",
   "execution_count": 46,
   "metadata": {},
   "outputs": [],
   "source": [
    "fibo = fibonacci # fibonacci함수이름이 fibo로도 사용가능"
   ]
  },
  {
   "cell_type": "code",
   "execution_count": 47,
   "metadata": {},
   "outputs": [
    {
     "name": "stdout",
     "output_type": "stream",
     "text": [
      "0  1  1  2  3  5  8  13  21  34  55  89  \n"
     ]
    }
   ],
   "source": [
    "fibo(100)"
   ]
  },
  {
   "cell_type": "markdown",
   "metadata": {},
   "source": [
    "# 2절 함수의 실행 결과를 반환하는 return"
   ]
  },
  {
   "cell_type": "code",
   "execution_count": 51,
   "metadata": {},
   "outputs": [],
   "source": [
    "def fibonacci_print(n):\n",
    "    \"\"\"\n",
    "    매개변수로 들어온 n값 미만까지 피보나치 수열을 출력합니다.\n",
    "    \"\"\"\n",
    "    a, b = 0, 1\n",
    "    while a < n :\n",
    "        print(a, end='  ')\n",
    "        a, b = b, a+b\n",
    "    print()\n",
    "def fibonacci(n):\n",
    "    \"n값 미만의 피보나치 수열을 return\"\n",
    "    result = []\n",
    "    a, b = 0, 1\n",
    "    while a < n :\n",
    "        result.append(a)\n",
    "        a, b = b, a+b\n",
    "    return result"
   ]
  },
  {
   "cell_type": "code",
   "execution_count": 52,
   "metadata": {},
   "outputs": [
    {
     "name": "stdout",
     "output_type": "stream",
     "text": [
      "0  1  1  2  3  5  8  13  21  34  55  89  \n"
     ]
    }
   ],
   "source": [
    "x = fibonacci_print(100)"
   ]
  },
  {
   "cell_type": "code",
   "execution_count": 55,
   "metadata": {},
   "outputs": [
    {
     "name": "stdout",
     "output_type": "stream",
     "text": [
      "None <class 'NoneType'>\n"
     ]
    }
   ],
   "source": [
    "print(x, type(x))"
   ]
  },
  {
   "cell_type": "code",
   "execution_count": 56,
   "metadata": {},
   "outputs": [],
   "source": [
    "L = fibonacci(100)"
   ]
  },
  {
   "cell_type": "code",
   "execution_count": 57,
   "metadata": {},
   "outputs": [
    {
     "name": "stdout",
     "output_type": "stream",
     "text": [
      "[0, 1, 1, 2, 3, 5, 8, 13, 21, 34, 55, 89] <class 'list'>\n"
     ]
    }
   ],
   "source": [
    "print(L, type(L))"
   ]
  },
  {
   "cell_type": "markdown",
   "metadata": {},
   "source": [
    "## 2.1 여러개 값 반환"
   ]
  },
  {
   "cell_type": "code",
   "execution_count": 58,
   "metadata": {},
   "outputs": [],
   "source": [
    "def swap(a, b):\n",
    "    return b, a"
   ]
  },
  {
   "cell_type": "code",
   "execution_count": 59,
   "metadata": {},
   "outputs": [
    {
     "name": "stdout",
     "output_type": "stream",
     "text": [
      "함수 실행 전  5 10\n",
      "함수 실행 후  10 5\n"
     ]
    }
   ],
   "source": [
    "x, y = 5 , 10\n",
    "print('함수 실행 전 ', x, y)\n",
    "x, y = swap(x, y)\n",
    "print('함수 실행 후 ', x, y)"
   ]
  },
  {
   "cell_type": "code",
   "execution_count": 60,
   "metadata": {},
   "outputs": [
    {
     "name": "stdout",
     "output_type": "stream",
     "text": [
      "<class 'tuple'>\n",
      "(5, 10)\n"
     ]
    }
   ],
   "source": [
    "a = swap(x, y)\n",
    "print(type(a))\n",
    "print(a)"
   ]
  },
  {
   "cell_type": "markdown",
   "metadata": {},
   "source": [
    "# 3절. 함수의 매개변수 ★"
   ]
  },
  {
   "cell_type": "markdown",
   "metadata": {},
   "source": [
    "## 3.1 기본값을 갖는 매개변수"
   ]
  },
  {
   "cell_type": "code",
   "execution_count": 61,
   "metadata": {},
   "outputs": [
    {
     "data": {
      "text/plain": [
       "'http://localhost:80'"
      ]
     },
     "execution_count": 61,
     "metadata": {},
     "output_type": "execute_result"
    }
   ],
   "source": [
    "def make_url(ip, port=80):\n",
    "    return 'http://{}:{}'.format(ip, port)\n",
    "make_url(\"localhost\",80)"
   ]
  },
  {
   "cell_type": "code",
   "execution_count": 62,
   "metadata": {},
   "outputs": [
    {
     "data": {
      "text/plain": [
       "'http://localhost:80'"
      ]
     },
     "execution_count": 62,
     "metadata": {},
     "output_type": "execute_result"
    }
   ],
   "source": [
    "make_url(\"localhost\")"
   ]
  },
  {
   "cell_type": "markdown",
   "metadata": {},
   "source": [
    "## 3.2 기본 변수를 갖는 매개변수"
   ]
  },
  {
   "cell_type": "code",
   "execution_count": 63,
   "metadata": {},
   "outputs": [],
   "source": [
    "i = 5\n",
    "# 기본변수가 스칼라변수일 때 :arg의 기본값은 함수가 정의되는 지점에 한번만 평가됩니다\n",
    "def func2(arg=i): \n",
    "    print('arg = ', arg)"
   ]
  },
  {
   "cell_type": "code",
   "execution_count": 64,
   "metadata": {},
   "outputs": [
    {
     "name": "stdout",
     "output_type": "stream",
     "text": [
      "arg =  5\n"
     ]
    }
   ],
   "source": [
    "i = 6\n",
    "func2()"
   ]
  },
  {
   "cell_type": "code",
   "execution_count": 65,
   "metadata": {},
   "outputs": [
    {
     "name": "stdout",
     "output_type": "stream",
     "text": [
      "arg =  5\n",
      "None\n"
     ]
    }
   ],
   "source": [
    "print(func2())"
   ]
  },
  {
   "cell_type": "code",
   "execution_count": 67,
   "metadata": {},
   "outputs": [
    {
     "name": "stdout",
     "output_type": "stream",
     "text": [
      "[1]\n",
      "[1]\n"
     ]
    }
   ],
   "source": [
    "# 기본변수가 리스트, 셋, 딕셔너리 또는 객체일때 함수를 호출 후 다시 전달\n",
    "list_ = []\n",
    "def func3(a, L=list_):\n",
    "    L.append(a)\n",
    "    return L\n",
    "print(func3(1))\n",
    "print(list_)"
   ]
  },
  {
   "cell_type": "code",
   "execution_count": 77,
   "metadata": {},
   "outputs": [
    {
     "name": "stdout",
     "output_type": "stream",
     "text": [
      "[1, 2, 2, 2, 2, 2, 2, 2, 2, 2, 2]\n",
      "[1, 2, 2, 2, 2, 2, 2, 2, 2, 2, 2]\n"
     ]
    }
   ],
   "source": [
    "print(func3(2))\n",
    "print(list_)"
   ]
  },
  {
   "cell_type": "code",
   "execution_count": 87,
   "metadata": {},
   "outputs": [
    {
     "name": "stdout",
     "output_type": "stream",
     "text": [
      "[1]\n"
     ]
    }
   ],
   "source": [
    "def func(a, L=[]):\n",
    "    L.append(a)\n",
    "    return L\n",
    "print(func(1))"
   ]
  },
  {
   "cell_type": "code",
   "execution_count": 90,
   "metadata": {},
   "outputs": [
    {
     "name": "stdout",
     "output_type": "stream",
     "text": [
      "[1, 2, 2, 2]\n"
     ]
    }
   ],
   "source": [
    "print(func(2))"
   ]
  },
  {
   "cell_type": "markdown",
   "metadata": {},
   "source": [
    "## 3.3 순서인수와 키워드 인수\n",
    "- 순서인수와 키워드 인수(기본값을갖는인수)가 같이 올 때는 키워드 인수가 반드시 뒤에 온다\n",
    "<pre>\n",
    "    def function명(변수명1, 변수명2, 변수명n=기본값):\n",
    "                     순서인수        키워드인수\n",
    "</pre>"
   ]
  },
  {
   "cell_type": "code",
   "execution_count": 92,
   "metadata": {},
   "outputs": [
    {
     "data": {
      "text/plain": [
       "[10]"
      ]
     },
     "execution_count": 92,
     "metadata": {},
     "output_type": "execute_result"
    }
   ],
   "source": [
    "def func4(a, L=None):\n",
    "    if L is None:\n",
    "        L = []\n",
    "    L.append(a)\n",
    "    return L\n",
    "func4(10)"
   ]
  },
  {
   "cell_type": "code",
   "execution_count": 93,
   "metadata": {},
   "outputs": [
    {
     "data": {
      "text/plain": [
       "[30]"
      ]
     },
     "execution_count": 93,
     "metadata": {},
     "output_type": "execute_result"
    }
   ],
   "source": [
    "func4(30)"
   ]
  },
  {
   "cell_type": "code",
   "execution_count": 94,
   "metadata": {},
   "outputs": [
    {
     "data": {
      "text/plain": [
       "[10]"
      ]
     },
     "execution_count": 94,
     "metadata": {},
     "output_type": "execute_result"
    }
   ],
   "source": [
    "list_ = []\n",
    "func4(10, list_)"
   ]
  },
  {
   "cell_type": "code",
   "execution_count": 101,
   "metadata": {},
   "outputs": [
    {
     "data": {
      "text/plain": [
       "[10, 10, 2, 2, 2, 2, 2, 2]"
      ]
     },
     "execution_count": 101,
     "metadata": {},
     "output_type": "execute_result"
    }
   ],
   "source": [
    "func4(2, list_)"
   ]
  },
  {
   "cell_type": "code",
   "execution_count": 103,
   "metadata": {},
   "outputs": [
    {
     "data": {
      "text/plain": [
       "[10, 10, 2, 2, 2, 2, 2, 2, 2, 2]"
      ]
     },
     "execution_count": 103,
     "metadata": {},
     "output_type": "execute_result"
    }
   ],
   "source": [
    "func4(a=2, L=list_)"
   ]
  },
  {
   "cell_type": "code",
   "execution_count": 104,
   "metadata": {},
   "outputs": [
    {
     "data": {
      "text/plain": [
       "[10, 10, 2, 2, 2, 2, 2, 2, 2, 2, 2]"
      ]
     },
     "execution_count": 104,
     "metadata": {},
     "output_type": "execute_result"
    }
   ],
   "source": [
    "func4(L=list_, a=2)"
   ]
  },
  {
   "cell_type": "code",
   "execution_count": 105,
   "metadata": {},
   "outputs": [
    {
     "data": {
      "text/plain": [
       "[30]"
      ]
     },
     "execution_count": 105,
     "metadata": {},
     "output_type": "execute_result"
    }
   ],
   "source": [
    "func4(a=30)"
   ]
  },
  {
   "cell_type": "code",
   "execution_count": 106,
   "metadata": {},
   "outputs": [
    {
     "ename": "TypeError",
     "evalue": "func4() missing 1 required positional argument: 'a'",
     "output_type": "error",
     "traceback": [
      "\u001b[1;31m-------------------------------------------------------\u001b[0m",
      "\u001b[1;31mTypeError\u001b[0m             Traceback (most recent call last)",
      "\u001b[1;32m<ipython-input-106-0e6ad11a93c1>\u001b[0m in \u001b[0;36m<module>\u001b[1;34m\u001b[0m\n\u001b[1;32m----> 1\u001b[1;33m \u001b[0mfunc4\u001b[0m\u001b[1;33m(\u001b[0m\u001b[1;33m)\u001b[0m\u001b[1;33m\u001b[0m\u001b[1;33m\u001b[0m\u001b[0m\n\u001b[0m",
      "\u001b[1;31mTypeError\u001b[0m: func4() missing 1 required positional argument: 'a'"
     ]
    }
   ],
   "source": [
    "func4()"
   ]
  },
  {
   "cell_type": "code",
   "execution_count": 107,
   "metadata": {},
   "outputs": [
    {
     "ename": "TypeError",
     "evalue": "func4() got multiple values for argument 'a'",
     "output_type": "error",
     "traceback": [
      "\u001b[1;31m-------------------------------------------------------\u001b[0m",
      "\u001b[1;31mTypeError\u001b[0m             Traceback (most recent call last)",
      "\u001b[1;32m<ipython-input-107-9a339bdfcf54>\u001b[0m in \u001b[0;36m<module>\u001b[1;34m\u001b[0m\n\u001b[1;32m----> 1\u001b[1;33m \u001b[0mfunc4\u001b[0m\u001b[1;33m(\u001b[0m\u001b[1;36m50\u001b[0m\u001b[1;33m,\u001b[0m \u001b[0ma\u001b[0m\u001b[1;33m=\u001b[0m\u001b[1;36m30\u001b[0m\u001b[1;33m,\u001b[0m \u001b[0mL\u001b[0m\u001b[1;33m=\u001b[0m\u001b[1;33m[\u001b[0m\u001b[1;33m]\u001b[0m\u001b[1;33m)\u001b[0m\u001b[1;33m\u001b[0m\u001b[1;33m\u001b[0m\u001b[0m\n\u001b[0m",
      "\u001b[1;31mTypeError\u001b[0m: func4() got multiple values for argument 'a'"
     ]
    }
   ],
   "source": [
    "func4(50, a=30, L=[])"
   ]
  },
  {
   "cell_type": "code",
   "execution_count": 108,
   "metadata": {},
   "outputs": [
    {
     "ename": "TypeError",
     "evalue": "func4() got multiple values for argument 'a'",
     "output_type": "error",
     "traceback": [
      "\u001b[1;31m-------------------------------------------------------\u001b[0m",
      "\u001b[1;31mTypeError\u001b[0m             Traceback (most recent call last)",
      "\u001b[1;32m<ipython-input-108-50b44bea2a06>\u001b[0m in \u001b[0;36m<module>\u001b[1;34m\u001b[0m\n\u001b[1;32m----> 1\u001b[1;33m \u001b[0mfunc4\u001b[0m\u001b[1;33m(\u001b[0m\u001b[1;33m[\u001b[0m\u001b[1;33m]\u001b[0m\u001b[1;33m,\u001b[0m \u001b[0ma\u001b[0m\u001b[1;33m=\u001b[0m\u001b[1;36m30\u001b[0m\u001b[1;33m)\u001b[0m\u001b[1;33m\u001b[0m\u001b[1;33m\u001b[0m\u001b[0m\n\u001b[0m",
      "\u001b[1;31mTypeError\u001b[0m: func4() got multiple values for argument 'a'"
     ]
    }
   ],
   "source": [
    "func4([], a=30) # a를 []로 먼저 전달"
   ]
  },
  {
   "cell_type": "code",
   "execution_count": 109,
   "metadata": {},
   "outputs": [
    {
     "data": {
      "text/plain": [
       "[[]]"
      ]
     },
     "execution_count": 109,
     "metadata": {},
     "output_type": "execute_result"
    }
   ],
   "source": [
    "func4([])"
   ]
  },
  {
   "cell_type": "code",
   "execution_count": 111,
   "metadata": {},
   "outputs": [
    {
     "data": {
      "text/plain": [
       "[10, 10, 2, 2, 2, 2, 2, 2, 2, 2, 2, 70]"
      ]
     },
     "execution_count": 111,
     "metadata": {},
     "output_type": "execute_result"
    }
   ],
   "source": [
    "func4(L=list_, 70)"
   ]
  },
  {
   "cell_type": "markdown",
   "metadata": {},
   "source": [
    "## 3.4 튜플 매개변수를 이용한 가변인수 설정"
   ]
  },
  {
   "cell_type": "code",
   "execution_count": 113,
   "metadata": {},
   "outputs": [
    {
     "name": "stdout",
     "output_type": "stream",
     "text": [
      "3\n"
     ]
    }
   ],
   "source": [
    "def add(a, b):\n",
    "    return a + b\n",
    "print(add(1,2))"
   ]
  },
  {
   "cell_type": "code",
   "execution_count": 114,
   "metadata": {},
   "outputs": [
    {
     "name": "stdout",
     "output_type": "stream",
     "text": [
      "6\n"
     ]
    }
   ],
   "source": [
    "def add(a, b, c):\n",
    "    return a+b+c\n",
    "print(add(1,2,3))"
   ]
  },
  {
   "cell_type": "code",
   "execution_count": 115,
   "metadata": {},
   "outputs": [
    {
     "ename": "TypeError",
     "evalue": "add() missing 1 required positional argument: 'c'",
     "output_type": "error",
     "traceback": [
      "\u001b[1;31m-------------------------------------------------------\u001b[0m",
      "\u001b[1;31mTypeError\u001b[0m             Traceback (most recent call last)",
      "\u001b[1;32m<ipython-input-115-4554db589b65>\u001b[0m in \u001b[0;36m<module>\u001b[1;34m\u001b[0m\n\u001b[1;32m----> 1\u001b[1;33m \u001b[0mprint\u001b[0m\u001b[1;33m(\u001b[0m\u001b[0madd\u001b[0m\u001b[1;33m(\u001b[0m\u001b[1;36m10\u001b[0m\u001b[1;33m,\u001b[0m\u001b[1;36m20\u001b[0m\u001b[1;33m)\u001b[0m\u001b[1;33m)\u001b[0m\u001b[1;33m\u001b[0m\u001b[1;33m\u001b[0m\u001b[0m\n\u001b[0m",
      "\u001b[1;31mTypeError\u001b[0m: add() missing 1 required positional argument: 'c'"
     ]
    }
   ],
   "source": [
    "print(add(10,20))\n",
    "# 파이썬은 함수의 중복(overloading)"
   ]
  },
  {
   "cell_type": "code",
   "execution_count": 118,
   "metadata": {},
   "outputs": [
    {
     "name": "stdout",
     "output_type": "stream",
     "text": [
      "66\n",
      "1\n"
     ]
    }
   ],
   "source": [
    "# args앞에 * : args가 튜플 전달\n",
    "def add(*args): # args = (1,)\n",
    "    sum = 0\n",
    "    for num in args:\n",
    "        sum += num\n",
    "    return sum\n",
    "\n",
    "print(add(1,2,3,4,5,6,7,8,9,10,11))\n",
    "print(add(1))"
   ]
  },
  {
   "cell_type": "code",
   "execution_count": 121,
   "metadata": {},
   "outputs": [
    {
     "data": {
      "text/plain": [
       "'서울-부산-인천'"
      ]
     },
     "execution_count": 121,
     "metadata": {},
     "output_type": "execute_result"
    }
   ],
   "source": [
    "# cf\n",
    "city = ('서울','부산','인천')\n",
    "'-'.join(city)"
   ]
  },
  {
   "cell_type": "code",
   "execution_count": 132,
   "metadata": {},
   "outputs": [],
   "source": [
    "def concat(*args, sep):\n",
    "    return sep.join(args)"
   ]
  },
  {
   "cell_type": "code",
   "execution_count": 133,
   "metadata": {},
   "outputs": [
    {
     "ename": "TypeError",
     "evalue": "concat() missing 1 required keyword-only argument: 'sep'",
     "output_type": "error",
     "traceback": [
      "\u001b[1;31m-------------------------------------------------------\u001b[0m",
      "\u001b[1;31mTypeError\u001b[0m             Traceback (most recent call last)",
      "\u001b[1;32m<ipython-input-133-e7f24296ec96>\u001b[0m in \u001b[0;36m<module>\u001b[1;34m\u001b[0m\n\u001b[1;32m----> 1\u001b[1;33m \u001b[0mconcat\u001b[0m\u001b[1;33m(\u001b[0m\u001b[1;34m'hello'\u001b[0m\u001b[1;33m,\u001b[0m \u001b[1;34m'world'\u001b[0m\u001b[1;33m,\u001b[0m \u001b[1;34m'/'\u001b[0m\u001b[1;33m)\u001b[0m\u001b[1;33m\u001b[0m\u001b[1;33m\u001b[0m\u001b[0m\n\u001b[0m",
      "\u001b[1;31mTypeError\u001b[0m: concat() missing 1 required keyword-only argument: 'sep'"
     ]
    }
   ],
   "source": [
    "concat('hello', 'world', '/')"
   ]
  },
  {
   "cell_type": "code",
   "execution_count": 134,
   "metadata": {},
   "outputs": [
    {
     "data": {
      "text/plain": [
       "'hello/world'"
      ]
     },
     "execution_count": 134,
     "metadata": {},
     "output_type": "execute_result"
    }
   ],
   "source": [
    "# 해결책1\n",
    "concat('hello', 'world', sep='/')"
   ]
  },
  {
   "cell_type": "code",
   "execution_count": 144,
   "metadata": {},
   "outputs": [],
   "source": [
    "# 해결책2\n",
    "def concat(sep, *args):\n",
    "    return sep.join(args)"
   ]
  },
  {
   "cell_type": "code",
   "execution_count": 145,
   "metadata": {},
   "outputs": [
    {
     "data": {
      "text/plain": [
       "'earth/mars/venus'"
      ]
     },
     "execution_count": 145,
     "metadata": {},
     "output_type": "execute_result"
    }
   ],
   "source": [
    "concat('/','earth','mars','venus') # sep이 '/'"
   ]
  },
  {
   "cell_type": "code",
   "execution_count": 143,
   "metadata": {},
   "outputs": [
    {
     "data": {
      "text/plain": [
       "'marsearthvenus'"
      ]
     },
     "execution_count": 143,
     "metadata": {},
     "output_type": "execute_result"
    }
   ],
   "source": [
    "concat('earth','mars','venus') # sep이 'earth'"
   ]
  },
  {
   "cell_type": "code",
   "execution_count": 147,
   "metadata": {},
   "outputs": [],
   "source": [
    "# 해결책3\n",
    "def concat(*args, sep='/'): # 순서인수 > 튜플인수 > 키워드인수\n",
    "    return sep.join(args)"
   ]
  },
  {
   "cell_type": "code",
   "execution_count": 148,
   "metadata": {},
   "outputs": [
    {
     "data": {
      "text/plain": [
       "'earth/mars/venus'"
      ]
     },
     "execution_count": 148,
     "metadata": {},
     "output_type": "execute_result"
    }
   ],
   "source": [
    "concat('earth', 'mars', 'venus')"
   ]
  },
  {
   "cell_type": "code",
   "execution_count": 149,
   "metadata": {},
   "outputs": [
    {
     "data": {
      "text/plain": [
       "'Python ~ R ~ hadoop'"
      ]
     },
     "execution_count": 149,
     "metadata": {},
     "output_type": "execute_result"
    }
   ],
   "source": [
    "concat('Python','R','hadoop', sep=' ~ ')"
   ]
  },
  {
   "cell_type": "markdown",
   "metadata": {},
   "source": [
    "## 3.5 딕셔너리 매개변수\n",
    "- 순서인수, 튜플인수, 키워드인수, 딕셔너리 인수 등은 같이 사용될 수 있음. 순서를 유의해서 사용"
   ]
  },
  {
   "cell_type": "code",
   "execution_count": 151,
   "metadata": {},
   "outputs": [
    {
     "name": "stdout",
     "output_type": "stream",
     "text": [
      "name:홍길동\n",
      "age:20\n",
      "address:서울시\n"
     ]
    }
   ],
   "source": [
    "def func5(**args): # args가 딕셔너리로 전달(**) \n",
    "                   # args = {name='홍길동', age=20, address='서울시'}\n",
    "    for key, value in args.items():\n",
    "        print(\"{}:{}\".format(key, value))\n",
    "func5(name='홍길동', age=20, address='서울시')"
   ]
  },
  {
   "cell_type": "code",
   "execution_count": 158,
   "metadata": {},
   "outputs": [],
   "source": [
    "# 순서인수, 튜플인수, 키워드인수, 딕셔너리인수\n",
    "def func6(a, *b, **c):\n",
    "    print('a =', a)\n",
    "    print('b =', b)\n",
    "    print('c =', c)"
   ]
  },
  {
   "cell_type": "code",
   "execution_count": 159,
   "metadata": {},
   "outputs": [
    {
     "name": "stdout",
     "output_type": "stream",
     "text": [
      "a = 10\n",
      "b = (1, 2, 3, 4, 5)\n",
      "c = {'name': 'kim', 'age': 30}\n"
     ]
    }
   ],
   "source": [
    "func6(10, 1, 2, 3, 4, 5, name='kim', age=30)"
   ]
  },
  {
   "cell_type": "markdown",
   "metadata": {},
   "source": [
    "## 3.6 함수 정의 시 매개변수의 순서"
   ]
  },
  {
   "cell_type": "code",
   "execution_count": 160,
   "metadata": {},
   "outputs": [],
   "source": [
    "# 순서인수, 튜플인수, 키워드인수, 딕셔너리인수\n",
    "def func(a, b, c, *d, e=10, **f):\n",
    "    print('a =', a)\n",
    "    print('b =', b)\n",
    "    print('c =', c)\n",
    "    print('d =', d)\n",
    "    print('e =', e)\n",
    "    print('f =', f)"
   ]
  },
  {
   "cell_type": "code",
   "execution_count": 161,
   "metadata": {},
   "outputs": [
    {
     "name": "stdout",
     "output_type": "stream",
     "text": [
      "a = 10\n",
      "b = 20\n",
      "c = 30\n",
      "d = (1, 2, 3, 4, 2, 4)\n",
      "e = 20\n",
      "f = {'name': 'kim', 'age': 30, 'address': '마포'}\n"
     ]
    }
   ],
   "source": [
    "func(10,20,30, 1,2,3,4,2,4, e=20, name='kim', age=30, address='마포')"
   ]
  },
  {
   "cell_type": "markdown",
   "metadata": {},
   "source": [
    "## 3.7 인수의 언패킹"
   ]
  },
  {
   "cell_type": "markdown",
   "metadata": {},
   "source": [
    "**튜플언패킹**"
   ]
  },
  {
   "cell_type": "code",
   "execution_count": 162,
   "metadata": {},
   "outputs": [
    {
     "data": {
      "text/plain": [
       "10"
      ]
     },
     "execution_count": 162,
     "metadata": {},
     "output_type": "execute_result"
    }
   ],
   "source": [
    "def add(*args):\n",
    "    sum = 0\n",
    "    for num in args:\n",
    "        sum += num\n",
    "    return sum\n",
    "add(1,2,3,4)"
   ]
  },
  {
   "cell_type": "code",
   "execution_count": 165,
   "metadata": {},
   "outputs": [
    {
     "data": {
      "text/plain": [
       "10"
      ]
     },
     "execution_count": 165,
     "metadata": {},
     "output_type": "execute_result"
    }
   ],
   "source": [
    "numbers = (1,2,3,4)\n",
    "#add(numbers)\n",
    "add(*numbers)"
   ]
  },
  {
   "cell_type": "code",
   "execution_count": 169,
   "metadata": {},
   "outputs": [
    {
     "name": "stdout",
     "output_type": "stream",
     "text": [
      "[0, 1, 2, 3, 4, 5, 6, 7, 8, 9]\n",
      "[5, 6, 7, 8, 9]\n",
      "[5, 7, 9]\n"
     ]
    }
   ],
   "source": [
    "# 예제 : 다음과 같은 실행결과의 튜플인수를 갖는 range2함수를 구현하시오\n",
    "print(range2(10))\n",
    "print(range2(5,10))\n",
    "print(range2(5,10,2))"
   ]
  },
  {
   "cell_type": "code",
   "execution_count": 6,
   "metadata": {},
   "outputs": [
    {
     "name": "stdout",
     "output_type": "stream",
     "text": [
      "[0, 1, 2, 3, 4, 5, 6, 7, 8, 9]\n",
      "[5, 6, 7, 8, 9]\n",
      "[5, 7, 9]\n",
      "떼끼\n",
      "None\n"
     ]
    }
   ],
   "source": [
    "def range2(*args):\n",
    "    length = len(args)\n",
    "    result = []\n",
    "    if length==0:\n",
    "        raise Exception('매개변수가 없으면 안 돼')\n",
    "    elif length == 1:\n",
    "        for i in range(args[0]):\n",
    "            result.append(i)\n",
    "    elif length == 2:\n",
    "        for i in range(args[0], args[1]):\n",
    "            result.append(i)\n",
    "    elif length == 3:\n",
    "        for i in range(args[0], args[1], args[2]):\n",
    "            result.append(i)\n",
    "    else:\n",
    "        print(\"떼끼\")\n",
    "        return\n",
    "    return result\n",
    "print(range2(10))\n",
    "print(range2(5,10))\n",
    "print(range2(5,10,2))\n",
    "print(range2(1,2,3,4))"
   ]
  },
  {
   "cell_type": "code",
   "execution_count": 7,
   "metadata": {},
   "outputs": [
    {
     "data": {
      "text/plain": [
       "[5, 7, 9]"
      ]
     },
     "execution_count": 7,
     "metadata": {},
     "output_type": "execute_result"
    }
   ],
   "source": [
    "t = (5,10,2)\n",
    "range2(*t) #튜플 인수 언패킹"
   ]
  },
  {
   "cell_type": "markdown",
   "metadata": {},
   "source": [
    "**딕셔너리 인수 언패킹**"
   ]
  },
  {
   "cell_type": "code",
   "execution_count": 9,
   "metadata": {},
   "outputs": [
    {
     "name": "stdout",
     "output_type": "stream",
     "text": [
      "('name', '홍길동')\n",
      "('age', 30)\n",
      "('address', '마포')\n"
     ]
    }
   ],
   "source": [
    "def func5(**data):\n",
    "    for item in data.items():\n",
    "        print(item)\n",
    "func5(name='홍길동', age=30, address='마포')"
   ]
  },
  {
   "cell_type": "code",
   "execution_count": 13,
   "metadata": {},
   "outputs": [
    {
     "name": "stdout",
     "output_type": "stream",
     "text": [
      "('name', '홍길동')\n",
      "('age', 30)\n",
      "('address', '마포')\n"
     ]
    }
   ],
   "source": [
    "customerInfo = {'name':'홍길동', 'age':30, 'address':'마포'}\n",
    "# func5(customerInfo)\n",
    "func5(**customerInfo) # 딕셔너리 인수 언패킹"
   ]
  },
  {
   "cell_type": "markdown",
   "metadata": {},
   "source": [
    "# 4절. 람다식\n",
    "\n",
    "- 람다식은 작은 익명함수를 의미함\n",
    "- 실행할 문장을 한문장만 작성할 수 있음\n",
    "- return 구문이 없어도 statement결과를 반환함\n",
    "- 리스트컴프리헨션 같이 참조해서 학습 추천\n",
    "- filter(), map()함수 같이 참조해서 학습 추천"
   ]
  },
  {
   "cell_type": "markdown",
   "metadata": {},
   "source": [
    "## 4.1 람다식 ; 한줄짜리 작은 익명함수를 의미"
   ]
  },
  {
   "cell_type": "code",
   "execution_count": 15,
   "metadata": {},
   "outputs": [
    {
     "data": {
      "text/plain": [
       "11"
      ]
     },
     "execution_count": 15,
     "metadata": {},
     "output_type": "execute_result"
    }
   ],
   "source": [
    "def add(a, b):\n",
    "    return a+b\n",
    "add(5,6)"
   ]
  },
  {
   "cell_type": "code",
   "execution_count": 18,
   "metadata": {},
   "outputs": [
    {
     "data": {
      "text/plain": [
       "function"
      ]
     },
     "execution_count": 18,
     "metadata": {},
     "output_type": "execute_result"
    }
   ],
   "source": [
    "type(add)"
   ]
  },
  {
   "cell_type": "code",
   "execution_count": 19,
   "metadata": {},
   "outputs": [],
   "source": [
    "add2 = lambda a,b : a+b"
   ]
  },
  {
   "cell_type": "code",
   "execution_count": 20,
   "metadata": {},
   "outputs": [
    {
     "data": {
      "text/plain": [
       "30"
      ]
     },
     "execution_count": 20,
     "metadata": {},
     "output_type": "execute_result"
    }
   ],
   "source": [
    "add2(10,20)"
   ]
  },
  {
   "cell_type": "code",
   "execution_count": 21,
   "metadata": {},
   "outputs": [
    {
     "data": {
      "text/plain": [
       "70"
      ]
     },
     "execution_count": 21,
     "metadata": {},
     "output_type": "execute_result"
    }
   ],
   "source": [
    "(lambda a,b : a+b)(30,40)"
   ]
  },
  {
   "cell_type": "markdown",
   "metadata": {},
   "source": [
    "## 4.2 함수의 인수에 람다식 사용"
   ]
  },
  {
   "cell_type": "code",
   "execution_count": 22,
   "metadata": {},
   "outputs": [],
   "source": [
    "def map_template(func, L=[]):\n",
    "    result = []\n",
    "    for item in L:\n",
    "        result.append(func(item))\n",
    "    return result"
   ]
  },
  {
   "cell_type": "code",
   "execution_count": 23,
   "metadata": {},
   "outputs": [
    {
     "data": {
      "text/plain": [
       "[2, 4, 6, 8, 10]"
      ]
     },
     "execution_count": 23,
     "metadata": {},
     "output_type": "execute_result"
    }
   ],
   "source": [
    "list_data = [1,2,3,4,5]\n",
    "def x_2(x):\n",
    "    return x*2\n",
    "map_template(x_2, list_data)"
   ]
  },
  {
   "cell_type": "code",
   "execution_count": 25,
   "metadata": {},
   "outputs": [
    {
     "name": "stdout",
     "output_type": "stream",
     "text": [
      "[1, 2, 3, 4, 5]\n"
     ]
    },
    {
     "data": {
      "text/plain": [
       "[2, 4, 6, 8, 10]"
      ]
     },
     "execution_count": 25,
     "metadata": {},
     "output_type": "execute_result"
    }
   ],
   "source": [
    "print(list_data)\n",
    "map_template(lambda x : x*2, list_data)"
   ]
  },
  {
   "cell_type": "code",
   "execution_count": 27,
   "metadata": {},
   "outputs": [
    {
     "data": {
      "text/plain": [
       "[2, 4, 6, 8, 10]"
      ]
     },
     "execution_count": 27,
     "metadata": {},
     "output_type": "execute_result"
    }
   ],
   "source": [
    "# map() 함수 이용\n",
    "list(map(lambda x:x*2, list_data))"
   ]
  },
  {
   "cell_type": "code",
   "execution_count": 28,
   "metadata": {},
   "outputs": [
    {
     "data": {
      "text/plain": [
       "[2, 4, 6, 8, 10]"
      ]
     },
     "execution_count": 28,
     "metadata": {},
     "output_type": "execute_result"
    }
   ],
   "source": [
    "# 리스트 컴프리헨션\n",
    "[x*2 for x in list_data]"
   ]
  },
  {
   "cell_type": "code",
   "execution_count": 29,
   "metadata": {},
   "outputs": [],
   "source": [
    "list_data = [1,2,3,4,5]\n",
    "def filter_template(func, L=[]):\n",
    "    result = []\n",
    "    for item in L:\n",
    "        if func(item):\n",
    "            result.append(item)\n",
    "    return result"
   ]
  },
  {
   "cell_type": "code",
   "execution_count": 32,
   "metadata": {},
   "outputs": [
    {
     "data": {
      "text/plain": [
       "[2, 4]"
      ]
     },
     "execution_count": 32,
     "metadata": {},
     "output_type": "execute_result"
    }
   ],
   "source": [
    "def evenyesorno(x):\n",
    "    if x%2==0:\n",
    "        return True\n",
    "filter_template(evenyesorno, list_data)"
   ]
  },
  {
   "cell_type": "code",
   "execution_count": 37,
   "metadata": {},
   "outputs": [
    {
     "data": {
      "text/plain": [
       "[2, 4]"
      ]
     },
     "execution_count": 37,
     "metadata": {},
     "output_type": "execute_result"
    }
   ],
   "source": [
    "filter_template(lambda x : x%2==0, list_data)"
   ]
  },
  {
   "cell_type": "code",
   "execution_count": 39,
   "metadata": {},
   "outputs": [
    {
     "data": {
      "text/plain": [
       "[2, 4]"
      ]
     },
     "execution_count": 39,
     "metadata": {},
     "output_type": "execute_result"
    }
   ],
   "source": [
    "# filter()함수 \n",
    "list(filter(lambda x : x%2==0, list_data))"
   ]
  },
  {
   "cell_type": "code",
   "execution_count": 41,
   "metadata": {},
   "outputs": [
    {
     "data": {
      "text/plain": [
       "[2, 4]"
      ]
     },
     "execution_count": 41,
     "metadata": {},
     "output_type": "execute_result"
    }
   ],
   "source": [
    "# 리스트 컴프리헨션\n",
    "[x for x in list_data if x%2==0]"
   ]
  },
  {
   "cell_type": "code",
   "execution_count": 278,
   "metadata": {
    "ExecuteTime": {
     "end_time": "2021-02-24T06:46:17.396002Z",
     "start_time": "2021-02-24T06:46:17.392014Z"
    }
   },
   "outputs": [
    {
     "data": {
      "text/plain": [
       "[(1, 'one'), (2, 'two'), (3, 'three'), (4, 'four')]"
      ]
     },
     "execution_count": 278,
     "metadata": {},
     "output_type": "execute_result"
    }
   ],
   "source": [
    "pairs = [(1,'one'),(3,'three'),(2,'two'),(4,'four')]\n",
    "pairs.sort()\n",
    "pairs"
   ]
  },
  {
   "cell_type": "code",
   "execution_count": 280,
   "metadata": {
    "ExecuteTime": {
     "end_time": "2021-02-24T06:46:42.196751Z",
     "start_time": "2021-02-24T06:46:42.191766Z"
    }
   },
   "outputs": [
    {
     "data": {
      "text/plain": [
       "[(4, 'four'), (1, 'one'), (3, 'three'), (2, 'two')]"
      ]
     },
     "execution_count": 280,
     "metadata": {},
     "output_type": "execute_result"
    }
   ],
   "source": [
    "pairs.sort(key=lambda pair:pair[1])\n",
    "pairs"
   ]
  },
  {
   "cell_type": "code",
   "execution_count": 282,
   "metadata": {
    "ExecuteTime": {
     "end_time": "2021-02-24T06:48:45.477309Z",
     "start_time": "2021-02-24T06:48:45.472322Z"
    }
   },
   "outputs": [
    {
     "data": {
      "text/plain": [
       "1000000"
      ]
     },
     "execution_count": 282,
     "metadata": {},
     "output_type": "execute_result"
    }
   ],
   "source": [
    "def apply(data, func=None):\n",
    "    if func==None:\n",
    "        return data\n",
    "    else:\n",
    "        return func(data)\n",
    "    \n",
    "apply(100, lambda x : x**3)\n",
    "    \n"
   ]
  },
  {
   "cell_type": "markdown",
   "metadata": {},
   "source": [
    "## 4.3 리턴문에 람다식 이용"
   ]
  },
  {
   "cell_type": "code",
   "execution_count": 292,
   "metadata": {
    "ExecuteTime": {
     "end_time": "2021-02-24T07:05:27.830098Z",
     "start_time": "2021-02-24T07:05:27.823114Z"
    }
   },
   "outputs": [
    {
     "data": {
      "text/plain": [
       "[[5, 5, 5], [5, 5, 5]]"
      ]
     },
     "execution_count": 292,
     "metadata": {},
     "output_type": "execute_result"
    }
   ],
   "source": [
    "#함수를 return하는 함수\n",
    "def make_box(shape):\n",
    "    def box(init_value):\n",
    "        if len(shape)==1:\n",
    "            return [init_value]*shape[0]\n",
    "        elif len(shape)==2:\n",
    "            return [[init_value]*shape[1]]*shape[0]\n",
    "    return box\n",
    "\n",
    "box1 = make_box((5,))\n",
    "box2 = make_box((2,3))\n",
    "\n",
    "box1(10)\n",
    "box2(5)"
   ]
  },
  {
   "cell_type": "code",
   "execution_count": null,
   "metadata": {},
   "outputs": [],
   "source": [
    "'''\n",
    "make_box((5,)) -> 1차원 5개짜리 list를 만드는 함수 fun => fun(10) => [10,10,10,10,10]\n",
    "make_box((2,3)) => 2차원 2행 3열 list를 만드는 함수 fun  => fun(10) =>[[10,10,10],[10,10,10]]\n",
    "'''"
   ]
  },
  {
   "cell_type": "code",
   "execution_count": 293,
   "metadata": {
    "ExecuteTime": {
     "end_time": "2021-02-24T07:07:07.124359Z",
     "start_time": "2021-02-24T07:07:07.119373Z"
    }
   },
   "outputs": [],
   "source": [
    "def make_box1(shape):\n",
    "    if len(shape)==1:\n",
    "        return lambda x : [x]*shape[0]\n",
    "    elif len(shape)==2:\n",
    "        return lambda x : [[x]*shape[1]]*shape[0]\n",
    "    return box"
   ]
  },
  {
   "cell_type": "code",
   "execution_count": 295,
   "metadata": {
    "ExecuteTime": {
     "end_time": "2021-02-24T07:07:52.770157Z",
     "start_time": "2021-02-24T07:07:52.767195Z"
    }
   },
   "outputs": [],
   "source": [
    "box1 = make_box1((6,))\n",
    "box2 = make_box1((5,5))"
   ]
  },
  {
   "cell_type": "code",
   "execution_count": 296,
   "metadata": {
    "ExecuteTime": {
     "end_time": "2021-02-24T07:08:00.034630Z",
     "start_time": "2021-02-24T07:08:00.030659Z"
    }
   },
   "outputs": [
    {
     "data": {
      "text/plain": [
       "[5, 5, 5, 5, 5, 5]"
      ]
     },
     "execution_count": 296,
     "metadata": {},
     "output_type": "execute_result"
    }
   ],
   "source": [
    "box1(5)"
   ]
  },
  {
   "cell_type": "code",
   "execution_count": 297,
   "metadata": {
    "ExecuteTime": {
     "end_time": "2021-02-24T07:08:05.347440Z",
     "start_time": "2021-02-24T07:08:05.342473Z"
    }
   },
   "outputs": [
    {
     "data": {
      "text/plain": [
       "[[10, 10, 10, 10, 10],\n",
       " [10, 10, 10, 10, 10],\n",
       " [10, 10, 10, 10, 10],\n",
       " [10, 10, 10, 10, 10],\n",
       " [10, 10, 10, 10, 10]]"
      ]
     },
     "execution_count": 297,
     "metadata": {},
     "output_type": "execute_result"
    }
   ],
   "source": [
    "box2(10)"
   ]
  },
  {
   "cell_type": "markdown",
   "metadata": {},
   "source": [
    "# 5절. 파이선 내장함수\n",
    "- import 하지 않고 바로 사용 가능한 함수"
   ]
  },
  {
   "cell_type": "code",
   "execution_count": 298,
   "metadata": {
    "ExecuteTime": {
     "end_time": "2021-02-24T07:13:58.204912Z",
     "start_time": "2021-02-24T07:13:58.127167Z"
    }
   },
   "outputs": [
    {
     "data": {
      "text/plain": [
       "{'__name__': '__main__',\n",
       " '__doc__': 'Automatically created module for IPython interactive environment',\n",
       " '__package__': None,\n",
       " '__loader__': None,\n",
       " '__spec__': None,\n",
       " '__builtin__': <module 'builtins' (built-in)>,\n",
       " '__builtins__': <module 'builtins' (built-in)>,\n",
       " '_ih': ['',\n",
       "  'def my_add(num1, num2, num3=0):\\n    return num1+num2+num3\\n\\nprint(my_add(20,30,40))\\nprint(my_add(20,30))\\nprint(my_add(20))',\n",
       "  'def my_add(num1, num2, num3=0):\\n    return num1+num2+num3\\n\\nprint(my_add(20,30,40))\\nprint(my_add(20,30))\\nprint(my_add(num1=20))',\n",
       "  'def my_add(num1, num2, num3=0, num4):\\n    return num1+num2+num3\\n\\nprint(my_add(20,30,40))\\nprint(my_add(20,30))\\nprint(my_add(num1=20))',\n",
       "  'def my_add(num1=0, num2=0, num3=0):\\n    return num1+num2+num3\\n\\nprint(my_add(20,30,40))\\nprint(my_add(20,30))\\nprint(my_add(num1=20))',\n",
       "  'def my_add(num1=0, num2=0, num3=0):\\n    return num1+num2+num3\\n\\nprint(my_add(20,30,40))\\nprint(my_add(20,30))\\nprint(my_add(num3=20))',\n",
       "  \"def my_function():\\n    '''함수의 첫 라인에 독스트링 포함 시킬 수 있다.\\n    독 스트링은 함수의 설명서를 달아주는 역할 . 주석보다 많은 기능'''\\n    pass\",\n",
       "  'print(my_function)',\n",
       "  'print(my_function())',\n",
       "  'print(my_function())\\n\\nhelp(my_function)',\n",
       "  'print(my_function())\\n\\nhelp(my_function())',\n",
       "  'def fibonacci(n):\\n    pass',\n",
       "  'fibonacci(10)',\n",
       "  'fibonacci(10)',\n",
       "  'fibonacci(10)',\n",
       "  \"g_var = 100\\ndef func3():\\n    global g_bar\\n    print('before',g_var)\\n    g_var =200\\n    print('after'g_var)\",\n",
       "  \"g_var = 100\\ndef func3():\\n    global g_bar\\n    print('before',g_var)\\n    g_var =200\\n    print('after',g_var)\\n    \\nfunc3()\",\n",
       "  \"g_var = 100\\ndef func3():\\n    print('before',g_var)\\n    g_var =200\\n    print('after',g_var)\\n    \\nfunc3()\",\n",
       "  \"g_var = 100\\ndef func3():\\n    print('before',g_var)\\n    g_var =200\\n    print('after',g_var)\\n    \\nfunc3()\",\n",
       "  \"g_var = 100\\n\\ndef func1():\\n    print('before',g_var)    \\n    print('after',g_var)\\n    \\nfunc3()\",\n",
       "  \"glo_var = 100\\n\\ndef func1():\\n    glo_var = 200\\n    print('before',g_var)    \\n    print('after',glo_var)\\n    \\nfunc3()\",\n",
       "  \"glo_var = 100\\n\\ndef func1():\\n    glo_var = 200\\n    print('before',glo_var)    \\n    print('after',glo_var)\\n    \\nfunc3()\",\n",
       "  \"glo_var = 100\\n\\ndef func1():\\n    glo_var = 200\\n    print('before',glo_var)    \\n    print('after',glo_var)\\nprint('func1() 실행 전 gloval_var값',global_var)\\nfunc1()\\nprint('func1() 실행 후 gloval_var값',global_var)\",\n",
       "  \"glo_var = 100\\n\\ndef func1():\\n    glo_var = 200\\n    print('before',glo_var)    \\n    print('after',glo_var)\\nprint('func1() 실행 전 gloval_var값',glo_var)\\nfunc1()\\nprint('func1() 실행 후 gloval_var값',glo_var)\",\n",
       "  \"glo_var = 100\\n\\ndef func1():\\n    gloval glo_var\\n    glo_var=200\\n    print('before',glo_var)    \\n    print('after',glo_var)\\nprint('func1() 실행 전 gloval_var값',glo_var)\\nfunc1()\\nprint('func1() 실행 후 gloval_var값',glo_var)\",\n",
       "  \"glo_var = 100\\n\\ndef func1():\\n    global glo_var\\n    glo_var=200\\n    print('before',glo_var)    \\n    print('after',glo_var)\\nprint('func1() 실행 전 gloval_var값',glo_var)\\nfunc1()\\nprint('func1() 실행 후 gloval_var값',glo_var)\",\n",
       "  \"foo='a'\\nid(foo)\",\n",
       "  \"def func1(foo):\\n    print('before:',foo, '의 주소는',id(foo))\\n    foo = foo * 3\\n    \",\n",
       "  \"def func1(foo):\\n    print('before:',foo, '의 주소는',id(foo))\\n    foo = foo * 3\\n    \",\n",
       "  \"def func1(foo):\\n    print('before:',foo, '의 주소는',id(foo))\\n    foo = foo * 3\\n\\nfunc1(foo)\",\n",
       "  \"foo='a'\\nid(foo)\",\n",
       "  \"def func1(foo):\\n    print('before:',foo, '의 주소는',id(foo))\\n    foo = foo * 3\\n\\nfunc1(foo)\",\n",
       "  \"def func1(foo):\\n    print('before:',foo, '의 주소는',id(foo))\\n    foo = foo * 3\\n    print('after:',foo, '의 주소는',id(foo))\\n\\nfunc1(foo)\",\n",
       "  \"def func1(foo):\\n    print('before:',foo, '의 주소는',id(foo))\\n    foo = foo * 3\\n    print('after:',foo, '의 주소는',id(foo))\\n\\nfunc1(foo)\\nprint(foo)\",\n",
       "  'L = [1,2,3,4,5]\\nid(L)',\n",
       "  \"def func2(foo):\\n    print('전:', foo,'의 주소:',id(foo))\\n    foo.append(6)\\n    print('후:', foo,'의 주소:',id(foo))\\n    \\nfunc2(L)\\nprint(L)\",\n",
       "  \"def fibonacchi(n):\\n    a,b= 0,1\\n    while a < n :\\n        print(a, end=' ')\\n        a,b = b, a+b\\n    print()\",\n",
       "  'type(fibonacci)',\n",
       "  'fibo = fibonacci',\n",
       "  'fibo(10)',\n",
       "  'fibo(10)',\n",
       "  'fibo(7)',\n",
       "  \"def fibonacchi(n):\\n    a,b= 0,1\\n    while a < n :\\n        print(a, end=' ')\\n        a,b = b, a+b\\n    print()\",\n",
       "  'fibo = fibonacci',\n",
       "  'fibo(7)',\n",
       "  'type(fibonacci)\\n\\nfibonacci(10)',\n",
       "  'print(type(fibonacci))\\n\\nfibonacci(10)',\n",
       "  \"def fibonacchi(n):\\n    a,b= 0,1\\n    while a < n :\\n        print('외않되')\\n        print(a, end=' ')\\n        a,b = b, a+b\\n    print()\",\n",
       "  'print(type(fibonacci))\\n\\nfibonacci(10)',\n",
       "  'print(type(fibonacci))\\n\\nfibonacci(10)',\n",
       "  \"def fibonacchi(n):\\n    a,b= 0,1\\n    while a < n :\\n        print('외않되')\\n        print(a, end=' ')\\n        a,b = b, a+b\\n    print()\",\n",
       "  \"def fibonacchi(n):\\n    a,b= 0,1\\n    print(a,n)\\n    while a < n :\\n        print('외않되')\\n        print(a, end=' ')\\n        a,b = b, a+b\\n    print()\",\n",
       "  'print(type(fibonacci))\\n\\nfibonacci(10)',\n",
       "  \"def fibonacci(n):\\n    a,b= 0,1\\n    print(a,n)\\n    while a < n :\\n        print('외않되')\\n        print(a, end=' ')\\n        a,b = b, a+b\\n    print()\",\n",
       "  'print(type(fibonacci))\\n\\nfibonacci(10)',\n",
       "  'print(type(fibonacci))\\n\\nfibonacci(10)',\n",
       "  \"def fibonacci(n):\\n    a,b= 0,1    \\n    while a < n :        \\n        print(a, end=' ')\\n        a,b = b, a+b\\n    print()\",\n",
       "  'print(type(fibonacci))\\n\\nfibonacci(10)',\n",
       "  'fibo = fibonacci',\n",
       "  'fibo(7)',\n",
       "  \"def fibonacci(n):\\n    a,b= 0,1    \\n    while a < n :        \\n        print(a, end=' ')\\n        a,b = b, a+b\\n    print()\\n    \\ndef fibonacci(n):\\n    'n값 미만의 피보나치 수열을 return'\",\n",
       "  'print(type(fibonacci))\\n\\nfibonacci(10)',\n",
       "  'fibo(7)',\n",
       "  \"def fibonacci(n):\\n    a,b= 0,1    \\n    while a < n :        \\n        print(a, end=' ')\\n        a,b = b, a+b\\n    print()\\n    \\ndef fibonacci(n):\\n    'n값 미만의 피보나치 수열을 return'\\n    result=[]\\n    a,b=0,1\\n    while a< n:\\n        result.append(a)\\n        a,b=b, a+b\\n    return result\",\n",
       "  \"def fibonacci(n):\\n    a,b= 0,1    \\n    while a < n :        \\n        print(a, end=' ')\\n        a,b = b, a+b\\n    print()\\n    \\ndef fibonacci_print(n):\\n    'n값 미만의 피보나치 수열을 return'\\n    result=[]\\n    a,b=0,1\\n    while a< n:\\n        result.append(a)\\n        a,b=b, a+b\\n    return result\",\n",
       "  'x=fibonacci_print(100)',\n",
       "  'x=fibonacci_print(100)\\nprint(x)',\n",
       "  'x=fibonacci_print(100)\\nprint(x, type(x))',\n",
       "  'L=fibonacchi(100)',\n",
       "  \"def fibonacci(n):\\n    a,b= 0,1    \\n    while a < n :        \\n        print(a, end=' ')\\n        a,b = b, a+b\\n    print()\\n    \\ndef fibonacci_print(n):\\n    'n값 미만의 피보나치 수열을 return'\\n    result=[]\\n    a,b=0,1\\n    while a< n:\\n        result.append(a)\\n        a,b=b, a+b\\n    return result\",\n",
       "  'L=fibonacci(100)',\n",
       "  'print(L, type(L))',\n",
       "  \"def fibonacci_print(n):\\n    a,b= 0,1    \\n    while a < n :        \\n        print(a, end=' ')\\n        a,b = b, a+b\\n    print()\\n    \\ndef fibonacci(n):\\n    'n값 미만의 피보나치 수열을 return'\\n    result=[]\\n    a,b=0,1\\n    while a< n:\\n        result.append(a)\\n        a,b=b, a+b\\n    return result\",\n",
       "  'print(type(fibonacci))\\n\\nfibonacci(10)',\n",
       "  'fibo = fibonacci',\n",
       "  'fibo = fibonacci',\n",
       "  'x=fibonacci_print(100)\\nprint(x, type(x))',\n",
       "  'L=fibonacci(100)',\n",
       "  'print(L, type(L))',\n",
       "  'def swap(a,b):\\n    return b,a',\n",
       "  \"x= 5\\ny=10\\nprint('전',x,y)\\nx,y = swap(x,y)\\nprint('후',x,y)\",\n",
       "  'a=swap(x,y)\\nprint(type(a))\\nprint(a)',\n",
       "  \"x,y=5,10\\nprint('전',x,y)\\nx,y = swap(x,y)\\nprint('후',x,y)\",\n",
       "  \"def make_url(ip,port=80):\\n    return 'http://{}:{}'.format(ip,port)\\nmake_url('localhost',80)\",\n",
       "  \"make_url('localhost')\",\n",
       "  \"i=5\\ndef func2(arg=i)\\n    print('arg=',arg)\",\n",
       "  \"i=5\\ndef func2(arg=i):\\n    print('arg=',arg)\",\n",
       "  'i=6\\nfunc2()',\n",
       "  '# 기본 변수가 리스트 셋 딕셔너리 또는 객체일때 함수를 호출후 다시 전달\\nlist_ = []\\ndef func3(a, L=list_):\\n    L.append(a)\\n    return L\\n\\nprint(func3(1))',\n",
       "  '# 기본 변수가 리스트 셋 딕셔너리 또는 객체일때 함수를 호출후 다시 전달\\nlist_ = []\\ndef func3(a, L=list_):\\n    L.append(a)\\n    return L\\n\\nprint(func3(1))\\nprint(list_)',\n",
       "  '# 기본 변수가 리스트 셋 딕셔너리 또는 객체일때 함수를 호출후 다시 전달\\nlist_ = []\\ndef func3(a, L=list_):\\n    L.append(a)\\n    return L\\n\\nprint(func3(1))\\nprint(list_)',\n",
       "  '# 기본 변수가 리스트 셋 딕셔너리 또는 객체일때 함수를 호출후 다시 전달\\nlist_ = []\\ndef func3(a, L=list_):\\n    L.append(a)\\n    return L\\n\\nprint(func3(1))\\nprint(list_)',\n",
       "  '# 기본 변수가 리스트 셋 딕셔너리 또는 객체일때 함수를 호출후 다시 전달\\nlist_ = []\\ndef func3(a, L=list_):\\n    L.append(a)\\n    return L\\n\\nprint(func3(1))\\nprint(list_)',\n",
       "  '# 기본 변수가 리스트 셋 딕셔너리 또는 객체일때 함수를 호출후 다시 전달\\nlist_ = []\\ndef func3(a, L=list_):\\n    L.append(a)\\n    return L\\n\\nprint(func3(1))\\nprint(list_)',\n",
       "  '# 기본 변수가 리스트 셋 딕셔너리 또는 객체일때 함수를 호출후 다시 전달\\nlist_ = []\\ndef func3(a, L=list_):\\n    L.append(a)\\n    return L\\n\\nprint(func3(1))\\nprint(list_)',\n",
       "  'print(func3(2))\\nprint(list_)',\n",
       "  'print(func3(2))\\nprint(list_)',\n",
       "  'print(func3(2))\\nprint(list_)',\n",
       "  'print(func3(2))\\nprint(list_)',\n",
       "  'print(func3(2))\\nprint(list_)',\n",
       "  'print(func3(2))\\nprint(list_)',\n",
       "  'print(func3(2))\\nprint(list_)',\n",
       "  'print(func3(2))\\nprint(list_)',\n",
       "  'print(func3(2))\\nprint(list_)',\n",
       "  '# 기본 변수가 리스트 셋 딕셔너리 또는 객체일때 함수를 호출후 다시 전달\\nlist_ = []\\ndef func3(a, L=list_):\\n    L.append(a)\\n    return L\\n\\nprint(func3(1))\\nprint(list_)',\n",
       "  '# 기본 변수가 리스트 셋 딕셔너리 또는 객체일때 함수를 호출후 다시 전달\\nlist_ = []\\ndef func3(a, L=list_):\\n    L.append(a)\\n    return L\\n\\nprint(func3(1))\\nprint(list_)',\n",
       "  '# 기본 변수가 리스트 셋 딕셔너리 또는 객체일때 함수를 호출후 다시 전달\\nlist_ = []\\ndef func3(a, L=list_):\\n    L.append(a)\\n    return L\\n\\nprint(func3(1))\\nprint(list_)',\n",
       "  '# 기본 변수가 리스트 셋 딕셔너리 또는 객체일때 함수를 호출후 다시 전달\\nlist_ = []\\ndef func3(a, L=list_):\\n    L.append(a)\\n    return L\\n\\nprint(func3(1))\\nprint(list_)',\n",
       "  '# 기본 변수가 리스트 셋 딕셔너리 또는 객체일때 함수를 호출후 다시 전달\\nlist_ = []\\ndef func3(a, L=list_):\\n    L.append(a)\\n    return L\\n\\nprint(func3(1))\\nprint(list_)',\n",
       "  'print(func3(1))\\nprint(list_)',\n",
       "  'print(func3(1))\\nprint(list_)',\n",
       "  'print(func3(1))\\nprint(list_)',\n",
       "  'print(func3(1))\\nprint(list_)',\n",
       "  'print(func3(1))\\nprint(list_)',\n",
       "  'print(func3(1))\\nprint(list_)',\n",
       "  'print(func3(1))\\nprint(list_)',\n",
       "  'print(func3(1))\\nprint(list_)',\n",
       "  'print(func3(1))\\nprint(list_)',\n",
       "  'print(func3(1))\\nprint(list_)',\n",
       "  'print(func3(1))\\nprint(list_)',\n",
       "  'print(func3(1))\\nprint(list_)',\n",
       "  'print(func3(1))\\nprint(list_)',\n",
       "  'print(func3(1))\\nprint(list_)',\n",
       "  'print(func3(1))\\nprint(list_)',\n",
       "  '# 기본 변수가 리스트 셋 딕셔너리 또는 객체일때 함수를 호출후 다시 전달\\nlist_ = []\\ndef func3(a, L=list_):\\n    L.append(a)\\n    return L\\n\\nprint(func3(1))\\nprint(list_)',\n",
       "  'print(func3())\\nprint(list_)',\n",
       "  '# 기본 변수가 리스트 셋 딕셔너리 또는 객체일때 함수를 호출후 다시 전달\\nlist_ = []\\ndef func3(a, L=list_):\\n    L.append(a)\\n    return L\\n\\nprint(func3(1))\\nprint(list_)',\n",
       "  'print(func3())\\nprint(list_)',\n",
       "  'print(func3(2))\\nprint(list_)',\n",
       "  'def func(a, L=[]):\\n    L.append(a)\\n    return L\\n\\nprint(func(1)',\n",
       "  'def func(a, L=[]):\\n    L.append(a)\\n    return L\\n\\nprint(func(1))',\n",
       "  'def func(a, L=[]):\\n    L.append(a)\\n    return L\\n\\nprint(func(1))',\n",
       "  'def func(a, L=[]):\\n    L.append(a)\\n    return L\\n\\nprint(func(1))',\n",
       "  'def func(a, L=[]):\\n    L.append(a)\\n    return L\\n\\nprint(func(1))',\n",
       "  'def func(a, L=[]):\\n    L.append(a)\\n    return L\\n\\nprint(func(1))',\n",
       "  'print(func(1))',\n",
       "  'print(func(1))',\n",
       "  'print(func(1))',\n",
       "  'print(func(1))',\n",
       "  'print(func(1))',\n",
       "  'print(func(1))',\n",
       "  'print(func(1))',\n",
       "  'print(func(1))',\n",
       "  'print(func(1))',\n",
       "  'print(func(1))',\n",
       "  'print(func(1))',\n",
       "  'print(func(1))',\n",
       "  'def func(a,b,c=10)\\n    print(a,b)\\n    \\nfunc(10,20)',\n",
       "  'def func(a,b,c=10):\\n    print(a,b)\\n    \\nfunc(10,20)',\n",
       "  'def func4(a, L=None):\\n    if L is None:\\n        L= []\\n    L.append(a)\\n    return L\\nfunc4(10)',\n",
       "  'func4(30)',\n",
       "  'func4(30)',\n",
       "  'func4(30)',\n",
       "  'func4(30)',\n",
       "  'func4(30)',\n",
       "  'list_ =[]\\nfunc4(10,list_)',\n",
       "  'func4(2,list_)',\n",
       "  'func4(2,list_)',\n",
       "  'func4(2,list_)',\n",
       "  'func4(2,list_)',\n",
       "  'func4([])',\n",
       "  'func4([])',\n",
       "  'func4([])',\n",
       "  'func4([])',\n",
       "  'func4([])',\n",
       "  'func4([])',\n",
       "  'func4([])',\n",
       "  'func4([], a=30)',\n",
       "  '# args앞에  * : args가 튜플 전달\\n\\ndef add(*args):\\n    for i in len(args):\\n        print(i)\\n    \\nadd(1,2,3,4,5)',\n",
       "  '# args앞에  * : args가 튜플 전달\\n\\ndef add(*args):\\n    sum=0\\n    for num in args:\\n        print(num)\\n        sum += num\\n    \\nadd(1,2,3,4,5)',\n",
       "  '# args앞에  * : args가 튜플 전달\\n\\ndef add(*args):\\n    sum=0\\n    for num in args:\\n        print(num)\\n        sum += num\\n    return sum\\n    \\nadd(1,2,3,4,5)',\n",
       "  '# args앞에  * : args가 튜플 전달\\n\\ndef add(*args):\\n    sum=0\\n    {sum+=num for num in args}\\n    print(sum)\\n    \\nadd(1,2,3,4,5)',\n",
       "  '# args앞에  * : args가 튜플 전달\\n\\ndef add(*args):\\n    sum=0\\n    [sum+=num for num in args]\\n    print(sum)\\n    \\nadd(1,2,3,4,5)',\n",
       "  '# args앞에  * : args가 튜플 전달\\n\\ndef add(*args):\\n    sum=0\\n    sum += num for num in args\\n    print(sum)\\n    \\nadd(1,2,3,4,5)',\n",
       "  '# args앞에  * : args가 튜플 전달\\n\\ndef add(*args):\\n    sum=0\\n    sum += [num for num in args]\\n    print(sum)\\n    \\nadd(1,2,3,4,5)',\n",
       "  '# args앞에  * : args가 튜플 전달\\n\\ndef add(*args):\\n    sum=0\\n    sum += (num for num in args)\\n    print(sum)\\n    \\nadd(1,2,3,4,5)',\n",
       "  '# args앞에  * : args가 튜플 전달\\n\\ndef add(*args):\\n    sum=0\\n    sum[num for num in args]\\n    print(sum)\\n    \\nadd(1,2,3,4,5)',\n",
       "  '# args앞에  * : args가 튜플 전달\\n\\ndef add(*args):\\n    sums=0\\n    sum[num for num in args]\\n    print(sum)\\n    \\nadd(1,2,3,4,5)',\n",
       "  '# args앞에  * : args가 튜플 전달\\n\\ndef add(*args):\\n    sums=0\\n    [num for num in args]\\n    print(sum)\\n    \\nadd(1,2,3,4,5)',\n",
       "  '# args앞에  * : args가 튜플 전달\\n\\ndef add(*args):\\n    sums=0\\n    [num for num in args]\\n    print(sums)\\n    \\nadd(1,2,3,4,5)',\n",
       "  '# args앞에  * : args가 튜플 전달\\n\\ndef add(*args):\\n    sums=0\\n    sums = sum[num for num in args]\\n    print(sums)\\n    \\nadd(1,2,3,4,5)',\n",
       "  '# args앞에  * : args가 튜플 전달\\n\\ndef add(*args):\\n    sums=0\\n    sums = [num for num in args]\\n    print(sums)\\n    \\nadd(1,2,3,4,5)',\n",
       "  '# args앞에  * : args가 튜플 전달\\n\\ndef add(*args):\\n    sums=0\\n    sums = [num for num in args]\\n    test = sum(sums)\\n    print(test)\\n    \\n    \\nadd(1,2,3,4,5)',\n",
       "  '# args앞에  * : args가 튜플 전달\\n\\ndef add(*args):\\n    sums=0\\n    sums = sum[num for num in args]    \\n    print(test)\\n    \\n    \\nadd(1,2,3,4,5)',\n",
       "  '# args앞에  * : args가 튜플 전달\\n\\ndef add(*args):\\n    sums=0\\n    test = {num for num in args}\\n    print(test)\\n    \\n    \\nadd(1,2,3,4,5)',\n",
       "  '# args앞에  * : args가 튜플 전달\\n\\ndef add(*args):\\n    sums=0\\n    test = sum({num for num in args})\\n    print(test)\\n    \\n    \\nadd(1,2,3,4,5)',\n",
       "  '# args앞에  * : args가 튜플 전달\\n\\ndef add(*args):\\n    sums=0\\n    test = sum({num for num in args})\\n    test = sum(args)\\n    print(test)\\n    \\n    \\nadd(1,2,3,4,5)',\n",
       "  '# args앞에  * : args가 튜플 전달\\n\\ndef add(*args):\\n    sums=0\\n    test = sum(args)\\n    print(test)\\n    \\n    \\nadd(1,2,3,4,5)',\n",
       "  \"#해결책3\\ndef concat(*args, sep='/'): # 순서 인수 > 튜플인수 > 키워드 인수\\n    return sep.join(args)\\n\\n    \",\n",
       "  \"concat('earth','mars','venus')\",\n",
       "  \"concat('earth','mars','venus')\",\n",
       "  \"def func6(a, *b, **c):\\n    print('a=',a)\\n    print('b=',b)\\n    print('c=',c)\",\n",
       "  \"func6(10,1,2,3,4,5,name='kim', age=30)\",\n",
       "  \"def func7(*b,a, **c):\\n    print('a=',a)\\n    print('b=',b)\\n    print('c=',c)\",\n",
       "  \"func7(10,1,2,3,4,5,name='kim', age=30)\",\n",
       "  'numbers = (1,2,3,4)\\n#add(numbers)\\nadd(*numbers)',\n",
       "  'print(list(range(10)))\\nprint(list(range(5,10)))\\nprint(list(range(5,10,2)))',\n",
       "  'help(range)',\n",
       "  'print(list(range(10)))\\nprint(list(range(5,10)))\\nprint(list(range(5,10,2)))\\n\\n\\nrange(10)',\n",
       "  'print(list(range(10)))\\nprint(list(range(5,10)))\\nprint(list(range(5,10,2)))\\n\\n\\nrange(0,10)',\n",
       "  'print(list(range(10)))\\nprint(list(range(5,10)))\\nprint(list(range(5,10,2)))\\n\\n\\nlist(range(0,10))',\n",
       "  'print(list(range(10)))\\nprint(list(range(5,10)))\\nprint(list(range(5,10,2)))\\n\\nrange()\\n\\nprint(range2(10))\\nprint(range2(5,10))\\nprint(range2(5,10,2))',\n",
       "  'def range2(*args):\\n    a = len(args)\\n    if (a==0):\\n        return\\n    \\n    if (a==1):\\n        start = args[0]\\n    \\n    if (a==2):\\n        stop = args[1]\\n        \\n    if (a==3)\\n        step = args[2]\\n    \\n    return [x in x for range(start,stop,step)]',\n",
       "  'def range2(*args):\\n    a = len(args)\\n    if (a==0):\\n        return\\n    \\n    if (a==1):\\n        start = args[0]\\n    \\n    if (a==2):\\n        stop = args[1]\\n        \\n    if (a==3):\\n        step = args[2]\\n    \\n    return [x in x for range(start,stop,step)]',\n",
       "  'def range2(*args):\\n    a = len(args)\\n    if (a==0):\\n        return\\n    \\n    if (a==1):\\n        start = args[0]\\n    \\n    if (a==2):\\n        stop = args[1]\\n        \\n    if (a==3):\\n        step = args[2]\\n        \\n    temp = list(range(start,stop,step))\\n    \\n    return [x in x for temp]',\n",
       "  'def range2(*args):\\n    a = len(args)\\n    if (a==0):\\n        return\\n    \\n    if (a==1):\\n        start = args[0]\\n    \\n    if (a==2):\\n        stop = args[1]\\n        \\n    if (a==3):\\n        step = args[2]\\n        \\n    temp = list(range(start,stop,step))\\n    \\n    return [x for x in temp]',\n",
       "  'print(range2(10))\\nprint(range2(5,10))\\nprint(range2(5,10,2))',\n",
       "  'def range2(*args):\\n    a = len(args)\\n    start = 0\\n    step =1\\n        \\n    if (a==0):\\n        return\\n    \\n    if (a==1):\\n        stop = args[0]\\n    \\n    if (a==2):\\n        start = args[1]\\n        \\n    if (a==3):\\n        step = args[2]\\n        \\n    temp = list(range(start,stop,step))\\n    \\n    return [x for x in temp]',\n",
       "  'def range2(*args):\\n    a = len(args)\\n    start = 0\\n    step =1\\n        \\n    if (a==0):\\n        return\\n    \\n    if (a==1):\\n        stop = args[0]\\n    \\n    if (a==2):\\n        start = args[1]\\n        \\n    if (a==3):\\n        step = args[2]\\n        \\n    temp = list(range(start,stop,step))\\n    \\n    return [x for x in temp]',\n",
       "  'print(range2(10))\\nprint(range2(5,10))\\nprint(range2(5,10,2))',\n",
       "  'def range2(*args):\\n    a = len(args)\\n    start = 0\\n    step =1\\n        \\n    if (a==0):\\n        return\\n    \\n    if (a==1):\\n        stop = args[0]\\n    \\n    if (a==2):\\n        start = args[0]\\n        stop = args[1]        \\n        \\n    if (a==3):\\n        start = args[0]\\n        stop = args[1]        \\n        step = args[2]\\n        \\n    temp = list(range(start,stop,step))\\n    \\n    return [x for x in temp]',\n",
       "  'print(range2(10))\\nprint(range2(5,10))\\nprint(range2(5,10,2))',\n",
       "  'print(list(range(10)))\\nprint(list(range(5,10)))\\nprint(list(range(5,10,2)))',\n",
       "  'print(range2(10))\\nprint(range2(5,10))\\nprint(range2(5,10,2))\\n\\n\\nrange2()',\n",
       "  \"def range2(*args):\\n    a = len(args)\\n    start = 0\\n    step =1\\n        \\n    if (a==0):\\n        raise Exception('컁')\\n    \\n    if (a==1):\\n        stop = args[0]\\n    \\n    if (a==2):\\n        start = args[0]\\n        stop = args[1]        \\n        \\n    if (a==3):\\n        start = args[0]\\n        stop = args[1]        \\n        step = args[2]\\n        \\n    temp = list(range(start,stop,step))\\n    \\n    return [x for x in temp]\",\n",
       "  'range2()',\n",
       "  'range(10))',\n",
       "  'range(10)',\n",
       "  'range(0,10)',\n",
       "  \"def range2(*args):\\n    a = len(args)\\n    start = 0\\n    step =1\\n        \\n    if (a==0):\\n        raise Exception('컁')\\n    \\n    if (a==1):\\n        stop = args[0]\\n    \\n    if (a==2):\\n        start = args[0]\\n        stop = args[1]        \\n        \\n    if (a==3):\\n        start = args[0]\\n        stop = args[1]        \\n        step = args[2]\\n        \\n    return list(range(start,stop,step))  \\n     \",\n",
       "  'print(range2(10))\\nprint(range2(5,10))\\nprint(range2(5,10,2))',\n",
       "  'range(1,2,3,4,5)',\n",
       "  'range(1,2,3,4)',\n",
       "  \"def range2(*args):\\n    a = len(args)\\n    start = 0\\n    step =1\\n        \\n    if (a==0 | a>3):\\n        raise Exception('컁')\\n    \\n    if (a==1):\\n        stop = args[0]\\n    \\n    if (a==2):\\n        start = args[0]\\n        stop = args[1]        \\n        \\n    if (a==3):\\n        start = args[0]\\n        stop = args[1]        \\n        step = args[2]\\n        \\n    return list(range(start,stop,step))  \\n     \",\n",
       "  'range2(3)',\n",
       "  'range2(1,2,3)',\n",
       "  'range2(1,2,3,4)',\n",
       "  'range2()',\n",
       "  't = (5,10,2)\\nrange2(*t)',\n",
       "  't = (5,10,2)\\nrange2(*t)\\n\\nrange2(t)',\n",
       "  't = (5,10,2)\\nrange2(*t)\\n\\nrange2(*t)',\n",
       "  \"def func5(**data):\\n    for item in data.items():\\n        print(item)\\n \\n func(name='홍길동', age=30, address='마포')\",\n",
       "  \"def func5(**data):\\n    for item in data.items():\\n        print(item)\\n \\n func(name='홍길동', age=30, address='마포')\",\n",
       "  \"def func5(**data):\\n    for item in data.items():\\n        print(item)\\n \\n func5(name='홍길동', age=30, address='마포')\",\n",
       "  \"customerInfo = {'name':'홍길동', 'age':30, 'address':'마포'}\",\n",
       "  \"customerInfo = {'name':'홍길동', 'age':30, 'address':'마포'}\\nfunc5(customerInfo)\",\n",
       "  \"customerInfo = {'name':'홍길동', 'age':30, 'address':'마포'}\\nfunc5(**customerInfo)\",\n",
       "  \"def func5(**data):\\n    for item in data.items():\\n        print(item)\\n \\n func5(name='홍길동', age=30, address='마포')\",\n",
       "  \"customerInfo = {'name':'홍길동', 'age':30, 'address':'마포'}\\nfunc5(**customerInfo)\",\n",
       "  \"customerInfo = {'name':'홍길동', 'age':30, 'address':'마포'}\\nfunc5(**customerInfo)\",\n",
       "  \"def func5(**data):\\n    for item in data.items():\\n        print(item)\\n \\n func5(name='홍길동', age=30, address='마포')\",\n",
       "  \"customerInfo = {'name':'홍길동', 'age':30, 'address':'마포'}\\nfunc5(**customerInfo)\",\n",
       "  \"def func5(**data):\\n    for item in data.items():\\n        print(item)\\n \\n #func5(name='홍길동', age=30, address='마포')\",\n",
       "  \"customerInfo = {'name':'홍길동', 'age':30, 'address':'마포'}\\nfunc5(**customerInfo)\",\n",
       "  'def add(a,b):\\n    return a+b\\nadd(5+6)',\n",
       "  'def add(a,b):\\n    return a+b\\n\\nadd(5+6)',\n",
       "  'def add(a,b):\\n    return a+b\\n\\nadd(5,6)',\n",
       "  'typea(add)',\n",
       "  'type(add)',\n",
       "  'add',\n",
       "  'map_template(lambda x : x*2, list_data)',\n",
       "  '# 리스트 컴프리 헨션\\n[x for x in list_data]',\n",
       "  'list_data = [1,2,3,4,5]\\n# 리스트 컴프리 헨션\\n[x for x in list_data]',\n",
       "  'list_data = [1,2,3,4,5]\\n# 리스트 컴프리 헨션\\n[x*2 for x in list_data]',\n",
       "  'list_data = [1,2,3,4,5]\\n\\nprint(list_data)\\n# 리스트 컴프리 헨션\\n[x*2 for x in list_data]',\n",
       "  'def evenyesorno(x):\\n    if x%2 == 0:\\n        return True\\n    else:\\n        return False',\n",
       "  'list_data =[1,2,3,4,5]\\n\\ndef filter_template(func, L=[]):\\n    result = []\\n    for item in L:\\n        if func(item):\\n            result.append(item)',\n",
       "  'list_data =[1,2,3,4,5]\\n\\ndef filter_template(func, L=[]):\\n    result = []\\n    for item in L:\\n        if func(item):\\n            result.append(item)\\n    return result',\n",
       "  'def filter_template(lambda x : x%2==0, list_data):',\n",
       "  'list_data =[1,2,3,4,5]\\n\\ndef filter_template(func, L=[]):\\n    result = []\\n    for item in L:\\n        if func(item):\\n            result.append(item)\\n    return result',\n",
       "  'def filter_template(lambda x : x%2==0, list_data):',\n",
       "  'filter_template(lambda x : x%2==0, list_data):',\n",
       "  'def evenyesorno(x):\\n    if x%2 == 0:\\n        return True\\n    else:\\n        return False\\n    \\ndef filter_template(evenyesorno, list_data):\\n    result = []\\n    for item in L:\\n        if func(item):\\n            result.append(item)\\n    return result',\n",
       "  'filter_template(lambda x : x%2==0, list_data):',\n",
       "  'filter(lambda x : x%2==0, list_data)',\n",
       "  'list(filter(lambda x : x%2==0, list_data))',\n",
       "  'def evenyesorno(x):\\n    if x%2 == 0:\\n        return True\\n    else:\\n        return False\\n    \\ndef filter_template(evenyesorno, list_data):\\n    result = []\\n    for item in L:\\n        if func(item):\\n            result.append(item)\\n    return result',\n",
       "  'def evenyesorno(x):\\n    if x%2 == 0:\\n        return True\\n    else:\\n        return False\\n    \\ndef filter_template(evenyesorno, list_data):\\n    result = []\\n    for item in L:\\n        if evenyesorno(item):\\n            result.append(item)\\n    return result',\n",
       "  'filter_template(lambda x : x%2==0, list_data):',\n",
       "  '[x for x in list_data if x%2==0]',\n",
       "  \"pairs = [(1,'one'),(3, 'three'),(2,'two'),(4,'four')]\\npairs.sort()\\nparis\",\n",
       "  \"pairs = [(1,'one'),(3, 'three'),(2,'two'),(4,'four')]\\npairs.sort()\\npairs\",\n",
       "  \"pairs = [(1,'one'),(3,'three'),(2,'two'),(4,'four')]\\npairs.sort()\\nparis\",\n",
       "  \"pairs = [(1,'one'),(3,'three'),(2,'two'),(4,'four')]\\npairs.sort()\\npairs\",\n",
       "  'pairs.sort(key=lambda pair:pair[1])',\n",
       "  'pairs.sort(key=lambda pair:pair[1])\\npairs',\n",
       "  'def apply(data, func=None):\\n    if func==None:\\n        return data\\n    else:\\n        return func(data)\\n    \\napply()\\n    ',\n",
       "  'def apply(data, func=None):\\n    if func==None:\\n        return data\\n    else:\\n        return func(data)\\n    \\napply(100, lambda x : x**3)\\n    ',\n",
       "  '# 함수를 return 하는 함수\\ndef make_box(shape):',\n",
       "  '#함수를 return하는 함수\\ndef make_box(shape):\\n    def box(init_value):\\n        if len(shape)==1:\\n            return [init_value]*shape[0]',\n",
       "  '#함수를 return하는 함수\\ndef make_box(shape):\\n    def box(init_value):\\n        if len(shape)==1:\\n            return [init_value]*shape[0]\\n        elif len(shape)==2:\\n    return box',\n",
       "  '#함수를 return하는 함수\\ndef make_box(shape):\\n    def box(init_value):\\n        if len(shape)==1:\\n            return [init_value]*shape[0]\\n        elif len(shape)==2:\\n            return [[init_value]*shape[1]]*shape[0]\\n    return box\\n\\nmake_box((5,))',\n",
       "  '#함수를 return하는 함수\\ndef make_box(shape):\\n    def box(init_value):\\n        if len(shape)==1:\\n            return [init_value]*shape[0]\\n        elif len(shape)==2:\\n            return [[init_value]*shape[1]]*shape[0]\\n    return box\\n\\nprint(make_box((5,)))',\n",
       "  '#함수를 return하는 함수\\ndef make_box(shape):\\n    def box(init_value):\\n        if len(shape)==1:\\n            return [init_value]*shape[0]\\n        elif len(shape)==2:\\n            return [[init_value]*shape[1]]*shape[0]\\n    return box\\n\\nbox1 = make_box((5,))',\n",
       "  '#함수를 return하는 함수\\ndef make_box(shape):\\n    def box(init_value):\\n        if len(shape)==1:\\n            return [init_value]*shape[0]\\n        elif len(shape)==2:\\n            return [[init_value]*shape[1]]*shape[0]\\n    return box\\n\\nbox1 = make_box((5,))\\nbox2 = make_box((2,3))',\n",
       "  '#함수를 return하는 함수\\ndef make_box(shape):\\n    def box(init_value):\\n        if len(shape)==1:\\n            return [init_value]*shape[0]\\n        elif len(shape)==2:\\n            return [[init_value]*shape[1]]*shape[0]\\n    return box\\n\\nbox1 = make_box((5,))\\nbox2 = make_box((2,3))\\n\\nbox1',\n",
       "  '#함수를 return하는 함수\\ndef make_box(shape):\\n    def box(init_value):\\n        if len(shape)==1:\\n            return [init_value]*shape[0]\\n        elif len(shape)==2:\\n            return [[init_value]*shape[1]]*shape[0]\\n    return box\\n\\nbox1 = make_box((5,))\\nbox2 = make_box((2,3))\\n\\nbox1(10)',\n",
       "  '#함수를 return하는 함수\\ndef make_box(shape):\\n    def box(init_value):\\n        if len(shape)==1:\\n            return [init_value]*shape[0]\\n        elif len(shape)==2:\\n            return [[init_value]*shape[1]]*shape[0]\\n    return box\\n\\nbox1 = make_box((5,))\\nbox2 = make_box((2,3))\\n\\nbox1(10)\\nbox2(5)',\n",
       "  'def make_box1(shape):\\n    if len(shape)==1:\\n        return lambda x : [x]*shape[0]\\n    elif len(shape)==2:\\n        return lambda x : [[x]*shape[1]]*shape[0]\\n    return box',\n",
       "  'box1 = make_box1((6))\\nbox2 = make_box1((5,5))',\n",
       "  'box1 = make_box1((6,))\\nbox2 = make_box1((5,5))',\n",
       "  'box1(5)',\n",
       "  'box2(10)',\n",
       "  'globals()'],\n",
       " '_oh': {26: 3165218263408,\n",
       "  30: 3165218263408,\n",
       "  34: 3165262283776,\n",
       "  37: function,\n",
       "  73: [0, 1, 1, 2, 3, 5, 8],\n",
       "  83: 'http://localhost:80',\n",
       "  84: 'http://localhost:80',\n",
       "  149: [10],\n",
       "  150: [30],\n",
       "  151: [30],\n",
       "  152: [30],\n",
       "  153: [30],\n",
       "  154: [30],\n",
       "  155: [10, 2, 2, 2, 2],\n",
       "  156: [10, 2, 2, 2, 2],\n",
       "  157: [10, 2, 2, 2, 2],\n",
       "  158: [10, 2, 2, 2, 2],\n",
       "  159: [10, 2, 2, 2, 2],\n",
       "  160: [[]],\n",
       "  161: [[]],\n",
       "  162: [[]],\n",
       "  163: [[]],\n",
       "  164: [[]],\n",
       "  165: [[]],\n",
       "  166: [[]],\n",
       "  170: 15,\n",
       "  189: 'earth/mars/venus',\n",
       "  190: 'earth/mars/venus',\n",
       "  198: range(0, 10),\n",
       "  199: range(0, 10),\n",
       "  200: [0, 1, 2, 3, 4, 5, 6, 7, 8, 9],\n",
       "  217: range(0, 10),\n",
       "  218: range(0, 10),\n",
       "  224: [0, 1, 2],\n",
       "  225: [1],\n",
       "  228: [5, 7, 9],\n",
       "  230: [5, 7, 9],\n",
       "  251: 11,\n",
       "  253: function,\n",
       "  254: <function __main__.add(a, b)>,\n",
       "  257: [1, 2, 3, 4, 5],\n",
       "  258: [2, 4, 6, 8, 10],\n",
       "  259: [2, 4, 6, 8, 10],\n",
       "  269: <filter at 0x2e0fab44790>,\n",
       "  270: [2, 4],\n",
       "  274: [2, 4],\n",
       "  276: [(1, 'one'), (2, 'two'), (3, 'three'), (4, 'four')],\n",
       "  278: [(4, 'four'), (1, 'one'), (3, 'three'), (2, 'two')],\n",
       "  280: [(4, 'four'), (1, 'one'), (3, 'three'), (2, 'two')],\n",
       "  282: 1000000,\n",
       "  286: <function __main__.make_box.<locals>.box(init_value)>,\n",
       "  290: <function __main__.make_box.<locals>.box(init_value)>,\n",
       "  291: [10, 10, 10, 10, 10],\n",
       "  292: [[5, 5, 5], [5, 5, 5]],\n",
       "  296: [5, 5, 5, 5, 5, 5],\n",
       "  297: [[10, 10, 10, 10, 10],\n",
       "   [10, 10, 10, 10, 10],\n",
       "   [10, 10, 10, 10, 10],\n",
       "   [10, 10, 10, 10, 10],\n",
       "   [10, 10, 10, 10, 10]]},\n",
       " '_dh': ['E:\\\\gon\\\\TJS_BigData\\\\src\\\\08_Python'],\n",
       " 'In': ['',\n",
       "  'def my_add(num1, num2, num3=0):\\n    return num1+num2+num3\\n\\nprint(my_add(20,30,40))\\nprint(my_add(20,30))\\nprint(my_add(20))',\n",
       "  'def my_add(num1, num2, num3=0):\\n    return num1+num2+num3\\n\\nprint(my_add(20,30,40))\\nprint(my_add(20,30))\\nprint(my_add(num1=20))',\n",
       "  'def my_add(num1, num2, num3=0, num4):\\n    return num1+num2+num3\\n\\nprint(my_add(20,30,40))\\nprint(my_add(20,30))\\nprint(my_add(num1=20))',\n",
       "  'def my_add(num1=0, num2=0, num3=0):\\n    return num1+num2+num3\\n\\nprint(my_add(20,30,40))\\nprint(my_add(20,30))\\nprint(my_add(num1=20))',\n",
       "  'def my_add(num1=0, num2=0, num3=0):\\n    return num1+num2+num3\\n\\nprint(my_add(20,30,40))\\nprint(my_add(20,30))\\nprint(my_add(num3=20))',\n",
       "  \"def my_function():\\n    '''함수의 첫 라인에 독스트링 포함 시킬 수 있다.\\n    독 스트링은 함수의 설명서를 달아주는 역할 . 주석보다 많은 기능'''\\n    pass\",\n",
       "  'print(my_function)',\n",
       "  'print(my_function())',\n",
       "  'print(my_function())\\n\\nhelp(my_function)',\n",
       "  'print(my_function())\\n\\nhelp(my_function())',\n",
       "  'def fibonacci(n):\\n    pass',\n",
       "  'fibonacci(10)',\n",
       "  'fibonacci(10)',\n",
       "  'fibonacci(10)',\n",
       "  \"g_var = 100\\ndef func3():\\n    global g_bar\\n    print('before',g_var)\\n    g_var =200\\n    print('after'g_var)\",\n",
       "  \"g_var = 100\\ndef func3():\\n    global g_bar\\n    print('before',g_var)\\n    g_var =200\\n    print('after',g_var)\\n    \\nfunc3()\",\n",
       "  \"g_var = 100\\ndef func3():\\n    print('before',g_var)\\n    g_var =200\\n    print('after',g_var)\\n    \\nfunc3()\",\n",
       "  \"g_var = 100\\ndef func3():\\n    print('before',g_var)\\n    g_var =200\\n    print('after',g_var)\\n    \\nfunc3()\",\n",
       "  \"g_var = 100\\n\\ndef func1():\\n    print('before',g_var)    \\n    print('after',g_var)\\n    \\nfunc3()\",\n",
       "  \"glo_var = 100\\n\\ndef func1():\\n    glo_var = 200\\n    print('before',g_var)    \\n    print('after',glo_var)\\n    \\nfunc3()\",\n",
       "  \"glo_var = 100\\n\\ndef func1():\\n    glo_var = 200\\n    print('before',glo_var)    \\n    print('after',glo_var)\\n    \\nfunc3()\",\n",
       "  \"glo_var = 100\\n\\ndef func1():\\n    glo_var = 200\\n    print('before',glo_var)    \\n    print('after',glo_var)\\nprint('func1() 실행 전 gloval_var값',global_var)\\nfunc1()\\nprint('func1() 실행 후 gloval_var값',global_var)\",\n",
       "  \"glo_var = 100\\n\\ndef func1():\\n    glo_var = 200\\n    print('before',glo_var)    \\n    print('after',glo_var)\\nprint('func1() 실행 전 gloval_var값',glo_var)\\nfunc1()\\nprint('func1() 실행 후 gloval_var값',glo_var)\",\n",
       "  \"glo_var = 100\\n\\ndef func1():\\n    gloval glo_var\\n    glo_var=200\\n    print('before',glo_var)    \\n    print('after',glo_var)\\nprint('func1() 실행 전 gloval_var값',glo_var)\\nfunc1()\\nprint('func1() 실행 후 gloval_var값',glo_var)\",\n",
       "  \"glo_var = 100\\n\\ndef func1():\\n    global glo_var\\n    glo_var=200\\n    print('before',glo_var)    \\n    print('after',glo_var)\\nprint('func1() 실행 전 gloval_var값',glo_var)\\nfunc1()\\nprint('func1() 실행 후 gloval_var값',glo_var)\",\n",
       "  \"foo='a'\\nid(foo)\",\n",
       "  \"def func1(foo):\\n    print('before:',foo, '의 주소는',id(foo))\\n    foo = foo * 3\\n    \",\n",
       "  \"def func1(foo):\\n    print('before:',foo, '의 주소는',id(foo))\\n    foo = foo * 3\\n    \",\n",
       "  \"def func1(foo):\\n    print('before:',foo, '의 주소는',id(foo))\\n    foo = foo * 3\\n\\nfunc1(foo)\",\n",
       "  \"foo='a'\\nid(foo)\",\n",
       "  \"def func1(foo):\\n    print('before:',foo, '의 주소는',id(foo))\\n    foo = foo * 3\\n\\nfunc1(foo)\",\n",
       "  \"def func1(foo):\\n    print('before:',foo, '의 주소는',id(foo))\\n    foo = foo * 3\\n    print('after:',foo, '의 주소는',id(foo))\\n\\nfunc1(foo)\",\n",
       "  \"def func1(foo):\\n    print('before:',foo, '의 주소는',id(foo))\\n    foo = foo * 3\\n    print('after:',foo, '의 주소는',id(foo))\\n\\nfunc1(foo)\\nprint(foo)\",\n",
       "  'L = [1,2,3,4,5]\\nid(L)',\n",
       "  \"def func2(foo):\\n    print('전:', foo,'의 주소:',id(foo))\\n    foo.append(6)\\n    print('후:', foo,'의 주소:',id(foo))\\n    \\nfunc2(L)\\nprint(L)\",\n",
       "  \"def fibonacchi(n):\\n    a,b= 0,1\\n    while a < n :\\n        print(a, end=' ')\\n        a,b = b, a+b\\n    print()\",\n",
       "  'type(fibonacci)',\n",
       "  'fibo = fibonacci',\n",
       "  'fibo(10)',\n",
       "  'fibo(10)',\n",
       "  'fibo(7)',\n",
       "  \"def fibonacchi(n):\\n    a,b= 0,1\\n    while a < n :\\n        print(a, end=' ')\\n        a,b = b, a+b\\n    print()\",\n",
       "  'fibo = fibonacci',\n",
       "  'fibo(7)',\n",
       "  'type(fibonacci)\\n\\nfibonacci(10)',\n",
       "  'print(type(fibonacci))\\n\\nfibonacci(10)',\n",
       "  \"def fibonacchi(n):\\n    a,b= 0,1\\n    while a < n :\\n        print('외않되')\\n        print(a, end=' ')\\n        a,b = b, a+b\\n    print()\",\n",
       "  'print(type(fibonacci))\\n\\nfibonacci(10)',\n",
       "  'print(type(fibonacci))\\n\\nfibonacci(10)',\n",
       "  \"def fibonacchi(n):\\n    a,b= 0,1\\n    while a < n :\\n        print('외않되')\\n        print(a, end=' ')\\n        a,b = b, a+b\\n    print()\",\n",
       "  \"def fibonacchi(n):\\n    a,b= 0,1\\n    print(a,n)\\n    while a < n :\\n        print('외않되')\\n        print(a, end=' ')\\n        a,b = b, a+b\\n    print()\",\n",
       "  'print(type(fibonacci))\\n\\nfibonacci(10)',\n",
       "  \"def fibonacci(n):\\n    a,b= 0,1\\n    print(a,n)\\n    while a < n :\\n        print('외않되')\\n        print(a, end=' ')\\n        a,b = b, a+b\\n    print()\",\n",
       "  'print(type(fibonacci))\\n\\nfibonacci(10)',\n",
       "  'print(type(fibonacci))\\n\\nfibonacci(10)',\n",
       "  \"def fibonacci(n):\\n    a,b= 0,1    \\n    while a < n :        \\n        print(a, end=' ')\\n        a,b = b, a+b\\n    print()\",\n",
       "  'print(type(fibonacci))\\n\\nfibonacci(10)',\n",
       "  'fibo = fibonacci',\n",
       "  'fibo(7)',\n",
       "  \"def fibonacci(n):\\n    a,b= 0,1    \\n    while a < n :        \\n        print(a, end=' ')\\n        a,b = b, a+b\\n    print()\\n    \\ndef fibonacci(n):\\n    'n값 미만의 피보나치 수열을 return'\",\n",
       "  'print(type(fibonacci))\\n\\nfibonacci(10)',\n",
       "  'fibo(7)',\n",
       "  \"def fibonacci(n):\\n    a,b= 0,1    \\n    while a < n :        \\n        print(a, end=' ')\\n        a,b = b, a+b\\n    print()\\n    \\ndef fibonacci(n):\\n    'n값 미만의 피보나치 수열을 return'\\n    result=[]\\n    a,b=0,1\\n    while a< n:\\n        result.append(a)\\n        a,b=b, a+b\\n    return result\",\n",
       "  \"def fibonacci(n):\\n    a,b= 0,1    \\n    while a < n :        \\n        print(a, end=' ')\\n        a,b = b, a+b\\n    print()\\n    \\ndef fibonacci_print(n):\\n    'n값 미만의 피보나치 수열을 return'\\n    result=[]\\n    a,b=0,1\\n    while a< n:\\n        result.append(a)\\n        a,b=b, a+b\\n    return result\",\n",
       "  'x=fibonacci_print(100)',\n",
       "  'x=fibonacci_print(100)\\nprint(x)',\n",
       "  'x=fibonacci_print(100)\\nprint(x, type(x))',\n",
       "  'L=fibonacchi(100)',\n",
       "  \"def fibonacci(n):\\n    a,b= 0,1    \\n    while a < n :        \\n        print(a, end=' ')\\n        a,b = b, a+b\\n    print()\\n    \\ndef fibonacci_print(n):\\n    'n값 미만의 피보나치 수열을 return'\\n    result=[]\\n    a,b=0,1\\n    while a< n:\\n        result.append(a)\\n        a,b=b, a+b\\n    return result\",\n",
       "  'L=fibonacci(100)',\n",
       "  'print(L, type(L))',\n",
       "  \"def fibonacci_print(n):\\n    a,b= 0,1    \\n    while a < n :        \\n        print(a, end=' ')\\n        a,b = b, a+b\\n    print()\\n    \\ndef fibonacci(n):\\n    'n값 미만의 피보나치 수열을 return'\\n    result=[]\\n    a,b=0,1\\n    while a< n:\\n        result.append(a)\\n        a,b=b, a+b\\n    return result\",\n",
       "  'print(type(fibonacci))\\n\\nfibonacci(10)',\n",
       "  'fibo = fibonacci',\n",
       "  'fibo = fibonacci',\n",
       "  'x=fibonacci_print(100)\\nprint(x, type(x))',\n",
       "  'L=fibonacci(100)',\n",
       "  'print(L, type(L))',\n",
       "  'def swap(a,b):\\n    return b,a',\n",
       "  \"x= 5\\ny=10\\nprint('전',x,y)\\nx,y = swap(x,y)\\nprint('후',x,y)\",\n",
       "  'a=swap(x,y)\\nprint(type(a))\\nprint(a)',\n",
       "  \"x,y=5,10\\nprint('전',x,y)\\nx,y = swap(x,y)\\nprint('후',x,y)\",\n",
       "  \"def make_url(ip,port=80):\\n    return 'http://{}:{}'.format(ip,port)\\nmake_url('localhost',80)\",\n",
       "  \"make_url('localhost')\",\n",
       "  \"i=5\\ndef func2(arg=i)\\n    print('arg=',arg)\",\n",
       "  \"i=5\\ndef func2(arg=i):\\n    print('arg=',arg)\",\n",
       "  'i=6\\nfunc2()',\n",
       "  '# 기본 변수가 리스트 셋 딕셔너리 또는 객체일때 함수를 호출후 다시 전달\\nlist_ = []\\ndef func3(a, L=list_):\\n    L.append(a)\\n    return L\\n\\nprint(func3(1))',\n",
       "  '# 기본 변수가 리스트 셋 딕셔너리 또는 객체일때 함수를 호출후 다시 전달\\nlist_ = []\\ndef func3(a, L=list_):\\n    L.append(a)\\n    return L\\n\\nprint(func3(1))\\nprint(list_)',\n",
       "  '# 기본 변수가 리스트 셋 딕셔너리 또는 객체일때 함수를 호출후 다시 전달\\nlist_ = []\\ndef func3(a, L=list_):\\n    L.append(a)\\n    return L\\n\\nprint(func3(1))\\nprint(list_)',\n",
       "  '# 기본 변수가 리스트 셋 딕셔너리 또는 객체일때 함수를 호출후 다시 전달\\nlist_ = []\\ndef func3(a, L=list_):\\n    L.append(a)\\n    return L\\n\\nprint(func3(1))\\nprint(list_)',\n",
       "  '# 기본 변수가 리스트 셋 딕셔너리 또는 객체일때 함수를 호출후 다시 전달\\nlist_ = []\\ndef func3(a, L=list_):\\n    L.append(a)\\n    return L\\n\\nprint(func3(1))\\nprint(list_)',\n",
       "  '# 기본 변수가 리스트 셋 딕셔너리 또는 객체일때 함수를 호출후 다시 전달\\nlist_ = []\\ndef func3(a, L=list_):\\n    L.append(a)\\n    return L\\n\\nprint(func3(1))\\nprint(list_)',\n",
       "  '# 기본 변수가 리스트 셋 딕셔너리 또는 객체일때 함수를 호출후 다시 전달\\nlist_ = []\\ndef func3(a, L=list_):\\n    L.append(a)\\n    return L\\n\\nprint(func3(1))\\nprint(list_)',\n",
       "  'print(func3(2))\\nprint(list_)',\n",
       "  'print(func3(2))\\nprint(list_)',\n",
       "  'print(func3(2))\\nprint(list_)',\n",
       "  'print(func3(2))\\nprint(list_)',\n",
       "  'print(func3(2))\\nprint(list_)',\n",
       "  'print(func3(2))\\nprint(list_)',\n",
       "  'print(func3(2))\\nprint(list_)',\n",
       "  'print(func3(2))\\nprint(list_)',\n",
       "  'print(func3(2))\\nprint(list_)',\n",
       "  '# 기본 변수가 리스트 셋 딕셔너리 또는 객체일때 함수를 호출후 다시 전달\\nlist_ = []\\ndef func3(a, L=list_):\\n    L.append(a)\\n    return L\\n\\nprint(func3(1))\\nprint(list_)',\n",
       "  '# 기본 변수가 리스트 셋 딕셔너리 또는 객체일때 함수를 호출후 다시 전달\\nlist_ = []\\ndef func3(a, L=list_):\\n    L.append(a)\\n    return L\\n\\nprint(func3(1))\\nprint(list_)',\n",
       "  '# 기본 변수가 리스트 셋 딕셔너리 또는 객체일때 함수를 호출후 다시 전달\\nlist_ = []\\ndef func3(a, L=list_):\\n    L.append(a)\\n    return L\\n\\nprint(func3(1))\\nprint(list_)',\n",
       "  '# 기본 변수가 리스트 셋 딕셔너리 또는 객체일때 함수를 호출후 다시 전달\\nlist_ = []\\ndef func3(a, L=list_):\\n    L.append(a)\\n    return L\\n\\nprint(func3(1))\\nprint(list_)',\n",
       "  '# 기본 변수가 리스트 셋 딕셔너리 또는 객체일때 함수를 호출후 다시 전달\\nlist_ = []\\ndef func3(a, L=list_):\\n    L.append(a)\\n    return L\\n\\nprint(func3(1))\\nprint(list_)',\n",
       "  'print(func3(1))\\nprint(list_)',\n",
       "  'print(func3(1))\\nprint(list_)',\n",
       "  'print(func3(1))\\nprint(list_)',\n",
       "  'print(func3(1))\\nprint(list_)',\n",
       "  'print(func3(1))\\nprint(list_)',\n",
       "  'print(func3(1))\\nprint(list_)',\n",
       "  'print(func3(1))\\nprint(list_)',\n",
       "  'print(func3(1))\\nprint(list_)',\n",
       "  'print(func3(1))\\nprint(list_)',\n",
       "  'print(func3(1))\\nprint(list_)',\n",
       "  'print(func3(1))\\nprint(list_)',\n",
       "  'print(func3(1))\\nprint(list_)',\n",
       "  'print(func3(1))\\nprint(list_)',\n",
       "  'print(func3(1))\\nprint(list_)',\n",
       "  'print(func3(1))\\nprint(list_)',\n",
       "  '# 기본 변수가 리스트 셋 딕셔너리 또는 객체일때 함수를 호출후 다시 전달\\nlist_ = []\\ndef func3(a, L=list_):\\n    L.append(a)\\n    return L\\n\\nprint(func3(1))\\nprint(list_)',\n",
       "  'print(func3())\\nprint(list_)',\n",
       "  '# 기본 변수가 리스트 셋 딕셔너리 또는 객체일때 함수를 호출후 다시 전달\\nlist_ = []\\ndef func3(a, L=list_):\\n    L.append(a)\\n    return L\\n\\nprint(func3(1))\\nprint(list_)',\n",
       "  'print(func3())\\nprint(list_)',\n",
       "  'print(func3(2))\\nprint(list_)',\n",
       "  'def func(a, L=[]):\\n    L.append(a)\\n    return L\\n\\nprint(func(1)',\n",
       "  'def func(a, L=[]):\\n    L.append(a)\\n    return L\\n\\nprint(func(1))',\n",
       "  'def func(a, L=[]):\\n    L.append(a)\\n    return L\\n\\nprint(func(1))',\n",
       "  'def func(a, L=[]):\\n    L.append(a)\\n    return L\\n\\nprint(func(1))',\n",
       "  'def func(a, L=[]):\\n    L.append(a)\\n    return L\\n\\nprint(func(1))',\n",
       "  'def func(a, L=[]):\\n    L.append(a)\\n    return L\\n\\nprint(func(1))',\n",
       "  'print(func(1))',\n",
       "  'print(func(1))',\n",
       "  'print(func(1))',\n",
       "  'print(func(1))',\n",
       "  'print(func(1))',\n",
       "  'print(func(1))',\n",
       "  'print(func(1))',\n",
       "  'print(func(1))',\n",
       "  'print(func(1))',\n",
       "  'print(func(1))',\n",
       "  'print(func(1))',\n",
       "  'print(func(1))',\n",
       "  'def func(a,b,c=10)\\n    print(a,b)\\n    \\nfunc(10,20)',\n",
       "  'def func(a,b,c=10):\\n    print(a,b)\\n    \\nfunc(10,20)',\n",
       "  'def func4(a, L=None):\\n    if L is None:\\n        L= []\\n    L.append(a)\\n    return L\\nfunc4(10)',\n",
       "  'func4(30)',\n",
       "  'func4(30)',\n",
       "  'func4(30)',\n",
       "  'func4(30)',\n",
       "  'func4(30)',\n",
       "  'list_ =[]\\nfunc4(10,list_)',\n",
       "  'func4(2,list_)',\n",
       "  'func4(2,list_)',\n",
       "  'func4(2,list_)',\n",
       "  'func4(2,list_)',\n",
       "  'func4([])',\n",
       "  'func4([])',\n",
       "  'func4([])',\n",
       "  'func4([])',\n",
       "  'func4([])',\n",
       "  'func4([])',\n",
       "  'func4([])',\n",
       "  'func4([], a=30)',\n",
       "  '# args앞에  * : args가 튜플 전달\\n\\ndef add(*args):\\n    for i in len(args):\\n        print(i)\\n    \\nadd(1,2,3,4,5)',\n",
       "  '# args앞에  * : args가 튜플 전달\\n\\ndef add(*args):\\n    sum=0\\n    for num in args:\\n        print(num)\\n        sum += num\\n    \\nadd(1,2,3,4,5)',\n",
       "  '# args앞에  * : args가 튜플 전달\\n\\ndef add(*args):\\n    sum=0\\n    for num in args:\\n        print(num)\\n        sum += num\\n    return sum\\n    \\nadd(1,2,3,4,5)',\n",
       "  '# args앞에  * : args가 튜플 전달\\n\\ndef add(*args):\\n    sum=0\\n    {sum+=num for num in args}\\n    print(sum)\\n    \\nadd(1,2,3,4,5)',\n",
       "  '# args앞에  * : args가 튜플 전달\\n\\ndef add(*args):\\n    sum=0\\n    [sum+=num for num in args]\\n    print(sum)\\n    \\nadd(1,2,3,4,5)',\n",
       "  '# args앞에  * : args가 튜플 전달\\n\\ndef add(*args):\\n    sum=0\\n    sum += num for num in args\\n    print(sum)\\n    \\nadd(1,2,3,4,5)',\n",
       "  '# args앞에  * : args가 튜플 전달\\n\\ndef add(*args):\\n    sum=0\\n    sum += [num for num in args]\\n    print(sum)\\n    \\nadd(1,2,3,4,5)',\n",
       "  '# args앞에  * : args가 튜플 전달\\n\\ndef add(*args):\\n    sum=0\\n    sum += (num for num in args)\\n    print(sum)\\n    \\nadd(1,2,3,4,5)',\n",
       "  '# args앞에  * : args가 튜플 전달\\n\\ndef add(*args):\\n    sum=0\\n    sum[num for num in args]\\n    print(sum)\\n    \\nadd(1,2,3,4,5)',\n",
       "  '# args앞에  * : args가 튜플 전달\\n\\ndef add(*args):\\n    sums=0\\n    sum[num for num in args]\\n    print(sum)\\n    \\nadd(1,2,3,4,5)',\n",
       "  '# args앞에  * : args가 튜플 전달\\n\\ndef add(*args):\\n    sums=0\\n    [num for num in args]\\n    print(sum)\\n    \\nadd(1,2,3,4,5)',\n",
       "  '# args앞에  * : args가 튜플 전달\\n\\ndef add(*args):\\n    sums=0\\n    [num for num in args]\\n    print(sums)\\n    \\nadd(1,2,3,4,5)',\n",
       "  '# args앞에  * : args가 튜플 전달\\n\\ndef add(*args):\\n    sums=0\\n    sums = sum[num for num in args]\\n    print(sums)\\n    \\nadd(1,2,3,4,5)',\n",
       "  '# args앞에  * : args가 튜플 전달\\n\\ndef add(*args):\\n    sums=0\\n    sums = [num for num in args]\\n    print(sums)\\n    \\nadd(1,2,3,4,5)',\n",
       "  '# args앞에  * : args가 튜플 전달\\n\\ndef add(*args):\\n    sums=0\\n    sums = [num for num in args]\\n    test = sum(sums)\\n    print(test)\\n    \\n    \\nadd(1,2,3,4,5)',\n",
       "  '# args앞에  * : args가 튜플 전달\\n\\ndef add(*args):\\n    sums=0\\n    sums = sum[num for num in args]    \\n    print(test)\\n    \\n    \\nadd(1,2,3,4,5)',\n",
       "  '# args앞에  * : args가 튜플 전달\\n\\ndef add(*args):\\n    sums=0\\n    test = {num for num in args}\\n    print(test)\\n    \\n    \\nadd(1,2,3,4,5)',\n",
       "  '# args앞에  * : args가 튜플 전달\\n\\ndef add(*args):\\n    sums=0\\n    test = sum({num for num in args})\\n    print(test)\\n    \\n    \\nadd(1,2,3,4,5)',\n",
       "  '# args앞에  * : args가 튜플 전달\\n\\ndef add(*args):\\n    sums=0\\n    test = sum({num for num in args})\\n    test = sum(args)\\n    print(test)\\n    \\n    \\nadd(1,2,3,4,5)',\n",
       "  '# args앞에  * : args가 튜플 전달\\n\\ndef add(*args):\\n    sums=0\\n    test = sum(args)\\n    print(test)\\n    \\n    \\nadd(1,2,3,4,5)',\n",
       "  \"#해결책3\\ndef concat(*args, sep='/'): # 순서 인수 > 튜플인수 > 키워드 인수\\n    return sep.join(args)\\n\\n    \",\n",
       "  \"concat('earth','mars','venus')\",\n",
       "  \"concat('earth','mars','venus')\",\n",
       "  \"def func6(a, *b, **c):\\n    print('a=',a)\\n    print('b=',b)\\n    print('c=',c)\",\n",
       "  \"func6(10,1,2,3,4,5,name='kim', age=30)\",\n",
       "  \"def func7(*b,a, **c):\\n    print('a=',a)\\n    print('b=',b)\\n    print('c=',c)\",\n",
       "  \"func7(10,1,2,3,4,5,name='kim', age=30)\",\n",
       "  'numbers = (1,2,3,4)\\n#add(numbers)\\nadd(*numbers)',\n",
       "  'print(list(range(10)))\\nprint(list(range(5,10)))\\nprint(list(range(5,10,2)))',\n",
       "  'help(range)',\n",
       "  'print(list(range(10)))\\nprint(list(range(5,10)))\\nprint(list(range(5,10,2)))\\n\\n\\nrange(10)',\n",
       "  'print(list(range(10)))\\nprint(list(range(5,10)))\\nprint(list(range(5,10,2)))\\n\\n\\nrange(0,10)',\n",
       "  'print(list(range(10)))\\nprint(list(range(5,10)))\\nprint(list(range(5,10,2)))\\n\\n\\nlist(range(0,10))',\n",
       "  'print(list(range(10)))\\nprint(list(range(5,10)))\\nprint(list(range(5,10,2)))\\n\\nrange()\\n\\nprint(range2(10))\\nprint(range2(5,10))\\nprint(range2(5,10,2))',\n",
       "  'def range2(*args):\\n    a = len(args)\\n    if (a==0):\\n        return\\n    \\n    if (a==1):\\n        start = args[0]\\n    \\n    if (a==2):\\n        stop = args[1]\\n        \\n    if (a==3)\\n        step = args[2]\\n    \\n    return [x in x for range(start,stop,step)]',\n",
       "  'def range2(*args):\\n    a = len(args)\\n    if (a==0):\\n        return\\n    \\n    if (a==1):\\n        start = args[0]\\n    \\n    if (a==2):\\n        stop = args[1]\\n        \\n    if (a==3):\\n        step = args[2]\\n    \\n    return [x in x for range(start,stop,step)]',\n",
       "  'def range2(*args):\\n    a = len(args)\\n    if (a==0):\\n        return\\n    \\n    if (a==1):\\n        start = args[0]\\n    \\n    if (a==2):\\n        stop = args[1]\\n        \\n    if (a==3):\\n        step = args[2]\\n        \\n    temp = list(range(start,stop,step))\\n    \\n    return [x in x for temp]',\n",
       "  'def range2(*args):\\n    a = len(args)\\n    if (a==0):\\n        return\\n    \\n    if (a==1):\\n        start = args[0]\\n    \\n    if (a==2):\\n        stop = args[1]\\n        \\n    if (a==3):\\n        step = args[2]\\n        \\n    temp = list(range(start,stop,step))\\n    \\n    return [x for x in temp]',\n",
       "  'print(range2(10))\\nprint(range2(5,10))\\nprint(range2(5,10,2))',\n",
       "  'def range2(*args):\\n    a = len(args)\\n    start = 0\\n    step =1\\n        \\n    if (a==0):\\n        return\\n    \\n    if (a==1):\\n        stop = args[0]\\n    \\n    if (a==2):\\n        start = args[1]\\n        \\n    if (a==3):\\n        step = args[2]\\n        \\n    temp = list(range(start,stop,step))\\n    \\n    return [x for x in temp]',\n",
       "  'def range2(*args):\\n    a = len(args)\\n    start = 0\\n    step =1\\n        \\n    if (a==0):\\n        return\\n    \\n    if (a==1):\\n        stop = args[0]\\n    \\n    if (a==2):\\n        start = args[1]\\n        \\n    if (a==3):\\n        step = args[2]\\n        \\n    temp = list(range(start,stop,step))\\n    \\n    return [x for x in temp]',\n",
       "  'print(range2(10))\\nprint(range2(5,10))\\nprint(range2(5,10,2))',\n",
       "  'def range2(*args):\\n    a = len(args)\\n    start = 0\\n    step =1\\n        \\n    if (a==0):\\n        return\\n    \\n    if (a==1):\\n        stop = args[0]\\n    \\n    if (a==2):\\n        start = args[0]\\n        stop = args[1]        \\n        \\n    if (a==3):\\n        start = args[0]\\n        stop = args[1]        \\n        step = args[2]\\n        \\n    temp = list(range(start,stop,step))\\n    \\n    return [x for x in temp]',\n",
       "  'print(range2(10))\\nprint(range2(5,10))\\nprint(range2(5,10,2))',\n",
       "  'print(list(range(10)))\\nprint(list(range(5,10)))\\nprint(list(range(5,10,2)))',\n",
       "  'print(range2(10))\\nprint(range2(5,10))\\nprint(range2(5,10,2))\\n\\n\\nrange2()',\n",
       "  \"def range2(*args):\\n    a = len(args)\\n    start = 0\\n    step =1\\n        \\n    if (a==0):\\n        raise Exception('컁')\\n    \\n    if (a==1):\\n        stop = args[0]\\n    \\n    if (a==2):\\n        start = args[0]\\n        stop = args[1]        \\n        \\n    if (a==3):\\n        start = args[0]\\n        stop = args[1]        \\n        step = args[2]\\n        \\n    temp = list(range(start,stop,step))\\n    \\n    return [x for x in temp]\",\n",
       "  'range2()',\n",
       "  'range(10))',\n",
       "  'range(10)',\n",
       "  'range(0,10)',\n",
       "  \"def range2(*args):\\n    a = len(args)\\n    start = 0\\n    step =1\\n        \\n    if (a==0):\\n        raise Exception('컁')\\n    \\n    if (a==1):\\n        stop = args[0]\\n    \\n    if (a==2):\\n        start = args[0]\\n        stop = args[1]        \\n        \\n    if (a==3):\\n        start = args[0]\\n        stop = args[1]        \\n        step = args[2]\\n        \\n    return list(range(start,stop,step))  \\n     \",\n",
       "  'print(range2(10))\\nprint(range2(5,10))\\nprint(range2(5,10,2))',\n",
       "  'range(1,2,3,4,5)',\n",
       "  'range(1,2,3,4)',\n",
       "  \"def range2(*args):\\n    a = len(args)\\n    start = 0\\n    step =1\\n        \\n    if (a==0 | a>3):\\n        raise Exception('컁')\\n    \\n    if (a==1):\\n        stop = args[0]\\n    \\n    if (a==2):\\n        start = args[0]\\n        stop = args[1]        \\n        \\n    if (a==3):\\n        start = args[0]\\n        stop = args[1]        \\n        step = args[2]\\n        \\n    return list(range(start,stop,step))  \\n     \",\n",
       "  'range2(3)',\n",
       "  'range2(1,2,3)',\n",
       "  'range2(1,2,3,4)',\n",
       "  'range2()',\n",
       "  't = (5,10,2)\\nrange2(*t)',\n",
       "  't = (5,10,2)\\nrange2(*t)\\n\\nrange2(t)',\n",
       "  't = (5,10,2)\\nrange2(*t)\\n\\nrange2(*t)',\n",
       "  \"def func5(**data):\\n    for item in data.items():\\n        print(item)\\n \\n func(name='홍길동', age=30, address='마포')\",\n",
       "  \"def func5(**data):\\n    for item in data.items():\\n        print(item)\\n \\n func(name='홍길동', age=30, address='마포')\",\n",
       "  \"def func5(**data):\\n    for item in data.items():\\n        print(item)\\n \\n func5(name='홍길동', age=30, address='마포')\",\n",
       "  \"customerInfo = {'name':'홍길동', 'age':30, 'address':'마포'}\",\n",
       "  \"customerInfo = {'name':'홍길동', 'age':30, 'address':'마포'}\\nfunc5(customerInfo)\",\n",
       "  \"customerInfo = {'name':'홍길동', 'age':30, 'address':'마포'}\\nfunc5(**customerInfo)\",\n",
       "  \"def func5(**data):\\n    for item in data.items():\\n        print(item)\\n \\n func5(name='홍길동', age=30, address='마포')\",\n",
       "  \"customerInfo = {'name':'홍길동', 'age':30, 'address':'마포'}\\nfunc5(**customerInfo)\",\n",
       "  \"customerInfo = {'name':'홍길동', 'age':30, 'address':'마포'}\\nfunc5(**customerInfo)\",\n",
       "  \"def func5(**data):\\n    for item in data.items():\\n        print(item)\\n \\n func5(name='홍길동', age=30, address='마포')\",\n",
       "  \"customerInfo = {'name':'홍길동', 'age':30, 'address':'마포'}\\nfunc5(**customerInfo)\",\n",
       "  \"def func5(**data):\\n    for item in data.items():\\n        print(item)\\n \\n #func5(name='홍길동', age=30, address='마포')\",\n",
       "  \"customerInfo = {'name':'홍길동', 'age':30, 'address':'마포'}\\nfunc5(**customerInfo)\",\n",
       "  'def add(a,b):\\n    return a+b\\nadd(5+6)',\n",
       "  'def add(a,b):\\n    return a+b\\n\\nadd(5+6)',\n",
       "  'def add(a,b):\\n    return a+b\\n\\nadd(5,6)',\n",
       "  'typea(add)',\n",
       "  'type(add)',\n",
       "  'add',\n",
       "  'map_template(lambda x : x*2, list_data)',\n",
       "  '# 리스트 컴프리 헨션\\n[x for x in list_data]',\n",
       "  'list_data = [1,2,3,4,5]\\n# 리스트 컴프리 헨션\\n[x for x in list_data]',\n",
       "  'list_data = [1,2,3,4,5]\\n# 리스트 컴프리 헨션\\n[x*2 for x in list_data]',\n",
       "  'list_data = [1,2,3,4,5]\\n\\nprint(list_data)\\n# 리스트 컴프리 헨션\\n[x*2 for x in list_data]',\n",
       "  'def evenyesorno(x):\\n    if x%2 == 0:\\n        return True\\n    else:\\n        return False',\n",
       "  'list_data =[1,2,3,4,5]\\n\\ndef filter_template(func, L=[]):\\n    result = []\\n    for item in L:\\n        if func(item):\\n            result.append(item)',\n",
       "  'list_data =[1,2,3,4,5]\\n\\ndef filter_template(func, L=[]):\\n    result = []\\n    for item in L:\\n        if func(item):\\n            result.append(item)\\n    return result',\n",
       "  'def filter_template(lambda x : x%2==0, list_data):',\n",
       "  'list_data =[1,2,3,4,5]\\n\\ndef filter_template(func, L=[]):\\n    result = []\\n    for item in L:\\n        if func(item):\\n            result.append(item)\\n    return result',\n",
       "  'def filter_template(lambda x : x%2==0, list_data):',\n",
       "  'filter_template(lambda x : x%2==0, list_data):',\n",
       "  'def evenyesorno(x):\\n    if x%2 == 0:\\n        return True\\n    else:\\n        return False\\n    \\ndef filter_template(evenyesorno, list_data):\\n    result = []\\n    for item in L:\\n        if func(item):\\n            result.append(item)\\n    return result',\n",
       "  'filter_template(lambda x : x%2==0, list_data):',\n",
       "  'filter(lambda x : x%2==0, list_data)',\n",
       "  'list(filter(lambda x : x%2==0, list_data))',\n",
       "  'def evenyesorno(x):\\n    if x%2 == 0:\\n        return True\\n    else:\\n        return False\\n    \\ndef filter_template(evenyesorno, list_data):\\n    result = []\\n    for item in L:\\n        if func(item):\\n            result.append(item)\\n    return result',\n",
       "  'def evenyesorno(x):\\n    if x%2 == 0:\\n        return True\\n    else:\\n        return False\\n    \\ndef filter_template(evenyesorno, list_data):\\n    result = []\\n    for item in L:\\n        if evenyesorno(item):\\n            result.append(item)\\n    return result',\n",
       "  'filter_template(lambda x : x%2==0, list_data):',\n",
       "  '[x for x in list_data if x%2==0]',\n",
       "  \"pairs = [(1,'one'),(3, 'three'),(2,'two'),(4,'four')]\\npairs.sort()\\nparis\",\n",
       "  \"pairs = [(1,'one'),(3, 'three'),(2,'two'),(4,'four')]\\npairs.sort()\\npairs\",\n",
       "  \"pairs = [(1,'one'),(3,'three'),(2,'two'),(4,'four')]\\npairs.sort()\\nparis\",\n",
       "  \"pairs = [(1,'one'),(3,'three'),(2,'two'),(4,'four')]\\npairs.sort()\\npairs\",\n",
       "  'pairs.sort(key=lambda pair:pair[1])',\n",
       "  'pairs.sort(key=lambda pair:pair[1])\\npairs',\n",
       "  'def apply(data, func=None):\\n    if func==None:\\n        return data\\n    else:\\n        return func(data)\\n    \\napply()\\n    ',\n",
       "  'def apply(data, func=None):\\n    if func==None:\\n        return data\\n    else:\\n        return func(data)\\n    \\napply(100, lambda x : x**3)\\n    ',\n",
       "  '# 함수를 return 하는 함수\\ndef make_box(shape):',\n",
       "  '#함수를 return하는 함수\\ndef make_box(shape):\\n    def box(init_value):\\n        if len(shape)==1:\\n            return [init_value]*shape[0]',\n",
       "  '#함수를 return하는 함수\\ndef make_box(shape):\\n    def box(init_value):\\n        if len(shape)==1:\\n            return [init_value]*shape[0]\\n        elif len(shape)==2:\\n    return box',\n",
       "  '#함수를 return하는 함수\\ndef make_box(shape):\\n    def box(init_value):\\n        if len(shape)==1:\\n            return [init_value]*shape[0]\\n        elif len(shape)==2:\\n            return [[init_value]*shape[1]]*shape[0]\\n    return box\\n\\nmake_box((5,))',\n",
       "  '#함수를 return하는 함수\\ndef make_box(shape):\\n    def box(init_value):\\n        if len(shape)==1:\\n            return [init_value]*shape[0]\\n        elif len(shape)==2:\\n            return [[init_value]*shape[1]]*shape[0]\\n    return box\\n\\nprint(make_box((5,)))',\n",
       "  '#함수를 return하는 함수\\ndef make_box(shape):\\n    def box(init_value):\\n        if len(shape)==1:\\n            return [init_value]*shape[0]\\n        elif len(shape)==2:\\n            return [[init_value]*shape[1]]*shape[0]\\n    return box\\n\\nbox1 = make_box((5,))',\n",
       "  '#함수를 return하는 함수\\ndef make_box(shape):\\n    def box(init_value):\\n        if len(shape)==1:\\n            return [init_value]*shape[0]\\n        elif len(shape)==2:\\n            return [[init_value]*shape[1]]*shape[0]\\n    return box\\n\\nbox1 = make_box((5,))\\nbox2 = make_box((2,3))',\n",
       "  '#함수를 return하는 함수\\ndef make_box(shape):\\n    def box(init_value):\\n        if len(shape)==1:\\n            return [init_value]*shape[0]\\n        elif len(shape)==2:\\n            return [[init_value]*shape[1]]*shape[0]\\n    return box\\n\\nbox1 = make_box((5,))\\nbox2 = make_box((2,3))\\n\\nbox1',\n",
       "  '#함수를 return하는 함수\\ndef make_box(shape):\\n    def box(init_value):\\n        if len(shape)==1:\\n            return [init_value]*shape[0]\\n        elif len(shape)==2:\\n            return [[init_value]*shape[1]]*shape[0]\\n    return box\\n\\nbox1 = make_box((5,))\\nbox2 = make_box((2,3))\\n\\nbox1(10)',\n",
       "  '#함수를 return하는 함수\\ndef make_box(shape):\\n    def box(init_value):\\n        if len(shape)==1:\\n            return [init_value]*shape[0]\\n        elif len(shape)==2:\\n            return [[init_value]*shape[1]]*shape[0]\\n    return box\\n\\nbox1 = make_box((5,))\\nbox2 = make_box((2,3))\\n\\nbox1(10)\\nbox2(5)',\n",
       "  'def make_box1(shape):\\n    if len(shape)==1:\\n        return lambda x : [x]*shape[0]\\n    elif len(shape)==2:\\n        return lambda x : [[x]*shape[1]]*shape[0]\\n    return box',\n",
       "  'box1 = make_box1((6))\\nbox2 = make_box1((5,5))',\n",
       "  'box1 = make_box1((6,))\\nbox2 = make_box1((5,5))',\n",
       "  'box1(5)',\n",
       "  'box2(10)',\n",
       "  'globals()'],\n",
       " 'Out': {26: 3165218263408,\n",
       "  30: 3165218263408,\n",
       "  34: 3165262283776,\n",
       "  37: function,\n",
       "  73: [0, 1, 1, 2, 3, 5, 8],\n",
       "  83: 'http://localhost:80',\n",
       "  84: 'http://localhost:80',\n",
       "  149: [10],\n",
       "  150: [30],\n",
       "  151: [30],\n",
       "  152: [30],\n",
       "  153: [30],\n",
       "  154: [30],\n",
       "  155: [10, 2, 2, 2, 2],\n",
       "  156: [10, 2, 2, 2, 2],\n",
       "  157: [10, 2, 2, 2, 2],\n",
       "  158: [10, 2, 2, 2, 2],\n",
       "  159: [10, 2, 2, 2, 2],\n",
       "  160: [[]],\n",
       "  161: [[]],\n",
       "  162: [[]],\n",
       "  163: [[]],\n",
       "  164: [[]],\n",
       "  165: [[]],\n",
       "  166: [[]],\n",
       "  170: 15,\n",
       "  189: 'earth/mars/venus',\n",
       "  190: 'earth/mars/venus',\n",
       "  198: range(0, 10),\n",
       "  199: range(0, 10),\n",
       "  200: [0, 1, 2, 3, 4, 5, 6, 7, 8, 9],\n",
       "  217: range(0, 10),\n",
       "  218: range(0, 10),\n",
       "  224: [0, 1, 2],\n",
       "  225: [1],\n",
       "  228: [5, 7, 9],\n",
       "  230: [5, 7, 9],\n",
       "  251: 11,\n",
       "  253: function,\n",
       "  254: <function __main__.add(a, b)>,\n",
       "  257: [1, 2, 3, 4, 5],\n",
       "  258: [2, 4, 6, 8, 10],\n",
       "  259: [2, 4, 6, 8, 10],\n",
       "  269: <filter at 0x2e0fab44790>,\n",
       "  270: [2, 4],\n",
       "  274: [2, 4],\n",
       "  276: [(1, 'one'), (2, 'two'), (3, 'three'), (4, 'four')],\n",
       "  278: [(4, 'four'), (1, 'one'), (3, 'three'), (2, 'two')],\n",
       "  280: [(4, 'four'), (1, 'one'), (3, 'three'), (2, 'two')],\n",
       "  282: 1000000,\n",
       "  286: <function __main__.make_box.<locals>.box(init_value)>,\n",
       "  290: <function __main__.make_box.<locals>.box(init_value)>,\n",
       "  291: [10, 10, 10, 10, 10],\n",
       "  292: [[5, 5, 5], [5, 5, 5]],\n",
       "  296: [5, 5, 5, 5, 5, 5],\n",
       "  297: [[10, 10, 10, 10, 10],\n",
       "   [10, 10, 10, 10, 10],\n",
       "   [10, 10, 10, 10, 10],\n",
       "   [10, 10, 10, 10, 10],\n",
       "   [10, 10, 10, 10, 10]]},\n",
       " 'get_ipython': <function IPython.core.getipython.get_ipython()>,\n",
       " 'exit': <IPython.core.autocall.ZMQExitAutocall at 0x2e0f83594f0>,\n",
       " 'quit': <IPython.core.autocall.ZMQExitAutocall at 0x2e0f83594f0>,\n",
       " '_': [[10, 10, 10, 10, 10],\n",
       "  [10, 10, 10, 10, 10],\n",
       "  [10, 10, 10, 10, 10],\n",
       "  [10, 10, 10, 10, 10],\n",
       "  [10, 10, 10, 10, 10]],\n",
       " '__': [5, 5, 5, 5, 5, 5],\n",
       " '___': [[5, 5, 5], [5, 5, 5]],\n",
       " 'json': <module 'json' from 'E:\\\\gon\\\\IDE\\\\anaconda3\\\\lib\\\\json\\\\__init__.py'>,\n",
       " 'yapf_reformat': <function __main__.yapf_reformat(cell_text)>,\n",
       " 'autopep8': <module 'autopep8' from 'E:\\\\gon\\\\IDE\\\\anaconda3\\\\lib\\\\site-packages\\\\autopep8.py'>,\n",
       " 'getsizeof': <function sys.getsizeof>,\n",
       " 'NamespaceMagics': IPython.core.magics.namespace.NamespaceMagics,\n",
       " '_nms': <IPython.core.magics.namespace.NamespaceMagics at 0x2e0fab78ee0>,\n",
       " '_Jupyter': <ipykernel.zmqshell.ZMQInteractiveShell at 0x2e0f82e8a30>,\n",
       " 'np': <module 'numpy' from 'E:\\\\gon\\\\IDE\\\\anaconda3\\\\lib\\\\site-packages\\\\numpy\\\\__init__.py'>,\n",
       " '_getsizeof': <function __main__._getsizeof(x)>,\n",
       " '_getshapeof': <function __main__._getshapeof(x)>,\n",
       " 'var_dic_list': <function __main__.var_dic_list()>,\n",
       " '_i': 'box2(10)',\n",
       " '_ii': 'box1(5)',\n",
       " '_iii': 'box1 = make_box1((6,))\\nbox2 = make_box1((5,5))',\n",
       " '_i1': 'def my_add(num1, num2, num3=0):\\n    return num1+num2+num3\\n\\nprint(my_add(20,30,40))\\nprint(my_add(20,30))\\nprint(my_add(20))',\n",
       " 'my_add': <function __main__.my_add(num1=0, num2=0, num3=0)>,\n",
       " '_i2': 'def my_add(num1, num2, num3=0):\\n    return num1+num2+num3\\n\\nprint(my_add(20,30,40))\\nprint(my_add(20,30))\\nprint(my_add(num1=20))',\n",
       " '_i3': 'def my_add(num1, num2, num3=0, num4):\\n    return num1+num2+num3\\n\\nprint(my_add(20,30,40))\\nprint(my_add(20,30))\\nprint(my_add(num1=20))',\n",
       " '_i4': 'def my_add(num1=0, num2=0, num3=0):\\n    return num1+num2+num3\\n\\nprint(my_add(20,30,40))\\nprint(my_add(20,30))\\nprint(my_add(num1=20))',\n",
       " '_i5': 'def my_add(num1=0, num2=0, num3=0):\\n    return num1+num2+num3\\n\\nprint(my_add(20,30,40))\\nprint(my_add(20,30))\\nprint(my_add(num3=20))',\n",
       " '_i6': \"def my_function():\\n    '''함수의 첫 라인에 독스트링 포함 시킬 수 있다.\\n    독 스트링은 함수의 설명서를 달아주는 역할 . 주석보다 많은 기능'''\\n    pass\",\n",
       " 'my_function': <function __main__.my_function()>,\n",
       " '_i7': 'print(my_function)',\n",
       " '_i8': 'print(my_function())',\n",
       " '_i9': 'print(my_function())\\n\\nhelp(my_function)',\n",
       " '_i10': 'print(my_function())\\n\\nhelp(my_function())',\n",
       " '_i11': 'def fibonacci(n):\\n    pass',\n",
       " 'fibonacci': <function __main__.fibonacci(n)>,\n",
       " '_i12': 'fibonacci(10)',\n",
       " '_i13': 'fibonacci(10)',\n",
       " '_i14': 'fibonacci(10)',\n",
       " '_i15': \"g_var = 100\\ndef func3():\\n    global g_bar\\n    print('before',g_var)\\n    g_var =200\\n    print('after'g_var)\",\n",
       " '_i16': \"g_var = 100\\ndef func3():\\n    global g_bar\\n    print('before',g_var)\\n    g_var =200\\n    print('after',g_var)\\n    \\nfunc3()\",\n",
       " 'g_var': 100,\n",
       " 'func3': <function __main__.func3(a, L=[1, 2])>,\n",
       " '_i17': \"g_var = 100\\ndef func3():\\n    print('before',g_var)\\n    g_var =200\\n    print('after',g_var)\\n    \\nfunc3()\",\n",
       " '_i18': \"g_var = 100\\ndef func3():\\n    print('before',g_var)\\n    g_var =200\\n    print('after',g_var)\\n    \\nfunc3()\",\n",
       " '_i19': \"g_var = 100\\n\\ndef func1():\\n    print('before',g_var)    \\n    print('after',g_var)\\n    \\nfunc3()\",\n",
       " 'func1': <function __main__.func1(foo)>,\n",
       " '_i20': \"glo_var = 100\\n\\ndef func1():\\n    glo_var = 200\\n    print('before',g_var)    \\n    print('after',glo_var)\\n    \\nfunc3()\",\n",
       " 'glo_var': 200,\n",
       " '_i21': \"glo_var = 100\\n\\ndef func1():\\n    glo_var = 200\\n    print('before',glo_var)    \\n    print('after',glo_var)\\n    \\nfunc3()\",\n",
       " '_i22': \"glo_var = 100\\n\\ndef func1():\\n    glo_var = 200\\n    print('before',glo_var)    \\n    print('after',glo_var)\\nprint('func1() 실행 전 gloval_var값',global_var)\\nfunc1()\\nprint('func1() 실행 후 gloval_var값',global_var)\",\n",
       " '_i23': \"glo_var = 100\\n\\ndef func1():\\n    glo_var = 200\\n    print('before',glo_var)    \\n    print('after',glo_var)\\nprint('func1() 실행 전 gloval_var값',glo_var)\\nfunc1()\\nprint('func1() 실행 후 gloval_var값',glo_var)\",\n",
       " '_i24': \"glo_var = 100\\n\\ndef func1():\\n    gloval glo_var\\n    glo_var=200\\n    print('before',glo_var)    \\n    print('after',glo_var)\\nprint('func1() 실행 전 gloval_var값',glo_var)\\nfunc1()\\nprint('func1() 실행 후 gloval_var값',glo_var)\",\n",
       " '_i25': \"glo_var = 100\\n\\ndef func1():\\n    global glo_var\\n    glo_var=200\\n    print('before',glo_var)    \\n    print('after',glo_var)\\nprint('func1() 실행 전 gloval_var값',glo_var)\\nfunc1()\\nprint('func1() 실행 후 gloval_var값',glo_var)\",\n",
       " '_i26': \"foo='a'\\nid(foo)\",\n",
       " 'foo': 'a',\n",
       " '_26': 3165218263408,\n",
       " '_i27': \"def func1(foo):\\n    print('before:',foo, '의 주소는',id(foo))\\n    foo = foo * 3\\n    \",\n",
       " '_i28': \"def func1(foo):\\n    print('before:',foo, '의 주소는',id(foo))\\n    foo = foo * 3\\n    \",\n",
       " '_i29': \"def func1(foo):\\n    print('before:',foo, '의 주소는',id(foo))\\n    foo = foo * 3\\n\\nfunc1(foo)\",\n",
       " '_i30': \"foo='a'\\nid(foo)\",\n",
       " '_30': 3165218263408,\n",
       " '_i31': \"def func1(foo):\\n    print('before:',foo, '의 주소는',id(foo))\\n    foo = foo * 3\\n\\nfunc1(foo)\",\n",
       " '_i32': \"def func1(foo):\\n    print('before:',foo, '의 주소는',id(foo))\\n    foo = foo * 3\\n    print('after:',foo, '의 주소는',id(foo))\\n\\nfunc1(foo)\",\n",
       " '_i33': \"def func1(foo):\\n    print('before:',foo, '의 주소는',id(foo))\\n    foo = foo * 3\\n    print('after:',foo, '의 주소는',id(foo))\\n\\nfunc1(foo)\\nprint(foo)\",\n",
       " '_i34': 'L = [1,2,3,4,5]\\nid(L)',\n",
       " 'L': [0, 1, 1, 2, 3, 5, 8, 13, 21, 34, 55, 89],\n",
       " '_34': 3165262283776,\n",
       " '_i35': \"def func2(foo):\\n    print('전:', foo,'의 주소:',id(foo))\\n    foo.append(6)\\n    print('후:', foo,'의 주소:',id(foo))\\n    \\nfunc2(L)\\nprint(L)\",\n",
       " 'func2': <function __main__.func2(arg=5)>,\n",
       " '_i36': \"def fibonacchi(n):\\n    a,b= 0,1\\n    while a < n :\\n        print(a, end=' ')\\n        a,b = b, a+b\\n    print()\",\n",
       " 'fibonacchi': <function __main__.fibonacchi(n)>,\n",
       " '_i37': 'type(fibonacci)',\n",
       " '_37': function,\n",
       " '_i38': 'fibo = fibonacci',\n",
       " 'fibo': <function __main__.fibonacci(n)>,\n",
       " '_i39': 'fibo(10)',\n",
       " '_i40': 'fibo(10)',\n",
       " '_i41': 'fibo(7)',\n",
       " '_i42': \"def fibonacchi(n):\\n    a,b= 0,1\\n    while a < n :\\n        print(a, end=' ')\\n        a,b = b, a+b\\n    print()\",\n",
       " '_i43': 'fibo = fibonacci',\n",
       " '_i44': 'fibo(7)',\n",
       " '_i45': 'type(fibonacci)\\n\\nfibonacci(10)',\n",
       " '_i46': 'print(type(fibonacci))\\n\\nfibonacci(10)',\n",
       " '_i47': \"def fibonacchi(n):\\n    a,b= 0,1\\n    while a < n :\\n        print('외않되')\\n        print(a, end=' ')\\n        a,b = b, a+b\\n    print()\",\n",
       " '_i48': 'print(type(fibonacci))\\n\\nfibonacci(10)',\n",
       " '_i49': 'print(type(fibonacci))\\n\\nfibonacci(10)',\n",
       " '_i50': \"def fibonacchi(n):\\n    a,b= 0,1\\n    while a < n :\\n        print('외않되')\\n        print(a, end=' ')\\n        a,b = b, a+b\\n    print()\",\n",
       " '_i51': \"def fibonacchi(n):\\n    a,b= 0,1\\n    print(a,n)\\n    while a < n :\\n        print('외않되')\\n        print(a, end=' ')\\n        a,b = b, a+b\\n    print()\",\n",
       " '_i52': 'print(type(fibonacci))\\n\\nfibonacci(10)',\n",
       " '_i53': \"def fibonacci(n):\\n    a,b= 0,1\\n    print(a,n)\\n    while a < n :\\n        print('외않되')\\n        print(a, end=' ')\\n        a,b = b, a+b\\n    print()\",\n",
       " '_i54': 'print(type(fibonacci))\\n\\nfibonacci(10)',\n",
       " '_i55': 'print(type(fibonacci))\\n\\nfibonacci(10)',\n",
       " '_i56': \"def fibonacci(n):\\n    a,b= 0,1    \\n    while a < n :        \\n        print(a, end=' ')\\n        a,b = b, a+b\\n    print()\",\n",
       " '_i57': 'print(type(fibonacci))\\n\\nfibonacci(10)',\n",
       " '_i58': 'fibo = fibonacci',\n",
       " '_i59': 'fibo(7)',\n",
       " '_i60': \"def fibonacci(n):\\n    a,b= 0,1    \\n    while a < n :        \\n        print(a, end=' ')\\n        a,b = b, a+b\\n    print()\\n    \\ndef fibonacci(n):\\n    'n값 미만의 피보나치 수열을 return'\",\n",
       " '_i61': 'print(type(fibonacci))\\n\\nfibonacci(10)',\n",
       " '_i62': 'fibo(7)',\n",
       " '_i63': \"def fibonacci(n):\\n    a,b= 0,1    \\n    while a < n :        \\n        print(a, end=' ')\\n        a,b = b, a+b\\n    print()\\n    \\ndef fibonacci(n):\\n    'n값 미만의 피보나치 수열을 return'\\n    result=[]\\n    a,b=0,1\\n    while a< n:\\n        result.append(a)\\n        a,b=b, a+b\\n    return result\",\n",
       " '_i64': \"def fibonacci(n):\\n    a,b= 0,1    \\n    while a < n :        \\n        print(a, end=' ')\\n        a,b = b, a+b\\n    print()\\n    \\ndef fibonacci_print(n):\\n    'n값 미만의 피보나치 수열을 return'\\n    result=[]\\n    a,b=0,1\\n    while a< n:\\n        result.append(a)\\n        a,b=b, a+b\\n    return result\",\n",
       " 'fibonacci_print': <function __main__.fibonacci_print(n)>,\n",
       " '_i65': 'x=fibonacci_print(100)',\n",
       " 'x': 10,\n",
       " '_i66': 'x=fibonacci_print(100)\\nprint(x)',\n",
       " '_i67': 'x=fibonacci_print(100)\\nprint(x, type(x))',\n",
       " '_i68': 'L=fibonacchi(100)',\n",
       " '_i69': \"def fibonacci(n):\\n    a,b= 0,1    \\n    while a < n :        \\n        print(a, end=' ')\\n        a,b = b, a+b\\n    print()\\n    \\ndef fibonacci_print(n):\\n    'n값 미만의 피보나치 수열을 return'\\n    result=[]\\n    a,b=0,1\\n    while a< n:\\n        result.append(a)\\n        a,b=b, a+b\\n    return result\",\n",
       " '_i70': 'L=fibonacci(100)',\n",
       " '_i71': 'print(L, type(L))',\n",
       " '_i72': \"def fibonacci_print(n):\\n    a,b= 0,1    \\n    while a < n :        \\n        print(a, end=' ')\\n        a,b = b, a+b\\n    print()\\n    \\ndef fibonacci(n):\\n    'n값 미만의 피보나치 수열을 return'\\n    result=[]\\n    a,b=0,1\\n    while a< n:\\n        result.append(a)\\n        a,b=b, a+b\\n    return result\",\n",
       " '_i73': 'print(type(fibonacci))\\n\\nfibonacci(10)',\n",
       " '_73': [0, 1, 1, 2, 3, 5, 8],\n",
       " '_i74': 'fibo = fibonacci',\n",
       " '_i75': 'fibo = fibonacci',\n",
       " '_i76': 'x=fibonacci_print(100)\\nprint(x, type(x))',\n",
       " '_i77': 'L=fibonacci(100)',\n",
       " '_i78': 'print(L, type(L))',\n",
       " '_i79': 'def swap(a,b):\\n    return b,a',\n",
       " 'swap': <function __main__.swap(a, b)>,\n",
       " '_i80': \"x= 5\\ny=10\\nprint('전',x,y)\\nx,y = swap(x,y)\\nprint('후',x,y)\",\n",
       " 'y': 5,\n",
       " '_i81': 'a=swap(x,y)\\nprint(type(a))\\nprint(a)',\n",
       " 'a': (5, 10),\n",
       " '_i82': \"x,y=5,10\\nprint('전',x,y)\\nx,y = swap(x,y)\\nprint('후',x,y)\",\n",
       " '_i83': \"def make_url(ip,port=80):\\n    return 'http://{}:{}'.format(ip,port)\\nmake_url('localhost',80)\",\n",
       " 'make_url': <function __main__.make_url(ip, port=80)>,\n",
       " '_83': 'http://localhost:80',\n",
       " '_i84': \"make_url('localhost')\",\n",
       " '_84': 'http://localhost:80',\n",
       " '_i85': \"i=5\\ndef func2(arg=i)\\n    print('arg=',arg)\",\n",
       " '_i86': \"i=5\\ndef func2(arg=i):\\n    print('arg=',arg)\",\n",
       " 'i': 6,\n",
       " '_i87': 'i=6\\nfunc2()',\n",
       " '_i88': '# 기본 변수가 리스트 셋 딕셔너리 또는 객체일때 함수를 호출후 다시 전달\\nlist_ = []\\ndef func3(a, L=list_):\\n    L.append(a)\\n    return L\\n\\nprint(func3(1))',\n",
       " 'list_': [10, 2, 2, 2, 2],\n",
       " '_i89': '# 기본 변수가 리스트 셋 딕셔너리 또는 객체일때 함수를 호출후 다시 전달\\nlist_ = []\\ndef func3(a, L=list_):\\n    L.append(a)\\n    return L\\n\\nprint(func3(1))\\nprint(list_)',\n",
       " '_i90': '# 기본 변수가 리스트 셋 딕셔너리 또는 객체일때 함수를 호출후 다시 전달\\nlist_ = []\\ndef func3(a, L=list_):\\n    L.append(a)\\n    return L\\n\\nprint(func3(1))\\nprint(list_)',\n",
       " '_i91': '# 기본 변수가 리스트 셋 딕셔너리 또는 객체일때 함수를 호출후 다시 전달\\nlist_ = []\\ndef func3(a, L=list_):\\n    L.append(a)\\n    return L\\n\\nprint(func3(1))\\nprint(list_)',\n",
       " '_i92': '# 기본 변수가 리스트 셋 딕셔너리 또는 객체일때 함수를 호출후 다시 전달\\nlist_ = []\\ndef func3(a, L=list_):\\n    L.append(a)\\n    return L\\n\\nprint(func3(1))\\nprint(list_)',\n",
       " '_i93': '# 기본 변수가 리스트 셋 딕셔너리 또는 객체일때 함수를 호출후 다시 전달\\nlist_ = []\\ndef func3(a, L=list_):\\n    L.append(a)\\n    return L\\n\\nprint(func3(1))\\nprint(list_)',\n",
       " '_i94': '# 기본 변수가 리스트 셋 딕셔너리 또는 객체일때 함수를 호출후 다시 전달\\nlist_ = []\\ndef func3(a, L=list_):\\n    L.append(a)\\n    return L\\n\\nprint(func3(1))\\nprint(list_)',\n",
       " '_i95': 'print(func3(2))\\nprint(list_)',\n",
       " '_i96': 'print(func3(2))\\nprint(list_)',\n",
       " '_i97': 'print(func3(2))\\nprint(list_)',\n",
       " '_i98': 'print(func3(2))\\nprint(list_)',\n",
       " '_i99': 'print(func3(2))\\nprint(list_)',\n",
       " '_i100': 'print(func3(2))\\nprint(list_)',\n",
       " '_i101': 'print(func3(2))\\nprint(list_)',\n",
       " '_i102': 'print(func3(2))\\nprint(list_)',\n",
       " '_i103': 'print(func3(2))\\nprint(list_)',\n",
       " '_i104': '# 기본 변수가 리스트 셋 딕셔너리 또는 객체일때 함수를 호출후 다시 전달\\nlist_ = []\\ndef func3(a, L=list_):\\n    L.append(a)\\n    return L\\n\\nprint(func3(1))\\nprint(list_)',\n",
       " '_i105': '# 기본 변수가 리스트 셋 딕셔너리 또는 객체일때 함수를 호출후 다시 전달\\nlist_ = []\\ndef func3(a, L=list_):\\n    L.append(a)\\n    return L\\n\\nprint(func3(1))\\nprint(list_)',\n",
       " '_i106': '# 기본 변수가 리스트 셋 딕셔너리 또는 객체일때 함수를 호출후 다시 전달\\nlist_ = []\\ndef func3(a, L=list_):\\n    L.append(a)\\n    return L\\n\\nprint(func3(1))\\nprint(list_)',\n",
       " '_i107': '# 기본 변수가 리스트 셋 딕셔너리 또는 객체일때 함수를 호출후 다시 전달\\nlist_ = []\\ndef func3(a, L=list_):\\n    L.append(a)\\n    return L\\n\\nprint(func3(1))\\nprint(list_)',\n",
       " '_i108': '# 기본 변수가 리스트 셋 딕셔너리 또는 객체일때 함수를 호출후 다시 전달\\nlist_ = []\\ndef func3(a, L=list_):\\n    L.append(a)\\n    return L\\n\\nprint(func3(1))\\nprint(list_)',\n",
       " '_i109': 'print(func3(1))\\nprint(list_)',\n",
       " '_i110': 'print(func3(1))\\nprint(list_)',\n",
       " '_i111': 'print(func3(1))\\nprint(list_)',\n",
       " '_i112': 'print(func3(1))\\nprint(list_)',\n",
       " '_i113': 'print(func3(1))\\nprint(list_)',\n",
       " '_i114': 'print(func3(1))\\nprint(list_)',\n",
       " '_i115': 'print(func3(1))\\nprint(list_)',\n",
       " '_i116': 'print(func3(1))\\nprint(list_)',\n",
       " '_i117': 'print(func3(1))\\nprint(list_)',\n",
       " '_i118': 'print(func3(1))\\nprint(list_)',\n",
       " '_i119': 'print(func3(1))\\nprint(list_)',\n",
       " '_i120': 'print(func3(1))\\nprint(list_)',\n",
       " '_i121': 'print(func3(1))\\nprint(list_)',\n",
       " '_i122': 'print(func3(1))\\nprint(list_)',\n",
       " '_i123': 'print(func3(1))\\nprint(list_)',\n",
       " '_i124': '# 기본 변수가 리스트 셋 딕셔너리 또는 객체일때 함수를 호출후 다시 전달\\nlist_ = []\\ndef func3(a, L=list_):\\n    L.append(a)\\n    return L\\n\\nprint(func3(1))\\nprint(list_)',\n",
       " '_i125': 'print(func3())\\nprint(list_)',\n",
       " '_i126': '# 기본 변수가 리스트 셋 딕셔너리 또는 객체일때 함수를 호출후 다시 전달\\nlist_ = []\\ndef func3(a, L=list_):\\n    L.append(a)\\n    return L\\n\\nprint(func3(1))\\nprint(list_)',\n",
       " '_i127': 'print(func3())\\nprint(list_)',\n",
       " '_i128': 'print(func3(2))\\nprint(list_)',\n",
       " '_i129': 'def func(a, L=[]):\\n    L.append(a)\\n    return L\\n\\nprint(func(1)',\n",
       " '_i130': 'def func(a, L=[]):\\n    L.append(a)\\n    return L\\n\\nprint(func(1))',\n",
       " 'func': <function __main__.func(a, b, c=10)>,\n",
       " '_i131': 'def func(a, L=[]):\\n    L.append(a)\\n    return L\\n\\nprint(func(1))',\n",
       " '_i132': 'def func(a, L=[]):\\n    L.append(a)\\n    return L\\n\\nprint(func(1))',\n",
       " '_i133': 'def func(a, L=[]):\\n    L.append(a)\\n    return L\\n\\nprint(func(1))',\n",
       " '_i134': 'def func(a, L=[]):\\n    L.append(a)\\n    return L\\n\\nprint(func(1))',\n",
       " '_i135': 'print(func(1))',\n",
       " '_i136': 'print(func(1))',\n",
       " '_i137': 'print(func(1))',\n",
       " '_i138': 'print(func(1))',\n",
       " '_i139': 'print(func(1))',\n",
       " '_i140': 'print(func(1))',\n",
       " '_i141': 'print(func(1))',\n",
       " '_i142': 'print(func(1))',\n",
       " '_i143': 'print(func(1))',\n",
       " '_i144': 'print(func(1))',\n",
       " '_i145': 'print(func(1))',\n",
       " '_i146': 'print(func(1))',\n",
       " '_i147': 'def func(a,b,c=10)\\n    print(a,b)\\n    \\nfunc(10,20)',\n",
       " '_i148': 'def func(a,b,c=10):\\n    print(a,b)\\n    \\nfunc(10,20)',\n",
       " '_i149': 'def func4(a, L=None):\\n    if L is None:\\n        L= []\\n    L.append(a)\\n    return L\\nfunc4(10)',\n",
       " 'func4': <function __main__.func4(a, L=None)>,\n",
       " '_149': [10],\n",
       " '_i150': 'func4(30)',\n",
       " '_150': [30],\n",
       " '_i151': 'func4(30)',\n",
       " '_151': [30],\n",
       " '_i152': 'func4(30)',\n",
       " '_152': [30],\n",
       " '_i153': 'func4(30)',\n",
       " '_153': [30],\n",
       " '_i154': 'func4(30)',\n",
       " '_154': [30],\n",
       " '_i155': 'list_ =[]\\nfunc4(10,list_)',\n",
       " '_155': [10, 2, 2, 2, 2],\n",
       " '_i156': 'func4(2,list_)',\n",
       " '_156': [10, 2, 2, 2, 2],\n",
       " '_i157': 'func4(2,list_)',\n",
       " '_157': [10, 2, 2, 2, 2],\n",
       " '_i158': 'func4(2,list_)',\n",
       " '_158': [10, 2, 2, 2, 2],\n",
       " '_i159': 'func4(2,list_)',\n",
       " '_159': [10, 2, 2, 2, 2],\n",
       " '_i160': 'func4([])',\n",
       " '_160': [[]],\n",
       " '_i161': 'func4([])',\n",
       " '_161': [[]],\n",
       " '_i162': 'func4([])',\n",
       " '_162': [[]],\n",
       " '_i163': 'func4([])',\n",
       " '_163': [[]],\n",
       " '_i164': 'func4([])',\n",
       " '_164': [[]],\n",
       " '_i165': 'func4([])',\n",
       " '_165': [[]],\n",
       " '_i166': 'func4([])',\n",
       " '_166': [[]],\n",
       " '_i167': 'func4([], a=30)',\n",
       " '_i168': '# args앞에  * : args가 튜플 전달\\n\\ndef add(*args):\\n    for i in len(args):\\n        print(i)\\n    \\nadd(1,2,3,4,5)',\n",
       " 'add': <function __main__.add(a, b)>,\n",
       " '_i169': '# args앞에  * : args가 튜플 전달\\n\\ndef add(*args):\\n    sum=0\\n    for num in args:\\n        print(num)\\n        sum += num\\n    \\nadd(1,2,3,4,5)',\n",
       " '_i170': '# args앞에  * : args가 튜플 전달\\n\\ndef add(*args):\\n    sum=0\\n    for num in args:\\n        print(num)\\n        sum += num\\n    return sum\\n    \\nadd(1,2,3,4,5)',\n",
       " '_170': 15,\n",
       " '_i171': '# args앞에  * : args가 튜플 전달\\n\\ndef add(*args):\\n    sum=0\\n    {sum+=num for num in args}\\n    print(sum)\\n    \\nadd(1,2,3,4,5)',\n",
       " '_i172': '# args앞에  * : args가 튜플 전달\\n\\ndef add(*args):\\n    sum=0\\n    [sum+=num for num in args]\\n    print(sum)\\n    \\nadd(1,2,3,4,5)',\n",
       " '_i173': '# args앞에  * : args가 튜플 전달\\n\\ndef add(*args):\\n    sum=0\\n    sum += num for num in args\\n    print(sum)\\n    \\nadd(1,2,3,4,5)',\n",
       " '_i174': '# args앞에  * : args가 튜플 전달\\n\\ndef add(*args):\\n    sum=0\\n    sum += [num for num in args]\\n    print(sum)\\n    \\nadd(1,2,3,4,5)',\n",
       " '_i175': '# args앞에  * : args가 튜플 전달\\n\\ndef add(*args):\\n    sum=0\\n    sum += (num for num in args)\\n    print(sum)\\n    \\nadd(1,2,3,4,5)',\n",
       " '_i176': '# args앞에  * : args가 튜플 전달\\n\\ndef add(*args):\\n    sum=0\\n    sum[num for num in args]\\n    print(sum)\\n    \\nadd(1,2,3,4,5)',\n",
       " '_i177': '# args앞에  * : args가 튜플 전달\\n\\ndef add(*args):\\n    sums=0\\n    sum[num for num in args]\\n    print(sum)\\n    \\nadd(1,2,3,4,5)',\n",
       " '_i178': '# args앞에  * : args가 튜플 전달\\n\\ndef add(*args):\\n    sums=0\\n    [num for num in args]\\n    print(sum)\\n    \\nadd(1,2,3,4,5)',\n",
       " '_i179': '# args앞에  * : args가 튜플 전달\\n\\ndef add(*args):\\n    sums=0\\n    [num for num in args]\\n    print(sums)\\n    \\nadd(1,2,3,4,5)',\n",
       " '_i180': '# args앞에  * : args가 튜플 전달\\n\\ndef add(*args):\\n    sums=0\\n    sums = sum[num for num in args]\\n    print(sums)\\n    \\nadd(1,2,3,4,5)',\n",
       " '_i181': '# args앞에  * : args가 튜플 전달\\n\\ndef add(*args):\\n    sums=0\\n    sums = [num for num in args]\\n    print(sums)\\n    \\nadd(1,2,3,4,5)',\n",
       " '_i182': '# args앞에  * : args가 튜플 전달\\n\\ndef add(*args):\\n    sums=0\\n    sums = [num for num in args]\\n    test = sum(sums)\\n    print(test)\\n    \\n    \\nadd(1,2,3,4,5)',\n",
       " '_i183': '# args앞에  * : args가 튜플 전달\\n\\ndef add(*args):\\n    sums=0\\n    sums = sum[num for num in args]    \\n    print(test)\\n    \\n    \\nadd(1,2,3,4,5)',\n",
       " '_i184': '# args앞에  * : args가 튜플 전달\\n\\ndef add(*args):\\n    sums=0\\n    test = {num for num in args}\\n    print(test)\\n    \\n    \\nadd(1,2,3,4,5)',\n",
       " '_i185': '# args앞에  * : args가 튜플 전달\\n\\ndef add(*args):\\n    sums=0\\n    test = sum({num for num in args})\\n    print(test)\\n    \\n    \\nadd(1,2,3,4,5)',\n",
       " '_i186': '# args앞에  * : args가 튜플 전달\\n\\ndef add(*args):\\n    sums=0\\n    test = sum({num for num in args})\\n    test = sum(args)\\n    print(test)\\n    \\n    \\nadd(1,2,3,4,5)',\n",
       " '_i187': '# args앞에  * : args가 튜플 전달\\n\\ndef add(*args):\\n    sums=0\\n    test = sum(args)\\n    print(test)\\n    \\n    \\nadd(1,2,3,4,5)',\n",
       " '_i188': \"#해결책3\\ndef concat(*args, sep='/'): # 순서 인수 > 튜플인수 > 키워드 인수\\n    return sep.join(args)\\n\\n    \",\n",
       " 'concat': <function __main__.concat(*args, sep='/')>,\n",
       " '_i189': \"concat('earth','mars','venus')\",\n",
       " '_189': 'earth/mars/venus',\n",
       " '_i190': \"concat('earth','mars','venus')\",\n",
       " '_190': 'earth/mars/venus',\n",
       " '_i191': \"def func6(a, *b, **c):\\n    print('a=',a)\\n    print('b=',b)\\n    print('c=',c)\",\n",
       " 'func6': <function __main__.func6(a, *b, **c)>,\n",
       " '_i192': \"func6(10,1,2,3,4,5,name='kim', age=30)\",\n",
       " '_i193': \"def func7(*b,a, **c):\\n    print('a=',a)\\n    print('b=',b)\\n    print('c=',c)\",\n",
       " 'func7': <function __main__.func7(*b, a, **c)>,\n",
       " '_i194': \"func7(10,1,2,3,4,5,name='kim', age=30)\",\n",
       " '_i195': 'numbers = (1,2,3,4)\\n#add(numbers)\\nadd(*numbers)',\n",
       " 'numbers': (1, 2, 3, 4),\n",
       " '_i196': 'print(list(range(10)))\\nprint(list(range(5,10)))\\nprint(list(range(5,10,2)))',\n",
       " '_i197': 'help(range)',\n",
       " '_i198': 'print(list(range(10)))\\nprint(list(range(5,10)))\\nprint(list(range(5,10,2)))\\n\\n\\nrange(10)',\n",
       " '_198': range(0, 10),\n",
       " '_i199': 'print(list(range(10)))\\nprint(list(range(5,10)))\\nprint(list(range(5,10,2)))\\n\\n\\nrange(0,10)',\n",
       " '_199': range(0, 10),\n",
       " '_i200': 'print(list(range(10)))\\nprint(list(range(5,10)))\\nprint(list(range(5,10,2)))\\n\\n\\nlist(range(0,10))',\n",
       " '_200': [0, 1, 2, 3, 4, 5, 6, 7, 8, 9],\n",
       " '_i201': 'print(list(range(10)))\\nprint(list(range(5,10)))\\nprint(list(range(5,10,2)))\\n\\nrange()\\n\\nprint(range2(10))\\nprint(range2(5,10))\\nprint(range2(5,10,2))',\n",
       " '_i202': 'def range2(*args):\\n    a = len(args)\\n    if (a==0):\\n        return\\n    \\n    if (a==1):\\n        start = args[0]\\n    \\n    if (a==2):\\n        stop = args[1]\\n        \\n    if (a==3)\\n        step = args[2]\\n    \\n    return [x in x for range(start,stop,step)]',\n",
       " '_i203': 'def range2(*args):\\n    a = len(args)\\n    if (a==0):\\n        return\\n    \\n    if (a==1):\\n        start = args[0]\\n    \\n    if (a==2):\\n        stop = args[1]\\n        \\n    if (a==3):\\n        step = args[2]\\n    \\n    return [x in x for range(start,stop,step)]',\n",
       " '_i204': 'def range2(*args):\\n    a = len(args)\\n    if (a==0):\\n        return\\n    \\n    if (a==1):\\n        start = args[0]\\n    \\n    if (a==2):\\n        stop = args[1]\\n        \\n    if (a==3):\\n        step = args[2]\\n        \\n    temp = list(range(start,stop,step))\\n    \\n    return [x in x for temp]',\n",
       " '_i205': 'def range2(*args):\\n    a = len(args)\\n    if (a==0):\\n        return\\n    \\n    if (a==1):\\n        start = args[0]\\n    \\n    if (a==2):\\n        stop = args[1]\\n        \\n    if (a==3):\\n        step = args[2]\\n        \\n    temp = list(range(start,stop,step))\\n    \\n    return [x for x in temp]',\n",
       " 'range2': <function __main__.range2(*args)>,\n",
       " '_i206': 'print(range2(10))\\nprint(range2(5,10))\\nprint(range2(5,10,2))',\n",
       " '_i207': 'def range2(*args):\\n    a = len(args)\\n    start = 0\\n    step =1\\n        \\n    if (a==0):\\n        return\\n    \\n    if (a==1):\\n        stop = args[0]\\n    \\n    if (a==2):\\n        start = args[1]\\n        \\n    if (a==3):\\n        step = args[2]\\n        \\n    temp = list(range(start,stop,step))\\n    \\n    return [x for x in temp]',\n",
       " '_i208': 'def range2(*args):\\n    a = len(args)\\n    start = 0\\n    step =1\\n        \\n    if (a==0):\\n        return\\n    \\n    if (a==1):\\n        stop = args[0]\\n    \\n    if (a==2):\\n        start = args[1]\\n        \\n    if (a==3):\\n        step = args[2]\\n        \\n    temp = list(range(start,stop,step))\\n    \\n    return [x for x in temp]',\n",
       " '_i209': 'print(range2(10))\\nprint(range2(5,10))\\nprint(range2(5,10,2))',\n",
       " '_i210': 'def range2(*args):\\n    a = len(args)\\n    start = 0\\n    step =1\\n        \\n    if (a==0):\\n        return\\n    \\n    if (a==1):\\n        stop = args[0]\\n    \\n    if (a==2):\\n        start = args[0]\\n        stop = args[1]        \\n        \\n    if (a==3):\\n        start = args[0]\\n        stop = args[1]        \\n        step = args[2]\\n        \\n    temp = list(range(start,stop,step))\\n    \\n    return [x for x in temp]',\n",
       " '_i211': 'print(range2(10))\\nprint(range2(5,10))\\nprint(range2(5,10,2))',\n",
       " '_i212': 'print(list(range(10)))\\nprint(list(range(5,10)))\\nprint(list(range(5,10,2)))',\n",
       " '_i213': 'print(range2(10))\\nprint(range2(5,10))\\nprint(range2(5,10,2))\\n\\n\\nrange2()',\n",
       " '_i214': \"def range2(*args):\\n    a = len(args)\\n    start = 0\\n    step =1\\n        \\n    if (a==0):\\n        raise Exception('컁')\\n    \\n    if (a==1):\\n        stop = args[0]\\n    \\n    if (a==2):\\n        start = args[0]\\n        stop = args[1]        \\n        \\n    if (a==3):\\n        start = args[0]\\n        stop = args[1]        \\n        step = args[2]\\n        \\n    temp = list(range(start,stop,step))\\n    \\n    return [x for x in temp]\",\n",
       " '_i215': 'range2()',\n",
       " '_i216': 'range(10))',\n",
       " '_i217': 'range(10)',\n",
       " '_217': range(0, 10),\n",
       " '_i218': 'range(0,10)',\n",
       " '_218': range(0, 10),\n",
       " '_i219': \"def range2(*args):\\n    a = len(args)\\n    start = 0\\n    step =1\\n        \\n    if (a==0):\\n        raise Exception('컁')\\n    \\n    if (a==1):\\n        stop = args[0]\\n    \\n    if (a==2):\\n        start = args[0]\\n        stop = args[1]        \\n        \\n    if (a==3):\\n        start = args[0]\\n        stop = args[1]        \\n        step = args[2]\\n        \\n    return list(range(start,stop,step))  \\n     \",\n",
       " '_i220': 'print(range2(10))\\nprint(range2(5,10))\\nprint(range2(5,10,2))',\n",
       " '_i221': 'range(1,2,3,4,5)',\n",
       " '_i222': 'range(1,2,3,4)',\n",
       " '_i223': \"def range2(*args):\\n    a = len(args)\\n    start = 0\\n    step =1\\n        \\n    if (a==0 | a>3):\\n        raise Exception('컁')\\n    \\n    if (a==1):\\n        stop = args[0]\\n    \\n    if (a==2):\\n        start = args[0]\\n        stop = args[1]        \\n        \\n    if (a==3):\\n        start = args[0]\\n        stop = args[1]        \\n        step = args[2]\\n        \\n    return list(range(start,stop,step))  \\n     \",\n",
       " '_i224': 'range2(3)',\n",
       " '_224': [0, 1, 2],\n",
       " '_i225': 'range2(1,2,3)',\n",
       " '_225': [1],\n",
       " '_i226': 'range2(1,2,3,4)',\n",
       " '_i227': 'range2()',\n",
       " '_i228': 't = (5,10,2)\\nrange2(*t)',\n",
       " 't': (5, 10, 2),\n",
       " '_228': [5, 7, 9],\n",
       " '_i229': 't = (5,10,2)\\nrange2(*t)\\n\\nrange2(t)',\n",
       " '_i230': 't = (5,10,2)\\nrange2(*t)\\n\\nrange2(*t)',\n",
       " '_230': [5, 7, 9],\n",
       " '_i231': \"def func5(**data):\\n    for item in data.items():\\n        print(item)\\n \\n func(name='홍길동', age=30, address='마포')\",\n",
       " '_i233': \"def func5(**data):\\n    for item in data.items():\\n        print(item)\\n \\n func(name='홍길동', age=30, address='마포')\",\n",
       " '_i235': \"def func5(**data):\\n    for item in data.items():\\n        print(item)\\n \\n func5(name='홍길동', age=30, address='마포')\",\n",
       " '_i237': \"customerInfo = {'name':'홍길동', 'age':30, 'address':'마포'}\",\n",
       " 'customerInfo': {'name': '홍길동', 'age': 30, 'address': '마포'},\n",
       " '_i238': \"customerInfo = {'name':'홍길동', 'age':30, 'address':'마포'}\\nfunc5(customerInfo)\",\n",
       " '_i239': \"customerInfo = {'name':'홍길동', 'age':30, 'address':'마포'}\\nfunc5(**customerInfo)\",\n",
       " '_i240': \"def func5(**data):\\n    for item in data.items():\\n        print(item)\\n \\n func5(name='홍길동', age=30, address='마포')\",\n",
       " '_i242': \"customerInfo = {'name':'홍길동', 'age':30, 'address':'마포'}\\nfunc5(**customerInfo)\",\n",
       " '_i243': \"customerInfo = {'name':'홍길동', 'age':30, 'address':'마포'}\\nfunc5(**customerInfo)\",\n",
       " '_i244': \"def func5(**data):\\n    for item in data.items():\\n        print(item)\\n \\n func5(name='홍길동', age=30, address='마포')\",\n",
       " '_i246': \"customerInfo = {'name':'홍길동', 'age':30, 'address':'마포'}\\nfunc5(**customerInfo)\",\n",
       " '_i247': \"def func5(**data):\\n    for item in data.items():\\n        print(item)\\n \\n #func5(name='홍길동', age=30, address='마포')\",\n",
       " 'func5': <function __main__.func5(**data)>,\n",
       " '_i248': \"customerInfo = {'name':'홍길동', 'age':30, 'address':'마포'}\\nfunc5(**customerInfo)\",\n",
       " '_i249': 'def add(a,b):\\n    return a+b\\nadd(5+6)',\n",
       " '_i250': 'def add(a,b):\\n    return a+b\\n\\nadd(5+6)',\n",
       " '_i251': 'def add(a,b):\\n    return a+b\\n\\nadd(5,6)',\n",
       " '_251': 11,\n",
       " '_i252': 'typea(add)',\n",
       " '_i253': 'type(add)',\n",
       " '_253': function,\n",
       " '_i254': 'add',\n",
       " '_254': <function __main__.add(a, b)>,\n",
       " '_i255': 'map_template(lambda x : x*2, list_data)',\n",
       " '_i256': '# 리스트 컴프리 헨션\\n[x for x in list_data]',\n",
       " '_i257': 'list_data = [1,2,3,4,5]\\n# 리스트 컴프리 헨션\\n[x for x in list_data]',\n",
       " 'list_data': [1, 2, 3, 4, 5],\n",
       " '_257': [1, 2, 3, 4, 5],\n",
       " '_i258': 'list_data = [1,2,3,4,5]\\n# 리스트 컴프리 헨션\\n[x*2 for x in list_data]',\n",
       " '_258': [2, 4, 6, 8, 10],\n",
       " '_i259': 'list_data = [1,2,3,4,5]\\n\\nprint(list_data)\\n# 리스트 컴프리 헨션\\n[x*2 for x in list_data]',\n",
       " '_259': [2, 4, 6, 8, 10],\n",
       " '_i260': 'def evenyesorno(x):\\n    if x%2 == 0:\\n        return True\\n    else:\\n        return False',\n",
       " 'evenyesorno': <function __main__.evenyesorno(x)>,\n",
       " '_i261': 'list_data =[1,2,3,4,5]\\n\\ndef filter_template(func, L=[]):\\n    result = []\\n    for item in L:\\n        if func(item):\\n            result.append(item)',\n",
       " 'filter_template': <function __main__.filter_template(evenyesorno, list_data)>,\n",
       " '_i262': 'list_data =[1,2,3,4,5]\\n\\ndef filter_template(func, L=[]):\\n    result = []\\n    for item in L:\\n        if func(item):\\n            result.append(item)\\n    return result',\n",
       " '_i263': 'def filter_template(lambda x : x%2==0, list_data):',\n",
       " '_i264': 'list_data =[1,2,3,4,5]\\n\\ndef filter_template(func, L=[]):\\n    result = []\\n    for item in L:\\n        if func(item):\\n            result.append(item)\\n    return result',\n",
       " '_i265': 'def filter_template(lambda x : x%2==0, list_data):',\n",
       " '_i266': 'filter_template(lambda x : x%2==0, list_data):',\n",
       " '_i267': 'def evenyesorno(x):\\n    if x%2 == 0:\\n        return True\\n    else:\\n        return False\\n    \\ndef filter_template(evenyesorno, list_data):\\n    result = []\\n    for item in L:\\n        if func(item):\\n            result.append(item)\\n    return result',\n",
       " '_i268': 'filter_template(lambda x : x%2==0, list_data):',\n",
       " '_i269': 'filter(lambda x : x%2==0, list_data)',\n",
       " '_269': <filter at 0x2e0fab44790>,\n",
       " '_i270': 'list(filter(lambda x : x%2==0, list_data))',\n",
       " '_270': [2, 4],\n",
       " '_i271': 'def evenyesorno(x):\\n    if x%2 == 0:\\n        return True\\n    else:\\n        return False\\n    \\ndef filter_template(evenyesorno, list_data):\\n    result = []\\n    for item in L:\\n        if func(item):\\n            result.append(item)\\n    return result',\n",
       " '_i272': 'def evenyesorno(x):\\n    if x%2 == 0:\\n        return True\\n    else:\\n        return False\\n    \\ndef filter_template(evenyesorno, list_data):\\n    result = []\\n    for item in L:\\n        if evenyesorno(item):\\n            result.append(item)\\n    return result',\n",
       " '_i273': 'filter_template(lambda x : x%2==0, list_data):',\n",
       " '_i274': '[x for x in list_data if x%2==0]',\n",
       " '_274': [2, 4],\n",
       " '_i275': \"pairs = [(1,'one'),(3, 'three'),(2,'two'),(4,'four')]\\npairs.sort()\\nparis\",\n",
       " 'pairs': [(4, 'four'), (1, 'one'), (3, 'three'), (2, 'two')],\n",
       " '_i276': \"pairs = [(1,'one'),(3, 'three'),(2,'two'),(4,'four')]\\npairs.sort()\\npairs\",\n",
       " '_276': [(1, 'one'), (2, 'two'), (3, 'three'), (4, 'four')],\n",
       " '_i277': \"pairs = [(1,'one'),(3,'three'),(2,'two'),(4,'four')]\\npairs.sort()\\nparis\",\n",
       " '_i278': \"pairs = [(1,'one'),(3,'three'),(2,'two'),(4,'four')]\\npairs.sort()\\npairs\",\n",
       " '_278': [(4, 'four'), (1, 'one'), (3, 'three'), (2, 'two')],\n",
       " '_i279': 'pairs.sort(key=lambda pair:pair[1])',\n",
       " '_i280': 'pairs.sort(key=lambda pair:pair[1])\\npairs',\n",
       " '_280': [(4, 'four'), (1, 'one'), (3, 'three'), (2, 'two')],\n",
       " '_i281': 'def apply(data, func=None):\\n    if func==None:\\n        return data\\n    else:\\n        return func(data)\\n    \\napply()\\n    ',\n",
       " 'apply': <function __main__.apply(data, func=None)>,\n",
       " '_i282': 'def apply(data, func=None):\\n    if func==None:\\n        return data\\n    else:\\n        return func(data)\\n    \\napply(100, lambda x : x**3)\\n    ',\n",
       " '_282': 1000000,\n",
       " '_i283': '# 함수를 return 하는 함수\\ndef make_box(shape):',\n",
       " '_i284': '#함수를 return하는 함수\\ndef make_box(shape):\\n    def box(init_value):\\n        if len(shape)==1:\\n            return [init_value]*shape[0]',\n",
       " 'make_box': <function __main__.make_box(shape)>,\n",
       " '_i285': '#함수를 return하는 함수\\ndef make_box(shape):\\n    def box(init_value):\\n        if len(shape)==1:\\n            return [init_value]*shape[0]\\n        elif len(shape)==2:\\n    return box',\n",
       " '_i286': '#함수를 return하는 함수\\ndef make_box(shape):\\n    def box(init_value):\\n        if len(shape)==1:\\n            return [init_value]*shape[0]\\n        elif len(shape)==2:\\n            return [[init_value]*shape[1]]*shape[0]\\n    return box\\n\\nmake_box((5,))',\n",
       " '_286': <function __main__.make_box.<locals>.box(init_value)>,\n",
       " '_i287': '#함수를 return하는 함수\\ndef make_box(shape):\\n    def box(init_value):\\n        if len(shape)==1:\\n            return [init_value]*shape[0]\\n        elif len(shape)==2:\\n            return [[init_value]*shape[1]]*shape[0]\\n    return box\\n\\nprint(make_box((5,)))',\n",
       " '_i288': '#함수를 return하는 함수\\ndef make_box(shape):\\n    def box(init_value):\\n        if len(shape)==1:\\n            return [init_value]*shape[0]\\n        elif len(shape)==2:\\n            return [[init_value]*shape[1]]*shape[0]\\n    return box\\n\\nbox1 = make_box((5,))',\n",
       " 'box1': <function __main__.make_box1.<locals>.<lambda>(x)>,\n",
       " '_i289': '#함수를 return하는 함수\\ndef make_box(shape):\\n    def box(init_value):\\n        if len(shape)==1:\\n            return [init_value]*shape[0]\\n        elif len(shape)==2:\\n            return [[init_value]*shape[1]]*shape[0]\\n    return box\\n\\nbox1 = make_box((5,))\\nbox2 = make_box((2,3))',\n",
       " 'box2': <function __main__.make_box1.<locals>.<lambda>(x)>,\n",
       " '_i290': '#함수를 return하는 함수\\ndef make_box(shape):\\n    def box(init_value):\\n        if len(shape)==1:\\n            return [init_value]*shape[0]\\n        elif len(shape)==2:\\n            return [[init_value]*shape[1]]*shape[0]\\n    return box\\n\\nbox1 = make_box((5,))\\nbox2 = make_box((2,3))\\n\\nbox1',\n",
       " '_290': <function __main__.make_box.<locals>.box(init_value)>,\n",
       " '_i291': '#함수를 return하는 함수\\ndef make_box(shape):\\n    def box(init_value):\\n        if len(shape)==1:\\n            return [init_value]*shape[0]\\n        elif len(shape)==2:\\n            return [[init_value]*shape[1]]*shape[0]\\n    return box\\n\\nbox1 = make_box((5,))\\nbox2 = make_box((2,3))\\n\\nbox1(10)',\n",
       " '_291': [10, 10, 10, 10, 10],\n",
       " '_i292': '#함수를 return하는 함수\\ndef make_box(shape):\\n    def box(init_value):\\n        if len(shape)==1:\\n            return [init_value]*shape[0]\\n        elif len(shape)==2:\\n            return [[init_value]*shape[1]]*shape[0]\\n    return box\\n\\nbox1 = make_box((5,))\\nbox2 = make_box((2,3))\\n\\nbox1(10)\\nbox2(5)',\n",
       " '_292': [[5, 5, 5], [5, 5, 5]],\n",
       " '_i293': 'def make_box1(shape):\\n    if len(shape)==1:\\n        return lambda x : [x]*shape[0]\\n    elif len(shape)==2:\\n        return lambda x : [[x]*shape[1]]*shape[0]\\n    return box',\n",
       " 'make_box1': <function __main__.make_box1(shape)>,\n",
       " '_i294': 'box1 = make_box1((6))\\nbox2 = make_box1((5,5))',\n",
       " '_i295': 'box1 = make_box1((6,))\\nbox2 = make_box1((5,5))',\n",
       " '_i296': 'box1(5)',\n",
       " '_296': [5, 5, 5, 5, 5, 5],\n",
       " '_i297': 'box2(10)',\n",
       " '_297': [[10, 10, 10, 10, 10],\n",
       "  [10, 10, 10, 10, 10],\n",
       "  [10, 10, 10, 10, 10],\n",
       "  [10, 10, 10, 10, 10],\n",
       "  [10, 10, 10, 10, 10]],\n",
       " '_i298': 'globals()'}"
      ]
     },
     "execution_count": 298,
     "metadata": {},
     "output_type": "execute_result"
    }
   ],
   "source": [
    "globals() # 전역변수들 딕셔너리"
   ]
  },
  {
   "cell_type": "code",
   "execution_count": 299,
   "metadata": {
    "ExecuteTime": {
     "end_time": "2021-02-24T07:18:53.701412Z",
     "start_time": "2021-02-24T07:18:53.695439Z"
    }
   },
   "outputs": [
    {
     "name": "stdout",
     "output_type": "stream",
     "text": [
      "{'n': 5, 'L': [0, 1, 2, 3, 4], 'i': 4}\n"
     ]
    },
    {
     "data": {
      "text/plain": [
       "[0, 1, 2, 3, 4]"
      ]
     },
     "execution_count": 299,
     "metadata": {},
     "output_type": "execute_result"
    }
   ],
   "source": [
    "def abc(n):\n",
    "    L=[]\n",
    "    for i in range(n):\n",
    "        L.append(i)\n",
    "    print(locals()) #지역 변수들 출력\n",
    "    return L\n",
    "abc(5)"
   ]
  },
  {
   "cell_type": "code",
   "execution_count": 300,
   "metadata": {
    "ExecuteTime": {
     "end_time": "2021-02-24T07:22:42.130801Z",
     "start_time": "2021-02-24T07:22:42.126832Z"
    }
   },
   "outputs": [],
   "source": [
    "class Test:\n",
    "    def __init__(self,a,b):\n",
    "        self.a = a\n",
    "        self.b = b\n",
    "    def print_info(self):\n",
    "        print(self.a, self.b)\n",
    "        "
   ]
  },
  {
   "cell_type": "code",
   "execution_count": 302,
   "metadata": {
    "ExecuteTime": {
     "end_time": "2021-02-24T07:22:58.033329Z",
     "start_time": "2021-02-24T07:22:58.030074Z"
    }
   },
   "outputs": [
    {
     "name": "stdout",
     "output_type": "stream",
     "text": [
      "10 8\n"
     ]
    }
   ],
   "source": [
    "t = Test(10,8)\n",
    "t.print_info()"
   ]
  },
  {
   "cell_type": "code",
   "execution_count": 304,
   "metadata": {
    "ExecuteTime": {
     "end_time": "2021-02-24T07:23:12.274486Z",
     "start_time": "2021-02-24T07:23:12.270517Z"
    }
   },
   "outputs": [
    {
     "data": {
      "text/plain": [
       "True"
      ]
     },
     "execution_count": 304,
     "metadata": {},
     "output_type": "execute_result"
    }
   ],
   "source": [
    "isinstance(t, Test)"
   ]
  },
  {
   "cell_type": "code",
   "execution_count": 305,
   "metadata": {
    "ExecuteTime": {
     "end_time": "2021-02-24T07:26:31.572143Z",
     "start_time": "2021-02-24T07:26:31.567177Z"
    }
   },
   "outputs": [
    {
     "data": {
      "text/plain": [
       "False"
      ]
     },
     "execution_count": 305,
     "metadata": {},
     "output_type": "execute_result"
    }
   ],
   "source": [
    "all([0,1,2,3])"
   ]
  },
  {
   "cell_type": "code",
   "execution_count": 306,
   "metadata": {
    "ExecuteTime": {
     "end_time": "2021-02-24T07:26:37.521717Z",
     "start_time": "2021-02-24T07:26:37.517739Z"
    }
   },
   "outputs": [
    {
     "data": {
      "text/plain": [
       "True"
      ]
     },
     "execution_count": 306,
     "metadata": {},
     "output_type": "execute_result"
    }
   ],
   "source": [
    "all([4,1,2,3])"
   ]
  },
  {
   "cell_type": "code",
   "execution_count": 308,
   "metadata": {
    "ExecuteTime": {
     "end_time": "2021-02-24T07:27:01.682368Z",
     "start_time": "2021-02-24T07:27:01.677382Z"
    }
   },
   "outputs": [
    {
     "data": {
      "text/plain": [
       "(4, 3.7)"
      ]
     },
     "execution_count": 308,
     "metadata": {},
     "output_type": "execute_result"
    }
   ],
   "source": [
    "round(3.69), round(3.69,1)"
   ]
  },
  {
   "cell_type": "markdown",
   "metadata": {},
   "source": [
    "# 6절 연습문제"
   ]
  },
  {
   "cell_type": "code",
   "execution_count": null,
   "metadata": {},
   "outputs": [],
   "source": [
    "#실1\n",
    "def_get"
   ]
  },
  {
   "cell_type": "code",
   "execution_count": null,
   "metadata": {},
   "outputs": [],
   "source": []
  },
  {
   "cell_type": "code",
   "execution_count": null,
   "metadata": {},
   "outputs": [],
   "source": []
  },
  {
   "cell_type": "code",
   "execution_count": null,
   "metadata": {},
   "outputs": [],
   "source": []
  },
  {
   "cell_type": "code",
   "execution_count": null,
   "metadata": {},
   "outputs": [],
   "source": []
  },
  {
   "cell_type": "code",
   "execution_count": null,
   "metadata": {},
   "outputs": [],
   "source": []
  },
  {
   "cell_type": "code",
   "execution_count": null,
   "metadata": {},
   "outputs": [],
   "source": []
  },
  {
   "cell_type": "code",
   "execution_count": null,
   "metadata": {},
   "outputs": [],
   "source": []
  },
  {
   "cell_type": "code",
   "execution_count": null,
   "metadata": {},
   "outputs": [],
   "source": []
  },
  {
   "cell_type": "code",
   "execution_count": null,
   "metadata": {},
   "outputs": [],
   "source": []
  },
  {
   "cell_type": "code",
   "execution_count": null,
   "metadata": {},
   "outputs": [],
   "source": []
  }
 ],
 "metadata": {
  "kernelspec": {
   "display_name": "Python 3",
   "language": "python",
   "name": "python3"
  },
  "language_info": {
   "codemirror_mode": {
    "name": "ipython",
    "version": 3
   },
   "file_extension": ".py",
   "mimetype": "text/x-python",
   "name": "python",
   "nbconvert_exporter": "python",
   "pygments_lexer": "ipython3",
   "version": "3.8.5"
  },
  "toc": {
   "base_numbering": 1,
   "nav_menu": {},
   "number_sections": false,
   "sideBar": true,
   "skip_h1_title": false,
   "title_cell": "Table of Contents",
   "title_sidebar": "Contents",
   "toc_cell": false,
   "toc_position": {},
   "toc_section_display": true,
   "toc_window_display": true
  },
  "varInspector": {
   "cols": {
    "lenName": 16,
    "lenType": 16,
    "lenVar": 40
   },
   "kernels_config": {
    "python": {
     "delete_cmd_postfix": "",
     "delete_cmd_prefix": "del ",
     "library": "var_list.py",
     "varRefreshCmd": "print(var_dic_list())"
    },
    "r": {
     "delete_cmd_postfix": ") ",
     "delete_cmd_prefix": "rm(",
     "library": "var_list.r",
     "varRefreshCmd": "cat(var_dic_list()) "
    }
   },
   "types_to_exclude": [
    "module",
    "function",
    "builtin_function_or_method",
    "instance",
    "_Feature"
   ],
   "window_display": false
  }
 },
 "nbformat": 4,
 "nbformat_minor": 4
}
