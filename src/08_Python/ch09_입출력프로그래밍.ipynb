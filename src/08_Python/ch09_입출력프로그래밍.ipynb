{
 "cells": [
  {
   "cell_type": "markdown",
   "metadata": {},
   "source": [
    "**<font size=\"6\" color=\"red\">ch08. 예외처리</font>**\n",
    "- 예외가 날 가능성이 있는 부분에 대해 미리 대비하는 프로그래밍"
   ]
  },
  {
   "cell_type": "code",
   "execution_count": 4,
   "metadata": {
    "ExecuteTime": {
     "end_time": "2021-02-26T08:22:04.829060Z",
     "start_time": "2021-02-26T08:22:04.826068Z"
    }
   },
   "outputs": [],
   "source": [
    "f =  open('data/ch09_sample.txt','w')\n",
    "#print(f.writable())\n",
    "          "
   ]
  },
  {
   "cell_type": "code",
   "execution_count": 7,
   "metadata": {
    "ExecuteTime": {
     "end_time": "2021-02-26T08:39:29.677872Z",
     "start_time": "2021-02-26T08:39:29.672886Z"
    }
   },
   "outputs": [
    {
     "name": "stdout",
     "output_type": "stream",
     "text": [
      "True\n"
     ]
    }
   ],
   "source": [
    "# with 구문 이용하면 파일을 영어 사용한후 매번 닫아주는 코드를 작성하지 않아도 됨\n",
    "with open('data/ch09_sample.txt','w') as f:\n",
    "    print(f.writable())\n",
    "    f.write('Python is easy\\nPython is smart.\\n')"
   ]
  },
  {
   "cell_type": "code",
   "execution_count": 8,
   "metadata": {
    "ExecuteTime": {
     "end_time": "2021-02-26T08:39:52.247073Z",
     "start_time": "2021-02-26T08:39:52.231880Z"
    }
   },
   "outputs": [],
   "source": [
    "with open('data/ch09_sample.txt','a') as f:\n",
    "    print('프린트 함수로 파일 쓰기가 가능합니다.',file=f)"
   ]
  },
  {
   "cell_type": "code",
   "execution_count": 12,
   "metadata": {
    "ExecuteTime": {
     "end_time": "2021-02-26T08:45:55.103075Z",
     "start_time": "2021-02-26T08:45:55.098075Z"
    }
   },
   "outputs": [],
   "source": [
    "with open('data/ch09_sample.txt','a') as f:\n",
    "    f.write('1 방법.Hello\\nworld\\n')\n",
    "    textlist = ['Python is easy','R is smart.','Java is smart.']\n",
    "    f.write('2 방법.')\n",
    "    for line in textlist:\n",
    "        f.write(line)\n",
    "    f.write('3 방법.')\n",
    "    f.writelines(textlist)"
   ]
  },
  {
   "cell_type": "code",
   "execution_count": 16,
   "metadata": {
    "ExecuteTime": {
     "end_time": "2021-02-26T08:52:58.111224Z",
     "start_time": "2021-02-26T08:52:58.088279Z"
    }
   },
   "outputs": [
    {
     "name": "stdout",
     "output_type": "stream",
     "text": [
      "Python is easy\n",
      "Python is smart.\n",
      "프린트 함수로 파일 쓰기가 가능합니다.\n",
      "Hello\n",
      "world\n",
      "Hello\n",
      "world\n",
      "Hello\n",
      "world\n",
      "1 방법.Hello\n",
      "world\n",
      "2 방법.Python is easyR is smart.Java is smart.3 방법.Python is easyR is smart.Java is smart.\n"
     ]
    }
   ],
   "source": [
    "with open('data/ch09_sample.txt','r') as f:\n",
    "    lines =f.readlines()\n",
    "    for line in lines:\n",
    "        print(line.strip())"
   ]
  },
  {
   "cell_type": "code",
   "execution_count": null,
   "metadata": {},
   "outputs": [],
   "source": [
    "# 파일을 한줄 읽고 한줄 출력하고, 한줄 읽고 한줄 출력하고..\n",
    "with open('data/ch09_sample.txt','r') as f:\n",
    "    line =f.readline()\n",
    "    for line in lines:\n",
    "        print(line.strip())"
   ]
  },
  {
   "cell_type": "markdown",
   "metadata": {},
   "source": [
    "# 2절. 피클을 이용한 객체 저장 및 가져오기"
   ]
  },
  {
   "cell_type": "markdown",
   "metadata": {},
   "source": [
    "## 형식이 있는 텍스트 데이터"
   ]
  },
  {
   "cell_type": "code",
   "execution_count": 23,
   "metadata": {
    "ExecuteTime": {
     "end_time": "2021-02-26T09:11:30.588715Z",
     "start_time": "2021-02-26T09:11:30.583728Z"
    }
   },
   "outputs": [
    {
     "name": "stdout",
     "output_type": "stream",
     "text": [
      "이름:홍길동\t나이:22\t이멜:abc@abc.com\t주소:서울시 서대문구\t\n",
      "이름:김길동\t나이:23\t이멜:bbb@abc.com\t주소:서울시 영등포구\t\n"
     ]
    }
   ],
   "source": [
    "with open('data/ch09_member.txt','r',encoding='UTF8') as f:\n",
    "    lines =f.readlines()\n",
    "    for line in lines:\n",
    "        data = line.strip().split(',')\n",
    "        name = data[0]\n",
    "        age = data[1]\n",
    "        email =data[2]\n",
    "        address = data[3]\n",
    "        print('이름:{}\\t나이:{}\\t이멜:{}\\t주소:{}\\t'.format(name,age,email,address))"
   ]
  },
  {
   "cell_type": "markdown",
   "metadata": {},
   "source": [
    "## 2.2 피클링"
   ]
  },
  {
   "cell_type": "code",
   "execution_count": 24,
   "metadata": {
    "ExecuteTime": {
     "end_time": "2021-02-26T09:15:06.204643Z",
     "start_time": "2021-02-26T09:15:06.199684Z"
    }
   },
   "outputs": [],
   "source": [
    "class Member:\n",
    "    def __init__(self, name, age, email, address):\n",
    "        self.name = name\n",
    "        self.age = age\n",
    "        self.email = email\n",
    "        self.address = address\n",
    "    def __str__(self):\n",
    "        return('이름:{}\\t나이:{}\\t이멜:{}\\t주소:{}\\t'.format(self.name,self.age,self.email,self.address))\n",
    "    \n"
   ]
  },
  {
   "cell_type": "code",
   "execution_count": 25,
   "metadata": {
    "ExecuteTime": {
     "end_time": "2021-02-26T09:15:54.798018Z",
     "start_time": "2021-02-26T09:15:54.791056Z"
    }
   },
   "outputs": [
    {
     "name": "stdout",
     "output_type": "stream",
     "text": [
      "이름:홍길동\t나이:22\t이멜:abc@abc.com\t주소:서울시 서대문구\t\n",
      "이름:김길동\t나이:23\t이멜:bbb@abc.com\t주소:서울시 영등포구\t\n"
     ]
    }
   ],
   "source": [
    "with open('data/ch09_member.txt','r',encoding='UTF8') as f:\n",
    "    lines =f.readlines()\n",
    "    for line in lines:\n",
    "        data = line.strip().split(',')\n",
    "        name = data[0]\n",
    "        age = data[1]\n",
    "        email =data[2]\n",
    "        address = data[3]\n",
    "        print('이름:{}\\t나이:{}\\t이멜:{}\\t주소:{}\\t'.format(name,age,email,address))"
   ]
  },
  {
   "cell_type": "code",
   "execution_count": 28,
   "metadata": {
    "ExecuteTime": {
     "end_time": "2021-02-26T09:19:53.883333Z",
     "start_time": "2021-02-26T09:19:53.879363Z"
    }
   },
   "outputs": [],
   "source": [
    "user1 = Member('홍길동',20,'hong@hong.com','서울')\n",
    "user2 = Member('김길동',30,'hong@hong.com','부산')\n",
    "user3 = Member('박길동',40,'hong@hong.com','창원')\n",
    "user_list = [user1, user2, user3]"
   ]
  },
  {
   "cell_type": "code",
   "execution_count": 30,
   "metadata": {
    "ExecuteTime": {
     "end_time": "2021-02-26T09:20:13.419163Z",
     "start_time": "2021-02-26T09:20:13.415173Z"
    }
   },
   "outputs": [],
   "source": [
    "with open('data/ch09_member.txt','wb') as f:\n",
    "    import pickle\n",
    "    pickle.dump(user_list,f)"
   ]
  },
  {
   "cell_type": "code",
   "execution_count": 32,
   "metadata": {
    "ExecuteTime": {
     "end_time": "2021-02-26T09:20:34.715665Z",
     "start_time": "2021-02-26T09:20:34.711699Z"
    }
   },
   "outputs": [
    {
     "name": "stdout",
     "output_type": "stream",
     "text": [
      "이름:홍길동\t나이:20\t이멜:hong@hong.com\t주소:서울\t\n",
      "이름:김길동\t나이:30\t이멜:hong@hong.com\t주소:부산\t\n",
      "이름:박길동\t나이:40\t이멜:hong@hong.com\t주소:창원\t\n"
     ]
    }
   ],
   "source": [
    "with open('data/ch09_member.txt','rb') as f:\n",
    "    ul = pickle.load(f)\n",
    "    for user in ul:\n",
    "        print(user)"
   ]
  },
  {
   "cell_type": "code",
   "execution_count": null,
   "metadata": {},
   "outputs": [],
   "source": []
  },
  {
   "cell_type": "code",
   "execution_count": null,
   "metadata": {},
   "outputs": [],
   "source": []
  },
  {
   "cell_type": "code",
   "execution_count": null,
   "metadata": {},
   "outputs": [],
   "source": []
  },
  {
   "cell_type": "code",
   "execution_count": null,
   "metadata": {},
   "outputs": [],
   "source": []
  }
 ],
 "metadata": {
  "kernelspec": {
   "display_name": "Python 3",
   "language": "python",
   "name": "python3"
  },
  "language_info": {
   "codemirror_mode": {
    "name": "ipython",
    "version": 3
   },
   "file_extension": ".py",
   "mimetype": "text/x-python",
   "name": "python",
   "nbconvert_exporter": "python",
   "pygments_lexer": "ipython3",
   "version": "3.8.5"
  },
  "toc": {
   "base_numbering": 1,
   "nav_menu": {},
   "number_sections": true,
   "sideBar": true,
   "skip_h1_title": false,
   "title_cell": "Table of Contents",
   "title_sidebar": "Contents",
   "toc_cell": false,
   "toc_position": {},
   "toc_section_display": true,
   "toc_window_display": false
  },
  "varInspector": {
   "cols": {
    "lenName": 16,
    "lenType": 16,
    "lenVar": 40
   },
   "kernels_config": {
    "python": {
     "delete_cmd_postfix": "",
     "delete_cmd_prefix": "del ",
     "library": "var_list.py",
     "varRefreshCmd": "print(var_dic_list())"
    },
    "r": {
     "delete_cmd_postfix": ") ",
     "delete_cmd_prefix": "rm(",
     "library": "var_list.r",
     "varRefreshCmd": "cat(var_dic_list()) "
    }
   },
   "types_to_exclude": [
    "module",
    "function",
    "builtin_function_or_method",
    "instance",
    "_Feature"
   ],
   "window_display": false
  }
 },
 "nbformat": 4,
 "nbformat_minor": 4
}
