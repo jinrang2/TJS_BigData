{
 "cells": [
  {
   "cell_type": "markdown",
   "metadata": {},
   "source": [
    "**<font size=\"6\" color=\"red\">ch08. 예외처리</font>**\n",
    "- 예외가 날 가능성이 있는 부분에 대해 미리 대비하는 프로그래밍"
   ]
  },
  {
   "cell_type": "code",
   "execution_count": 4,
   "metadata": {
    "ExecuteTime": {
     "end_time": "2021-02-26T08:22:04.829060Z",
     "start_time": "2021-02-26T08:22:04.826068Z"
    }
   },
   "outputs": [],
   "source": [
    "f =  open('data/ch09_sample.txt','w')\n",
    "#print(f.writable())\n",
    "          "
   ]
  },
  {
   "cell_type": "code",
   "execution_count": 7,
   "metadata": {
    "ExecuteTime": {
     "end_time": "2021-02-26T08:39:29.677872Z",
     "start_time": "2021-02-26T08:39:29.672886Z"
    }
   },
   "outputs": [
    {
     "name": "stdout",
     "output_type": "stream",
     "text": [
      "True\n"
     ]
    }
   ],
   "source": [
    "# with 구문 이용하면 파일을 영어 사용한후 매번 닫아주는 코드를 작성하지 않아도 됨\n",
    "with open('data/ch09_sample.txt','w') as f:\n",
    "    print(f.writable())\n",
    "    f.write('Python is easy\\nPython is smart.\\n')"
   ]
  },
  {
   "cell_type": "code",
   "execution_count": 8,
   "metadata": {
    "ExecuteTime": {
     "end_time": "2021-02-26T08:39:52.247073Z",
     "start_time": "2021-02-26T08:39:52.231880Z"
    }
   },
   "outputs": [],
   "source": [
    "with open('data/ch09_sample.txt','a') as f:\n",
    "    print('프린트 함수로 파일 쓰기가 가능합니다.',file=f)"
   ]
  },
  {
   "cell_type": "code",
   "execution_count": 12,
   "metadata": {
    "ExecuteTime": {
     "end_time": "2021-02-26T08:45:55.103075Z",
     "start_time": "2021-02-26T08:45:55.098075Z"
    }
   },
   "outputs": [],
   "source": [
    "with open('data/ch09_sample.txt','a') as f:\n",
    "    f.write('1 방법.Hello\\nworld\\n')\n",
    "    textlist = ['Python is easy','R is smart.','Java is smart.']\n",
    "    f.write('2 방법.')\n",
    "    for line in textlist:\n",
    "        f.write(line)\n",
    "    f.write('3 방법.')\n",
    "    f.writelines(textlist)"
   ]
  },
  {
   "cell_type": "code",
   "execution_count": 16,
   "metadata": {
    "ExecuteTime": {
     "end_time": "2021-02-26T08:52:58.111224Z",
     "start_time": "2021-02-26T08:52:58.088279Z"
    }
   },
   "outputs": [
    {
     "name": "stdout",
     "output_type": "stream",
     "text": [
      "Python is easy\n",
      "Python is smart.\n",
      "프린트 함수로 파일 쓰기가 가능합니다.\n",
      "Hello\n",
      "world\n",
      "Hello\n",
      "world\n",
      "Hello\n",
      "world\n",
      "1 방법.Hello\n",
      "world\n",
      "2 방법.Python is easyR is smart.Java is smart.3 방법.Python is easyR is smart.Java is smart.\n"
     ]
    }
   ],
   "source": [
    "with open('data/ch09_sample.txt','r') as f:\n",
    "    lines =f.readlines()\n",
    "    for line in lines:\n",
    "        print(line.strip())"
   ]
  },
  {
   "cell_type": "code",
   "execution_count": null,
   "metadata": {},
   "outputs": [],
   "source": [
    "# 파일을 한줄 읽고 한줄 출력하고, 한줄 읽고 한줄 출력하고..\n",
    "with open('data/ch09_sample.txt','r') as f:\n",
    "    line =f.readline()\n",
    "    for line in lines:\n",
    "        print(line.strip())"
   ]
  },
  {
   "cell_type": "markdown",
   "metadata": {},
   "source": [
    "# 2절. 피클을 이용한 객체 저장 및 가져오기"
   ]
  },
  {
   "cell_type": "markdown",
   "metadata": {},
   "source": [
    "## 형식이 있는 텍스트 데이터"
   ]
  },
  {
   "cell_type": "code",
   "execution_count": 23,
   "metadata": {
    "ExecuteTime": {
     "end_time": "2021-02-26T09:11:30.588715Z",
     "start_time": "2021-02-26T09:11:30.583728Z"
    }
   },
   "outputs": [
    {
     "name": "stdout",
     "output_type": "stream",
     "text": [
      "이름:홍길동\t나이:22\t이멜:abc@abc.com\t주소:서울시 서대문구\t\n",
      "이름:김길동\t나이:23\t이멜:bbb@abc.com\t주소:서울시 영등포구\t\n"
     ]
    }
   ],
   "source": [
    "with open('data/ch09_member.txt','r',encoding='UTF8') as f:\n",
    "    lines =f.readlines()\n",
    "    for line in lines:\n",
    "        data = line.strip().split(',')\n",
    "        name = data[0]\n",
    "        age = data[1]\n",
    "        email =data[2]\n",
    "        address = data[3]\n",
    "        print('이름:{}\\t나이:{}\\t이멜:{}\\t주소:{}\\t'.format(name,age,email,address))"
   ]
  },
  {
   "cell_type": "markdown",
   "metadata": {},
   "source": [
    "## 2.2 피클링"
   ]
  },
  {
   "cell_type": "code",
   "execution_count": 24,
   "metadata": {
    "ExecuteTime": {
     "end_time": "2021-02-26T09:15:06.204643Z",
     "start_time": "2021-02-26T09:15:06.199684Z"
    }
   },
   "outputs": [],
   "source": [
    "class Member:\n",
    "    def __init__(self, name, age, email, address):\n",
    "        self.name = name\n",
    "        self.age = age\n",
    "        self.email = email\n",
    "        self.address = address\n",
    "    def __str__(self):\n",
    "        return('이름:{}\\t나이:{}\\t이멜:{}\\t주소:{}\\t'.format(self.name,self.age,self.email,self.address))\n",
    "    \n"
   ]
  },
  {
   "cell_type": "code",
   "execution_count": 25,
   "metadata": {
    "ExecuteTime": {
     "end_time": "2021-02-26T09:15:54.798018Z",
     "start_time": "2021-02-26T09:15:54.791056Z"
    }
   },
   "outputs": [
    {
     "name": "stdout",
     "output_type": "stream",
     "text": [
      "이름:홍길동\t나이:22\t이멜:abc@abc.com\t주소:서울시 서대문구\t\n",
      "이름:김길동\t나이:23\t이멜:bbb@abc.com\t주소:서울시 영등포구\t\n"
     ]
    }
   ],
   "source": [
    "with open('data/ch09_member.txt','r',encoding='UTF8') as f:\n",
    "    lines =f.readlines()\n",
    "    for line in lines:\n",
    "        data = line.strip().split(',')\n",
    "        name = data[0]\n",
    "        age = data[1]\n",
    "        email =data[2]\n",
    "        address = data[3]\n",
    "        print('이름:{}\\t나이:{}\\t이멜:{}\\t주소:{}\\t'.format(name,age,email,address))"
   ]
  },
  {
   "cell_type": "code",
   "execution_count": 28,
   "metadata": {
    "ExecuteTime": {
     "end_time": "2021-02-26T09:19:53.883333Z",
     "start_time": "2021-02-26T09:19:53.879363Z"
    }
   },
   "outputs": [],
   "source": [
    "user1 = Member('홍길동',20,'hong@hong.com','서울')\n",
    "user2 = Member('김길동',30,'hong@hong.com','부산')\n",
    "user3 = Member('박길동',40,'hong@hong.com','창원')\n",
    "user_list = [user1, user2, user3]"
   ]
  },
  {
   "cell_type": "code",
   "execution_count": 30,
   "metadata": {
    "ExecuteTime": {
     "end_time": "2021-02-26T09:20:13.419163Z",
     "start_time": "2021-02-26T09:20:13.415173Z"
    }
   },
   "outputs": [],
   "source": [
    "with open('data/ch09_member.txt','wb') as f:\n",
    "    import pickle\n",
    "    pickle.dump(user_list,f)"
   ]
  },
  {
   "cell_type": "code",
   "execution_count": 32,
   "metadata": {
    "ExecuteTime": {
     "end_time": "2021-02-26T09:20:34.715665Z",
     "start_time": "2021-02-26T09:20:34.711699Z"
    }
   },
   "outputs": [
    {
     "name": "stdout",
     "output_type": "stream",
     "text": [
      "이름:홍길동\t나이:20\t이멜:hong@hong.com\t주소:서울\t\n",
      "이름:김길동\t나이:30\t이멜:hong@hong.com\t주소:부산\t\n",
      "이름:박길동\t나이:40\t이멜:hong@hong.com\t주소:창원\t\n"
     ]
    }
   ],
   "source": [
    "with open('data/ch09_member.txt','rb') as f:\n",
    "    ul = pickle.load(f)\n",
    "    for user in ul:\n",
    "        print(user)"
   ]
  },
  {
   "cell_type": "markdown",
   "metadata": {},
   "source": [
    "# 3절.CSV형식 파일 읽기/쓰기\n",
    "## 3.1 reader"
   ]
  },
  {
   "cell_type": "code",
   "execution_count": 7,
   "metadata": {
    "ExecuteTime": {
     "end_time": "2021-03-02T00:55:31.586238Z",
     "start_time": "2021-03-02T00:55:31.578283Z"
    }
   },
   "outputs": [
    {
     "name": "stdout",
     "output_type": "stream",
     "text": [
      "[['홍길동', '20\\t', 'kingdong@hong.com', '서울시강동구'], ['윤길동', '30\\t', 'yunkil@hong.com', '서울시강서구'], ['홍길가', '25', 'gilga@hong.com', '서울시마포구'], []]\n",
      "~~~~~~~~~~~~~~~~~~~~~~~~~~~~~~~~~~\n",
      "[]\n"
     ]
    }
   ],
   "source": [
    "#UTF8로 인코딩된 CSV파일 read\n",
    "import csv\n",
    "with open('data/ch09_member1.csv','r', encoding='CP949') as f:\n",
    "    reader = csv.reader(f)\n",
    "    print(list(reader))\n",
    "    print('~~~~~~~~~~~~~~~~~~~~~~~~~~~~~~~~~~')\n",
    "    print(list(reader))\n",
    "          \n"
   ]
  },
  {
   "cell_type": "code",
   "execution_count": 6,
   "metadata": {
    "ExecuteTime": {
     "end_time": "2021-03-02T00:54:18.099516Z",
     "start_time": "2021-03-02T00:54:17.946321Z"
    }
   },
   "outputs": [],
   "source": [
    "#UTF8로 인코딩된 CSV파일 read\n",
    "import csv\n",
    "with open('data/ch09_member1.csv','r', encoding='CP949') as f:\n",
    "    reader = csv.reader(f)\n",
    "    print(list(reader))\n",
    "    print('~~~~~~~~~~~~~~~~~~~~~~~~~~~~~~~~~~')\n",
    "    print(list(reader))\n",
    "          "
   ]
  },
  {
   "cell_type": "code",
   "execution_count": 8,
   "metadata": {
    "ExecuteTime": {
     "end_time": "2021-03-02T01:13:20.607001Z",
     "start_time": "2021-03-02T01:13:20.602015Z"
    }
   },
   "outputs": [],
   "source": [
    "#numeric엔 따옴표를 뻄\n",
    "with open('data/ch09_member1.csv','r', encoding='CP949') as f:\n",
    "    reader = csv.reader(f, quotechar='\"',quoting=csv.QUOTE_NONNUMERIC)\n",
    "    \n",
    "                        "
   ]
  },
  {
   "cell_type": "code",
   "execution_count": 16,
   "metadata": {
    "ExecuteTime": {
     "end_time": "2021-03-02T01:17:09.740159Z",
     "start_time": "2021-03-02T01:17:09.736196Z"
    }
   },
   "outputs": [],
   "source": [
    "user_list = [['홍길동',20,'abc@abc.com','서울'],\n",
    "                ['마길동',25,'ma@abc.com','인천']]"
   ]
  },
  {
   "cell_type": "code",
   "execution_count": 17,
   "metadata": {
    "ExecuteTime": {
     "end_time": "2021-03-02T01:17:11.405128Z",
     "start_time": "2021-03-02T01:17:11.400141Z"
    }
   },
   "outputs": [],
   "source": [
    "try:\n",
    "    with open('data/ch09_member2.csv','w',newline='', encoding='utf8') as f:\n",
    "        writer=csv.writer(f)\n",
    "        for user in user_list:\n",
    "            writer.writerow(user)\n",
    "except FileNotFoundError as e:\n",
    "    print(e)"
   ]
  },
  {
   "cell_type": "markdown",
   "metadata": {},
   "source": [
    "## 3.3 DictReader\n",
    "- csv 파일의 자료를 딕셔너리 데이터로 읽기"
   ]
  },
  {
   "cell_type": "code",
   "execution_count": 20,
   "metadata": {
    "ExecuteTime": {
     "end_time": "2021-03-02T01:59:31.566105Z",
     "start_time": "2021-03-02T01:59:31.560121Z"
    },
    "code_folding": []
   },
   "outputs": [
    {
     "name": "stdout",
     "output_type": "stream",
     "text": [
      "홍길동 20 abc@abc.com 서울\n",
      "마길동 25 ma@abc.com 인천\n"
     ]
    }
   ],
   "source": [
    "#header가 있는 csv파일을 딕셔너리데이터로 읽기\n",
    "import csv\n",
    "with open('data/ch09_member3.csv','r',encoding='utf8') as f:\n",
    "    dict_reader = csv.DictReader(f)\n",
    "    for row in dict_reader:\n",
    "        print(row['name'], row['age'],row['email'], row['address'])"
   ]
  },
  {
   "cell_type": "code",
   "execution_count": 22,
   "metadata": {
    "ExecuteTime": {
     "end_time": "2021-03-02T02:02:58.978383Z",
     "start_time": "2021-03-02T02:02:58.967392Z"
    }
   },
   "outputs": [
    {
     "name": "stdout",
     "output_type": "stream",
     "text": [
      "홍길동 20 abc@abc.com 서울\n",
      "마길동 25 ma@abc.com 인천\n"
     ]
    }
   ],
   "source": [
    "#header가 없는 csv 파일을 딕셔너리 데이터로 읽기\n",
    "with open('data/ch09_member1-1.csv','r',encoding='utf8') as f:\n",
    "    dict_reader = csv.DictReader(f, fieldnames=['name','age','email','address'])\n",
    "    for row in dict_reader:\n",
    "        print(row['name'], row['age'],row['email'], row['address'])"
   ]
  },
  {
   "cell_type": "code",
   "execution_count": 27,
   "metadata": {
    "ExecuteTime": {
     "end_time": "2021-03-02T02:21:26.641467Z",
     "start_time": "2021-03-02T02:21:26.630497Z"
    }
   },
   "outputs": [
    {
     "name": "stdout",
     "output_type": "stream",
     "text": [
      "{'name': '홍길동', 'age': '20', 'email': 'abc@abc.com', 'address': '서울'}\n",
      "앙\n"
     ]
    },
    {
     "ename": "KeyError",
     "evalue": "'job'",
     "output_type": "error",
     "traceback": [
      "\u001b[1;31m---------------------------------------------------------------------------\u001b[0m",
      "\u001b[1;31mKeyError\u001b[0m                                  Traceback (most recent call last)",
      "\u001b[1;32m<ipython-input-27-48bd28c7be12>\u001b[0m in \u001b[0;36m<module>\u001b[1;34m\u001b[0m\n\u001b[0;32m      6\u001b[0m        \u001b[0mprint\u001b[0m\u001b[1;33m(\u001b[0m\u001b[0mrow\u001b[0m\u001b[1;33m)\u001b[0m\u001b[1;33m\u001b[0m\u001b[1;33m\u001b[0m\u001b[0m\n\u001b[0;32m      7\u001b[0m        \u001b[0mprint\u001b[0m\u001b[1;33m(\u001b[0m\u001b[1;34m'앙'\u001b[0m\u001b[1;33m)\u001b[0m\u001b[1;33m\u001b[0m\u001b[1;33m\u001b[0m\u001b[0m\n\u001b[1;32m----> 8\u001b[1;33m        \u001b[1;32mif\u001b[0m \u001b[0mrow\u001b[0m\u001b[1;33m[\u001b[0m\u001b[1;34m'job'\u001b[0m\u001b[1;33m]\u001b[0m\u001b[1;33m[\u001b[0m\u001b[1;36m0\u001b[0m\u001b[1;33m]\u001b[0m \u001b[1;33m==\u001b[0m \u001b[1;34m''\u001b[0m\u001b[1;33m:\u001b[0m\u001b[1;33m\u001b[0m\u001b[1;33m\u001b[0m\u001b[0m\n\u001b[0m\u001b[0;32m      9\u001b[0m            \u001b[0mprint\u001b[0m\u001b[1;33m(\u001b[0m\u001b[0mrow\u001b[0m\u001b[1;33m[\u001b[0m\u001b[1;34m'name'\u001b[0m\u001b[1;33m]\u001b[0m\u001b[1;33m,\u001b[0m \u001b[0mrow\u001b[0m\u001b[1;33m[\u001b[0m\u001b[1;34m'age'\u001b[0m\u001b[1;33m]\u001b[0m\u001b[1;33m,\u001b[0m\u001b[0mrow\u001b[0m\u001b[1;33m[\u001b[0m\u001b[1;34m'email'\u001b[0m\u001b[1;33m]\u001b[0m\u001b[1;33m,\u001b[0m \u001b[0mrow\u001b[0m\u001b[1;33m[\u001b[0m\u001b[1;34m'address'\u001b[0m\u001b[1;33m]\u001b[0m\u001b[1;33m)\u001b[0m\u001b[1;33m\u001b[0m\u001b[1;33m\u001b[0m\u001b[0m\n\u001b[0;32m     10\u001b[0m        \u001b[1;32melse\u001b[0m\u001b[1;33m:\u001b[0m\u001b[1;33m\u001b[0m\u001b[1;33m\u001b[0m\u001b[0m\n",
      "\u001b[1;31mKeyError\u001b[0m: 'job'"
     ]
    }
   ],
   "source": [
    " #header가 없는 csv 파일을 딕셔너리 데이터로 읽기\n",
    "with open('data/ch09_member3.csv','r',encoding='utf8') as f:\n",
    "    dict_reader = csv.DictReader(f, fieldnames=['name','age','email','address'],restkey='job')\n",
    "    \n",
    "    for row in dict_reader:\n",
    "        print(row)\n",
    "        print('앙')\n",
    "        if row['job'][0] == '':\n",
    "            print(row['name'], row['age'],row['email'], row['address'])\n",
    "        else:\n",
    "            print(row['name'], row['age'],row['email'], row['address'],row['job'])"
   ]
  },
  {
   "cell_type": "code",
   "execution_count": 28,
   "metadata": {
    "ExecuteTime": {
     "end_time": "2021-03-02T02:22:29.264618Z",
     "start_time": "2021-03-02T02:22:29.254646Z"
    }
   },
   "outputs": [
    {
     "ename": "KeyError",
     "evalue": "'job'",
     "output_type": "error",
     "traceback": [
      "\u001b[1;31m---------------------------------------------------------------------------\u001b[0m",
      "\u001b[1;31mKeyError\u001b[0m                                  Traceback (most recent call last)",
      "\u001b[1;32m<ipython-input-28-fc530ae6e187>\u001b[0m in \u001b[0;36m<module>\u001b[1;34m\u001b[0m\n\u001b[0;32m      4\u001b[0m \u001b[1;33m\u001b[0m\u001b[0m\n\u001b[0;32m      5\u001b[0m     \u001b[1;32mfor\u001b[0m \u001b[0mrow\u001b[0m \u001b[1;32min\u001b[0m \u001b[0mdict_reader\u001b[0m\u001b[1;33m:\u001b[0m\u001b[1;33m\u001b[0m\u001b[1;33m\u001b[0m\u001b[0m\n\u001b[1;32m----> 6\u001b[1;33m         \u001b[1;32mif\u001b[0m \u001b[1;33m(\u001b[0m\u001b[0mrow\u001b[0m\u001b[1;33m[\u001b[0m\u001b[1;34m'job'\u001b[0m\u001b[1;33m]\u001b[0m\u001b[1;33m[\u001b[0m\u001b[1;36m0\u001b[0m\u001b[1;33m]\u001b[0m \u001b[1;33m==\u001b[0m \u001b[1;34m''\u001b[0m\u001b[1;33m)\u001b[0m\u001b[1;33m:\u001b[0m\u001b[1;33m\u001b[0m\u001b[1;33m\u001b[0m\u001b[0m\n\u001b[0m\u001b[0;32m      7\u001b[0m             \u001b[0mprint\u001b[0m\u001b[1;33m(\u001b[0m\u001b[0mrow\u001b[0m\u001b[1;33m[\u001b[0m\u001b[1;34m'name'\u001b[0m\u001b[1;33m]\u001b[0m\u001b[1;33m,\u001b[0m \u001b[0mrow\u001b[0m\u001b[1;33m[\u001b[0m\u001b[1;34m'age'\u001b[0m\u001b[1;33m]\u001b[0m\u001b[1;33m,\u001b[0m\u001b[0mrow\u001b[0m\u001b[1;33m[\u001b[0m\u001b[1;34m'email'\u001b[0m\u001b[1;33m]\u001b[0m\u001b[1;33m,\u001b[0m \u001b[0mrow\u001b[0m\u001b[1;33m[\u001b[0m\u001b[1;34m'address'\u001b[0m\u001b[1;33m]\u001b[0m\u001b[1;33m)\u001b[0m\u001b[1;33m\u001b[0m\u001b[1;33m\u001b[0m\u001b[0m\n\u001b[0;32m      8\u001b[0m         \u001b[1;32melse\u001b[0m\u001b[1;33m:\u001b[0m\u001b[1;33m\u001b[0m\u001b[1;33m\u001b[0m\u001b[0m\n",
      "\u001b[1;31mKeyError\u001b[0m: 'job'"
     ]
    }
   ],
   "source": [
    "# 한행에 팀장 표시 추가(header가 있는 경우 member3.csv)\n",
    "with open('data/ch09_member3.csv','r',encoding='utf8') as f:\n",
    "    dict_reader = csv.DictReader(f, fieldnames=['name','age','email','address'],restkey='job')\n",
    "    \n",
    "    for row in dict_reader:\n",
    "        if (row['job'][0] == ''):\n",
    "            print(row['name'], row['age'],row['email'], row['address'])\n",
    "        else:\n",
    "            print(row['name'], row['age'],row['email'], row['address'],row['job'])"
   ]
  },
  {
   "cell_type": "markdown",
   "metadata": {},
   "source": [
    "## 3.4 DictWriter\n",
    "- 딕셔너리 변수의 내용을 csv파일로 쓰기"
   ]
  },
  {
   "cell_type": "code",
   "execution_count": 32,
   "metadata": {
    "ExecuteTime": {
     "end_time": "2021-03-02T02:42:04.218757Z",
     "start_time": "2021-03-02T02:42:04.213770Z"
    }
   },
   "outputs": [],
   "source": [
    "user1={'name':'홍길동','age':20, 'email':'gil@hong.com','address':'서울'}\n",
    "user2={'name':'홍라동','age':30, 'email':'la@hong.com','address':'대전'}\n",
    "user3={'name':'홍길수','age':40, 'email':'su@hong.com','address':'대구'}\n",
    "\n",
    "user_list = [user1, user2, user3]\n",
    "fieldnames = list(user1.keys()) #헤더로 쓸 내용: 키의값들\n"
   ]
  },
  {
   "cell_type": "code",
   "execution_count": 36,
   "metadata": {
    "ExecuteTime": {
     "end_time": "2021-03-02T02:49:16.329711Z",
     "start_time": "2021-03-02T02:49:16.324726Z"
    }
   },
   "outputs": [],
   "source": [
    "# 헤더+데이터 형태의 csv파일로 쓰기\n",
    "with open('data/ch09_member4.csv','w',encoding='UTF8',newline='') as f:\n",
    "    dict_writer = csv.DictWriter(f, fieldnames=fieldnames)\n",
    "    dict_writer.writeheader()\n",
    "    #dict_writer.writerow(user1)\n",
    "    for user in user_list:\n",
    "        dict_writer.writerow(user)"
   ]
  },
  {
   "cell_type": "code",
   "execution_count": 37,
   "metadata": {
    "ExecuteTime": {
     "end_time": "2021-03-02T02:55:08.922154Z",
     "start_time": "2021-03-02T02:55:08.917167Z"
    }
   },
   "outputs": [],
   "source": [
    "user1={'name':'홍길동','age':20, 'email':'gil@hong.com','address':'서울'}\n",
    "user2={'name':'홍라동','age':30, 'email':'la@hong.com','address':'대전','job':'팀장'}\n",
    "user3={'name':'홍길수','age':40, 'email':'su@hong.com','address':'대구'}\n",
    "\n",
    "user_list = [user1, user2, user3]\n",
    "fieldnames = list(user1.keys()) #헤더로 쓸 내용: 키의값들\n"
   ]
  },
  {
   "cell_type": "code",
   "execution_count": 40,
   "metadata": {
    "ExecuteTime": {
     "end_time": "2021-03-02T03:00:32.137853Z",
     "start_time": "2021-03-02T03:00:32.132883Z"
    }
   },
   "outputs": [],
   "source": [
    "\n",
    "with open('data/ch09_member5.csv','w',encoding='UTF8',newline='') as f:\n",
    "    dict_writer = csv.DictWriter(f, fieldnames=fieldnames, \n",
    "                                 extrasaction='ignore')\n",
    "                                 #extrasaction='raise')\n",
    "    dict_writer.writeheader()\n",
    "    dict_writer.writerows(user_list)\n",
    "    "
   ]
  },
  {
   "cell_type": "markdown",
   "metadata": {},
   "source": [
    "# 4절. JSON 데이터 저장하고 불러오기 (dump, load)\n",
    "## 4.1 JSON DUMP\n"
   ]
  },
  {
   "cell_type": "code",
   "execution_count": 41,
   "metadata": {
    "ExecuteTime": {
     "end_time": "2021-03-02T03:09:21.225089Z",
     "start_time": "2021-03-02T03:09:21.221099Z"
    }
   },
   "outputs": [],
   "source": [
    "data = [\n",
    "    {'name':'홍길동',\n",
    "    'age':20,\n",
    "    'email':'hong@name.com',\n",
    "    'address':'서울'},\n",
    "    {'name':'김말동',\n",
    "    'age':30,\n",
    "    'email':'kim@name.com',\n",
    "    'address':'천안'}    \n",
    "]\n"
   ]
  },
  {
   "cell_type": "code",
   "execution_count": 46,
   "metadata": {
    "ExecuteTime": {
     "end_time": "2021-03-02T03:16:43.160657Z",
     "start_time": "2021-03-02T03:16:43.156681Z"
    }
   },
   "outputs": [],
   "source": [
    "import json\n",
    "with open('data/ch09_member1.json','w') as jsonfile:\n",
    "    json.dump(data,jsonfile, ensure_ascii=False, indent='\\t')"
   ]
  },
  {
   "cell_type": "code",
   "execution_count": 58,
   "metadata": {
    "ExecuteTime": {
     "end_time": "2021-03-02T03:22:11.128162Z",
     "start_time": "2021-03-02T03:22:11.123202Z"
    }
   },
   "outputs": [],
   "source": [
    "class Member:\n",
    "    def __init__(self,name, age, email, address):\n",
    "        self.name = name\n",
    "        self.age = age\n",
    "        self.email = email\n",
    "        self.address = address\n",
    "    def as_dict(self):\n",
    "        return {'name':self.name, 'age':self.age,\n",
    "                'email':self.email, 'address':self.address}\n",
    "    def __str__(self):\n",
    "        return '{}\\t{}\\t{}\\t{}'.format(self.name, self.age, self.email, self.address)   \n",
    "    "
   ]
  },
  {
   "cell_type": "code",
   "execution_count": 60,
   "metadata": {
    "ExecuteTime": {
     "end_time": "2021-03-02T03:25:26.617368Z",
     "start_time": "2021-03-02T03:25:26.612382Z"
    }
   },
   "outputs": [
    {
     "name": "stdout",
     "output_type": "stream",
     "text": [
      "홍길동\t20\thong@hong.com\t서울\n"
     ]
    }
   ],
   "source": [
    "member1 = Member('홍길동',20,'hong@hong.com','서울')\n",
    "member2 = Member('김길동',30,'kim@hong.com','파주')\n",
    "member3 = Member('박길동',40,'park@hong.com','인천')\n",
    "\n",
    "member1.as_dict()\n",
    "print(member1)"
   ]
  },
  {
   "cell_type": "code",
   "execution_count": 61,
   "metadata": {
    "ExecuteTime": {
     "end_time": "2021-03-02T03:26:09.031879Z",
     "start_time": "2021-03-02T03:26:09.027871Z"
    }
   },
   "outputs": [],
   "source": [
    "with open('data/ch09_member2.json','w',encoding='utf8') as jsonfile:\n",
    "    json.dump(data,jsonfile, ensure_ascii=False, indent='\\t',default=Member.as_dict)"
   ]
  },
  {
   "cell_type": "code",
   "execution_count": 70,
   "metadata": {
    "ExecuteTime": {
     "end_time": "2021-03-02T03:45:08.251767Z",
     "start_time": "2021-03-02T03:45:08.244133Z"
    }
   },
   "outputs": [
    {
     "ename": "NameError",
     "evalue": "name 'member1' is not defined",
     "output_type": "error",
     "traceback": [
      "\u001b[1;31m---------------------------------------------------------------------------\u001b[0m",
      "\u001b[1;31mNameError\u001b[0m                                 Traceback (most recent call last)",
      "\u001b[1;32m<ipython-input-70-57b3ddc6a731>\u001b[0m in \u001b[0;36m<module>\u001b[1;34m\u001b[0m\n\u001b[0;32m      1\u001b[0m \u001b[1;31m#whos\u001b[0m\u001b[1;33m\u001b[0m\u001b[1;33m\u001b[0m\u001b[1;33m\u001b[0m\u001b[0m\n\u001b[0;32m      2\u001b[0m \u001b[1;33m\u001b[0m\u001b[0m\n\u001b[1;32m----> 3\u001b[1;33m \u001b[1;32mdel\u001b[0m \u001b[0mmember1\u001b[0m\u001b[1;33m,\u001b[0m  \u001b[0mmember2\u001b[0m\u001b[1;33m,\u001b[0m \u001b[0mmember3\u001b[0m\u001b[1;33m,\u001b[0m \u001b[0mmember_list\u001b[0m\u001b[1;33m\u001b[0m\u001b[1;33m\u001b[0m\u001b[0m\n\u001b[0m",
      "\u001b[1;31mNameError\u001b[0m: name 'member1' is not defined"
     ]
    }
   ],
   "source": [
    "#whos\n",
    "\n",
    "del member1,  member2, member3, member_list "
   ]
  },
  {
   "cell_type": "code",
   "execution_count": 71,
   "metadata": {
    "ExecuteTime": {
     "end_time": "2021-03-02T03:45:09.815880Z",
     "start_time": "2021-03-02T03:45:09.810894Z"
    }
   },
   "outputs": [
    {
     "name": "stdout",
     "output_type": "stream",
     "text": [
      "Variable          Type                          Data/Info\n",
      "---------------------------------------------------------\n",
      "Member            type                          <class '__main__.Member'>\n",
      "NamespaceMagics   MetaHasTraits                 <class 'IPython.core.magi<...>mespace.NamespaceMagics'>\n",
      "autopep8          module                        <module 'autopep8' from '<...>e-packages\\\\autopep8.py'>\n",
      "csv               module                        <module 'csv' from 'E:\\\\g<...>\\anaconda3\\\\lib\\\\csv.py'>\n",
      "data              list                          n=2\n",
      "dict_reader       DictReader                    <csv.DictReader object at 0x0000020FC862D670>\n",
      "dict_writer       DictWriter                    <csv.DictWriter object at 0x0000020FCB3B0C10>\n",
      "f                 TextIOWrapper                 <_io.TextIOWrapper name='<...>mode='w' encoding='UTF8'>\n",
      "fieldnames        list                          n=4\n",
      "get_ipython       function                      <function get_ipython at 0x0000020FC6061CA0>\n",
      "getsizeof         builtin_function_or_method    <built-in function getsizeof>\n",
      "json              module                        <module 'json' from 'E:\\\\<...>\\lib\\\\json\\\\__init__.py'>\n",
      "jsonfile          TextIOWrapper                 <_io.TextIOWrapper name='<...>mode='r' encoding='utf8'>\n",
      "member_list       list                          n=2\n",
      "np                module                        <module 'numpy' from 'E:\\<...>ges\\\\numpy\\\\__init__.py'>\n",
      "reader            reader                        <_csv.reader object at 0x0000020FC9A52760>\n",
      "row               dict                          n=4\n",
      "uer_list          list                          n=2\n",
      "user              dict                          n=4\n",
      "user1             dict                          n=4\n",
      "user2             dict                          n=5\n",
      "user3             dict                          n=4\n",
      "user_list         list                          n=3\n",
      "var_dic_list      function                      <function var_dic_list at 0x0000020FC9A218B0>\n",
      "writer            writer                        <_csv.writer object at 0x0000020FC9A75310>\n",
      "yapf_reformat     function                      <function yapf_reformat at 0x0000020FC8628940>\n"
     ]
    }
   ],
   "source": [
    "whos"
   ]
  },
  {
   "cell_type": "markdown",
   "metadata": {},
   "source": [
    "## 4.2 JSON load"
   ]
  },
  {
   "cell_type": "code",
   "execution_count": 67,
   "metadata": {
    "ExecuteTime": {
     "end_time": "2021-03-02T03:44:36.216342Z",
     "start_time": "2021-03-02T03:44:36.211338Z"
    }
   },
   "outputs": [
    {
     "name": "stdout",
     "output_type": "stream",
     "text": [
      "{'name': '홍길동', 'age': 20, 'email': 'hong@name.com', 'address': '서울'}\n",
      "{'name': '김말동', 'age': 30, 'email': 'kim@name.com', 'address': '천안'}\n"
     ]
    }
   ],
   "source": [
    "with open('data/ch09_member2.json','r',encoding='utf8') as jsonfile:\n",
    "    member_list = json.load(jsonfile)\n",
    "    for row in member_list:\n",
    "        print(row)"
   ]
  },
  {
   "cell_type": "code",
   "execution_count": 69,
   "metadata": {
    "ExecuteTime": {
     "end_time": "2021-03-02T03:44:49.847328Z",
     "start_time": "2021-03-02T03:44:49.842362Z"
    }
   },
   "outputs": [
    {
     "data": {
      "text/plain": [
       "(list, dict)"
      ]
     },
     "execution_count": 69,
     "metadata": {},
     "output_type": "execute_result"
    }
   ],
   "source": [
    "type(member_list), type(member_list[0])"
   ]
  },
  {
   "cell_type": "code",
   "execution_count": 72,
   "metadata": {
    "ExecuteTime": {
     "end_time": "2021-03-02T03:46:29.400546Z",
     "start_time": "2021-03-02T03:46:29.395581Z"
    }
   },
   "outputs": [],
   "source": [
    "# json 파일을 딕셔너리\n",
    "class Member:\n",
    "    def __init__(self,name, age, email, address):\n",
    "        self.name = name\n",
    "        self.age = age\n",
    "        self.email = email\n",
    "        self.address = address\n",
    "    def as_dict(self):\n",
    "        return {'name':self.name, 'age':self.age,\n",
    "                'email':self.email, 'address':self.address}\n",
    "    \n",
    "    \n",
    "    \n",
    "    def __str__(self):\n",
    "        return '{}\\t{}\\t{}\\t{}'.format(self.name, self.age, self.email, self.address)   \n",
    "    "
   ]
  },
  {
   "cell_type": "code",
   "execution_count": null,
   "metadata": {},
   "outputs": [],
   "source": []
  }
 ],
 "metadata": {
  "kernelspec": {
   "display_name": "Python 3",
   "language": "python",
   "name": "python3"
  },
  "language_info": {
   "codemirror_mode": {
    "name": "ipython",
    "version": 3
   },
   "file_extension": ".py",
   "mimetype": "text/x-python",
   "name": "python",
   "nbconvert_exporter": "python",
   "pygments_lexer": "ipython3",
   "version": "3.8.5"
  },
  "toc": {
   "base_numbering": 1,
   "nav_menu": {},
   "number_sections": true,
   "sideBar": true,
   "skip_h1_title": false,
   "title_cell": "Table of Contents",
   "title_sidebar": "Contents",
   "toc_cell": false,
   "toc_position": {},
   "toc_section_display": true,
   "toc_window_display": false
  },
  "varInspector": {
   "cols": {
    "lenName": 16,
    "lenType": 16,
    "lenVar": 40
   },
   "kernels_config": {
    "python": {
     "delete_cmd_postfix": "",
     "delete_cmd_prefix": "del ",
     "library": "var_list.py",
     "varRefreshCmd": "print(var_dic_list())"
    },
    "r": {
     "delete_cmd_postfix": ") ",
     "delete_cmd_prefix": "rm(",
     "library": "var_list.r",
     "varRefreshCmd": "cat(var_dic_list()) "
    }
   },
   "types_to_exclude": [
    "module",
    "function",
    "builtin_function_or_method",
    "instance",
    "_Feature"
   ],
   "window_display": false
  }
 },
 "nbformat": 4,
 "nbformat_minor": 4
}
