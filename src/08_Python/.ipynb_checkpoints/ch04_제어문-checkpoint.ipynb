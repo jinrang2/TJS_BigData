{
 "cells": [
  {
   "cell_type": "markdown",
   "metadata": {},
   "source": [
    "<font color='red'><b>ch04.제어문</b></font>\n",
    "\n",
    "- if, for - in, while, 중첩 가능, 중첩 루프 탈출"
   ]
  },
  {
   "cell_type": "markdown",
   "metadata": {},
   "source": [
    "# 1절. 조건문"
   ]
  },
  {
   "cell_type": "code",
   "execution_count": 2,
   "metadata": {
    "ExecuteTime": {
     "end_time": "2021-02-23T05:39:25.427556Z",
     "start_time": "2021-02-23T05:39:23.889034Z"
    }
   },
   "outputs": [
    {
     "name": "stdout",
     "output_type": "stream",
     "text": [
      "Enter your 점수? 99\n",
      "참 잘했어요\n",
      "다음에도 기대 할게요\n",
      "점수를 입력받아 잘한 사람에게 메세지를 출력함\n"
     ]
    }
   ],
   "source": [
    "score = int (input('Enter your 점수? '))\n",
    "if score >= 90:\n",
    "    print('참 잘했어요')\n",
    "    print('다음에도 기대 할게요')\n",
    "else:\n",
    "    print('분발하세요')\n",
    "    \n",
    "print('점수를 입력받아 잘한 사람에게 메세지를 출력함')"
   ]
  },
  {
   "cell_type": "code",
   "execution_count": 11,
   "metadata": {
    "ExecuteTime": {
     "end_time": "2021-02-23T06:14:47.394934Z",
     "start_time": "2021-02-23T06:14:44.164651Z"
    }
   },
   "outputs": [
    {
     "name": "stdout",
     "output_type": "stream",
     "text": [
      "3\n",
      "Enter your 점수? 4\n",
      "입력한 점수는 4이고 F등급\n"
     ]
    }
   ],
   "source": [
    "import sys\n",
    "print(len(sys.argv))\n",
    "\n",
    "\n",
    "score = int (input('Enter your 점수? '))\n",
    "if 90<= score <= 100:\n",
    "    grade = 'A'\n",
    "elif 80<= score <= 90:\n",
    "    grade = 'B'\n",
    "elif 70<= score <= 80:\n",
    "    grade = 'C'\n",
    "elif 60<= score <= 70:\n",
    "    grade = 'D'\n",
    "elif 0<= score <= 60:\n",
    "    grade = 'F'\n",
    "else:\n",
    "    grade = '유효하지 않은 점수'\n",
    "\n",
    "\n",
    "\n",
    "\n",
    "print('입력한 점수는 {}이고 {}등급'.format(score,grade))\n",
    "    "
   ]
  },
  {
   "cell_type": "markdown",
   "metadata": {},
   "source": [
    "# 2절. 반복문"
   ]
  },
  {
   "cell_type": "markdown",
   "metadata": {
    "ExecuteTime": {
     "end_time": "2021-02-23T06:15:15.923306Z",
     "start_time": "2021-02-23T06:15:15.920325Z"
    }
   },
   "source": [
    "## 2.1 for-in\n",
    "\n",
    "- for 변수 in 나열 가능한 자료:<br>\n",
    "  반복할 문장1<br>\n",
    "  반복할 문장2<br>\n",
    "  ...<br>\n",
    "  <br>\n",
    "  else:<br>\n",
    "  변수에 값이 할당되지 않은 경우 한번 실행할 문장<br>\n",
    " \n",
    "- else 구문은 선택사항"
   ]
  },
  {
   "cell_type": "code",
   "execution_count": 13,
   "metadata": {
    "ExecuteTime": {
     "end_time": "2021-02-23T06:17:11.812237Z",
     "start_time": "2021-02-23T06:17:11.807250Z"
    }
   },
   "outputs": [
    {
     "name": "stdout",
     "output_type": "stream",
     "text": [
      "0\t1\t2\t3\t4\t5\t6\t7\t8\t9\tdone\n"
     ]
    }
   ],
   "source": [
    "for i in range(10):\n",
    "    print(i, end='\\t')\n",
    "else :\n",
    "    print('done')"
   ]
  },
  {
   "cell_type": "markdown",
   "metadata": {},
   "source": [
    "## 2.2 while\n",
    "\n",
    "- while 조건:<br>\n",
    "    반복할 문장1<br>\n",
    "    반복할 문장2<br>\n",
    "  ...<br>\n",
    "  <br>\n",
    "  else:<br>\n",
    "    조건이 거짓일 경우 실행할 문장<br>\n",
    " \n",
    "- else 구문은 선택사항\n",
    "- 무한 반복문에 빠지지 않도록"
   ]
  },
  {
   "cell_type": "code",
   "execution_count": 16,
   "metadata": {
    "ExecuteTime": {
     "end_time": "2021-02-23T06:22:53.939225Z",
     "start_time": "2021-02-23T06:22:53.934249Z"
    }
   },
   "outputs": [
    {
     "name": "stdout",
     "output_type": "stream",
     "text": [
      "10 뭐얏!\n"
     ]
    }
   ],
   "source": [
    "i = 10\n",
    "while i<10:\n",
    "    print(i, end='\\t')\n",
    "    i += 1\n",
    "else:\n",
    "    print('{} 뭐얏!'.format(i))"
   ]
  },
  {
   "cell_type": "code",
   "execution_count": 17,
   "metadata": {
    "ExecuteTime": {
     "end_time": "2021-02-23T06:37:30.114490Z",
     "start_time": "2021-02-23T06:37:30.110981Z"
    }
   },
   "outputs": [
    {
     "name": "stdout",
     "output_type": "stream",
     "text": [
      "1부터 100까지 짝수의 합은 2550\n"
     ]
    }
   ],
   "source": [
    "# 1~100 까지의 짝수의 합\n",
    "sum=0\n",
    "i=1\n",
    "while i<=100:\n",
    "    if i%2 == 0 :\n",
    "        sum += i\n",
    "    i += 1\n",
    "else:\n",
    "    print('1부터 100까지 짝수의 합은', sum)"
   ]
  },
  {
   "cell_type": "code",
   "execution_count": 19,
   "metadata": {
    "ExecuteTime": {
     "end_time": "2021-02-23T06:40:42.050894Z",
     "start_time": "2021-02-23T06:40:42.045906Z"
    }
   },
   "outputs": [
    {
     "name": "stdout",
     "output_type": "stream",
     "text": [
      "1 2 3 4 6 7 8 9 10 11 "
     ]
    }
   ],
   "source": [
    "num = 0\n",
    "while num<=10 :\n",
    "    num += 1\n",
    "    if num == 5:\n",
    "        continue; #반복문의 조건으로 감\n",
    "    print(num, end=' ')"
   ]
  },
  {
   "cell_type": "code",
   "execution_count": 18,
   "metadata": {
    "ExecuteTime": {
     "end_time": "2021-02-23T06:40:22.707768Z",
     "start_time": "2021-02-23T06:40:22.702781Z"
    }
   },
   "outputs": [
    {
     "name": "stdout",
     "output_type": "stream",
     "text": [
      "1 2 3 4 "
     ]
    }
   ],
   "source": [
    "num = 0\n",
    "while num<=10 :\n",
    "    num += 1\n",
    "    if num == 5:\n",
    "        break; #반복문의 조건으로 감\n",
    "    print(num, end=' ')"
   ]
  },
  {
   "cell_type": "code",
   "execution_count": 63,
   "metadata": {
    "ExecuteTime": {
     "end_time": "2021-02-23T06:49:45.967473Z",
     "start_time": "2021-02-23T06:49:27.838238Z"
    }
   },
   "outputs": [
    {
     "name": "stdout",
     "output_type": "stream",
     "text": [
      "18\n",
      "1회차 : 숫자 입력하셈50\n",
      "입력값이 더 크다능\n",
      "2회차 : 숫자 입력하셈25\n",
      "입력값이 더 크다능\n",
      "3회차 : 숫자 입력하셈12\n",
      "입력값이 더 크다능\n",
      "4회차 : 숫자 입력하셈7\n",
      "입력값이 더 작다능\n",
      "5회차 : 숫자 입력하셈10\n",
      "입력값이 더 크다능\n",
      "6회차 : 숫자 입력하셈9\n",
      "6번만에 맞춤 끝이라능\n"
     ]
    }
   ],
   "source": [
    "# 숫자 찾기 게임\n",
    "'''\n",
    "1~100 사이의 숫자 찾긔\n",
    "프로그램 안에서 임의의 숫자가 만들어지고\n",
    "입력한 숫자와 비교하여 추렭에서는 up down 알려주고\n",
    "최종적으로 숫자를 맞출 떄 까지\n",
    "'''\n",
    "import random\n",
    "\n",
    "\n",
    "b = random.randint(1,100)\n",
    "print(ans)\n",
    "c = 1\n",
    "\n",
    "a = int(input('{}회차 : 숫자 입력하셈'.format(c)))\n",
    "\n",
    "while a != b:\n",
    "    c += 1\n",
    "    if a > b:\n",
    "        print('입력값이 더 크다능')\n",
    "    elif a < b:\n",
    "        print('입력값이 더 작다능')\n",
    "    else:\n",
    "        print('찾았다능')\n",
    "        break;\n",
    "    a = int(input('{}회차 : 숫자 입력하셈'.format(c)))\n",
    "\n",
    "print('{}번만에 맞춤 끝이라능'.format(c))\n",
    "    \n"
   ]
  },
  {
   "cell_type": "markdown",
   "metadata": {},
   "source": [
    "## 3절. 중첩루프; 반복문 안에 반복문\n",
    "\n",
    "- 2 이상의 데이터 구조의 모든 항목들을 처리하기 위해 사용"
   ]
  },
  {
   "cell_type": "code",
   "execution_count": 66,
   "metadata": {
    "ExecuteTime": {
     "end_time": "2021-02-23T07:09:44.448311Z",
     "start_time": "2021-02-23T07:09:44.445327Z"
    }
   },
   "outputs": [
    {
     "name": "stdout",
     "output_type": "stream",
     "text": [
      "[[1, 2, 3, 4, 5], [10, 20, 30, 40], [11, 22, 33, 44]]\n"
     ]
    }
   ],
   "source": [
    "list_2d = [[1,2,3,4,5],\n",
    "          [10,20,30,40],\n",
    "           [11,22,33,44]]\n",
    "\n",
    "print(list_2d)\n"
   ]
  },
  {
   "cell_type": "code",
   "execution_count": 69,
   "metadata": {
    "ExecuteTime": {
     "end_time": "2021-02-23T07:10:17.602094Z",
     "start_time": "2021-02-23T07:10:17.597128Z"
    }
   },
   "outputs": [
    {
     "name": "stdout",
     "output_type": "stream",
     "text": [
      "0행0열 : 1\t0행1열 : 2\t0행2열 : 3\t0행3열 : 4\t0행4열 : 5\t\n",
      "1행0열 : 10\t1행1열 : 20\t1행2열 : 30\t1행3열 : 40\t\n",
      "2행0열 : 11\t2행1열 : 22\t2행2열 : 33\t2행3열 : 44\t\n"
     ]
    }
   ],
   "source": [
    "for i in range(len(list_2d)):\n",
    "    for j in range(len(list_2d[i])):\n",
    "        print(\"{}행{}열 : {}\".format(i,j,list_2d[i][j]), end='\\t')\n",
    "    print()"
   ]
  },
  {
   "cell_type": "code",
   "execution_count": 84,
   "metadata": {
    "ExecuteTime": {
     "end_time": "2021-02-23T07:15:56.579389Z",
     "start_time": "2021-02-23T07:15:56.572426Z"
    }
   },
   "outputs": [
    {
     "name": "stdout",
     "output_type": "stream",
     "text": [
      "2*1= 2\t3*1= 3\t4*1= 4\t5*1= 5\t6*1= 6\t7*1= 7\t8*1= 8\t9*1= 9\t\n",
      "2*2= 4\t3*2= 6\t4*2= 8\t5*2=10\t6*2=12\t7*2=14\t8*2=16\t9*2=18\t\n",
      "2*3= 6\t3*3= 9\t4*3=12\t5*3=15\t6*3=18\t7*3=21\t8*3=24\t9*3=27\t\n",
      "2*4= 8\t3*4=12\t4*4=16\t5*4=20\t6*4=24\t7*4=28\t8*4=32\t9*4=36\t\n",
      "2*5=10\t3*5=15\t4*5=20\t5*5=25\t6*5=30\t7*5=35\t8*5=40\t9*5=45\t\n",
      "2*6=12\t3*6=18\t4*6=24\t5*6=30\t6*6=36\t7*6=42\t8*6=48\t9*6=54\t\n",
      "2*7=14\t3*7=21\t4*7=28\t5*7=35\t6*7=42\t7*7=49\t8*7=56\t9*7=63\t\n",
      "2*8=16\t3*8=24\t4*8=32\t5*8=40\t6*8=48\t7*8=56\t8*8=64\t9*8=72\t\n",
      "2*9=18\t3*9=27\t4*9=36\t5*9=45\t6*9=54\t7*9=63\t8*9=72\t9*9=81\t\n"
     ]
    }
   ],
   "source": [
    "# 2~9단까지 구구단 전체 출력하시오\n",
    "'''\n",
    "2*1=2 3*1=3 4*1=4\n",
    "'''\n",
    "\n",
    "\n",
    "for i in range(1,10):\n",
    "    for j in range(2,10):\n",
    "        print('{}*{}={:2d}'.format(j,i,i*j), end='\\t')\n",
    "    print()"
   ]
  },
  {
   "cell_type": "markdown",
   "metadata": {},
   "source": [
    "# 4절. 중첩 루프 탈출"
   ]
  },
  {
   "cell_type": "code",
   "execution_count": 86,
   "metadata": {
    "ExecuteTime": {
     "end_time": "2021-02-23T07:20:47.666339Z",
     "start_time": "2021-02-23T07:20:47.662349Z"
    }
   },
   "outputs": [
    {
     "name": "stdout",
     "output_type": "stream",
     "text": [
      "0 1\n",
      "0 2\n",
      "2 1\n"
     ]
    }
   ],
   "source": [
    "# 이 예제에서 break는 안쪽 반복문을 빠져나옴\n",
    "\n",
    "for a in range(0,3):        # a=0,1,2\n",
    "    for b in range(1,3):    # b=1,2\n",
    "        if a==b:\n",
    "            break;\n",
    "        print(a,b)"
   ]
  },
  {
   "cell_type": "code",
   "execution_count": 93,
   "metadata": {
    "ExecuteTime": {
     "end_time": "2021-02-23T07:45:31.019447Z",
     "start_time": "2021-02-23T07:45:31.015457Z"
    }
   },
   "outputs": [],
   "source": [
    "# break를 만나면 바깥쪽 반복문 까지 탈출; 방법2 Exception 이용\n",
    "class BreakOutLoop(Exception):\n",
    "    pass # 날먹\n"
   ]
  },
  {
   "cell_type": "code",
   "execution_count": 95,
   "metadata": {
    "ExecuteTime": {
     "end_time": "2021-02-23T07:46:36.911647Z",
     "start_time": "2021-02-23T07:46:36.907657Z"
    }
   },
   "outputs": [
    {
     "name": "stdout",
     "output_type": "stream",
     "text": [
      "0 1\n",
      "0 2\n",
      "a와 b가 같아지면 break\n"
     ]
    }
   ],
   "source": [
    "try:\n",
    "    for a in range(3):\n",
    "        for b in range(1,3):\n",
    "            if (a==b):\n",
    "                raise BreakOutLoop\n",
    "            print(a,b)\n",
    "except BreakOutLoop:\n",
    "    print('a와 b가 같아지면 break')"
   ]
  },
  {
   "cell_type": "code",
   "execution_count": null,
   "metadata": {
    "ExecuteTime": {
     "start_time": "2021-02-23T07:49:09.675Z"
    }
   },
   "outputs": [
    {
     "name": "stdout",
     "output_type": "stream",
     "text": [
      "양의정수 입력하세요-1\n",
      "양의 정수가 아닙니다\n",
      "양의정수 입력하세요-2\n",
      "양의 정수가 아닙니다\n",
      "양의정수 입력하세요1\n"
     ]
    }
   ],
   "source": [
    "while True:\n",
    "    a = int(input('양의정수 입력하세요'))\n",
    "    if (a<1):\n",
    "        print('양의 정수가 아닙니다')\n",
    "    else:\n",
    "        break;\n",
    "\n",
    "\n",
    "if a%2 == 0:\n",
    "    print('짝수입니다')\n",
    "else:\n",
    "    print('홀수입니다')\n",
    "        "
   ]
  },
  {
   "cell_type": "code",
   "execution_count": null,
   "metadata": {},
   "outputs": [],
   "source": []
  },
  {
   "cell_type": "code",
   "execution_count": null,
   "metadata": {},
   "outputs": [],
   "source": []
  },
  {
   "cell_type": "code",
   "execution_count": null,
   "metadata": {},
   "outputs": [],
   "source": []
  },
  {
   "cell_type": "code",
   "execution_count": null,
   "metadata": {},
   "outputs": [],
   "source": []
  },
  {
   "cell_type": "code",
   "execution_count": null,
   "metadata": {},
   "outputs": [],
   "source": []
  },
  {
   "cell_type": "code",
   "execution_count": null,
   "metadata": {},
   "outputs": [],
   "source": []
  },
  {
   "cell_type": "code",
   "execution_count": null,
   "metadata": {},
   "outputs": [],
   "source": []
  },
  {
   "cell_type": "code",
   "execution_count": null,
   "metadata": {},
   "outputs": [],
   "source": []
  }
 ],
 "metadata": {
  "kernelspec": {
   "display_name": "Python 3",
   "language": "python",
   "name": "python3"
  },
  "language_info": {
   "codemirror_mode": {
    "name": "ipython",
    "version": 3
   },
   "file_extension": ".py",
   "mimetype": "text/x-python",
   "name": "python",
   "nbconvert_exporter": "python",
   "pygments_lexer": "ipython3",
   "version": "3.8.5"
  },
  "toc": {
   "base_numbering": 1,
   "nav_menu": {},
   "number_sections": false,
   "sideBar": true,
   "skip_h1_title": false,
   "title_cell": "Table of Contents",
   "title_sidebar": "Contents",
   "toc_cell": false,
   "toc_position": {
    "height": "calc(100% - 180px)",
    "left": "10px",
    "top": "150px",
    "width": "384px"
   },
   "toc_section_display": true,
   "toc_window_display": true
  },
  "varInspector": {
   "cols": {
    "lenName": 16,
    "lenType": 16,
    "lenVar": 40
   },
   "kernels_config": {
    "python": {
     "delete_cmd_postfix": "",
     "delete_cmd_prefix": "del ",
     "library": "var_list.py",
     "varRefreshCmd": "print(var_dic_list())"
    },
    "r": {
     "delete_cmd_postfix": ") ",
     "delete_cmd_prefix": "rm(",
     "library": "var_list.r",
     "varRefreshCmd": "cat(var_dic_list()) "
    }
   },
   "types_to_exclude": [
    "module",
    "function",
    "builtin_function_or_method",
    "instance",
    "_Feature"
   ],
   "window_display": false
  }
 },
 "nbformat": 4,
 "nbformat_minor": 4
}
