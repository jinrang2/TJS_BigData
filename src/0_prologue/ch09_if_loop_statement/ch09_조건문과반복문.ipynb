{
 "cells": [
  {
   "cell_type": "markdown",
   "metadata": {},
   "source": [
    "<b><font color=red size=5>ch09. 조건문(if)과 반복문(for.while)</font></b>\n",
    "\n",
    "# 조건문\n",
    "- if 조건 (Ture | Flase):\n",
    "       조건이 참일 경우 수행할 명령어들"
   ]
  },
  {
   "cell_type": "code",
   "execution_count": 5,
   "metadata": {
    "ExecuteTime": {
     "end_time": "2020-11-25T01:49:22.287999Z",
     "start_time": "2020-11-25T01:49:21.458412Z"
    }
   },
   "outputs": [
    {
     "name": "stdout",
     "output_type": "stream",
     "text": [
      "Tell me your age? 20\n",
      "Welcome to the club!!!\n",
      "Woo~♥\n"
     ]
    }
   ],
   "source": [
    "age = int(input(\"Tell me your age? \"))\n",
    "if age < 30:\n",
    "    print(\"Welcome to the club!!!\")\n",
    "    print(\"Woo~♥\")\n",
    "    "
   ]
  },
  {
   "cell_type": "code",
   "execution_count": 6,
   "metadata": {
    "ExecuteTime": {
     "end_time": "2020-11-25T01:52:13.908338Z",
     "start_time": "2020-11-25T01:50:44.883666Z"
    }
   },
   "outputs": [
    {
     "name": "stdout",
     "output_type": "stream",
     "text": [
      "Tell me your age? 22\n",
      "Welcome to the club!!!\n",
      "Woo~♥\n"
     ]
    }
   ],
   "source": [
    "age = int(input(\"Tell me your age? \"))\n",
    "if age < 30:  #조건이 참일 경우 수행할 명령어 블록\n",
    "    print(\"Welcome to the club!!!\")\n",
    "    print(\"Woo~♥\")\n",
    "else:  #조건이 거짓인 경우 수행할 명령어 블록\n",
    "    print(\"Oh! No. You are not accepted~\")\n",
    "    print(\"bye\")"
   ]
  },
  {
   "cell_type": "code",
   "execution_count": 10,
   "metadata": {
    "ExecuteTime": {
     "end_time": "2020-11-25T01:54:05.765321Z",
     "start_time": "2020-11-25T01:54:04.529554Z"
    }
   },
   "outputs": [
    {
     "name": "stdout",
     "output_type": "stream",
     "text": [
      "Tell me your age? 29\n",
      "Welcome to the club!!!\n",
      "Woo~♥\n"
     ]
    }
   ],
   "source": [
    "age = int(input(\"Tell me your age? \"))\n",
    "if age < 30:  #조건이 참일 경우 수행할 명령어 블록\n",
    "    print(\"Welcome to the club!!!\")\n",
    "    print(\"Woo~♥\")\n",
    "elif age < 40: #조건1이 거짓이고 조건2가 참일 경우 수행할 명령어 블록\n",
    "    print(\"Just One time ok. Welcome~\")\n",
    "    "
   ]
  },
  {
   "cell_type": "code",
   "execution_count": 12,
   "metadata": {
    "ExecuteTime": {
     "end_time": "2020-11-25T01:55:08.148355Z",
     "start_time": "2020-11-25T01:54:59.985713Z"
    }
   },
   "outputs": [
    {
     "name": "stdout",
     "output_type": "stream",
     "text": [
      "Tell me your age? 77\n",
      "I'm sorry\n"
     ]
    }
   ],
   "source": [
    "age = int(input(\"Tell me your age? \"))\n",
    "if age < 30:  #조건이 참일 경우 수행할 명령어 블록\n",
    "    print(\"Welcome to the club!!!\")\n",
    "    print(\"Woo~♥\")\n",
    "elif age < 40: #조건1이 거짓이고 조건2가 참일 경우 수행할 명령어 블록\n",
    "    print(\"Just One time ok. Welcome~\")\n",
    "else:  #조건이 모두 거짓인 경우 수행할 명령어 블록\n",
    "    print(\"I'm sorry\")\n",
    "    "
   ]
  },
  {
   "cell_type": "code",
   "execution_count": 19,
   "metadata": {
    "ExecuteTime": {
     "end_time": "2020-11-25T02:03:27.988608Z",
     "start_time": "2020-11-25T02:03:27.985615Z"
    }
   },
   "outputs": [
    {
     "name": "stdout",
     "output_type": "stream",
     "text": [
      "0은 False다\n"
     ]
    }
   ],
   "source": [
    "\n",
    "if \"\":\n",
    "    print(\"1은 True다\")\n",
    "else:\n",
    "    print(\"0은 False다\")"
   ]
  },
  {
   "cell_type": "code",
   "execution_count": 22,
   "metadata": {
    "ExecuteTime": {
     "end_time": "2020-11-25T02:07:19.637399Z",
     "start_time": "2020-11-25T02:07:19.633436Z"
    }
   },
   "outputs": [
    {
     "name": "stdout",
     "output_type": "stream",
     "text": [
      "a<=b<=c 다\n"
     ]
    }
   ],
   "source": [
    "a=10\n",
    "b=10\n",
    "c=20\n",
    "\n",
    "if a<= b <=c:\n",
    "    print(\"a<=b<=c 다\")\n",
    "else:\n",
    "    print(\"a<=b<=c가 아니다\")"
   ]
  },
  {
   "cell_type": "code",
   "execution_count": 31,
   "metadata": {
    "ExecuteTime": {
     "end_time": "2020-11-25T02:15:47.055471Z",
     "start_time": "2020-11-25T02:15:46.177099Z"
    }
   },
   "outputs": [
    {
     "name": "stdout",
     "output_type": "stream",
     "text": [
      "점수 :70\n",
      "입력한 점수는 70점 - C\n"
     ]
    }
   ],
   "source": [
    "score = int(input(\"점수 :\"))\n",
    "\n",
    "if score> 100:\n",
    "    print(\"점수가 아냐\")\n",
    "elif score >= 90:\n",
    "    grade =\"A\"\n",
    "elif score >= 80:\n",
    "    grade =\"B\"\n",
    "elif score >= 70:\n",
    "    grade =\"C\"\n",
    "elif score >= 60:\n",
    "    grade =\"D\"\n",
    "else:\n",
    "    grade = \"F\"\n",
    "    \n",
    "print(\"입력한 점수는 {}점 - {}\".format(score,grade))\n",
    "    \n",
    "    \n",
    "    "
   ]
  },
  {
   "cell_type": "markdown",
   "metadata": {},
   "source": [
    "# 3. 반복문(for, while)"
   ]
  },
  {
   "cell_type": "code",
   "execution_count": 40,
   "metadata": {
    "ExecuteTime": {
     "end_time": "2020-11-25T02:51:32.932665Z",
     "start_time": "2020-11-25T02:51:32.928696Z"
    }
   },
   "outputs": [
    {
     "name": "stdout",
     "output_type": "stream",
     "text": [
      "a Hello\n",
      "b Hello\n",
      "c Hello\n",
      "d Hello\n",
      "e Hello\n"
     ]
    }
   ],
   "source": [
    "list_ = [\"a\",\"b\",\"c\",\"d\",\"e\"]\n",
    "\n",
    "for i in list_:    \n",
    "    print(i,\"Hello\")"
   ]
  },
  {
   "cell_type": "code",
   "execution_count": 55,
   "metadata": {
    "ExecuteTime": {
     "end_time": "2020-11-25T02:57:17.044604Z",
     "start_time": "2020-11-25T02:57:17.039638Z"
    }
   },
   "outputs": [
    {
     "name": "stdout",
     "output_type": "stream",
     "text": [
      "1 1\n",
      "3 1\n",
      "5 1\n",
      "7 1\n",
      "9 1\n",
      "11 1\n",
      "13 1\n",
      "15 1\n",
      "17 1\n",
      "19 1\n"
     ]
    }
   ],
   "source": [
    "# i가 1부터 20까지 20번 반복해라 \n",
    "# range(20) : 0~20 앞까지 (19)까지\n",
    "for i in range(1,20,2):\n",
    "    print(i, range(i).step)"
   ]
  },
  {
   "cell_type": "code",
   "execution_count": 56,
   "metadata": {
    "ExecuteTime": {
     "end_time": "2020-11-25T02:57:59.248185Z",
     "start_time": "2020-11-25T02:57:59.232562Z"
    }
   },
   "outputs": [
    {
     "name": "stdout",
     "output_type": "stream",
     "text": [
      "[0, 1, 2, 3, 4, 5, 6, 7, 8, 9]\n",
      "[1, 2, 3, 4, 5, 6, 7, 8, 9, 10]\n",
      "[100, 102, 104, 106, 108, 110, 112, 114, 116, 118, 120, 122, 124, 126, 128, 130, 132, 134, 136, 138, 140, 142, 144, 146, 148, 150, 152, 154, 156, 158, 160, 162, 164, 166, 168, 170, 172, 174, 176, 178, 180, 182, 184, 186, 188, 190, 192, 194, 196, 198]\n"
     ]
    }
   ],
   "source": [
    "#range (시작값:끝값(바로앞까지):증감)\n",
    "print(list(range(10)))\n",
    "print(list(range(1,11)))\n",
    "\n",
    "print(list(range(100,200,2)))"
   ]
  },
  {
   "cell_type": "code",
   "execution_count": 69,
   "metadata": {
    "ExecuteTime": {
     "end_time": "2020-11-25T03:08:27.652260Z",
     "start_time": "2020-11-25T03:08:27.648270Z"
    }
   },
   "outputs": [
    {
     "name": "stdout",
     "output_type": "stream",
     "text": [
      "3의 배수의 합은  1683\n",
      "3의 배수들  [3, 6, 9, 12, 15, 18, 21, 24, 27, 30, 33, 36, 39, 42, 45, 48, 51, 54, 57, 60, 63, 66, 69, 72, 75, 78, 81, 84, 87, 90, 93, 96, 99]\n"
     ]
    }
   ],
   "source": [
    "#1부터 100까지 3의 배수들의 합과 3의 배수들을 출력하시오\n",
    "sum3s = 0\n",
    "list3s = []\n",
    "\n",
    "for i in range(3,101,3):\n",
    "    sum3s += i\n",
    "    list3s.append(i)    \n",
    "\n",
    "print(\"3의 배수의 합은 \",sum3s)\n",
    "print(\"3의 배수들 \",list3s)\n",
    "\n",
    "\n"
   ]
  },
  {
   "cell_type": "code",
   "execution_count": 70,
   "metadata": {
    "ExecuteTime": {
     "end_time": "2020-11-25T03:16:47.700299Z",
     "start_time": "2020-11-25T03:16:47.696309Z"
    }
   },
   "outputs": [
    {
     "name": "stdout",
     "output_type": "stream",
     "text": [
      "A\n",
      "B\n",
      "C\n"
     ]
    }
   ],
   "source": [
    "for letter in \"ABC\":\n",
    "    print(letter)"
   ]
  },
  {
   "cell_type": "code",
   "execution_count": 73,
   "metadata": {
    "ExecuteTime": {
     "end_time": "2020-11-25T03:20:04.996192Z",
     "start_time": "2020-11-25T03:20:04.992203Z"
    }
   },
   "outputs": [
    {
     "name": "stdout",
     "output_type": "stream",
     "text": [
      "Yi\n",
      "Kim\n",
      "Jung\n"
     ]
    }
   ],
   "source": [
    "for name in [\"Yi\",\"Kim\",\"Jung\"]:\n",
    "    print(name)\n",
    "    "
   ]
  },
  {
   "cell_type": "code",
   "execution_count": 80,
   "metadata": {
    "ExecuteTime": {
     "end_time": "2020-11-25T03:26:03.171902Z",
     "start_time": "2020-11-25T03:26:03.167906Z"
    }
   },
   "outputs": [
    {
     "name": "stdout",
     "output_type": "stream",
     "text": [
      "(0, '미란이,먼치맨')\n",
      "(1, '방탄소년단')\n",
      "(2, '임창정')\n",
      "(3, '장범준')\n",
      "(4, '방탄소년단')\n",
      "임창정\n"
     ]
    }
   ],
   "source": [
    "names = [\"미란이,먼치맨\",\"방탄소년단\",\"임창정\",\"장범준\",\"방탄소년단\"]\n",
    "\n",
    "for name in enumerate(names):\n",
    "    print(name)\n",
    "\n"
   ]
  },
  {
   "cell_type": "code",
   "execution_count": 83,
   "metadata": {
    "ExecuteTime": {
     "end_time": "2020-11-25T03:47:49.498802Z",
     "start_time": "2020-11-25T03:47:49.494813Z"
    }
   },
   "outputs": [
    {
     "name": "stdout",
     "output_type": "stream",
     "text": [
      "0\n",
      "1\n",
      "2\n",
      "3\n",
      "4\n"
     ]
    }
   ],
   "source": [
    "i = 0\n",
    "while i<5:  #while 조건이 만족되면 명령\n",
    "        print(i)\n",
    "        i += 1"
   ]
  },
  {
   "cell_type": "code",
   "execution_count": 94,
   "metadata": {
    "ExecuteTime": {
     "end_time": "2020-11-25T04:00:47.270301Z",
     "start_time": "2020-11-25T04:00:47.264317Z"
    }
   },
   "outputs": [
    {
     "ename": "SyntaxError",
     "evalue": "invalid syntax (<ipython-input-94-783649d503fa>, line 8)",
     "output_type": "error",
     "traceback": [
      "\u001b[1;36m  File \u001b[1;32m\"<ipython-input-94-783649d503fa>\"\u001b[1;36m, line \u001b[1;32m8\u001b[0m\n\u001b[1;33m    print(aaa)\u001b[0m\n\u001b[1;37m    ^\u001b[0m\n\u001b[1;31mSyntaxError\u001b[0m\u001b[1;31m:\u001b[0m invalid syntax\n"
     ]
    }
   ],
   "source": [
    "# 사용자로부터 원하는 구구단 숫자를 입력받아 해당 구구단을 출력합니다\n",
    "\n",
    "mul_num = int(input(\"구구단을 계산할 단을 입력하세요 : \"))\n",
    "aaa = []\n",
    "\n",
    "for i in range(1,10):\n",
    "    aaa = (\"{}*{}={}\".format(mul_num,i,mul_num*i)\n",
    "    print(aaa)\n",
    "\n",
    "\n"
   ]
  },
  {
   "cell_type": "code",
   "execution_count": 5,
   "metadata": {
    "ExecuteTime": {
     "end_time": "2020-11-26T00:35:05.686712Z",
     "start_time": "2020-11-26T00:35:05.680753Z"
    }
   },
   "outputs": [
    {
     "name": "stdout",
     "output_type": "stream",
     "text": [
      "2*1= 2\t\t3*1= 3\t\t4*1= 4\t\t5*1= 5\t\t6*1= 6\t\t7*1= 7\t\t\n",
      "2*2= 4\t\t3*2= 6\t\t4*2= 8\t\t5*2=10\t\t6*2=12\t\t7*2=14\t\t\n",
      "2*3= 6\t\t3*3= 9\t\t4*3=12\t\t5*3=15\t\t6*3=18\t\t7*3=21\t\t\n",
      "2*4= 8\t\t3*4=12\t\t4*4=16\t\t5*4=20\t\t6*4=24\t\t7*4=28\t\t\n",
      "2*5=10\t\t3*5=15\t\t4*5=20\t\t5*5=25\t\t6*5=30\t\t7*5=35\t\t\n",
      "2*6=12\t\t3*6=18\t\t4*6=24\t\t5*6=30\t\t6*6=36\t\t7*6=42\t\t\n",
      "2*7=14\t\t3*7=21\t\t4*7=28\t\t5*7=35\t\t6*7=42\t\t7*7=49\t\t\n",
      "2*8=16\t\t3*8=24\t\t4*8=32\t\t5*8=40\t\t6*8=48\t\t7*8=56\t\t\n",
      "2*9=18\t\t3*9=27\t\t4*9=36\t\t5*9=45\t\t6*9=54\t\t7*9=63\t\t\n"
     ]
    }
   ],
   "source": [
    "for i in range(1,10):\n",
    "    mulrow = \"\"\n",
    "    for j in range(2,8):\n",
    "        #mulrow = mulrow + str(j) + \"*\" + str(i) +\"=\"+ str(i*j) + \"\\t\\t\"\n",
    "        print(\"{}*{}={:2d}\".format(j,i,i*j),end=\"\\t\\t\")\n",
    "    print()\n",
    "    #print(mulrow)\n",
    "\n"
   ]
  },
  {
   "cell_type": "code",
   "execution_count": 15,
   "metadata": {
    "ExecuteTime": {
     "end_time": "2020-11-26T01:10:56.338501Z",
     "start_time": "2020-11-26T01:10:42.735860Z"
    }
   },
   "outputs": [
    {
     "name": "stdout",
     "output_type": "stream",
     "text": [
      "(1~100) 중에 맞힐 숫자를 입력하세요. :50\n",
      "업 정답을 50~100 중에 선택하세요 \n",
      "(50~100) 중에 맞힐 숫자를 입력하세요. :75\n",
      "다운 정답을 50~75 중에 선택하세요 \n",
      "(50~75) 중에 맞힐 숫자를 입력하세요. :66\n",
      "다운 정답을 50~66 중에 선택하세요 \n",
      "(50~66) 중에 맞힐 숫자를 입력하세요. :61\n",
      "업 정답을 61~66 중에 선택하세요 \n",
      "(61~66) 중에 맞힐 숫자를 입력하세요. :63\n",
      "업 정답을 63~66 중에 선택하세요 \n",
      "(63~66) 중에 맞힐 숫자를 입력하세요. :64\n",
      "\n",
      "\n",
      "6번 만에 맞추셨습니다\n",
      "시도 : 5번째\n",
      "최대 : 7번 만에 맞추셨습니다\n",
      "최소 : 5번 만에 맞추셨습니다\n",
      "평균 : 6.0번 만에 맞추셨습니다\n"
     ]
    }
   ],
   "source": [
    "import random\n",
    "\n",
    "ran_num = random.randint(1,100)\n",
    "chk = False\n",
    "cnt = 0\n",
    "\n",
    "hintnumMax = 100\n",
    "hintnumMin = 1\n",
    "\n",
    "while(chk == False):\n",
    "    in_num = int(input (\"({}~{}) 중에 맞힐 숫자를 입력하세요. :\".format(hintnumMin,hintnumMax)))\n",
    "    cnt += 1\n",
    "    \n",
    "    if (ran_num == in_num):\n",
    "        chk = True\n",
    "    elif ( ran_num > in_num):\n",
    "        hintnumMin = in_num        \n",
    "        print (\"업 정답을 {}~{} 중에 선택하세요 \".format(hintnumMin,hintnumMax))\n",
    "               \n",
    "    else:\n",
    "        hintnumMax = in_num\n",
    "        print(\"다운 정답을 {}~{} 중에 선택하세요 \".format(hintnumMin,hintnumMax))\n",
    "\n",
    "trycnt += 1\n",
    "\n",
    "\n",
    "if (cnt >= maxcnt):\n",
    "    maxcnt = cnt\n",
    "    if (trycnt == 1):\n",
    "        mincnt = maxcnt\n",
    "\n",
    "    \n",
    "if (cnt <= mincnt):\n",
    "    mincnt = cnt\n",
    "\n",
    "sumcnt += cnt\n",
    "avgcnt = sumcnt / trycnt\n",
    "\n",
    "\n",
    "print(\"\\n\\n{}번 만에 맞추셨습니다\".format(cnt))\n",
    "\n",
    "print(\"시도 : {}번째\".format(trycnt))\n",
    "print(\"최대 : {}번 만에 맞추셨습니다\".format(maxcnt))\n",
    "print(\"최소 : {}번 만에 맞추셨습니다\".format(mincnt))\n",
    "print(\"평균 : {:2.2}번 만에 맞추셨습니다\".format(avgcnt))\n"
   ]
  },
  {
   "cell_type": "code",
   "execution_count": 10,
   "metadata": {
    "ExecuteTime": {
     "end_time": "2020-11-26T01:08:24.339524Z",
     "start_time": "2020-11-26T01:08:24.335534Z"
    }
   },
   "outputs": [],
   "source": [
    "trycnt=0\n",
    "maxcnt = 0\n",
    "mincnt = 0\n",
    "avgcnt = 0.0\n",
    "sumcnt = 0"
   ]
  },
  {
   "cell_type": "code",
   "execution_count": null,
   "metadata": {},
   "outputs": [],
   "source": []
  },
  {
   "cell_type": "code",
   "execution_count": null,
   "metadata": {},
   "outputs": [],
   "source": []
  },
  {
   "cell_type": "code",
   "execution_count": null,
   "metadata": {},
   "outputs": [],
   "source": []
  },
  {
   "cell_type": "code",
   "execution_count": null,
   "metadata": {},
   "outputs": [],
   "source": []
  },
  {
   "cell_type": "code",
   "execution_count": null,
   "metadata": {},
   "outputs": [],
   "source": []
  }
 ],
 "metadata": {
  "kernelspec": {
   "display_name": "Python 3",
   "language": "python",
   "name": "python3"
  },
  "language_info": {
   "codemirror_mode": {
    "name": "ipython",
    "version": 3
   },
   "file_extension": ".py",
   "mimetype": "text/x-python",
   "name": "python",
   "nbconvert_exporter": "python",
   "pygments_lexer": "ipython3",
   "version": "3.8.5"
  },
  "toc": {
   "base_numbering": 1,
   "nav_menu": {},
   "number_sections": false,
   "sideBar": true,
   "skip_h1_title": false,
   "title_cell": "Table of Contents",
   "title_sidebar": "Contents",
   "toc_cell": false,
   "toc_position": {},
   "toc_section_display": true,
   "toc_window_display": true
  },
  "varInspector": {
   "cols": {
    "lenName": 16,
    "lenType": 16,
    "lenVar": 40
   },
   "kernels_config": {
    "python": {
     "delete_cmd_postfix": "",
     "delete_cmd_prefix": "del ",
     "library": "var_list.py",
     "varRefreshCmd": "print(var_dic_list())"
    },
    "r": {
     "delete_cmd_postfix": ") ",
     "delete_cmd_prefix": "rm(",
     "library": "var_list.r",
     "varRefreshCmd": "cat(var_dic_list()) "
    }
   },
   "position": {
    "height": "496px",
    "left": "1458px",
    "right": "20px",
    "top": "120px",
    "width": "394px"
   },
   "types_to_exclude": [
    "module",
    "function",
    "builtin_function_or_method",
    "instance",
    "_Feature"
   ],
   "window_display": false
  }
 },
 "nbformat": 4,
 "nbformat_minor": 4
}
