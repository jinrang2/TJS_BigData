{
 "cells": [
  {
   "cell_type": "code",
   "execution_count": 8,
   "metadata": {
    "ExecuteTime": {
     "end_time": "2020-11-24T01:56:05.406720Z",
     "start_time": "2020-11-24T01:56:05.401733Z"
    }
   },
   "outputs": [],
   "source": [
    "#a = float(input(\"첫번째 수를 입력하세요\"))\n",
    "#b = float(input(\"두번째 수를 입력하세요\"))\n",
    "def cacplus(a,b):\n",
    "    print ( \"합     : \",a+b,\"입니다\")\n",
    "\n",
    "def cacminus(a,b):\n",
    "    print ( \"차     : \",a-b,\"입니다\")\n",
    "\n",
    "def cacmulti(a,b):\n",
    "    print ( \"곱     : \",a*b,\"입니다\")\n",
    "\n",
    "def cacquot(a,b):\n",
    "    print ( \"몫     : \",a//b,\"입니다\")\n",
    "\n",
    "def cacremain(a,b):\n",
    "    print ( \"나머지 : \",a%b,\"입니다\")"
   ]
  },
  {
   "cell_type": "code",
   "execution_count": 9,
   "metadata": {
    "ExecuteTime": {
     "end_time": "2020-11-24T01:56:12.398346Z",
     "start_time": "2020-11-24T01:56:08.485415Z"
    }
   },
   "outputs": [
    {
     "name": "stdout",
     "output_type": "stream",
     "text": [
      "첫번째 수를 입력하세요10.1\n",
      "두번째 수를 입력하세요2.5\n",
      "입력받은 두 수는  10.1   2.5 입니다\n",
      "합     :  12.6 입니다\n",
      "차     :  7.6 입니다\n",
      "곱     :  25.25 입니다\n",
      "몫     :  4.0 입니다\n",
      "나머지 :  0.09999999999999964 입니다\n"
     ]
    }
   ],
   "source": [
    "a = float(input(\"첫번째 수를 입력하세요\"))\n",
    "b = float(input(\"두번째 수를 입력하세요\"))\n",
    "\n",
    "print (\"입력받은 두 수는 \",a,\" \",b,\"입니다\")\n",
    "cacplus(a,b)\n",
    "cacminus(a,b)\n",
    "cacmulti(a,b)\n",
    "cacquot(a,b)\n",
    "cacremain(a,b)"
   ]
  }
 ],
 "metadata": {
  "kernelspec": {
   "display_name": "Python 3",
   "language": "python",
   "name": "python3"
  },
  "language_info": {
   "codemirror_mode": {
    "name": "ipython",
    "version": 3
   },
   "file_extension": ".py",
   "mimetype": "text/x-python",
   "name": "python",
   "nbconvert_exporter": "python",
   "pygments_lexer": "ipython3",
   "version": "3.8.5"
  },
  "toc": {
   "base_numbering": 1,
   "nav_menu": {},
   "number_sections": true,
   "sideBar": true,
   "skip_h1_title": false,
   "title_cell": "Table of Contents",
   "title_sidebar": "Contents",
   "toc_cell": false,
   "toc_position": {},
   "toc_section_display": true,
   "toc_window_display": false
  },
  "varInspector": {
   "cols": {
    "lenName": 16,
    "lenType": 16,
    "lenVar": 40
   },
   "kernels_config": {
    "python": {
     "delete_cmd_postfix": "",
     "delete_cmd_prefix": "del ",
     "library": "var_list.py",
     "varRefreshCmd": "print(var_dic_list())"
    },
    "r": {
     "delete_cmd_postfix": ") ",
     "delete_cmd_prefix": "rm(",
     "library": "var_list.r",
     "varRefreshCmd": "cat(var_dic_list()) "
    }
   },
   "types_to_exclude": [
    "module",
    "function",
    "builtin_function_or_method",
    "instance",
    "_Feature"
   ],
   "window_display": false
  }
 },
 "nbformat": 4,
 "nbformat_minor": 4
}
