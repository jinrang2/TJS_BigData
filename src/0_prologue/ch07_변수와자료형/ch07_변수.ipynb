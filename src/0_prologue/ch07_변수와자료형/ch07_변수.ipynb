{
 "cells": [
  {
   "cell_type": "code",
   "execution_count": 48,
   "metadata": {},
   "outputs": [
    {
     "name": "stdout",
     "output_type": "stream",
     "text": [
      "반지름이 5인 원의 넓이는  78.5\n"
     ]
    }
   ],
   "source": [
    "print(\"반지름이 5인 원의 넓이는 \",(5*5*3.14)) # ctrl or Shitf or alt엔터"
   ]
  },
  {
   "cell_type": "markdown",
   "metadata": {},
   "source": [
    "## ESC -> a(윗셀추가), b(아랫셀추가), dd(해당 셀 삭제), m(markdown)\n",
    "\n",
    "#ch07 변수와 자료형\n",
    "7-1 변수"
   ]
  },
  {
   "cell_type": "code",
   "execution_count": 61,
   "metadata": {},
   "outputs": [],
   "source": [
    "r=1000000000000"
   ]
  },
  {
   "cell_type": "code",
   "execution_count": 62,
   "metadata": {},
   "outputs": [],
   "source": [
    "area = r * r * 3.14"
   ]
  },
  {
   "cell_type": "code",
   "execution_count": 63,
   "metadata": {},
   "outputs": [
    {
     "name": "stdout",
     "output_type": "stream",
     "text": [
      "원의 넓이는  3.14e+24\n"
     ]
    }
   ],
   "source": [
    "print(\"원의 넓이는 \",area)"
   ]
  },
  {
   "cell_type": "code",
   "execution_count": 78,
   "metadata": {},
   "outputs": [
    {
     "name": "stdout",
     "output_type": "stream",
     "text": [
      "8.2\n"
     ]
    }
   ],
   "source": [
    "a=1.2\n",
    "b=7\n",
    "print(a+b)"
   ]
  },
  {
   "cell_type": "code",
   "execution_count": 71,
   "metadata": {},
   "outputs": [],
   "source": [
    "#변수명은 반드시 알파벳(소문자)으로 시작, 특수문자는 언더바(_ 만 가능), 숫자가능, \n",
    "#변수명은 저장될 갓을 대표하는 이름"
   ]
  },
  {
   "cell_type": "code",
   "execution_count": 72,
   "metadata": {},
   "outputs": [
    {
     "name": "stdout",
     "output_type": "stream",
     "text": [
      "a+b\n"
     ]
    }
   ],
   "source": [
    "a=7\n",
    "b=7\n",
    "print(\"a+b\")"
   ]
  },
  {
   "cell_type": "code",
   "execution_count": 91,
   "metadata": {},
   "outputs": [],
   "source": [
    "#7-2변수의 기본타입"
   ]
  },
  {
   "cell_type": "code",
   "execution_count": 93,
   "metadata": {},
   "outputs": [
    {
     "name": "stdout",
     "output_type": "stream",
     "text": [
      "홍길동\n"
     ]
    }
   ],
   "source": [
    "name =\"홍길동\"\n",
    "print(name)"
   ]
  },
  {
   "cell_type": "markdown",
   "metadata": {},
   "source": [
    "<b>숫자형(int, float), 문자형, 불린형</b>"
   ]
  },
  {
   "cell_type": "code",
   "execution_count": 94,
   "metadata": {},
   "outputs": [],
   "source": [
    "inta = 5 #정수형(int)\n",
    "intb = 2 "
   ]
  },
  {
   "cell_type": "code",
   "execution_count": 96,
   "metadata": {},
   "outputs": [
    {
     "name": "stdout",
     "output_type": "stream",
     "text": [
      "<class 'int'> <class 'int'>\n"
     ]
    }
   ],
   "source": [
    "print (type(inta), type(intb))"
   ]
  },
  {
   "cell_type": "code",
   "execution_count": 101,
   "metadata": {},
   "outputs": [
    {
     "name": "stdout",
     "output_type": "stream",
     "text": [
      "<class 'float'> <class 'float'>\n"
     ]
    }
   ],
   "source": [
    "floata = 1.5 # 실수형(float)\n",
    "floatb = 2.0 \n",
    "print( type(floata), type(floatb))"
   ]
  },
  {
   "cell_type": "code",
   "execution_count": 111,
   "metadata": {},
   "outputs": [
    {
     "name": "stdout",
     "output_type": "stream",
     "text": [
      "<class 'str'> <class 'str'>\n",
      "ABC123\n"
     ]
    }
   ],
   "source": [
    "stra = \"ABC\" #문자형\n",
    "strb = '123'\n",
    "print ( type(stra), type(strb))\n",
    "print ( stra + strb )"
   ]
  },
  {
   "cell_type": "code",
   "execution_count": 116,
   "metadata": {},
   "outputs": [
    {
     "name": "stdout",
     "output_type": "stream",
     "text": [
      "ABC ~ 123\n"
     ]
    }
   ],
   "source": [
    "print (stra, strb, sep=\" ~ \")"
   ]
  },
  {
   "cell_type": "code",
   "execution_count": 120,
   "metadata": {},
   "outputs": [
    {
     "name": "stdout",
     "output_type": "stream",
     "text": [
      "<class 'bool'> <class 'bool'>\n",
      "1\n"
     ]
    }
   ],
   "source": [
    "booleana = True # 불린형(True, False)\n",
    "booleanb = False\n",
    "print( type(boolean), type(boolean))\n",
    "print( booleana+booleanb)"
   ]
  },
  {
   "cell_type": "markdown",
   "metadata": {},
   "source": [
    "#7.3 데이터 타입과 연산자"
   ]
  },
  {
   "cell_type": "code",
   "execution_count": 129,
   "metadata": {},
   "outputs": [
    {
     "name": "stdout",
     "output_type": "stream",
     "text": [
      "5 2\n",
      "1.5 2.0\n",
      "ABC 123\n",
      "True False\n"
     ]
    }
   ],
   "source": [
    "print(inta, intb)\n",
    "print(floata, floatb)\n",
    "print(stra, strb)\n",
    "print(booleana, booleanb)\n",
    "\n"
   ]
  },
  {
   "cell_type": "code",
   "execution_count": 132,
   "metadata": {},
   "outputs": [
    {
     "name": "stdout",
     "output_type": "stream",
     "text": [
      "inta+intb 7\n",
      "inta-intb 3\n",
      "inta*intb 10\n",
      "inta/intb 2.5\n",
      "inta//intb 2\n",
      "inta%intb 1\n",
      "inta ** intb 25\n"
     ]
    }
   ],
   "source": [
    "print(\"inta+intb\",inta+intb)\n",
    "print(\"inta-intb\",inta-intb)\n",
    "print(\"inta*intb\",inta*intb)\n",
    "print(\"inta/intb\",inta/intb)\n",
    "print(\"inta//intb\", inta // intb) #나누기의 몫\n",
    "print(\"inta%intb\", inta % intb)  #나누기의 나머지\n",
    "print(\"inta ** intb\", inta ** intb) #제곱"
   ]
  },
  {
   "cell_type": "code",
   "execution_count": 134,
   "metadata": {},
   "outputs": [
    {
     "name": "stdout",
     "output_type": "stream",
     "text": [
      "실행전 원 int a 값 : 6\n",
      "연산자 수행후 int a 값 : 7\n"
     ]
    }
   ],
   "source": [
    "print('실행전 원 int a 값 :',inta)\n",
    "inta += 1 # inta = inta + 1 \n",
    "print('연산자 수행후 int a 값 :',inta)"
   ]
  },
  {
   "cell_type": "code",
   "execution_count": 135,
   "metadata": {},
   "outputs": [
    {
     "name": "stdout",
     "output_type": "stream",
     "text": [
      "실행전 원 int a 값 : 7\n",
      "연산자 수행후 int a 값 : 6\n"
     ]
    }
   ],
   "source": [
    "print('실행전 원 int a 값 :',inta)\n",
    "inta -= 1 # inta = inta - 1 \n",
    "print('연산자 수행후 int a 값 :',inta)"
   ]
  },
  {
   "cell_type": "code",
   "execution_count": 137,
   "metadata": {},
   "outputs": [
    {
     "name": "stdout",
     "output_type": "stream",
     "text": [
      "ABC 123\n"
     ]
    }
   ],
   "source": [
    "#문자 연산\n",
    "print(stra, strb)"
   ]
  },
  {
   "cell_type": "code",
   "execution_count": 143,
   "metadata": {},
   "outputs": [
    {
     "name": "stdout",
     "output_type": "stream",
     "text": [
      "ABC123\n",
      "ABC3\n"
     ]
    }
   ],
   "source": [
    "print(stra+strb) #문자형끼리 더하면 연결\n",
    "print(stra+str(3))"
   ]
  },
  {
   "cell_type": "code",
   "execution_count": 146,
   "metadata": {},
   "outputs": [
    {
     "name": "stdout",
     "output_type": "stream",
     "text": [
      "ABCABCABC\n"
     ]
    }
   ],
   "source": [
    "print(stra*3) #문자형의 곱셈은 반복을 의미"
   ]
  },
  {
   "cell_type": "markdown",
   "metadata": {},
   "source": [
    "## 7.4 형변환\n",
    "\n",
    "- 숫자 <-> 문자형\n",
    "- 정수 <-> 실수"
   ]
  },
  {
   "cell_type": "markdown",
   "metadata": {},
   "source": [
    "<b> 정수형 <-> 실수형 </b>"
   ]
  },
  {
   "cell_type": "code",
   "execution_count": 152,
   "metadata": {},
   "outputs": [
    {
     "name": "stdout",
     "output_type": "stream",
     "text": [
      "10\n"
     ]
    }
   ],
   "source": [
    "a = 10.7       #실수(float) 형\n",
    "print(int(a))  #실수형을 정수형으로 형변환(짤림)"
   ]
  },
  {
   "cell_type": "code",
   "execution_count": 156,
   "metadata": {},
   "outputs": [
    {
     "name": "stdout",
     "output_type": "stream",
     "text": [
      "10.0\n"
     ]
    }
   ],
   "source": [
    "a=10             #정수(int) 형\n",
    "print(float(a))  #실수형으로 형변환"
   ]
  },
  {
   "cell_type": "markdown",
   "metadata": {},
   "source": [
    "<b> 숫자형(int, float) -> 문자형 : str()함수 </b>"
   ]
  },
  {
   "cell_type": "code",
   "execution_count": 161,
   "metadata": {},
   "outputs": [
    {
     "name": "stdout",
     "output_type": "stream",
     "text": [
      "<class 'int'> <class 'float'>\n",
      "<class 'float'> <class 'float'>\n",
      "10.7 10.0\n"
     ]
    }
   ],
   "source": [
    "a = 10\n",
    "b = 10.7\n",
    "print (type(a), type(b))\n",
    "a = 10.7\n",
    "b = 10.0\n",
    "print (type(a), type(b))\n",
    "print (str(a), str(b))"
   ]
  },
  {
   "cell_type": "markdown",
   "metadata": {},
   "source": [
    "<b>문자 -> 숫자(int, float)\n",
    "                "
   ]
  },
  {
   "cell_type": "code",
   "execution_count": 167,
   "metadata": {},
   "outputs": [
    {
     "name": "stdout",
     "output_type": "stream",
     "text": [
      "10 <class 'int'>\n"
     ]
    }
   ],
   "source": [
    "stra =\"10\"\n",
    "a = int(stra)\n",
    "print(a, type(a))"
   ]
  },
  {
   "cell_type": "code",
   "execution_count": 173,
   "metadata": {},
   "outputs": [
    {
     "name": "stdout",
     "output_type": "stream",
     "text": [
      "-10.0 <class 'float'>\n"
     ]
    }
   ],
   "source": [
    "stra = \"-10\"\n",
    "a = float(stra)\n",
    "print(a, type(a))"
   ]
  },
  {
   "cell_type": "markdown",
   "metadata": {},
   "source": [
    "#형변환 = 명시적형변환 ( str, int(), float() 함수이용)\n",
    "          묵시적형변환"
   ]
  },
  {
   "cell_type": "code",
   "execution_count": 176,
   "metadata": {},
   "outputs": [
    {
     "name": "stdout",
     "output_type": "stream",
     "text": [
      "13 <class 'int'>\n"
     ]
    }
   ],
   "source": [
    "a=10\n",
    "b=3\n",
    "result=a+b\n",
    "print(result, type(result))"
   ]
  },
  {
   "cell_type": "code",
   "execution_count": 178,
   "metadata": {},
   "outputs": [
    {
     "name": "stdout",
     "output_type": "stream",
     "text": [
      "13.0 <class 'float'>\n"
     ]
    }
   ],
   "source": [
    "a=10.1\n",
    "b=2.9\n",
    "result=a+b\n",
    "print(result, type(result))"
   ]
  },
  {
   "cell_type": "code",
   "execution_count": 180,
   "metadata": {},
   "outputs": [
    {
     "name": "stdout",
     "output_type": "stream",
     "text": [
      "3.3333333333333335 <class 'float'>\n"
     ]
    }
   ],
   "source": [
    "a=10\n",
    "b=3\n",
    "result=a/b #정수끼리 연산 결과는 정수 => 묵시적으로 실수형으로 변환\n",
    "print(result, type(result))\n"
   ]
  },
  {
   "cell_type": "code",
   "execution_count": null,
   "metadata": {},
   "outputs": [],
   "source": [
    "## 사용자로부터 반지름을 입력받아 원의 넓이를 출력합니다\n",
    "## 출력받는 함수 : print()\n",
    "## 사용자로부터 입력받아 str형 값으로 받음: input()"
   ]
  },
  {
   "cell_type": "code",
   "execution_count": 12,
   "metadata": {},
   "outputs": [
    {
     "name": "stdout",
     "output_type": "stream",
     "text": [
      "이름을 입력하세요 :이름\n",
      "입력한 이름은 이름\n"
     ]
    }
   ],
   "source": [
    "name = input('이름을 입력하세요 :')\n",
    "print('입력한 이름은',name)\n"
   ]
  },
  {
   "cell_type": "code",
   "execution_count": 4,
   "metadata": {
    "ExecuteTime": {
     "end_time": "2020-11-24T01:05:03.902549Z",
     "start_time": "2020-11-24T01:05:02.715066Z"
    }
   },
   "outputs": [
    {
     "name": "stdout",
     "output_type": "stream",
     "text": [
      "반지름을 입력하세요 : 7\n",
      "입력하신 반지름 7.0 의 넓이는 153.86\n"
     ]
    }
   ],
   "source": [
    "r= float(input(\"반지름을 입력하세요 : \"))\n",
    "area=r**2*3.14\n",
    "print(\"입력하신 반지름\",r,\"의 넓이는\",area)"
   ]
  },
  {
   "cell_type": "code",
   "execution_count": 5,
   "metadata": {
    "ExecuteTime": {
     "end_time": "2020-11-24T01:05:06.414016Z",
     "start_time": "2020-11-24T01:05:06.411048Z"
    }
   },
   "outputs": [
    {
     "name": "stdout",
     "output_type": "stream",
     "text": [
      "153.86\n"
     ]
    }
   ],
   "source": [
    "print(r**2*3.14)"
   ]
  },
  {
   "cell_type": "raw",
   "metadata": {},
   "source": []
  },
  {
   "cell_type": "code",
   "execution_count": 6,
   "metadata": {
    "ExecuteTime": {
     "end_time": "2020-11-24T01:09:46.751284Z",
     "start_time": "2020-11-24T01:09:46.747294Z"
    }
   },
   "outputs": [],
   "source": [
    "#반지름을 이용해서 반지름과 넓이를 출력하는 함수(area_out)\n",
    "def area_out(r):\n",
    "    area = r**2*3.14\n",
    "    print(\"반지름은\",r,\"이고 넓이는\",area)"
   ]
  },
  {
   "cell_type": "code",
   "execution_count": 7,
   "metadata": {
    "ExecuteTime": {
     "end_time": "2020-11-24T01:11:28.430113Z",
     "start_time": "2020-11-24T01:11:22.795798Z"
    }
   },
   "outputs": [
    {
     "name": "stdout",
     "output_type": "stream",
     "text": [
      "반지름을 입력하세요 : 43\n",
      "반지름은 43 이고 넓이는 5805.860000000001\n"
     ]
    }
   ],
   "source": [
    "r = int(input(\"반지름을 입력하세요 : \"))\n",
    "area_out(r)"
   ]
  },
  {
   "cell_type": "markdown",
   "metadata": {},
   "source": [
    "##연습문제"
   ]
  },
  {
   "cell_type": "code",
   "execution_count": 10,
   "metadata": {
    "ExecuteTime": {
     "end_time": "2020-11-24T01:22:27.071281Z",
     "start_time": "2020-11-24T01:22:27.067316Z"
    }
   },
   "outputs": [
    {
     "name": "stdout",
     "output_type": "stream",
     "text": [
      "False False\n",
      "False True\n"
     ]
    }
   ],
   "source": [
    "#1\n",
    "a=777\n",
    "b=777\n",
    "print(a==7,a is b)\n",
    "a=b\n",
    "print(a==7,a is b)"
   ]
  },
  {
   "cell_type": "code",
   "execution_count": 11,
   "metadata": {
    "ExecuteTime": {
     "end_time": "2020-11-24T01:22:42.957976Z",
     "start_time": "2020-11-24T01:22:42.954007Z"
    }
   },
   "outputs": [
    {
     "name": "stdout",
     "output_type": "stream",
     "text": [
      "True\n",
      "True\n"
     ]
    }
   ],
   "source": [
    "a = 200\n",
    "b = 200\n",
    "print(a==b)\n",
    "print(a is b)"
   ]
  },
  {
   "cell_type": "code",
   "execution_count": 12,
   "metadata": {
    "ExecuteTime": {
     "end_time": "2020-11-24T01:22:53.150850Z",
     "start_time": "2020-11-24T01:22:53.146860Z"
    }
   },
   "outputs": [
    {
     "name": "stdout",
     "output_type": "stream",
     "text": [
      "True False\n"
     ]
    }
   ],
   "source": [
    "b=256\n",
    "print( a!= b, a is b)"
   ]
  },
  {
   "cell_type": "code",
   "execution_count": 14,
   "metadata": {
    "ExecuteTime": {
     "end_time": "2020-11-24T01:39:28.354604Z",
     "start_time": "2020-11-24T01:39:28.346614Z"
    }
   },
   "outputs": [
    {
     "ename": "NameError",
     "evalue": "name 'b' is not defined",
     "output_type": "error",
     "traceback": [
      "\u001b[1;31m---------------------------------------------------------------------------\u001b[0m",
      "\u001b[1;31mNameError\u001b[0m                                 Traceback (most recent call last)",
      "\u001b[1;32m<ipython-input-14-73e1cb53eb27>\u001b[0m in \u001b[0;36m<module>\u001b[1;34m\u001b[0m\n\u001b[1;32m----> 1\u001b[1;33m \u001b[0mprint\u001b[0m\u001b[1;33m(\u001b[0m\u001b[0mb\u001b[0m\u001b[1;33m)\u001b[0m\u001b[1;33m\u001b[0m\u001b[1;33m\u001b[0m\u001b[0m\n\u001b[0m\u001b[0;32m      2\u001b[0m \u001b[1;32mdel\u001b[0m \u001b[0mb\u001b[0m\u001b[1;33m\u001b[0m\u001b[1;33m\u001b[0m\u001b[0m\n",
      "\u001b[1;31mNameError\u001b[0m: name 'b' is not defined"
     ]
    }
   ],
   "source": []
  },
  {
   "cell_type": "code",
   "execution_count": null,
   "metadata": {},
   "outputs": [],
   "source": []
  },
  {
   "cell_type": "code",
   "execution_count": null,
   "metadata": {},
   "outputs": [],
   "source": []
  }
 ],
 "metadata": {
  "kernelspec": {
   "display_name": "Python 3",
   "language": "python",
   "name": "python3"
  },
  "language_info": {
   "codemirror_mode": {
    "name": "ipython",
    "version": 3
   },
   "file_extension": ".py",
   "mimetype": "text/x-python",
   "name": "python",
   "nbconvert_exporter": "python",
   "pygments_lexer": "ipython3",
   "version": "3.8.5"
  },
  "toc": {
   "base_numbering": 1,
   "nav_menu": {},
   "number_sections": false,
   "sideBar": true,
   "skip_h1_title": false,
   "title_cell": "Table of Contents",
   "title_sidebar": "Contents",
   "toc_cell": false,
   "toc_position": {
    "height": "calc(100% - 180px)",
    "left": "10px",
    "top": "150px",
    "width": "256px"
   },
   "toc_section_display": true,
   "toc_window_display": true
  },
  "varInspector": {
   "cols": {
    "lenName": 16,
    "lenType": 16,
    "lenVar": 40
   },
   "kernels_config": {
    "python": {
     "delete_cmd_postfix": "",
     "delete_cmd_prefix": "del ",
     "library": "var_list.py",
     "varRefreshCmd": "print(var_dic_list())"
    },
    "r": {
     "delete_cmd_postfix": ") ",
     "delete_cmd_prefix": "rm(",
     "library": "var_list.r",
     "varRefreshCmd": "cat(var_dic_list()) "
    }
   },
   "oldHeight": 122.667,
   "position": {
    "height": "144.667px",
    "left": "910px",
    "right": "20px",
    "top": "120px",
    "width": "350px"
   },
   "types_to_exclude": [
    "module",
    "function",
    "builtin_function_or_method",
    "instance",
    "_Feature"
   ],
   "varInspector_section_display": "block",
   "window_display": true
  }
 },
 "nbformat": 4,
 "nbformat_minor": 4
}
