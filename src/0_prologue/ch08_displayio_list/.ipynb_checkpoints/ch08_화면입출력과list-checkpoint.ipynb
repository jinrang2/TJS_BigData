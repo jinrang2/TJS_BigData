{
 "cells": [
  {
   "cell_type": "markdown",
   "metadata": {},
   "source": [
    "# ch08. 화면입출력과 리스트\n",
    "## 02. 화면 입출력\n",
    "- input(\"도움말 내용\")\n",
    "- print(\"출력하고자 하는 내용\".format())\n",
    "\n",
    "## 03. 화씨온도 변환기\n",
    "<b><font size=\"2\" color=\"red\">F(화씨온도) = ℃(섭씨온도) * 1.8 + 32"
   ]
  },
  {
   "cell_type": "code",
   "execution_count": 10,
   "metadata": {
    "ExecuteTime": {
     "end_time": "2020-11-24T02:35:58.987514Z",
     "start_time": "2020-11-24T02:35:55.112606Z"
    }
   },
   "outputs": [
    {
     "name": "stdout",
     "output_type": "stream",
     "text": [
      "변환하고 싶은 섭씨 온도를 입력하세요 : \n",
      "32.3\n",
      "섭씨 온도 : 32.3\n",
      "화씨 온도 : 90.13999999999999\n"
     ]
    }
   ],
   "source": [
    "celsius = input(\"변환하고 싶은 섭씨 온도를 입력하세요 : \\n\")\n",
    "celsius = float(celsius)\n",
    "fahrenheit = celsius * 1.8 + 32\n",
    "print(\"섭씨 온도 :\",celsius)\n",
    "print(\"화씨 온도 :\",fahrenheit)\n"
   ]
  },
  {
   "cell_type": "code",
   "execution_count": 16,
   "metadata": {
    "ExecuteTime": {
     "end_time": "2020-11-24T02:38:07.115894Z",
     "start_time": "2020-11-24T02:38:07.112903Z"
    }
   },
   "outputs": [
    {
     "name": "stdout",
     "output_type": "stream",
     "text": [
      "화씨 온도 : 90.14000\n"
     ]
    }
   ],
   "source": [
    "# 0번째 변수를 소수점 2자리까지만 floast형식으로 출력해야\n",
    "\n",
    "print(\"화씨 온도 : {0:7.5f}\".format(fahrenheit)    )"
   ]
  },
  {
   "cell_type": "code",
   "execution_count": 20,
   "metadata": {
    "ExecuteTime": {
     "end_time": "2020-11-24T02:42:20.172979Z",
     "start_time": "2020-11-24T02:42:20.168990Z"
    }
   },
   "outputs": [
    {
     "name": "stdout",
     "output_type": "stream",
     "text": [
      "   30 -    20 -    10\n"
     ]
    }
   ],
   "source": [
    "a=10\n",
    "print(\"{2:5d} - {1:5d} - {0:5d}\".format(a, 20, 30))\n",
    "#0번째 : 10\n",
    "#1번째 : 20\n",
    "#2번째 : 30"
   ]
  },
  {
   "cell_type": "code",
   "execution_count": 25,
   "metadata": {
    "ExecuteTime": {
     "end_time": "2020-11-24T02:50:49.884655Z",
     "start_time": "2020-11-24T02:50:49.880691Z"
    }
   },
   "outputs": [
    {
     "name": "stdout",
     "output_type": "stream",
     "text": [
      "Hong GilDong   : 20\n",
      "Yi Gun         :  9\n",
      "Park mosigi    :100\n"
     ]
    }
   ],
   "source": [
    "student1 = \"Hong GilDong\"\n",
    "student2 = \"Yi Gun\"\n",
    "student3 = \"Park mosigi\"\n",
    "\n",
    "age1 = 20\n",
    "age2 = 9\n",
    "age3 = 100\n",
    "\n",
    "print(\"{:15s}:{:3d}\".format(student1, age1))\n",
    "print(\"{:15s}:{:3d}\".format(student2, age2))\n",
    "print(\"{:15s}:{:3d}\".format(student3, age3))"
   ]
  },
  {
   "cell_type": "code",
   "execution_count": 30,
   "metadata": {
    "ExecuteTime": {
     "end_time": "2020-11-24T03:01:01.756633Z",
     "start_time": "2020-11-24T03:01:01.752644Z"
    }
   },
   "outputs": [
    {
     "name": "stdout",
     "output_type": "stream",
     "text": [
      "Hong GilDong   : 20-몸무게 65.5\n",
      "   Hong GilDong: 20-몸무게 65.5\n"
     ]
    }
   ],
   "source": [
    "weight1 = 65.5\n",
    "weight2 = 62.1\n",
    "weight3 = 79.33333333\n",
    "print(\"{:15s}:{:3d}-몸무게{:5.1f}\".format(student1, age1,weight1))\n",
    "print(\"%15s:%3d-몸무게%5.1f\" % (student1, age1, weight1))\n",
    "#d:정수 / f:실수 / s:문자열"
   ]
  },
  {
   "cell_type": "markdown",
   "metadata": {},
   "source": [
    "## 04. 리스트의 이해\n",
    "* 하나의 변수에 여러 값을 저장하는 것이 목적\n",
    "* 자료형이 다른 값들도 하나의 리스트에 저장"
   ]
  },
  {
   "cell_type": "code",
   "execution_count": 35,
   "metadata": {
    "ExecuteTime": {
     "end_time": "2020-11-24T03:13:51.340226Z",
     "start_time": "2020-11-24T03:13:51.336236Z"
    }
   },
   "outputs": [],
   "source": [
    "student = [\"Hong\", \"Yi\", \"Park\"]\n",
    "age = [20,9,100]\n",
    "weight = [70.0,25.0,60.0]"
   ]
  },
  {
   "cell_type": "code",
   "execution_count": 34,
   "metadata": {
    "ExecuteTime": {
     "end_time": "2020-11-24T03:13:40.635345Z",
     "start_time": "2020-11-24T03:13:40.631357Z"
    }
   },
   "outputs": [],
   "source": [
    "colors = ['red','blue','green']"
   ]
  },
  {
   "cell_type": "code",
   "execution_count": 33,
   "metadata": {
    "ExecuteTime": {
     "end_time": "2020-11-24T03:13:38.827846Z",
     "start_time": "2020-11-24T03:13:38.824857Z"
    }
   },
   "outputs": [],
   "source": [
    "#리스트는 이질 자료형 가능\n",
    "l =  [\"Hong\",20,70.0]"
   ]
  },
  {
   "cell_type": "code",
   "execution_count": 39,
   "metadata": {
    "ExecuteTime": {
     "end_time": "2020-11-24T03:16:39.068258Z",
     "start_time": "2020-11-24T03:16:39.064269Z"
    }
   },
   "outputs": [
    {
     "name": "stdout",
     "output_type": "stream",
     "text": [
      "학생1:Hong 학생2:Yi\n"
     ]
    }
   ],
   "source": [
    "print(\"학생1:{:s}\".format(student[0]),\"학생2:{:s}\".format(student[1]))"
   ]
  },
  {
   "cell_type": "code",
   "execution_count": 40,
   "metadata": {
    "ExecuteTime": {
     "end_time": "2020-11-24T03:17:52.251654Z",
     "start_time": "2020-11-24T03:17:52.248687Z"
    }
   },
   "outputs": [],
   "source": [
    "colors[0] = \"White\""
   ]
  },
  {
   "cell_type": "code",
   "execution_count": 43,
   "metadata": {
    "ExecuteTime": {
     "end_time": "2020-11-24T03:47:46.109131Z",
     "start_time": "2020-11-24T03:47:46.104144Z"
    }
   },
   "outputs": [
    {
     "name": "stdout",
     "output_type": "stream",
     "text": [
      "['White', 'blue', 'green']\n"
     ]
    }
   ],
   "source": [
    "print(colors)"
   ]
  },
  {
   "cell_type": "markdown",
   "metadata": {},
   "source": [
    "### 리스트 슬라이싱"
   ]
  },
  {
   "cell_type": "code",
   "execution_count": 44,
   "metadata": {
    "ExecuteTime": {
     "end_time": "2020-11-24T03:50:36.033904Z",
     "start_time": "2020-11-24T03:50:36.023954Z"
    }
   },
   "outputs": [
    {
     "data": {
      "text/plain": [
       "8"
      ]
     },
     "execution_count": 44,
     "metadata": {},
     "output_type": "execute_result"
    }
   ],
   "source": [
    "cities = ['서울','부산','인천','대구','대전','광주','울산','수원']\n",
    "#           0\n",
    "#\n",
    "len(cities)"
   ]
  },
  {
   "cell_type": "code",
   "execution_count": 45,
   "metadata": {
    "ExecuteTime": {
     "end_time": "2020-11-24T03:51:43.807187Z",
     "start_time": "2020-11-24T03:51:43.802174Z"
    }
   },
   "outputs": [
    {
     "data": {
      "text/plain": [
       "['서울', '부산', '인천', '대구', '대전', '광주']"
      ]
     },
     "execution_count": 45,
     "metadata": {},
     "output_type": "execute_result"
    }
   ],
   "source": [
    "cities[0:6] #0번 index부터 6 바로 앞까지 index (0~5번째)"
   ]
  },
  {
   "cell_type": "code",
   "execution_count": 46,
   "metadata": {
    "ExecuteTime": {
     "end_time": "2020-11-24T03:53:11.515944Z",
     "start_time": "2020-11-24T03:53:11.510977Z"
    }
   },
   "outputs": [
    {
     "data": {
      "text/plain": [
       "['서울', '인천', '대전']"
      ]
     },
     "execution_count": 46,
     "metadata": {},
     "output_type": "execute_result"
    }
   ],
   "source": [
    "#변수명 시작인덱:마지막인덱스:증감분\n",
    "cities[0:6:2] #0번부터 6바로 앞까지 2씩 건너 뛰어 나와"
   ]
  },
  {
   "cell_type": "code",
   "execution_count": 53,
   "metadata": {
    "ExecuteTime": {
     "end_time": "2020-11-24T03:58:29.099830Z",
     "start_time": "2020-11-24T03:58:29.094869Z"
    }
   },
   "outputs": [
    {
     "data": {
      "text/plain": [
       "['대구', '광주', '수원']"
      ]
     },
     "execution_count": 53,
     "metadata": {},
     "output_type": "execute_result"
    }
   ],
   "source": [
    "cities[3::2]"
   ]
  },
  {
   "cell_type": "code",
   "execution_count": null,
   "metadata": {},
   "outputs": [],
   "source": [
    "cities[:6:2] #시작인덱스 생략시 처음부터 (처음부터 5인덱스 까지 2씩 건너뛰)"
   ]
  },
  {
   "cell_type": "code",
   "execution_count": 77,
   "metadata": {
    "ExecuteTime": {
     "end_time": "2020-11-24T04:07:18.731707Z",
     "start_time": "2020-11-24T04:07:18.727718Z"
    }
   },
   "outputs": [
    {
     "data": {
      "text/plain": [
       "['수원', '울산']"
      ]
     },
     "execution_count": 77,
     "metadata": {},
     "output_type": "execute_result"
    }
   ],
   "source": [
    "cities[7:5:-1]  #7인덱스부터 5바로 전까지 -1씩 \n"
   ]
  },
  {
   "cell_type": "code",
   "execution_count": 80,
   "metadata": {
    "ExecuteTime": {
     "end_time": "2020-11-24T04:09:00.060946Z",
     "start_time": "2020-11-24T04:09:00.055980Z"
    }
   },
   "outputs": [
    {
     "data": {
      "text/plain": [
       "['수원', '울산', '광주', '대전', '대구', '인천', '부산', '서울']"
      ]
     },
     "execution_count": 80,
     "metadata": {},
     "output_type": "execute_result"
    }
   ],
   "source": [
    "cities[::-1]  "
   ]
  },
  {
   "cell_type": "code",
   "execution_count": 86,
   "metadata": {
    "ExecuteTime": {
     "end_time": "2020-11-24T04:12:34.235704Z",
     "start_time": "2020-11-24T04:12:34.231714Z"
    }
   },
   "outputs": [
    {
     "name": "stdout",
     "output_type": "stream",
     "text": [
      "Hel\n",
      "olleH\n"
     ]
    }
   ],
   "source": [
    "greeting =\"Hello\"\n",
    "print(greeting[0:3])\n",
    "print(greeting[::-1])"
   ]
  },
  {
   "cell_type": "markdown",
   "metadata": {},
   "source": [
    "### 리스트의 연산 - 연산, 함수\n",
    "-extend() <br>\n",
    "-append() ★★★★★<br>\n",
    "-insert() <br>\n",
    "-remove() <br>"
   ]
  },
  {
   "cell_type": "code",
   "execution_count": null,
   "metadata": {},
   "outputs": [],
   "source": []
  },
  {
   "cell_type": "code",
   "execution_count": null,
   "metadata": {},
   "outputs": [],
   "source": [
    "color1 = ['red','green','blue']\n",
    "color2 = ['white','black','yellow']\n",
    "\n",
    "color3 = color1 + color2"
   ]
  },
  {
   "cell_type": "code",
   "execution_count": 122,
   "metadata": {
    "ExecuteTime": {
     "end_time": "2020-11-24T04:16:50.746384Z",
     "start_time": "2020-11-24T04:16:50.742394Z"
    }
   },
   "outputs": [
    {
     "name": "stdout",
     "output_type": "stream",
     "text": [
      "['red', 'green', 'blue', 'white', 'black', 'yellow']\n"
     ]
    }
   ],
   "source": [
    "color1 = ['red','green','blue']\n",
    "color2 = ['white','black','yellow']\n",
    "\n",
    "color1 +=  color2\n",
    "print(color1)"
   ]
  },
  {
   "cell_type": "code",
   "execution_count": 123,
   "metadata": {
    "ExecuteTime": {
     "end_time": "2020-11-24T04:18:42.028582Z",
     "start_time": "2020-11-24T04:18:42.023620Z"
    }
   },
   "outputs": [
    {
     "data": {
      "text/plain": [
       "['red', 'green', 'blue', 'yellow']"
      ]
     },
     "execution_count": 123,
     "metadata": {},
     "output_type": "execute_result"
    }
   ],
   "source": [
    "color1 = ['red','green','blue']\n",
    "color1.append('yellow') # 리스트에 item 한개 추가\n",
    "color1"
   ]
  },
  {
   "cell_type": "code",
   "execution_count": 125,
   "metadata": {
    "ExecuteTime": {
     "end_time": "2020-11-24T04:20:30.331604Z",
     "start_time": "2020-11-24T04:20:30.326618Z"
    }
   },
   "outputs": [
    {
     "data": {
      "text/plain": [
       "['white', 'red', 'green', 'blue']"
      ]
     },
     "execution_count": 125,
     "metadata": {},
     "output_type": "execute_result"
    }
   ],
   "source": [
    "color1 = ['red','green','blue']\n",
    "color1.insert(0,'white')\n",
    "color1"
   ]
  },
  {
   "cell_type": "code",
   "execution_count": 2,
   "metadata": {
    "ExecuteTime": {
     "end_time": "2020-11-25T00:44:09.064757Z",
     "start_time": "2020-11-25T00:44:09.060768Z"
    }
   },
   "outputs": [],
   "source": [
    "color1 = ['red','green','blue']\n",
    "color1.remove('red')"
   ]
  },
  {
   "cell_type": "markdown",
   "metadata": {},
   "source": [
    "# 연습문제"
   ]
  },
  {
   "cell_type": "code",
   "execution_count": null,
   "metadata": {},
   "outputs": [],
   "source": []
  },
  {
   "cell_type": "code",
   "execution_count": 9,
   "metadata": {
    "ExecuteTime": {
     "end_time": "2020-11-25T00:55:10.856168Z",
     "start_time": "2020-11-25T00:55:10.851181Z"
    }
   },
   "outputs": [
    {
     "name": "stdout",
     "output_type": "stream",
     "text": [
      "[1, 2, 3, 4, 5]\n",
      "[1, 3, 5, 7, 9, 100, 300, 500]\n",
      "[500, 400, 300, 200, 100, 10, 9, 8, 7, 6, 5, 4, 3, 2]\n"
     ]
    }
   ],
   "source": [
    "numbers = [1,2,3,4,5,6,7,8,9,10]\n",
    "data= [200,300,400,500]\n",
    "\n",
    "\n",
    "# 1. 리스트 맨 enl에\n",
    "numbers.append(100)\n",
    "numbers += data\n",
    "print(numbers[:5:])\n",
    "print(numbers[::2])\n",
    "numvers[1::2] = [0]*len(numbers[1::2])\n",
    "print(numbers[:-len(numbers):-1])\n",
    "\n"
   ]
  }
 ],
 "metadata": {
  "kernelspec": {
   "display_name": "Python 3",
   "language": "python",
   "name": "python3"
  },
  "language_info": {
   "codemirror_mode": {
    "name": "ipython",
    "version": 3
   },
   "file_extension": ".py",
   "mimetype": "text/x-python",
   "name": "python",
   "nbconvert_exporter": "python",
   "pygments_lexer": "ipython3",
   "version": "3.8.5"
  },
  "toc": {
   "base_numbering": 1,
   "nav_menu": {},
   "number_sections": false,
   "sideBar": true,
   "skip_h1_title": false,
   "title_cell": "Table of Contents",
   "title_sidebar": "Contents",
   "toc_cell": false,
   "toc_position": {},
   "toc_section_display": true,
   "toc_window_display": false
  },
  "varInspector": {
   "cols": {
    "lenName": 16,
    "lenType": 16,
    "lenVar": 40
   },
   "kernels_config": {
    "python": {
     "delete_cmd_postfix": "",
     "delete_cmd_prefix": "del ",
     "library": "var_list.py",
     "varRefreshCmd": "print(var_dic_list())"
    },
    "r": {
     "delete_cmd_postfix": ") ",
     "delete_cmd_prefix": "rm(",
     "library": "var_list.r",
     "varRefreshCmd": "cat(var_dic_list()) "
    }
   },
   "oldHeight": 466.667,
   "position": {
    "height": "40px",
    "left": "907px",
    "right": "20px",
    "top": "120px",
    "width": "353px"
   },
   "types_to_exclude": [
    "module",
    "function",
    "builtin_function_or_method",
    "instance",
    "_Feature"
   ],
   "varInspector_section_display": "none",
   "window_display": true
  }
 },
 "nbformat": 4,
 "nbformat_minor": 4
}
